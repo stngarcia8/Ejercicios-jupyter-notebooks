{
 "cells": [
  {
   "cell_type": "markdown",
   "metadata": {},
   "source": [
    " # Transformando dataset de Netflix"
   ]
  },
  {
   "cell_type": "code",
   "execution_count": 1,
   "metadata": {},
   "outputs": [],
   "source": [
    "import pandas as pd\n",
    "\n"
   ]
  },
  {
   "cell_type": "markdown",
   "metadata": {},
   "source": [
    " ## Cargando dataset limpio"
   ]
  },
  {
   "cell_type": "code",
   "execution_count": 2,
   "metadata": {},
   "outputs": [
    {
     "data": {
      "text/plain": [
       "(6234, 11)"
      ]
     },
     "execution_count": 2,
     "metadata": {},
     "output_type": "execute_result"
    }
   ],
   "source": [
    "data_file=\"../data/intermediate/netflix-limpio.csv\"\n",
    "data = pd.read_csv(data_file)\n",
    "data.shape \n",
    "\n"
   ]
  },
  {
   "cell_type": "markdown",
   "metadata": {},
   "source": [
    " ## Visualizando variables a normalizar\n",
    " Las variables con la menor cantidad de valores unicos, son candidatas\n",
    " a dejarlas como clasificadoras, en este caso es el tipo y el publico."
   ]
  },
  {
   "cell_type": "code",
   "execution_count": 3,
   "metadata": {},
   "outputs": [
    {
     "name": "stdout",
     "output_type": "stream",
     "text": [
      "columna id\tvalores unicos 6234\ttipo int64\n",
      "columna tipo\tvalores unicos 2\ttipo object\n",
      "columna titulo\tvalores unicos 6172\ttipo object\n",
      "columna director\tvalores unicos 3302\ttipo object\n",
      "columna actores\tvalores unicos 5470\ttipo object\n",
      "columna pais\tvalores unicos 555\ttipo object\n",
      "columna incorporada\tvalores unicos 1525\ttipo object\n",
      "columna lanzamiento\tvalores unicos 72\ttipo int64\n",
      "columna publico\tvalores unicos 15\ttipo object\n",
      "columna duracion\tvalores unicos 201\ttipo object\n",
      "columna clasificacion\tvalores unicos 461\ttipo object\n"
     ]
    }
   ],
   "source": [
    "def valores_unicos(dataframe):\n",
    "    for column in dataframe:\n",
    "        nombre_col = dataframe[column].name\n",
    "        unicos_col = len(dataframe[column].unique())\n",
    "        tipo_col = dataframe[column].dtype\n",
    "        print(\"columna {}\".format(nombre_col),\n",
    "            \"valores unicos {}\".format(unicos_col),\n",
    "            \"tipo {}\".format(tipo_col),\n",
    "            sep=\"\\t\") \n",
    "valores_unicos(data)\n",
    "\n"
   ]
  },
  {
   "cell_type": "markdown",
   "metadata": {},
   "source": [
    " ## Normalizando columna tipo"
   ]
  },
  {
   "cell_type": "code",
   "execution_count": 4,
   "metadata": {},
   "outputs": [
    {
     "data": {
      "text/html": [
       "<div>\n",
       "<style scoped>\n",
       "    .dataframe tbody tr th:only-of-type {\n",
       "        vertical-align: middle;\n",
       "    }\n",
       "\n",
       "    .dataframe tbody tr th {\n",
       "        vertical-align: top;\n",
       "    }\n",
       "\n",
       "    .dataframe thead th {\n",
       "        text-align: right;\n",
       "    }\n",
       "</style>\n",
       "<table border=\"1\" class=\"dataframe\">\n",
       "  <thead>\n",
       "    <tr style=\"text-align: right;\">\n",
       "      <th></th>\n",
       "      <th>id</th>\n",
       "      <th>tipo</th>\n",
       "      <th>titulo</th>\n",
       "      <th>director</th>\n",
       "      <th>actores</th>\n",
       "      <th>pais</th>\n",
       "      <th>incorporada</th>\n",
       "      <th>lanzamiento</th>\n",
       "      <th>publico</th>\n",
       "      <th>duracion</th>\n",
       "      <th>clasificacion</th>\n",
       "    </tr>\n",
       "  </thead>\n",
       "  <tbody>\n",
       "    <tr>\n",
       "      <th>0</th>\n",
       "      <td>81145628</td>\n",
       "      <td>Pelicula</td>\n",
       "      <td>Norm of the North: King Sized Adventure</td>\n",
       "      <td>Richard Finn, Tim Maltby</td>\n",
       "      <td>Alan Marriott, Andrew Toth, Brian Dobson, Cole...</td>\n",
       "      <td>United States, India, South Korea, China</td>\n",
       "      <td>September 9, 2019</td>\n",
       "      <td>2019</td>\n",
       "      <td>TV-PG</td>\n",
       "      <td>90 min</td>\n",
       "      <td>Children &amp; Family Movies, Comedies</td>\n",
       "    </tr>\n",
       "    <tr>\n",
       "      <th>1</th>\n",
       "      <td>80117401</td>\n",
       "      <td>Pelicula</td>\n",
       "      <td>Jandino: Whatever it Takes</td>\n",
       "      <td>Sin director</td>\n",
       "      <td>Jandino Asporaat</td>\n",
       "      <td>United Kingdom</td>\n",
       "      <td>September 9, 2016</td>\n",
       "      <td>2016</td>\n",
       "      <td>TV-MA</td>\n",
       "      <td>94 min</td>\n",
       "      <td>Stand-Up Comedy</td>\n",
       "    </tr>\n",
       "    <tr>\n",
       "      <th>2</th>\n",
       "      <td>70234439</td>\n",
       "      <td>Serie</td>\n",
       "      <td>Transformers Prime</td>\n",
       "      <td>Sin director</td>\n",
       "      <td>Peter Cullen, Sumalee Montano, Frank Welker, J...</td>\n",
       "      <td>United States</td>\n",
       "      <td>September 8, 2018</td>\n",
       "      <td>2013</td>\n",
       "      <td>TV-Y7-FV</td>\n",
       "      <td>1 Season</td>\n",
       "      <td>Kids' TV</td>\n",
       "    </tr>\n",
       "    <tr>\n",
       "      <th>3</th>\n",
       "      <td>80058654</td>\n",
       "      <td>Serie</td>\n",
       "      <td>Transformers: Robots in Disguise</td>\n",
       "      <td>Sin director</td>\n",
       "      <td>Will Friedle, Darren Criss, Constance Zimmer, ...</td>\n",
       "      <td>United States</td>\n",
       "      <td>September 8, 2018</td>\n",
       "      <td>2016</td>\n",
       "      <td>TV-Y7</td>\n",
       "      <td>1 Season</td>\n",
       "      <td>Kids' TV</td>\n",
       "    </tr>\n",
       "    <tr>\n",
       "      <th>4</th>\n",
       "      <td>80125979</td>\n",
       "      <td>Pelicula</td>\n",
       "      <td>#realityhigh</td>\n",
       "      <td>Fernando Lebrija</td>\n",
       "      <td>Nesta Cooper, Kate Walsh, John Michael Higgins...</td>\n",
       "      <td>United States</td>\n",
       "      <td>September 8, 2017</td>\n",
       "      <td>2017</td>\n",
       "      <td>TV-14</td>\n",
       "      <td>99 min</td>\n",
       "      <td>Comedies</td>\n",
       "    </tr>\n",
       "  </tbody>\n",
       "</table>\n",
       "</div>"
      ],
      "text/plain": [
       "         id      tipo                                   titulo  \\\n",
       "0  81145628  Pelicula  Norm of the North: King Sized Adventure   \n",
       "1  80117401  Pelicula               Jandino: Whatever it Takes   \n",
       "2  70234439     Serie                       Transformers Prime   \n",
       "3  80058654     Serie         Transformers: Robots in Disguise   \n",
       "4  80125979  Pelicula                             #realityhigh   \n",
       "\n",
       "                   director  \\\n",
       "0  Richard Finn, Tim Maltby   \n",
       "1              Sin director   \n",
       "2              Sin director   \n",
       "3              Sin director   \n",
       "4          Fernando Lebrija   \n",
       "\n",
       "                                             actores  \\\n",
       "0  Alan Marriott, Andrew Toth, Brian Dobson, Cole...   \n",
       "1                                   Jandino Asporaat   \n",
       "2  Peter Cullen, Sumalee Montano, Frank Welker, J...   \n",
       "3  Will Friedle, Darren Criss, Constance Zimmer, ...   \n",
       "4  Nesta Cooper, Kate Walsh, John Michael Higgins...   \n",
       "\n",
       "                                       pais        incorporada  lanzamiento  \\\n",
       "0  United States, India, South Korea, China  September 9, 2019         2019   \n",
       "1                            United Kingdom  September 9, 2016         2016   \n",
       "2                             United States  September 8, 2018         2013   \n",
       "3                             United States  September 8, 2018         2016   \n",
       "4                             United States  September 8, 2017         2017   \n",
       "\n",
       "    publico  duracion                       clasificacion  \n",
       "0     TV-PG    90 min  Children & Family Movies, Comedies  \n",
       "1     TV-MA    94 min                     Stand-Up Comedy  \n",
       "2  TV-Y7-FV  1 Season                            Kids' TV  \n",
       "3     TV-Y7  1 Season                            Kids' TV  \n",
       "4     TV-14    99 min                            Comedies  "
      ]
     },
     "execution_count": 4,
     "metadata": {},
     "output_type": "execute_result"
    }
   ],
   "source": [
    "pelicula =['Movie']\n",
    "tv_serie=['TV Show']\n",
    "data.loc[data['tipo'].isin(pelicula), \n",
    "             'tipo'] = 'Pelicula'\n",
    "data.loc[data['tipo'].isin(tv_serie), \n",
    "             'tipo'] = 'Serie'\n",
    "data.head()\n",
    "\n"
   ]
  },
  {
   "cell_type": "markdown",
   "metadata": {},
   "source": [
    " ## Normalizando columna publico\n",
    " Esta es la clasificacion del publico que tiene una pelicula\n",
    " o serie de television, siendo estas infantil, adolecente y adulto,"
   ]
  },
  {
   "cell_type": "code",
   "execution_count": 5,
   "metadata": {},
   "outputs": [
    {
     "data": {
      "text/html": [
       "<div>\n",
       "<style scoped>\n",
       "    .dataframe tbody tr th:only-of-type {\n",
       "        vertical-align: middle;\n",
       "    }\n",
       "\n",
       "    .dataframe tbody tr th {\n",
       "        vertical-align: top;\n",
       "    }\n",
       "\n",
       "    .dataframe thead th {\n",
       "        text-align: right;\n",
       "    }\n",
       "</style>\n",
       "<table border=\"1\" class=\"dataframe\">\n",
       "  <thead>\n",
       "    <tr style=\"text-align: right;\">\n",
       "      <th></th>\n",
       "      <th>id</th>\n",
       "      <th>tipo</th>\n",
       "      <th>titulo</th>\n",
       "      <th>director</th>\n",
       "      <th>actores</th>\n",
       "      <th>pais</th>\n",
       "      <th>incorporada</th>\n",
       "      <th>lanzamiento</th>\n",
       "      <th>publico</th>\n",
       "      <th>duracion</th>\n",
       "      <th>clasificacion</th>\n",
       "    </tr>\n",
       "  </thead>\n",
       "  <tbody>\n",
       "    <tr>\n",
       "      <th>0</th>\n",
       "      <td>81145628</td>\n",
       "      <td>Pelicula</td>\n",
       "      <td>Norm of the North: King Sized Adventure</td>\n",
       "      <td>Richard Finn, Tim Maltby</td>\n",
       "      <td>Alan Marriott, Andrew Toth, Brian Dobson, Cole...</td>\n",
       "      <td>United States, India, South Korea, China</td>\n",
       "      <td>September 9, 2019</td>\n",
       "      <td>2019</td>\n",
       "      <td>infantil</td>\n",
       "      <td>90 min</td>\n",
       "      <td>Children &amp; Family Movies, Comedies</td>\n",
       "    </tr>\n",
       "    <tr>\n",
       "      <th>1</th>\n",
       "      <td>80117401</td>\n",
       "      <td>Pelicula</td>\n",
       "      <td>Jandino: Whatever it Takes</td>\n",
       "      <td>Sin director</td>\n",
       "      <td>Jandino Asporaat</td>\n",
       "      <td>United Kingdom</td>\n",
       "      <td>September 9, 2016</td>\n",
       "      <td>2016</td>\n",
       "      <td>Adulto</td>\n",
       "      <td>94 min</td>\n",
       "      <td>Stand-Up Comedy</td>\n",
       "    </tr>\n",
       "    <tr>\n",
       "      <th>2</th>\n",
       "      <td>70234439</td>\n",
       "      <td>Serie</td>\n",
       "      <td>Transformers Prime</td>\n",
       "      <td>Sin director</td>\n",
       "      <td>Peter Cullen, Sumalee Montano, Frank Welker, J...</td>\n",
       "      <td>United States</td>\n",
       "      <td>September 8, 2018</td>\n",
       "      <td>2013</td>\n",
       "      <td>infantil</td>\n",
       "      <td>1 Season</td>\n",
       "      <td>Kids' TV</td>\n",
       "    </tr>\n",
       "    <tr>\n",
       "      <th>3</th>\n",
       "      <td>80058654</td>\n",
       "      <td>Serie</td>\n",
       "      <td>Transformers: Robots in Disguise</td>\n",
       "      <td>Sin director</td>\n",
       "      <td>Will Friedle, Darren Criss, Constance Zimmer, ...</td>\n",
       "      <td>United States</td>\n",
       "      <td>September 8, 2018</td>\n",
       "      <td>2016</td>\n",
       "      <td>infantil</td>\n",
       "      <td>1 Season</td>\n",
       "      <td>Kids' TV</td>\n",
       "    </tr>\n",
       "    <tr>\n",
       "      <th>4</th>\n",
       "      <td>80125979</td>\n",
       "      <td>Pelicula</td>\n",
       "      <td>#realityhigh</td>\n",
       "      <td>Fernando Lebrija</td>\n",
       "      <td>Nesta Cooper, Kate Walsh, John Michael Higgins...</td>\n",
       "      <td>United States</td>\n",
       "      <td>September 8, 2017</td>\n",
       "      <td>2017</td>\n",
       "      <td>Adolecente</td>\n",
       "      <td>99 min</td>\n",
       "      <td>Comedies</td>\n",
       "    </tr>\n",
       "  </tbody>\n",
       "</table>\n",
       "</div>"
      ],
      "text/plain": [
       "         id      tipo                                   titulo  \\\n",
       "0  81145628  Pelicula  Norm of the North: King Sized Adventure   \n",
       "1  80117401  Pelicula               Jandino: Whatever it Takes   \n",
       "2  70234439     Serie                       Transformers Prime   \n",
       "3  80058654     Serie         Transformers: Robots in Disguise   \n",
       "4  80125979  Pelicula                             #realityhigh   \n",
       "\n",
       "                   director  \\\n",
       "0  Richard Finn, Tim Maltby   \n",
       "1              Sin director   \n",
       "2              Sin director   \n",
       "3              Sin director   \n",
       "4          Fernando Lebrija   \n",
       "\n",
       "                                             actores  \\\n",
       "0  Alan Marriott, Andrew Toth, Brian Dobson, Cole...   \n",
       "1                                   Jandino Asporaat   \n",
       "2  Peter Cullen, Sumalee Montano, Frank Welker, J...   \n",
       "3  Will Friedle, Darren Criss, Constance Zimmer, ...   \n",
       "4  Nesta Cooper, Kate Walsh, John Michael Higgins...   \n",
       "\n",
       "                                       pais        incorporada  lanzamiento  \\\n",
       "0  United States, India, South Korea, China  September 9, 2019         2019   \n",
       "1                            United Kingdom  September 9, 2016         2016   \n",
       "2                             United States  September 8, 2018         2013   \n",
       "3                             United States  September 8, 2018         2016   \n",
       "4                             United States  September 8, 2017         2017   \n",
       "\n",
       "      publico  duracion                       clasificacion  \n",
       "0    infantil    90 min  Children & Family Movies, Comedies  \n",
       "1      Adulto    94 min                     Stand-Up Comedy  \n",
       "2    infantil  1 Season                            Kids' TV  \n",
       "3    infantil  1 Season                            Kids' TV  \n",
       "4  Adolecente    99 min                            Comedies  "
      ]
     },
     "execution_count": 5,
     "metadata": {},
     "output_type": "execute_result"
    }
   ],
   "source": [
    "infantil=['G','TV-G','TV-Y','PG','TV-Y7', 'TV-Y7-FV', 'TV-PG']\n",
    "adolecentes=['PG-13', 'TV-14']\n",
    "adultos=['R', 'NC-17', 'TV-MA', 'NR', 'UR'] \n",
    "data.loc[data['publico'].isin(infantil), 'publico'] = 'infantil'\n",
    "data.loc[data['publico'].isin(adolecentes), 'publico'] = 'Adolecente'\n",
    "data.loc[data['publico'].isin(adultos), 'publico'] = 'Adulto'\n",
    "data.head()\n",
    "\n"
   ]
  },
  {
   "cell_type": "markdown",
   "metadata": {},
   "source": [
    " ## Contando valor de la columna tipo"
   ]
  },
  {
   "cell_type": "code",
   "execution_count": 6,
   "metadata": {},
   "outputs": [
    {
     "data": {
      "text/plain": [
       "CategoricalDtype(categories=['Pelicula', 'Serie'], ordered=False)"
      ]
     },
     "execution_count": 6,
     "metadata": {},
     "output_type": "execute_result"
    }
   ],
   "source": [
    "data[\"tipo\"] = data[\"tipo\"].astype(\"category\")\n",
    "data[\"tipo\"].dtype\n"
   ]
  },
  {
   "cell_type": "code",
   "execution_count": 7,
   "metadata": {},
   "outputs": [
    {
     "data": {
      "text/plain": [
       "Pelicula    4265\n",
       "Serie       1969\n",
       "Name: tipo, dtype: int64"
      ]
     },
     "execution_count": 7,
     "metadata": {},
     "output_type": "execute_result"
    }
   ],
   "source": [
    "data[\"tipo\"].value_counts()\n",
    "\n"
   ]
  },
  {
   "cell_type": "markdown",
   "metadata": {},
   "source": [
    " ## Contando valor de la columna publico"
   ]
  },
  {
   "cell_type": "code",
   "execution_count": 8,
   "metadata": {},
   "outputs": [
    {
     "data": {
      "text/plain": [
       "CategoricalDtype(categories=['Adolecente', 'Adulto', 'Sin clasificar', 'infantil'], ordered=False)"
      ]
     },
     "execution_count": 8,
     "metadata": {},
     "output_type": "execute_result"
    }
   ],
   "source": [
    "data[\"publico\"] = data[\"publico\"].astype(\"category\")\n",
    "data[\"publico\"].dtype\n"
   ]
  },
  {
   "cell_type": "code",
   "execution_count": 9,
   "metadata": {},
   "outputs": [
    {
     "data": {
      "text/plain": [
       "Adulto            2762\n",
       "Adolecente        1984\n",
       "infantil          1478\n",
       "Sin clasificar      10\n",
       "Name: publico, dtype: int64"
      ]
     },
     "execution_count": 9,
     "metadata": {},
     "output_type": "execute_result"
    }
   ],
   "source": [
    "data[\"publico\"].value_counts()\n",
    "\n"
   ]
  },
  {
   "cell_type": "markdown",
   "metadata": {},
   "source": [
    " ## Extrayendo los paises"
   ]
  },
  {
   "cell_type": "code",
   "execution_count": 10,
   "metadata": {},
   "outputs": [
    {
     "data": {
      "text/html": [
       "<div>\n",
       "<style scoped>\n",
       "    .dataframe tbody tr th:only-of-type {\n",
       "        vertical-align: middle;\n",
       "    }\n",
       "\n",
       "    .dataframe tbody tr th {\n",
       "        vertical-align: top;\n",
       "    }\n",
       "\n",
       "    .dataframe thead th {\n",
       "        text-align: right;\n",
       "    }\n",
       "</style>\n",
       "<table border=\"1\" class=\"dataframe\">\n",
       "  <thead>\n",
       "    <tr style=\"text-align: right;\">\n",
       "      <th></th>\n",
       "      <th>id</th>\n",
       "      <th>tipo</th>\n",
       "      <th>titulo</th>\n",
       "      <th>director</th>\n",
       "      <th>actores</th>\n",
       "      <th>pais</th>\n",
       "      <th>incorporada</th>\n",
       "      <th>lanzamiento</th>\n",
       "      <th>publico</th>\n",
       "      <th>duracion</th>\n",
       "      <th>clasificacion</th>\n",
       "    </tr>\n",
       "  </thead>\n",
       "  <tbody>\n",
       "    <tr>\n",
       "      <th>0</th>\n",
       "      <td>81145628</td>\n",
       "      <td>Pelicula</td>\n",
       "      <td>Norm of the North: King Sized Adventure</td>\n",
       "      <td>Richard Finn, Tim Maltby</td>\n",
       "      <td>Alan Marriott, Andrew Toth, Brian Dobson, Cole...</td>\n",
       "      <td>United States, India, South Korea, China</td>\n",
       "      <td>September 9, 2019</td>\n",
       "      <td>2019</td>\n",
       "      <td>infantil</td>\n",
       "      <td>90 min</td>\n",
       "      <td>Children &amp; Family Movies, Comedies</td>\n",
       "    </tr>\n",
       "    <tr>\n",
       "      <th>1</th>\n",
       "      <td>80117401</td>\n",
       "      <td>Pelicula</td>\n",
       "      <td>Jandino: Whatever it Takes</td>\n",
       "      <td>Sin director</td>\n",
       "      <td>Jandino Asporaat</td>\n",
       "      <td>United Kingdom</td>\n",
       "      <td>September 9, 2016</td>\n",
       "      <td>2016</td>\n",
       "      <td>Adulto</td>\n",
       "      <td>94 min</td>\n",
       "      <td>Stand-Up Comedy</td>\n",
       "    </tr>\n",
       "    <tr>\n",
       "      <th>2</th>\n",
       "      <td>70234439</td>\n",
       "      <td>Serie</td>\n",
       "      <td>Transformers Prime</td>\n",
       "      <td>Sin director</td>\n",
       "      <td>Peter Cullen, Sumalee Montano, Frank Welker, J...</td>\n",
       "      <td>United States</td>\n",
       "      <td>September 8, 2018</td>\n",
       "      <td>2013</td>\n",
       "      <td>infantil</td>\n",
       "      <td>1 Season</td>\n",
       "      <td>Kids' TV</td>\n",
       "    </tr>\n",
       "    <tr>\n",
       "      <th>3</th>\n",
       "      <td>80058654</td>\n",
       "      <td>Serie</td>\n",
       "      <td>Transformers: Robots in Disguise</td>\n",
       "      <td>Sin director</td>\n",
       "      <td>Will Friedle, Darren Criss, Constance Zimmer, ...</td>\n",
       "      <td>United States</td>\n",
       "      <td>September 8, 2018</td>\n",
       "      <td>2016</td>\n",
       "      <td>infantil</td>\n",
       "      <td>1 Season</td>\n",
       "      <td>Kids' TV</td>\n",
       "    </tr>\n",
       "    <tr>\n",
       "      <th>4</th>\n",
       "      <td>80125979</td>\n",
       "      <td>Pelicula</td>\n",
       "      <td>#realityhigh</td>\n",
       "      <td>Fernando Lebrija</td>\n",
       "      <td>Nesta Cooper, Kate Walsh, John Michael Higgins...</td>\n",
       "      <td>United States</td>\n",
       "      <td>September 8, 2017</td>\n",
       "      <td>2017</td>\n",
       "      <td>Adolecente</td>\n",
       "      <td>99 min</td>\n",
       "      <td>Comedies</td>\n",
       "    </tr>\n",
       "    <tr>\n",
       "      <th>...</th>\n",
       "      <td>...</td>\n",
       "      <td>...</td>\n",
       "      <td>...</td>\n",
       "      <td>...</td>\n",
       "      <td>...</td>\n",
       "      <td>...</td>\n",
       "      <td>...</td>\n",
       "      <td>...</td>\n",
       "      <td>...</td>\n",
       "      <td>...</td>\n",
       "      <td>...</td>\n",
       "    </tr>\n",
       "    <tr>\n",
       "      <th>6229</th>\n",
       "      <td>80000063</td>\n",
       "      <td>Serie</td>\n",
       "      <td>Red vs. Blue</td>\n",
       "      <td>Sin director</td>\n",
       "      <td>Burnie Burns, Jason Saldaña, Gustavo Sorola, G...</td>\n",
       "      <td>United States</td>\n",
       "      <td>No definido</td>\n",
       "      <td>2015</td>\n",
       "      <td>Adulto</td>\n",
       "      <td>13 Seasons</td>\n",
       "      <td>TV Action &amp; Adventure, TV Comedies, TV Sci-Fi ...</td>\n",
       "    </tr>\n",
       "    <tr>\n",
       "      <th>6230</th>\n",
       "      <td>70286564</td>\n",
       "      <td>Serie</td>\n",
       "      <td>Maron</td>\n",
       "      <td>Sin director</td>\n",
       "      <td>Marc Maron, Judd Hirsch, Josh Brener, Nora Zeh...</td>\n",
       "      <td>United States</td>\n",
       "      <td>No definido</td>\n",
       "      <td>2016</td>\n",
       "      <td>Adulto</td>\n",
       "      <td>4 Seasons</td>\n",
       "      <td>TV Comedies</td>\n",
       "    </tr>\n",
       "    <tr>\n",
       "      <th>6231</th>\n",
       "      <td>80116008</td>\n",
       "      <td>Pelicula</td>\n",
       "      <td>Little Baby Bum: Nursery Rhyme Friends</td>\n",
       "      <td>Sin director</td>\n",
       "      <td>Sin actores</td>\n",
       "      <td>No clasificada</td>\n",
       "      <td>No definido</td>\n",
       "      <td>2016</td>\n",
       "      <td>Sin clasificar</td>\n",
       "      <td>60 min</td>\n",
       "      <td>Movies</td>\n",
       "    </tr>\n",
       "    <tr>\n",
       "      <th>6232</th>\n",
       "      <td>70281022</td>\n",
       "      <td>Serie</td>\n",
       "      <td>A Young Doctor's Notebook and Other Stories</td>\n",
       "      <td>Sin director</td>\n",
       "      <td>Daniel Radcliffe, Jon Hamm, Adam Godley, Chris...</td>\n",
       "      <td>United Kingdom</td>\n",
       "      <td>No definido</td>\n",
       "      <td>2013</td>\n",
       "      <td>Adulto</td>\n",
       "      <td>2 Seasons</td>\n",
       "      <td>British TV Shows, TV Comedies, TV Dramas</td>\n",
       "    </tr>\n",
       "    <tr>\n",
       "      <th>6233</th>\n",
       "      <td>70153404</td>\n",
       "      <td>Serie</td>\n",
       "      <td>Friends</td>\n",
       "      <td>Sin director</td>\n",
       "      <td>Jennifer Aniston, Courteney Cox, Lisa Kudrow, ...</td>\n",
       "      <td>United States</td>\n",
       "      <td>No definido</td>\n",
       "      <td>2003</td>\n",
       "      <td>Adolecente</td>\n",
       "      <td>10 Seasons</td>\n",
       "      <td>Classic &amp; Cult TV, TV Comedies</td>\n",
       "    </tr>\n",
       "  </tbody>\n",
       "</table>\n",
       "<p>6234 rows × 11 columns</p>\n",
       "</div>"
      ],
      "text/plain": [
       "            id      tipo                                       titulo  \\\n",
       "0     81145628  Pelicula      Norm of the North: King Sized Adventure   \n",
       "1     80117401  Pelicula                   Jandino: Whatever it Takes   \n",
       "2     70234439     Serie                           Transformers Prime   \n",
       "3     80058654     Serie             Transformers: Robots in Disguise   \n",
       "4     80125979  Pelicula                                 #realityhigh   \n",
       "...        ...       ...                                          ...   \n",
       "6229  80000063     Serie                                 Red vs. Blue   \n",
       "6230  70286564     Serie                                        Maron   \n",
       "6231  80116008  Pelicula       Little Baby Bum: Nursery Rhyme Friends   \n",
       "6232  70281022     Serie  A Young Doctor's Notebook and Other Stories   \n",
       "6233  70153404     Serie                                      Friends   \n",
       "\n",
       "                      director  \\\n",
       "0     Richard Finn, Tim Maltby   \n",
       "1                 Sin director   \n",
       "2                 Sin director   \n",
       "3                 Sin director   \n",
       "4             Fernando Lebrija   \n",
       "...                        ...   \n",
       "6229              Sin director   \n",
       "6230              Sin director   \n",
       "6231              Sin director   \n",
       "6232              Sin director   \n",
       "6233              Sin director   \n",
       "\n",
       "                                                actores  \\\n",
       "0     Alan Marriott, Andrew Toth, Brian Dobson, Cole...   \n",
       "1                                      Jandino Asporaat   \n",
       "2     Peter Cullen, Sumalee Montano, Frank Welker, J...   \n",
       "3     Will Friedle, Darren Criss, Constance Zimmer, ...   \n",
       "4     Nesta Cooper, Kate Walsh, John Michael Higgins...   \n",
       "...                                                 ...   \n",
       "6229  Burnie Burns, Jason Saldaña, Gustavo Sorola, G...   \n",
       "6230  Marc Maron, Judd Hirsch, Josh Brener, Nora Zeh...   \n",
       "6231                                        Sin actores   \n",
       "6232  Daniel Radcliffe, Jon Hamm, Adam Godley, Chris...   \n",
       "6233  Jennifer Aniston, Courteney Cox, Lisa Kudrow, ...   \n",
       "\n",
       "                                          pais        incorporada  \\\n",
       "0     United States, India, South Korea, China  September 9, 2019   \n",
       "1                               United Kingdom  September 9, 2016   \n",
       "2                                United States  September 8, 2018   \n",
       "3                                United States  September 8, 2018   \n",
       "4                                United States  September 8, 2017   \n",
       "...                                        ...                ...   \n",
       "6229                             United States        No definido   \n",
       "6230                             United States        No definido   \n",
       "6231                            No clasificada        No definido   \n",
       "6232                            United Kingdom        No definido   \n",
       "6233                             United States        No definido   \n",
       "\n",
       "      lanzamiento         publico    duracion  \\\n",
       "0            2019        infantil      90 min   \n",
       "1            2016          Adulto      94 min   \n",
       "2            2013        infantil    1 Season   \n",
       "3            2016        infantil    1 Season   \n",
       "4            2017      Adolecente      99 min   \n",
       "...           ...             ...         ...   \n",
       "6229         2015          Adulto  13 Seasons   \n",
       "6230         2016          Adulto   4 Seasons   \n",
       "6231         2016  Sin clasificar      60 min   \n",
       "6232         2013          Adulto   2 Seasons   \n",
       "6233         2003      Adolecente  10 Seasons   \n",
       "\n",
       "                                          clasificacion  \n",
       "0                    Children & Family Movies, Comedies  \n",
       "1                                       Stand-Up Comedy  \n",
       "2                                              Kids' TV  \n",
       "3                                              Kids' TV  \n",
       "4                                              Comedies  \n",
       "...                                                 ...  \n",
       "6229  TV Action & Adventure, TV Comedies, TV Sci-Fi ...  \n",
       "6230                                        TV Comedies  \n",
       "6231                                             Movies  \n",
       "6232           British TV Shows, TV Comedies, TV Dramas  \n",
       "6233                     Classic & Cult TV, TV Comedies  \n",
       "\n",
       "[6234 rows x 11 columns]"
      ]
     },
     "execution_count": 10,
     "metadata": {},
     "output_type": "execute_result"
    }
   ],
   "source": [
    "data_copy = data.copy()\n",
    "data_copy\n"
   ]
  },
  {
   "cell_type": "code",
   "execution_count": 11,
   "metadata": {},
   "outputs": [
    {
     "name": "stderr",
     "output_type": "stream",
     "text": [
      "D:\\appz\\anaconda-3.2020.02\\lib\\site-packages\\pandas\\core\\frame.py:3997: SettingWithCopyWarning: \n",
      "A value is trying to be set on a copy of a slice from a DataFrame\n",
      "\n",
      "See the caveats in the documentation: https://pandas.pydata.org/pandas-docs/stable/user_guide/indexing.html#returning-a-view-versus-a-copy\n",
      "  errors=errors,\n"
     ]
    }
   ],
   "source": [
    "def configura_dataframe(df, campo):\n",
    "    split_data = df[campo].str.split(', ',expand=True)\n",
    "    df.drop([campo], axis=1, inplace=True)\n",
    "    df = pd.concat([df, split_data], axis=1)\n",
    "    df = df.transpose()\n",
    "    df.head(15)\n",
    "    return df \n",
    "\n",
    "data_paises = data_copy[[\"id\", \"pais\"]]\n",
    "data_paises = configura_dataframe(data_paises, \"pais\")\n"
   ]
  },
  {
   "cell_type": "code",
   "execution_count": 12,
   "metadata": {},
   "outputs": [],
   "source": [
    "def expandir_dataframe(df):\n",
    "    lista=[]\n",
    "    for col in df:\n",
    "        for i in range(len(df[col].values)):\n",
    "            if df[col].values[i] is not None and i>0:\n",
    "                lista.append([df[col].values[0], df[col].values[i]])\n",
    "    return lista\n"
   ]
  },
  {
   "cell_type": "code",
   "execution_count": 13,
   "metadata": {},
   "outputs": [
    {
     "name": "stdout",
     "output_type": "stream",
     "text": [
      "../data/intermediate/netflix-paises.csv  almacenado.\n"
     ]
    }
   ],
   "source": [
    "def grabar_dataframe(df, nombre_archivo):\n",
    "    df.to_csv(nombre_archivo, index=False, header=False)\n",
    "    print(nombre_archivo, \" almacenado.\")\n",
    "\n",
    "data_paises=pd.DataFrame(expandir_dataframe(data_paises))\n",
    "grabar_dataframe(data_paises, \"../data/intermediate/netflix-paises.csv\")\n",
    "\n"
   ]
  },
  {
   "cell_type": "markdown",
   "metadata": {},
   "source": [
    " ## Extrayendo clasificaciones"
   ]
  },
  {
   "cell_type": "code",
   "execution_count": 14,
   "metadata": {},
   "outputs": [
    {
     "name": "stdout",
     "output_type": "stream",
     "text": [
      "../data/intermediate/netflix-clasificacion.csv  almacenado.\n"
     ]
    }
   ],
   "source": [
    "data_clasificacion = data_copy[[\"id\", \"clasificacion\"]]\n",
    "data_clasificacion = configura_dataframe(data_clasificacion, \"clasificacion\")\n",
    "data_clasificacion.head(15)\n",
    "data_clasificacion=pd.DataFrame(expandir_dataframe(data_clasificacion))\n",
    "grabar_dataframe(data_clasificacion, \"../data/intermediate/netflix-clasificacion.csv\")\n",
    "\n"
   ]
  },
  {
   "cell_type": "markdown",
   "metadata": {},
   "source": [
    " ## Extrayendo actores"
   ]
  },
  {
   "cell_type": "code",
   "execution_count": 15,
   "metadata": {},
   "outputs": [
    {
     "name": "stdout",
     "output_type": "stream",
     "text": [
      "../data/intermediate/netflix-actores.csv  almacenado.\n"
     ]
    }
   ],
   "source": [
    "data_actores = data_copy[[\"id\", \"actores\"]]\n",
    "data_actores = configura_dataframe(data_actores, \"actores\")\n",
    "data_actores.head(15)\n",
    "data_actores=pd.DataFrame(expandir_dataframe(data_actores))\n",
    "grabar_dataframe(data_actores, \"../data/intermediate/netflix-actores.csv\")\n",
    "\n"
   ]
  },
  {
   "cell_type": "markdown",
   "metadata": {},
   "source": [
    " ## Extrayendo directores"
   ]
  },
  {
   "cell_type": "code",
   "execution_count": 16,
   "metadata": {},
   "outputs": [
    {
     "name": "stdout",
     "output_type": "stream",
     "text": [
      "../data/intermediate/netflix-directores.csv  almacenado.\n"
     ]
    }
   ],
   "source": [
    "data_directores = data_copy[[\"id\", \"director\"]]\n",
    "data_directores = configura_dataframe(data_directores, \"director\")\n",
    "data_directores.head(15)\n",
    "data_directores = pd.DataFrame(expandir_dataframe(data_directores))\n",
    "grabar_dataframe(data_directores, \"../data/intermediate/netflix-directores.csv\")\n",
    "\n"
   ]
  },
  {
   "cell_type": "markdown",
   "metadata": {},
   "source": [
    " ## Quitando columnas normalizadas\n",
    " Ya se ha descompuesto el dataset intermedio de netflix,\n",
    " Ahora las columnas, director, actores, paises y clasificacion\n",
    " no cuentasn para el proceso directamente deberan\n",
    " ser relacionadas directamente con los archivos generados\n",
    " \"\" por las diferentes normalizaciones que fueron realizadas."
   ]
  },
  {
   "cell_type": "code",
   "execution_count": 17,
   "metadata": {},
   "outputs": [
    {
     "data": {
      "text/html": [
       "<div>\n",
       "<style scoped>\n",
       "    .dataframe tbody tr th:only-of-type {\n",
       "        vertical-align: middle;\n",
       "    }\n",
       "\n",
       "    .dataframe tbody tr th {\n",
       "        vertical-align: top;\n",
       "    }\n",
       "\n",
       "    .dataframe thead th {\n",
       "        text-align: right;\n",
       "    }\n",
       "</style>\n",
       "<table border=\"1\" class=\"dataframe\">\n",
       "  <thead>\n",
       "    <tr style=\"text-align: right;\">\n",
       "      <th></th>\n",
       "      <th>id</th>\n",
       "      <th>tipo</th>\n",
       "      <th>titulo</th>\n",
       "      <th>incorporada</th>\n",
       "      <th>lanzamiento</th>\n",
       "      <th>publico</th>\n",
       "      <th>duracion</th>\n",
       "    </tr>\n",
       "  </thead>\n",
       "  <tbody>\n",
       "    <tr>\n",
       "      <th>0</th>\n",
       "      <td>81145628</td>\n",
       "      <td>Pelicula</td>\n",
       "      <td>Norm of the North: King Sized Adventure</td>\n",
       "      <td>September 9, 2019</td>\n",
       "      <td>2019</td>\n",
       "      <td>infantil</td>\n",
       "      <td>90 min</td>\n",
       "    </tr>\n",
       "    <tr>\n",
       "      <th>1</th>\n",
       "      <td>80117401</td>\n",
       "      <td>Pelicula</td>\n",
       "      <td>Jandino: Whatever it Takes</td>\n",
       "      <td>September 9, 2016</td>\n",
       "      <td>2016</td>\n",
       "      <td>Adulto</td>\n",
       "      <td>94 min</td>\n",
       "    </tr>\n",
       "    <tr>\n",
       "      <th>2</th>\n",
       "      <td>70234439</td>\n",
       "      <td>Serie</td>\n",
       "      <td>Transformers Prime</td>\n",
       "      <td>September 8, 2018</td>\n",
       "      <td>2013</td>\n",
       "      <td>infantil</td>\n",
       "      <td>1 Season</td>\n",
       "    </tr>\n",
       "    <tr>\n",
       "      <th>3</th>\n",
       "      <td>80058654</td>\n",
       "      <td>Serie</td>\n",
       "      <td>Transformers: Robots in Disguise</td>\n",
       "      <td>September 8, 2018</td>\n",
       "      <td>2016</td>\n",
       "      <td>infantil</td>\n",
       "      <td>1 Season</td>\n",
       "    </tr>\n",
       "    <tr>\n",
       "      <th>4</th>\n",
       "      <td>80125979</td>\n",
       "      <td>Pelicula</td>\n",
       "      <td>#realityhigh</td>\n",
       "      <td>September 8, 2017</td>\n",
       "      <td>2017</td>\n",
       "      <td>Adolecente</td>\n",
       "      <td>99 min</td>\n",
       "    </tr>\n",
       "    <tr>\n",
       "      <th>5</th>\n",
       "      <td>80163890</td>\n",
       "      <td>Serie</td>\n",
       "      <td>Apaches</td>\n",
       "      <td>September 8, 2017</td>\n",
       "      <td>2016</td>\n",
       "      <td>Adulto</td>\n",
       "      <td>1 Season</td>\n",
       "    </tr>\n",
       "    <tr>\n",
       "      <th>6</th>\n",
       "      <td>70304989</td>\n",
       "      <td>Pelicula</td>\n",
       "      <td>Automata</td>\n",
       "      <td>September 8, 2017</td>\n",
       "      <td>2014</td>\n",
       "      <td>Adulto</td>\n",
       "      <td>110 min</td>\n",
       "    </tr>\n",
       "    <tr>\n",
       "      <th>7</th>\n",
       "      <td>80164077</td>\n",
       "      <td>Pelicula</td>\n",
       "      <td>Fabrizio Copano: Solo pienso en mi</td>\n",
       "      <td>September 8, 2017</td>\n",
       "      <td>2017</td>\n",
       "      <td>Adulto</td>\n",
       "      <td>60 min</td>\n",
       "    </tr>\n",
       "    <tr>\n",
       "      <th>8</th>\n",
       "      <td>80117902</td>\n",
       "      <td>Serie</td>\n",
       "      <td>Fire Chasers</td>\n",
       "      <td>September 8, 2017</td>\n",
       "      <td>2017</td>\n",
       "      <td>Adulto</td>\n",
       "      <td>1 Season</td>\n",
       "    </tr>\n",
       "    <tr>\n",
       "      <th>9</th>\n",
       "      <td>70304990</td>\n",
       "      <td>Pelicula</td>\n",
       "      <td>Good People</td>\n",
       "      <td>September 8, 2017</td>\n",
       "      <td>2014</td>\n",
       "      <td>Adulto</td>\n",
       "      <td>90 min</td>\n",
       "    </tr>\n",
       "  </tbody>\n",
       "</table>\n",
       "</div>"
      ],
      "text/plain": [
       "         id      tipo                                   titulo  \\\n",
       "0  81145628  Pelicula  Norm of the North: King Sized Adventure   \n",
       "1  80117401  Pelicula               Jandino: Whatever it Takes   \n",
       "2  70234439     Serie                       Transformers Prime   \n",
       "3  80058654     Serie         Transformers: Robots in Disguise   \n",
       "4  80125979  Pelicula                             #realityhigh   \n",
       "5  80163890     Serie                                  Apaches   \n",
       "6  70304989  Pelicula                                 Automata   \n",
       "7  80164077  Pelicula       Fabrizio Copano: Solo pienso en mi   \n",
       "8  80117902     Serie                             Fire Chasers   \n",
       "9  70304990  Pelicula                              Good People   \n",
       "\n",
       "         incorporada  lanzamiento     publico  duracion  \n",
       "0  September 9, 2019         2019    infantil    90 min  \n",
       "1  September 9, 2016         2016      Adulto    94 min  \n",
       "2  September 8, 2018         2013    infantil  1 Season  \n",
       "3  September 8, 2018         2016    infantil  1 Season  \n",
       "4  September 8, 2017         2017  Adolecente    99 min  \n",
       "5  September 8, 2017         2016      Adulto  1 Season  \n",
       "6  September 8, 2017         2014      Adulto   110 min  \n",
       "7  September 8, 2017         2017      Adulto    60 min  \n",
       "8  September 8, 2017         2017      Adulto  1 Season  \n",
       "9  September 8, 2017         2014      Adulto    90 min  "
      ]
     },
     "execution_count": 17,
     "metadata": {},
     "output_type": "execute_result"
    }
   ],
   "source": [
    "data = data.drop([\"director\"], axis = 1)\n",
    "data = data.drop([\"actores\"], axis = 1)\n",
    "data = data.drop([\"pais\"], axis = 1)\n",
    "data = data.drop([\"clasificacion\"], axis = 1)\n",
    "data.head(10)\n",
    "\n"
   ]
  },
  {
   "cell_type": "markdown",
   "metadata": {},
   "source": [
    " ## Almacenando la transformacion del dataset\n",
    " El formato del archivo es .pkl, este tipo de archivo\n",
    " almacena la estructura de los objetos, esto permite\n",
    " mantener todos las categorias almacenadas internamente\n",
    " por lo tanto, no debere realizar filtrados o cosas por el estilo\n",
    " nuevamente."
   ]
  },
  {
   "cell_type": "code",
   "execution_count": 18,
   "metadata": {},
   "outputs": [
    {
     "name": "stdout",
     "output_type": "stream",
     "text": [
      "../data/intermediate/netflix-categorizado.pkl  almacenado.\n",
      "../data/intermediate/netflix-categorizado.csv  almacenado.\n"
     ]
    }
   ],
   "source": [
    "data_file=\"../data/intermediate/netflix-categorizado.pkl\"\n",
    "data.to_pickle(data_file)\n",
    "print(data_file, \" almacenado.\")\n",
    "data_file=\"../data/intermediate/netflix-categorizado.csv\"\n",
    "data.to_csv(data_file, index=False, header=True)\n",
    "print(data_file, \" almacenado.\")\n",
    "\n"
   ]
  },
  {
   "cell_type": "markdown",
   "metadata": {},
   "source": [
    " # Finalizo la transformacion del dataset"
   ]
  }
 ],
 "metadata": {
  "file_extension": ".py",
  "kernelspec": {
   "display_name": "Python 3",
   "language": "python",
   "name": "python3"
  },
  "language_info": {
   "codemirror_mode": {
    "name": "ipython",
    "version": 3
   },
   "file_extension": ".py",
   "mimetype": "text/x-python",
   "name": "python",
   "nbconvert_exporter": "python",
   "pygments_lexer": "ipython3",
   "version": "3.7.6"
  },
  "mimetype": "text/x-python",
  "name": "python",
  "npconvert_exporter": "python",
  "pygments_lexer": "ipython3",
  "version": 3
 },
 "nbformat": 4,
 "nbformat_minor": 2
}
