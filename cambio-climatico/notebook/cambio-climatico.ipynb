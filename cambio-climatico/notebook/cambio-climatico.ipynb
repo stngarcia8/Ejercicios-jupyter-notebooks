{
 "cells": [
  {
   "cell_type": "markdown",
   "metadata": {},
   "source": [
    " # Explorando datos dataset cambio climático"
   ]
  },
  {
   "cell_type": "code",
   "execution_count": 1,
   "metadata": {},
   "outputs": [],
   "source": [
    "import pandas as pd\n",
    "import numpy as np\n",
    "import  matplotlib.pyplot as plt \n"
   ]
  },
  {
   "cell_type": "code",
   "execution_count": 2,
   "metadata": {},
   "outputs": [
    {
     "data": {
      "text/plain": [
       "(308, 11)"
      ]
     },
     "execution_count": 2,
     "metadata": {},
     "output_type": "execute_result"
    }
   ],
   "source": [
    "data_file=\"../data/cambio_climatico.csv\"\n",
    "data = pd.read_csv(data_file)\n",
    "data.shape \n"
   ]
  },
  {
   "cell_type": "code",
   "execution_count": 3,
   "metadata": {},
   "outputs": [
    {
     "data": {
      "text/html": [
       "<div>\n",
       "<style scoped>\n",
       "    .dataframe tbody tr th:only-of-type {\n",
       "        vertical-align: middle;\n",
       "    }\n",
       "\n",
       "    .dataframe tbody tr th {\n",
       "        vertical-align: top;\n",
       "    }\n",
       "\n",
       "    .dataframe thead th {\n",
       "        text-align: right;\n",
       "    }\n",
       "</style>\n",
       "<table border=\"1\" class=\"dataframe\">\n",
       "  <thead>\n",
       "    <tr style=\"text-align: right;\">\n",
       "      <th></th>\n",
       "      <th>Year</th>\n",
       "      <th>Month</th>\n",
       "      <th>MEI</th>\n",
       "      <th>CO2</th>\n",
       "      <th>CH4</th>\n",
       "      <th>N2O</th>\n",
       "      <th>CFC-11</th>\n",
       "      <th>CFC-12</th>\n",
       "      <th>TSI</th>\n",
       "      <th>Aerosols</th>\n",
       "      <th>Temp</th>\n",
       "    </tr>\n",
       "  </thead>\n",
       "  <tbody>\n",
       "    <tr>\n",
       "      <th>count</th>\n",
       "      <td>308.000000</td>\n",
       "      <td>308.000000</td>\n",
       "      <td>308.000000</td>\n",
       "      <td>308.000000</td>\n",
       "      <td>308.000000</td>\n",
       "      <td>308.000000</td>\n",
       "      <td>308.000000</td>\n",
       "      <td>308.000000</td>\n",
       "      <td>308.000000</td>\n",
       "      <td>308.000000</td>\n",
       "      <td>308.000000</td>\n",
       "    </tr>\n",
       "    <tr>\n",
       "      <th>mean</th>\n",
       "      <td>1995.662338</td>\n",
       "      <td>6.551948</td>\n",
       "      <td>0.275555</td>\n",
       "      <td>363.226753</td>\n",
       "      <td>1749.824513</td>\n",
       "      <td>312.391834</td>\n",
       "      <td>251.973068</td>\n",
       "      <td>497.524782</td>\n",
       "      <td>1366.070759</td>\n",
       "      <td>0.016657</td>\n",
       "      <td>0.256776</td>\n",
       "    </tr>\n",
       "    <tr>\n",
       "      <th>std</th>\n",
       "      <td>7.423197</td>\n",
       "      <td>3.447214</td>\n",
       "      <td>0.937918</td>\n",
       "      <td>12.647125</td>\n",
       "      <td>46.051678</td>\n",
       "      <td>5.225131</td>\n",
       "      <td>20.231783</td>\n",
       "      <td>57.826899</td>\n",
       "      <td>0.399610</td>\n",
       "      <td>0.029050</td>\n",
       "      <td>0.179090</td>\n",
       "    </tr>\n",
       "    <tr>\n",
       "      <th>min</th>\n",
       "      <td>1983.000000</td>\n",
       "      <td>1.000000</td>\n",
       "      <td>-1.635000</td>\n",
       "      <td>340.170000</td>\n",
       "      <td>1629.890000</td>\n",
       "      <td>303.677000</td>\n",
       "      <td>191.324000</td>\n",
       "      <td>350.113000</td>\n",
       "      <td>1365.426100</td>\n",
       "      <td>0.001600</td>\n",
       "      <td>-0.282000</td>\n",
       "    </tr>\n",
       "    <tr>\n",
       "      <th>25%</th>\n",
       "      <td>1989.000000</td>\n",
       "      <td>4.000000</td>\n",
       "      <td>-0.398750</td>\n",
       "      <td>353.020000</td>\n",
       "      <td>1722.182500</td>\n",
       "      <td>308.111500</td>\n",
       "      <td>246.295500</td>\n",
       "      <td>472.410750</td>\n",
       "      <td>1365.717050</td>\n",
       "      <td>0.002800</td>\n",
       "      <td>0.121750</td>\n",
       "    </tr>\n",
       "    <tr>\n",
       "      <th>50%</th>\n",
       "      <td>1996.000000</td>\n",
       "      <td>7.000000</td>\n",
       "      <td>0.237500</td>\n",
       "      <td>361.735000</td>\n",
       "      <td>1764.040000</td>\n",
       "      <td>311.507000</td>\n",
       "      <td>258.344000</td>\n",
       "      <td>528.356000</td>\n",
       "      <td>1365.980900</td>\n",
       "      <td>0.005750</td>\n",
       "      <td>0.248000</td>\n",
       "    </tr>\n",
       "    <tr>\n",
       "      <th>75%</th>\n",
       "      <td>2002.000000</td>\n",
       "      <td>10.000000</td>\n",
       "      <td>0.830500</td>\n",
       "      <td>373.455000</td>\n",
       "      <td>1786.885000</td>\n",
       "      <td>316.979000</td>\n",
       "      <td>267.031000</td>\n",
       "      <td>540.524250</td>\n",
       "      <td>1366.363250</td>\n",
       "      <td>0.012600</td>\n",
       "      <td>0.407250</td>\n",
       "    </tr>\n",
       "    <tr>\n",
       "      <th>max</th>\n",
       "      <td>2008.000000</td>\n",
       "      <td>12.000000</td>\n",
       "      <td>3.001000</td>\n",
       "      <td>388.500000</td>\n",
       "      <td>1814.180000</td>\n",
       "      <td>322.182000</td>\n",
       "      <td>271.494000</td>\n",
       "      <td>543.813000</td>\n",
       "      <td>1367.316200</td>\n",
       "      <td>0.149400</td>\n",
       "      <td>0.739000</td>\n",
       "    </tr>\n",
       "  </tbody>\n",
       "</table>\n",
       "</div>"
      ],
      "text/plain": [
       "              Year       Month         MEI         CO2          CH4  \\\n",
       "count   308.000000  308.000000  308.000000  308.000000   308.000000   \n",
       "mean   1995.662338    6.551948    0.275555  363.226753  1749.824513   \n",
       "std       7.423197    3.447214    0.937918   12.647125    46.051678   \n",
       "min    1983.000000    1.000000   -1.635000  340.170000  1629.890000   \n",
       "25%    1989.000000    4.000000   -0.398750  353.020000  1722.182500   \n",
       "50%    1996.000000    7.000000    0.237500  361.735000  1764.040000   \n",
       "75%    2002.000000   10.000000    0.830500  373.455000  1786.885000   \n",
       "max    2008.000000   12.000000    3.001000  388.500000  1814.180000   \n",
       "\n",
       "              N2O      CFC-11      CFC-12          TSI    Aerosols        Temp  \n",
       "count  308.000000  308.000000  308.000000   308.000000  308.000000  308.000000  \n",
       "mean   312.391834  251.973068  497.524782  1366.070759    0.016657    0.256776  \n",
       "std      5.225131   20.231783   57.826899     0.399610    0.029050    0.179090  \n",
       "min    303.677000  191.324000  350.113000  1365.426100    0.001600   -0.282000  \n",
       "25%    308.111500  246.295500  472.410750  1365.717050    0.002800    0.121750  \n",
       "50%    311.507000  258.344000  528.356000  1365.980900    0.005750    0.248000  \n",
       "75%    316.979000  267.031000  540.524250  1366.363250    0.012600    0.407250  \n",
       "max    322.182000  271.494000  543.813000  1367.316200    0.149400    0.739000  "
      ]
     },
     "execution_count": 3,
     "metadata": {},
     "output_type": "execute_result"
    }
   ],
   "source": [
    "data.describe(include=\"all\")\n"
   ]
  },
  {
   "cell_type": "code",
   "execution_count": 4,
   "metadata": {},
   "outputs": [
    {
     "name": "stdout",
     "output_type": "stream",
     "text": [
      "<class 'pandas.core.frame.DataFrame'>\n",
      "RangeIndex: 308 entries, 0 to 307\n",
      "Data columns (total 11 columns):\n",
      " #   Column    Non-Null Count  Dtype  \n",
      "---  ------    --------------  -----  \n",
      " 0   Year      308 non-null    int64  \n",
      " 1   Month     308 non-null    int64  \n",
      " 2   MEI       308 non-null    float64\n",
      " 3   CO2       308 non-null    float64\n",
      " 4   CH4       308 non-null    float64\n",
      " 5   N2O       308 non-null    float64\n",
      " 6   CFC-11    308 non-null    float64\n",
      " 7   CFC-12    308 non-null    float64\n",
      " 8   TSI       308 non-null    float64\n",
      " 9   Aerosols  308 non-null    float64\n",
      " 10  Temp      308 non-null    float64\n",
      "dtypes: float64(9), int64(2)\n",
      "memory usage: 26.6 KB\n"
     ]
    }
   ],
   "source": [
    "data.info()\n"
   ]
  },
  {
   "cell_type": "code",
   "execution_count": 5,
   "metadata": {},
   "outputs": [
    {
     "name": "stdout",
     "output_type": "stream",
     "text": [
      "No existen valores nulos en el dataframe.\n"
     ]
    }
   ],
   "source": [
    "def buscar_nulos(dataframe):\n",
    "    contador=0\n",
    "    for columna in dataframe:\n",
    "        nombre_col = dataframe[columna].name\n",
    "        cantidad_col = len(dataframe[dataframe[columna].isnull()]) \n",
    "        porcentaje_col = (cantidad_col / (1.0*len(data))) * 100\n",
    "        tipo_col = dataframe[columna].dtype\n",
    "        if porcentaje_col != 0:\n",
    "            contador+=1\n",
    "            print(\n",
    "                \"Columna : {}\".format(nombre_col), \n",
    "                \"nulos {} ({}%)\".format(cantidad_col, round(porcentaje_col)),\n",
    "                \"tipo {}\".format(tipo_col), \n",
    "                sep=\"\\t\")\n",
    "    if contador==0:\n",
    "        print(\"No existen valores nulos en el dataframe.\")\n",
    "buscar_nulos(data)\n"
   ]
  },
  {
   "cell_type": "code",
   "execution_count": 6,
   "metadata": {},
   "outputs": [
    {
     "data": {
      "text/plain": [
       "Year          int64\n",
       "Month         int64\n",
       "MEI         float64\n",
       "CO2         float64\n",
       "CH4         float64\n",
       "N2O         float64\n",
       "CFC-11      float64\n",
       "CFC-12      float64\n",
       "TSI         float64\n",
       "Aerosols    float64\n",
       "Temp        float64\n",
       "dtype: object"
      ]
     },
     "execution_count": 6,
     "metadata": {},
     "output_type": "execute_result"
    }
   ],
   "source": [
    "data.dtypes\n"
   ]
  },
  {
   "cell_type": "code",
   "execution_count": 7,
   "metadata": {},
   "outputs": [
    {
     "data": {
      "text/plain": [
       "2008    12\n",
       "2007    12\n",
       "1984    12\n",
       "1985    12\n",
       "1986    12\n",
       "1987    12\n",
       "1988    12\n",
       "1989    12\n",
       "1990    12\n",
       "1991    12\n",
       "1992    12\n",
       "1993    12\n",
       "1994    12\n",
       "1995    12\n",
       "1996    12\n",
       "1997    12\n",
       "1998    12\n",
       "1999    12\n",
       "2000    12\n",
       "2001    12\n",
       "2002    12\n",
       "2003    12\n",
       "2004    12\n",
       "2005    12\n",
       "2006    12\n",
       "1983     8\n",
       "Name: Year, dtype: int64"
      ]
     },
     "execution_count": 7,
     "metadata": {},
     "output_type": "execute_result"
    }
   ],
   "source": [
    "data[\"Year\"].value_counts()\n"
   ]
  },
  {
   "cell_type": "code",
   "execution_count": 8,
   "metadata": {},
   "outputs": [
    {
     "name": "stdout",
     "output_type": "stream",
     "text": [
      "Cantidad de divisiones 10\n"
     ]
    },
    {
     "data": {
      "image/png": "[encoded data removed]",
      "text/plain": [
       "<Figure size 1440x1080 with 12 Axes>"
      ]
     },
     "metadata": {
      "needs_background": "light"
     },
     "output_type": "display_data"
    }
   ],
   "source": [
    "%matplotlib inline\n",
    "k=int(np.ceil(1+np.log2(len(data))))\n",
    "print(\"Cantidad de divisiones\", k)\n",
    "data.hist(bins=k, figsize=(20,15))\n",
    "plt.show()\n"
   ]
  },
  {
   "cell_type": "code",
   "execution_count": 9,
   "metadata": {},
   "outputs": [
    {
     "data": {
      "image/png": "[encoded data removed]",
      "text/plain": [
       "<Figure size 720x1080 with 1 Axes>"
      ]
     },
     "metadata": {
      "needs_background": "light"
     },
     "output_type": "display_data"
    }
   ],
   "source": [
    "data[\"Temp\"].hist(bins=k, figsize=(10,15))\n",
    "plt.title(\"Histograma de temperatura\")\n",
    "plt.xlabel(\"Diferencia entre grados\")\n",
    "plt.ylabel(\"ocurrencias\")\n",
    "plt.show()\n"
   ]
  },
  {
   "cell_type": "code",
   "execution_count": 10,
   "metadata": {},
   "outputs": [
    {
     "data": {
      "text/html": [
       "<div>\n",
       "<style scoped>\n",
       "    .dataframe tbody tr th:only-of-type {\n",
       "        vertical-align: middle;\n",
       "    }\n",
       "\n",
       "    .dataframe tbody tr th {\n",
       "        vertical-align: top;\n",
       "    }\n",
       "\n",
       "    .dataframe thead th {\n",
       "        text-align: right;\n",
       "    }\n",
       "</style>\n",
       "<table border=\"1\" class=\"dataframe\">\n",
       "  <thead>\n",
       "    <tr style=\"text-align: right;\">\n",
       "      <th></th>\n",
       "      <th>Year</th>\n",
       "      <th>Month</th>\n",
       "      <th>MEI</th>\n",
       "      <th>CO2</th>\n",
       "      <th>CH4</th>\n",
       "      <th>N2O</th>\n",
       "      <th>CFC-11</th>\n",
       "      <th>CFC-12</th>\n",
       "      <th>TSI</th>\n",
       "      <th>Aerosols</th>\n",
       "      <th>Temp</th>\n",
       "    </tr>\n",
       "  </thead>\n",
       "  <tbody>\n",
       "    <tr>\n",
       "      <th>Year</th>\n",
       "      <td>1.000000</td>\n",
       "      <td>-0.025789</td>\n",
       "      <td>-0.145345</td>\n",
       "      <td>0.985379</td>\n",
       "      <td>0.910563</td>\n",
       "      <td>0.994850</td>\n",
       "      <td>0.460965</td>\n",
       "      <td>0.870067</td>\n",
       "      <td>0.022353</td>\n",
       "      <td>-0.361884</td>\n",
       "      <td>0.755731</td>\n",
       "    </tr>\n",
       "    <tr>\n",
       "      <th>Month</th>\n",
       "      <td>-0.025789</td>\n",
       "      <td>1.000000</td>\n",
       "      <td>-0.016345</td>\n",
       "      <td>-0.096287</td>\n",
       "      <td>0.017558</td>\n",
       "      <td>0.012395</td>\n",
       "      <td>-0.014914</td>\n",
       "      <td>-0.001084</td>\n",
       "      <td>-0.032754</td>\n",
       "      <td>0.014845</td>\n",
       "      <td>-0.098016</td>\n",
       "    </tr>\n",
       "    <tr>\n",
       "      <th>MEI</th>\n",
       "      <td>-0.145345</td>\n",
       "      <td>-0.016345</td>\n",
       "      <td>1.000000</td>\n",
       "      <td>-0.152911</td>\n",
       "      <td>-0.105555</td>\n",
       "      <td>-0.162375</td>\n",
       "      <td>0.088171</td>\n",
       "      <td>-0.039836</td>\n",
       "      <td>-0.076826</td>\n",
       "      <td>0.352351</td>\n",
       "      <td>0.135292</td>\n",
       "    </tr>\n",
       "    <tr>\n",
       "      <th>CO2</th>\n",
       "      <td>0.985379</td>\n",
       "      <td>-0.096287</td>\n",
       "      <td>-0.152911</td>\n",
       "      <td>1.000000</td>\n",
       "      <td>0.872253</td>\n",
       "      <td>0.981135</td>\n",
       "      <td>0.401284</td>\n",
       "      <td>0.823210</td>\n",
       "      <td>0.017867</td>\n",
       "      <td>-0.369265</td>\n",
       "      <td>0.748505</td>\n",
       "    </tr>\n",
       "    <tr>\n",
       "      <th>CH4</th>\n",
       "      <td>0.910563</td>\n",
       "      <td>0.017558</td>\n",
       "      <td>-0.105555</td>\n",
       "      <td>0.872253</td>\n",
       "      <td>1.000000</td>\n",
       "      <td>0.894409</td>\n",
       "      <td>0.713504</td>\n",
       "      <td>0.958237</td>\n",
       "      <td>0.146335</td>\n",
       "      <td>-0.290381</td>\n",
       "      <td>0.699697</td>\n",
       "    </tr>\n",
       "    <tr>\n",
       "      <th>N2O</th>\n",
       "      <td>0.994850</td>\n",
       "      <td>0.012395</td>\n",
       "      <td>-0.162375</td>\n",
       "      <td>0.981135</td>\n",
       "      <td>0.894409</td>\n",
       "      <td>1.000000</td>\n",
       "      <td>0.412155</td>\n",
       "      <td>0.839295</td>\n",
       "      <td>0.039892</td>\n",
       "      <td>-0.353499</td>\n",
       "      <td>0.743242</td>\n",
       "    </tr>\n",
       "    <tr>\n",
       "      <th>CFC-11</th>\n",
       "      <td>0.460965</td>\n",
       "      <td>-0.014914</td>\n",
       "      <td>0.088171</td>\n",
       "      <td>0.401284</td>\n",
       "      <td>0.713504</td>\n",
       "      <td>0.412155</td>\n",
       "      <td>1.000000</td>\n",
       "      <td>0.831381</td>\n",
       "      <td>0.284629</td>\n",
       "      <td>-0.032302</td>\n",
       "      <td>0.380111</td>\n",
       "    </tr>\n",
       "    <tr>\n",
       "      <th>CFC-12</th>\n",
       "      <td>0.870067</td>\n",
       "      <td>-0.001084</td>\n",
       "      <td>-0.039836</td>\n",
       "      <td>0.823210</td>\n",
       "      <td>0.958237</td>\n",
       "      <td>0.839295</td>\n",
       "      <td>0.831381</td>\n",
       "      <td>1.000000</td>\n",
       "      <td>0.189270</td>\n",
       "      <td>-0.243785</td>\n",
       "      <td>0.688944</td>\n",
       "    </tr>\n",
       "    <tr>\n",
       "      <th>TSI</th>\n",
       "      <td>0.022353</td>\n",
       "      <td>-0.032754</td>\n",
       "      <td>-0.076826</td>\n",
       "      <td>0.017867</td>\n",
       "      <td>0.146335</td>\n",
       "      <td>0.039892</td>\n",
       "      <td>0.284629</td>\n",
       "      <td>0.189270</td>\n",
       "      <td>1.000000</td>\n",
       "      <td>0.083238</td>\n",
       "      <td>0.182186</td>\n",
       "    </tr>\n",
       "    <tr>\n",
       "      <th>Aerosols</th>\n",
       "      <td>-0.361884</td>\n",
       "      <td>0.014845</td>\n",
       "      <td>0.352351</td>\n",
       "      <td>-0.369265</td>\n",
       "      <td>-0.290381</td>\n",
       "      <td>-0.353499</td>\n",
       "      <td>-0.032302</td>\n",
       "      <td>-0.243785</td>\n",
       "      <td>0.083238</td>\n",
       "      <td>1.000000</td>\n",
       "      <td>-0.392069</td>\n",
       "    </tr>\n",
       "    <tr>\n",
       "      <th>Temp</th>\n",
       "      <td>0.755731</td>\n",
       "      <td>-0.098016</td>\n",
       "      <td>0.135292</td>\n",
       "      <td>0.748505</td>\n",
       "      <td>0.699697</td>\n",
       "      <td>0.743242</td>\n",
       "      <td>0.380111</td>\n",
       "      <td>0.688944</td>\n",
       "      <td>0.182186</td>\n",
       "      <td>-0.392069</td>\n",
       "      <td>1.000000</td>\n",
       "    </tr>\n",
       "  </tbody>\n",
       "</table>\n",
       "</div>"
      ],
      "text/plain": [
       "              Year     Month       MEI       CO2       CH4       N2O  \\\n",
       "Year      1.000000 -0.025789 -0.145345  0.985379  0.910563  0.994850   \n",
       "Month    -0.025789  1.000000 -0.016345 -0.096287  0.017558  0.012395   \n",
       "MEI      -0.145345 -0.016345  1.000000 -0.152911 -0.105555 -0.162375   \n",
       "CO2       0.985379 -0.096287 -0.152911  1.000000  0.872253  0.981135   \n",
       "CH4       0.910563  0.017558 -0.105555  0.872253  1.000000  0.894409   \n",
       "N2O       0.994850  0.012395 -0.162375  0.981135  0.894409  1.000000   \n",
       "CFC-11    0.460965 -0.014914  0.088171  0.401284  0.713504  0.412155   \n",
       "CFC-12    0.870067 -0.001084 -0.039836  0.823210  0.958237  0.839295   \n",
       "TSI       0.022353 -0.032754 -0.076826  0.017867  0.146335  0.039892   \n",
       "Aerosols -0.361884  0.014845  0.352351 -0.369265 -0.290381 -0.353499   \n",
       "Temp      0.755731 -0.098016  0.135292  0.748505  0.699697  0.743242   \n",
       "\n",
       "            CFC-11    CFC-12       TSI  Aerosols      Temp  \n",
       "Year      0.460965  0.870067  0.022353 -0.361884  0.755731  \n",
       "Month    -0.014914 -0.001084 -0.032754  0.014845 -0.098016  \n",
       "MEI       0.088171 -0.039836 -0.076826  0.352351  0.135292  \n",
       "CO2       0.401284  0.823210  0.017867 -0.369265  0.748505  \n",
       "CH4       0.713504  0.958237  0.146335 -0.290381  0.699697  \n",
       "N2O       0.412155  0.839295  0.039892 -0.353499  0.743242  \n",
       "CFC-11    1.000000  0.831381  0.284629 -0.032302  0.380111  \n",
       "CFC-12    0.831381  1.000000  0.189270 -0.243785  0.688944  \n",
       "TSI       0.284629  0.189270  1.000000  0.083238  0.182186  \n",
       "Aerosols -0.032302 -0.243785  0.083238  1.000000 -0.392069  \n",
       "Temp      0.380111  0.688944  0.182186 -0.392069  1.000000  "
      ]
     },
     "execution_count": 10,
     "metadata": {},
     "output_type": "execute_result"
    }
   ],
   "source": [
    "corr=data.corr()\n",
    "corr\n"
   ]
  },
  {
   "cell_type": "code",
   "execution_count": 11,
   "metadata": {},
   "outputs": [
    {
     "data": {
      "text/plain": [
       "Aerosols   -0.392069\n",
       "Month      -0.098016\n",
       "MEI         0.135292\n",
       "TSI         0.182186\n",
       "CFC-11      0.380111\n",
       "CFC-12      0.688944\n",
       "CH4         0.699697\n",
       "N2O         0.743242\n",
       "CO2         0.748505\n",
       "Year        0.755731\n",
       "Temp        1.000000\n",
       "Name: Temp, dtype: float64"
      ]
     },
     "execution_count": 11,
     "metadata": {},
     "output_type": "execute_result"
    }
   ],
   "source": [
    "corr[\"Temp\"].sort_values(ascending=True)\n"
   ]
  },
  {
   "cell_type": "code",
   "execution_count": 12,
   "metadata": {},
   "outputs": [
    {
     "data": {
      "image/png": "[encoded data removed]",
      "text/plain": [
       "<Figure size 432x288 with 1 Axes>"
      ]
     },
     "metadata": {
      "needs_background": "light"
     },
     "output_type": "display_data"
    }
   ],
   "source": [
    "%matplotlib inline\n",
    "data.plot(kind=\"scatter\",x=\"Temp\", y=\"MEI\")\n",
    "plt.show()\n"
   ]
  },
  {
   "cell_type": "code",
   "execution_count": 13,
   "metadata": {},
   "outputs": [
    {
     "data": {
      "image/png": "[encoded data removed]",
      "text/plain": [
       "<Figure size 432x288 with 1 Axes>"
      ]
     },
     "metadata": {
      "needs_background": "light"
     },
     "output_type": "display_data"
    }
   ],
   "source": [
    "data.plot(kind=\"scatter\",x=\"Temp\", y=\"Year\")\n",
    "plt.show()\n"
   ]
  },
  {
   "cell_type": "markdown",
   "metadata": {},
   "source": [
    " ## Relación de las variables con la temperatura"
   ]
  },
  {
   "cell_type": "code",
   "execution_count": 14,
   "metadata": {},
   "outputs": [
    {
     "data": {
      "image/png": "[encoded data removed]",
      "text/plain": [
       "<Figure size 432x288 with 6 Axes>"
      ]
     },
     "metadata": {
      "needs_background": "light"
     },
     "output_type": "display_data"
    }
   ],
   "source": [
    "data[\"Temp\"].value_counts()\n",
    "%matplotlib inline \n",
    "figure, axs = plt.subplots(2,3, sharey=True)\n",
    "data.plot(kind=\"scatter\", x=\"CO2\", y=\"Temp\", ax=axs[0][0])\n",
    "data.plot(kind=\"scatter\", x=\"CH4\", y=\"Temp\", ax=axs[0][1])\n",
    "data.plot(kind=\"scatter\", x=\"N2O\",y=\"Temp\", ax=axs[0][2])\n",
    "data.plot(kind=\"scatter\", x=\"CFC-11\",y=\"Temp\", ax=axs[1][0])\n",
    "data.plot(kind=\"scatter\", x=\"CFC-12\",y=\"Temp\", ax=axs[1][1])\n",
    "data.plot(kind=\"scatter\", x=\"TSI\",y=\"Temp\", ax=axs[1][2])\n",
    "plt.show()\n"
   ]
  },
  {
   "cell_type": "code",
   "execution_count": 15,
   "metadata": {},
   "outputs": [
    {
     "data": {
      "text/plain": [
       "Year        0.755731\n",
       "Month      -0.098016\n",
       "MEI         0.135292\n",
       "CO2         0.748505\n",
       "CH4         0.699697\n",
       "N2O         0.743242\n",
       "CFC-11      0.380111\n",
       "CFC-12      0.688944\n",
       "TSI         0.182186\n",
       "Aerosols   -0.392069\n",
       "Temp        1.000000\n",
       "Name: Temp, dtype: float64"
      ]
     },
     "execution_count": 15,
     "metadata": {},
     "output_type": "execute_result"
    }
   ],
   "source": [
    "corr[\"Temp\"]"
   ]
  }
 ],
 "metadata": {
  "kernelspec": {
   "display_name": "Python 3",
   "language": "python",
   "name": "python3"
  },
  "language_info": {
   "codemirror_mode": {
    "name": "ipython",
    "version": 3
   },
   "file_extension": ".py",
   "mimetype": "text/x-python",
   "name": "python",
   "nbconvert_exporter": "python",
   "pygments_lexer": "ipython3",
   "version": "3.7.6"
  }
 },
 "nbformat": 4,
 "nbformat_minor": 2
}
