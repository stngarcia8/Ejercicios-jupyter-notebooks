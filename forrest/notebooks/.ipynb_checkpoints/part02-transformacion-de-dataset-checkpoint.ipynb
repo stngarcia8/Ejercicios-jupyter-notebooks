{
 "cells": [
  {
   "cell_type": "markdown",
   "metadata": {},
   "source": [
    " # Transformando dataset de Forest"
   ]
  },
  {
   "cell_type": "code",
   "execution_count": 1,
   "metadata": {},
   "outputs": [],
   "source": [
    "import pandas as pd\n",
    "import matplotlib.pyplot as plt\n",
    "\n"
   ]
  },
  {
   "cell_type": "markdown",
   "metadata": {},
   "source": [
    " ## Cargando dataset limpio"
   ]
  },
  {
   "cell_type": "code",
   "execution_count": 2,
   "metadata": {},
   "outputs": [
    {
     "data": {
      "text/plain": [
       "(15121, 14)"
      ]
     },
     "execution_count": 2,
     "metadata": {},
     "output_type": "execute_result"
    }
   ],
   "source": [
    "data_file=\"../data/intermediate/forest-limpio.csv\"\n",
    "data = pd.read_csv(data_file)\n",
    "data.shape \n",
    "\n"
   ]
  },
  {
   "cell_type": "markdown",
   "metadata": {},
   "source": [
    " ## Visualizando variables a normalizar\n",
    " Las variables con la menor cantidad de valores unicos, son candidatas\n",
    " a dejarlas como clasificadoras, en este caso es el tipo y el publico."
   ]
  },
  {
   "cell_type": "code",
   "execution_count": 3,
   "metadata": {},
   "outputs": [
    {
     "name": "stdout",
     "output_type": "stream",
     "text": [
      "columna Id\tvalores unicos 15121\ttipo float64\n",
      "columna Elevation\tvalores unicos 1666\ttipo float64\n",
      "columna Aspect\tvalores unicos 362\ttipo float64\n",
      "columna Slope\tvalores unicos 53\ttipo float64\n",
      "columna H_Hydrology\tvalores unicos 401\ttipo float64\n",
      "columna V_Hydrology\tvalores unicos 424\ttipo float64\n",
      "columna H_Roadways\tvalores unicos 3251\ttipo float64\n",
      "columna sh_9AM\tvalores unicos 177\ttipo float64\n",
      "columna sh_Noon\tvalores unicos 142\ttipo float64\n",
      "columna sh_3PM\tvalores unicos 248\ttipo float64\n",
      "columna H_Fire_Points\tvalores unicos 2711\ttipo float64\n",
      "columna Cover_Type\tvalores unicos 8\ttipo float64\n",
      "columna Wilderness_Area\tvalores unicos 5\ttipo object\n",
      "columna Soil_Type\tvalores unicos 39\ttipo object\n"
     ]
    }
   ],
   "source": [
    "def valores_unicos(dataframe):\n",
    "    for column in dataframe:\n",
    "        nombre_col = dataframe[column].name\n",
    "        unicos_col = len(dataframe[column].unique())\n",
    "        tipo_col = dataframe[column].dtype\n",
    "        print(\"columna {}\".format(nombre_col),\n",
    "            \"valores unicos {}\".format(unicos_col),\n",
    "            \"tipo {}\".format(tipo_col),\n",
    "            sep=\"\\t\") \n",
    "valores_unicos(data)\n"
   ]
  },
  {
   "cell_type": "markdown",
   "metadata": {},
   "source": [
    " ## Variables categoricas identificadas\n",
    " Según el resultado, las variables categoricas que se encuentran en el dataframe corresponden a:\n",
    " Cover_Type\n",
    " Wilderness_Area\n",
    " Soil_Type"
   ]
  },
  {
   "cell_type": "markdown",
   "metadata": {},
   "source": [
    " ### Wildernes_Area\n",
    " Corresponde a las áreas silvestres con menos perturbaciones realizadas por el hombre, la covertura es natural y no posee intervenciones forestales.\n",
    " Posee valores numéricos comprendidos entre 1 y 4"
   ]
  },
  {
   "cell_type": "code",
   "execution_count": 4,
   "metadata": {},
   "outputs": [
    {
     "data": {
      "text/plain": [
       "3    6349\n",
       "4    4675\n",
       "1    3597\n",
       "2     499\n",
       "Name: Wilderness_Area, dtype: int64"
      ]
     },
     "execution_count": 4,
     "metadata": {},
     "output_type": "execute_result"
    }
   ],
   "source": [
    "data.loc[data[\"Wilderness_Area\"]==\"Wilderness1\", \"Wilderness_Area\"]=1\n",
    "data.loc[data[\"Wilderness_Area\"]==\"Wilderness2\", \"Wilderness_Area\"]=2\n",
    "data.loc[data[\"Wilderness_Area\"]==\"Wilderness3\", \"Wilderness_Area\"]=3\n",
    "data.loc[data[\"Wilderness_Area\"]==\"Wilderness4\", \"Wilderness_Area\"]=4\n",
    "data[\"Wilderness_Area\"] = data[\"Wilderness_Area\"].astype(\"category\")\n",
    "data[\"Wilderness_Area\"].value_counts()\n"
   ]
  },
  {
   "cell_type": "code",
   "execution_count": 5,
   "metadata": {},
   "outputs": [
    {
     "data": {
      "image/png": "[encoded data removed]",
      "text/plain": [
       "<Figure size 432x288 with 1 Axes>"
      ]
     },
     "metadata": {
      "needs_background": "light"
     },
     "output_type": "display_data"
    }
   ],
   "source": [
    "%matplotlib inline \n",
    "df_wilderness = data.groupby(data[\"Wilderness_Area\"])[\"Wilderness_Area\"].count().plot(kind=\"barh\", legend=\"Reverse\")\n",
    "plt.title(\"Distribución de áreas salvajes\")\n",
    "plt.ylabel(\"Tipo de area silvestre\")\n",
    "plt.xlabel(\"Nro. ocurrencias\")\n",
    "plt.show()\n"
   ]
  },
  {
   "cell_type": "markdown",
   "metadata": {},
   "source": [
    " El gráfico muestra la distribución de las áreas silvestres y la cantidad obtenida es igual al total de instancias observadas, por lo cual esta variable categórica es normalizada correctamente."
   ]
  },
  {
   "cell_type": "markdown",
   "metadata": {},
   "source": [
    " ### Cover_Type\n",
    " Es el tipo de covertura del bosque, posee valores numéricos con valores desde 1 hasta 7"
   ]
  },
  {
   "cell_type": "code",
   "execution_count": 6,
   "metadata": {},
   "outputs": [
    {
     "data": {
      "text/plain": [
       "7.0    2160\n",
       "6.0    2160\n",
       "5.0    2160\n",
       "4.0    2160\n",
       "3.0    2160\n",
       "2.0    2160\n",
       "1.0    2160\n",
       "Name: Cover_Type, dtype: int64"
      ]
     },
     "execution_count": 6,
     "metadata": {},
     "output_type": "execute_result"
    }
   ],
   "source": [
    "data[\"Cover_Type\"] = data[\"Cover_Type\"].astype(\"category\")\n",
    "data[\"Cover_Type\"].value_counts()\n"
   ]
  },
  {
   "cell_type": "code",
   "execution_count": 7,
   "metadata": {},
   "outputs": [
    {
     "data": {
      "image/png": "[encoded data removed]",
      "text/plain": [
       "<Figure size 432x288 with 1 Axes>"
      ]
     },
     "metadata": {
      "needs_background": "light"
     },
     "output_type": "display_data"
    }
   ],
   "source": [
    "%matplotlib inline \n",
    "df_cover = data.groupby(data[\"Cover_Type\"])[\"Cover_Type\"].count().plot(kind=\"barh\", legend=\"Reverse\")\n",
    "plt.title(\"Distribución de tipos de covertura\")\n",
    "plt.ylabel(\"Tipo de covertura\")\n",
    "plt.xlabel(\"Nro. ocurrencias\")\n",
    "plt.show()\n"
   ]
  },
  {
   "cell_type": "markdown",
   "metadata": {},
   "source": [
    " La gráfica muestra que los valores estan distribuidos uniformemente en la variable covertura, la cantidad es  correcta, pero tiene diferencias sustanciales en relacion a la altura y esto puede satisfacer ciertas preguntas que en el desarrollo pueden servir para conocimiento de las especies encontradas en los bosques, por tal motivo, esta variable categórica es tomada en cuenta en el dataset."
   ]
  },
  {
   "cell_type": "markdown",
   "metadata": {},
   "source": [
    " ### SoilType\n",
    " Es el tipo de suelo encontrado en el bosque y comprenden valores entre 1 y 40, según \"USFS Ecological unit Landtype\""
   ]
  },
  {
   "cell_type": "code",
   "execution_count": 8,
   "metadata": {},
   "outputs": [],
   "source": [
    "for i in range(1,40):\n",
    "    columna = \"Soil\"+str(i)\n",
    "    data.loc[data[\"Soil_Type\"]==columna, \"Soil_Type\"]=i\n",
    "\n"
   ]
  },
  {
   "cell_type": "code",
   "execution_count": 9,
   "metadata": {},
   "outputs": [
    {
     "data": {
      "text/plain": [
       "10        2142\n",
       "29        1291\n",
       "3          962\n",
       "4          843\n",
       "23         757\n",
       "38         728\n",
       "30         725\n",
       "32         690\n",
       "39         657\n",
       "6          650\n",
       "2          623\n",
       "33         616\n",
       "17         612\n",
       "13         476\n",
       "Soil40     459\n",
       "11         406\n",
       "1          355\n",
       "22         345\n",
       "31         332\n",
       "24         257\n",
       "12         227\n",
       "14         169\n",
       "5          165\n",
       "20         139\n",
       "16         114\n",
       "35         102\n",
       "18          60\n",
       "26          54\n",
       "19          46\n",
       "37          34\n",
       "34          22\n",
       "21          16\n",
       "27          15\n",
       "9           10\n",
       "36          10\n",
       "28           9\n",
       "8            1\n",
       "25           1\n",
       "Name: Soil_Type, dtype: int64"
      ]
     },
     "execution_count": 9,
     "metadata": {},
     "output_type": "execute_result"
    }
   ],
   "source": [
    "data[\"Soil_Type\"].value_counts()\n"
   ]
  },
  {
   "cell_type": "code",
   "execution_count": 10,
   "metadata": {},
   "outputs": [
    {
     "data": {
      "image/png": "[encoded data removed]",
      "text/plain": [
       "<Figure size 432x288 with 1 Axes>"
      ]
     },
     "metadata": {
      "needs_background": "light"
     },
     "output_type": "display_data"
    }
   ],
   "source": [
    "%matplotlib inline \n",
    "df_cover = data.groupby(data[\"Soil_Type\"])[\"Soil_Type\"].count().plot(kind=\"bar\", legend=\"Reverse\")\n",
    "plt.title(\"Distribución de tipos de suelo\")\n",
    "plt.xlabel(\"Tipo de suelo\")\n",
    "plt.ylabel(\"Nro. ocurrencias\")\n",
    "plt.show()\n"
   ]
  },
  {
   "cell_type": "markdown",
   "metadata": {},
   "source": [
    " Los tipos de suelo se encuentran correctamente normalizados, el único tipo de suelo que no aparece en la muestra es el tipo 15."
   ]
  },
  {
   "cell_type": "markdown",
   "metadata": {},
   "source": [
    " ## Almacenando la transformacion del dataset\n",
    " El formato del archivo es .pkl, este tipo de archivo\n",
    " almacena la estructura de los objetos, esto permite\n",
    " mantener todos las categorias almacenadas internamente\n",
    " por lo tanto, no debere realizar filtrados o cosas por el estilo\n",
    " nuevamente."
   ]
  },
  {
   "cell_type": "code",
   "execution_count": 11,
   "metadata": {},
   "outputs": [
    {
     "name": "stdout",
     "output_type": "stream",
     "text": [
      "../data/intermediate/forest-categorizado.pkl  almacenado.\n",
      "../data/intermediate/forest-categorizado.csv  almacenado.\n"
     ]
    }
   ],
   "source": [
    "data_file=\"../data/intermediate/forest-categorizado.pkl\"\n",
    "data.to_pickle(data_file)\n",
    "print(data_file, \" almacenado.\")\n",
    "data_file=\"../data/intermediate/forest-categorizado.csv\"\n",
    "data.to_csv(data_file, index=False, header=True)\n",
    "print(data_file, \" almacenado.\")\n",
    "\n"
   ]
  },
  {
   "cell_type": "markdown",
   "metadata": {},
   "source": [
    " # Finalizo la transformacion del dataset de Forest"
   ]
  }
 ],
 "metadata": {
  "kernelspec": {
   "display_name": "Python 3",
   "language": "python",
   "name": "python3"
  },
  "language_info": {
   "codemirror_mode": {
    "name": "ipython",
    "version": 3
   },
   "file_extension": ".py",
   "mimetype": "text/x-python",
   "name": "python",
   "nbconvert_exporter": "python",
   "pygments_lexer": "ipython3",
   "version": "3.7.6"
  }
 },
 "nbformat": 4,
 "nbformat_minor": 2
}
