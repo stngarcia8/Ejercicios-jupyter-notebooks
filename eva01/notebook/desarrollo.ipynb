{
 "cells": [
  {
   "cell_type": "markdown",
   "metadata": {},
   "source": [
    " # Evaluación actividad Juegos Olímpicos\n",
    " Alumno: Daniel García Loyola<br>\n",
    " Profesor: Israel Naranjo Retamal<br>\n",
    " Ramo: Minería de datos (MDY7101)<br>\n",
    " Sección: 002D<br>\n",
    " Entrega: 06/05/2020"
   ]
  },
  {
   "cell_type": "code",
   "execution_count": 44,
   "metadata": {},
   "outputs": [],
   "source": [
    "import pandas as pd\n",
    "import numpy as np\n",
    "import matplotlib.pyplot as plt \n",
    "import seaborn as sns\n"
   ]
  },
  {
   "cell_type": "markdown",
   "metadata": {},
   "source": [
    " ## Cargando datos de juegos olímpicos"
   ]
  },
  {
   "cell_type": "code",
   "execution_count": 45,
   "metadata": {},
   "outputs": [
    {
     "data": {
      "text/plain": [
       "(271116, 15)"
      ]
     },
     "execution_count": 45,
     "metadata": {},
     "output_type": "execute_result"
    }
   ],
   "source": [
    "data_file=\"../data/original/JuegosOlimpicos.csv\"\n",
    "data = pd.read_csv(data_file)\n",
    "data.shape \n",
    "\n"
   ]
  },
  {
   "cell_type": "markdown",
   "metadata": {},
   "source": [
    " Ajustando títulos de columnas al dataframe"
   ]
  },
  {
   "cell_type": "code",
   "execution_count": 46,
   "metadata": {},
   "outputs": [
    {
     "data": {
      "text/plain": [
       "Index(['ID', 'NombreAtleta', 'Sexo', 'Edad', 'Altura', 'Peso', 'Equipo',\n",
       "       'Comite', 'JuegosOlimpicos', 'Año', 'Temporada', 'Ciudad', 'Deporte',\n",
       "       'Competencia', 'Medalla'],\n",
       "      dtype='object')"
      ]
     },
     "execution_count": 46,
     "metadata": {},
     "output_type": "execute_result"
    }
   ],
   "source": [
    "data.columns=[\"ID\", \"NombreAtleta\", \"Sexo\", \"Edad\", \"Altura\", \"Peso\", \"Equipo\", \"Comite\", \"JuegosOlimpicos\", \"Año\", \"Temporada\", \"Ciudad\", \"Deporte\", \"Competencia\", \"Medalla\"]\n",
    "data.columns\n"
   ]
  },
  {
   "cell_type": "code",
   "execution_count": 47,
   "metadata": {},
   "outputs": [
    {
     "data": {
      "text/html": [
       "<div>\n",
       "<style scoped>\n",
       "    .dataframe tbody tr th:only-of-type {\n",
       "        vertical-align: middle;\n",
       "    }\n",
       "\n",
       "    .dataframe tbody tr th {\n",
       "        vertical-align: top;\n",
       "    }\n",
       "\n",
       "    .dataframe thead th {\n",
       "        text-align: right;\n",
       "    }\n",
       "</style>\n",
       "<table border=\"1\" class=\"dataframe\">\n",
       "  <thead>\n",
       "    <tr style=\"text-align: right;\">\n",
       "      <th></th>\n",
       "      <th>ID</th>\n",
       "      <th>NombreAtleta</th>\n",
       "      <th>Sexo</th>\n",
       "      <th>Edad</th>\n",
       "      <th>Altura</th>\n",
       "      <th>Peso</th>\n",
       "      <th>Equipo</th>\n",
       "      <th>Comite</th>\n",
       "      <th>JuegosOlimpicos</th>\n",
       "      <th>Año</th>\n",
       "      <th>Temporada</th>\n",
       "      <th>Ciudad</th>\n",
       "      <th>Deporte</th>\n",
       "      <th>Competencia</th>\n",
       "      <th>Medalla</th>\n",
       "    </tr>\n",
       "  </thead>\n",
       "  <tbody>\n",
       "    <tr>\n",
       "      <th>0</th>\n",
       "      <td>1</td>\n",
       "      <td>A Dijiang</td>\n",
       "      <td>M</td>\n",
       "      <td>24.0</td>\n",
       "      <td>180.0</td>\n",
       "      <td>80.0</td>\n",
       "      <td>China</td>\n",
       "      <td>CHN</td>\n",
       "      <td>1992 Summer</td>\n",
       "      <td>1992</td>\n",
       "      <td>Summer</td>\n",
       "      <td>Barcelona</td>\n",
       "      <td>Basketball</td>\n",
       "      <td>Basketball Men's Basketball</td>\n",
       "      <td>NaN</td>\n",
       "    </tr>\n",
       "    <tr>\n",
       "      <th>1</th>\n",
       "      <td>2</td>\n",
       "      <td>A Lamusi</td>\n",
       "      <td>M</td>\n",
       "      <td>23.0</td>\n",
       "      <td>170.0</td>\n",
       "      <td>60.0</td>\n",
       "      <td>China</td>\n",
       "      <td>CHN</td>\n",
       "      <td>2012 Summer</td>\n",
       "      <td>2012</td>\n",
       "      <td>Summer</td>\n",
       "      <td>London</td>\n",
       "      <td>Judo</td>\n",
       "      <td>Judo Men's Extra-Lightweight</td>\n",
       "      <td>NaN</td>\n",
       "    </tr>\n",
       "    <tr>\n",
       "      <th>2</th>\n",
       "      <td>3</td>\n",
       "      <td>Gunnar Nielsen Aaby</td>\n",
       "      <td>M</td>\n",
       "      <td>24.0</td>\n",
       "      <td>NaN</td>\n",
       "      <td>NaN</td>\n",
       "      <td>Denmark</td>\n",
       "      <td>DEN</td>\n",
       "      <td>1920 Summer</td>\n",
       "      <td>1920</td>\n",
       "      <td>Summer</td>\n",
       "      <td>Antwerpen</td>\n",
       "      <td>Football</td>\n",
       "      <td>Football Men's Football</td>\n",
       "      <td>NaN</td>\n",
       "    </tr>\n",
       "    <tr>\n",
       "      <th>3</th>\n",
       "      <td>4</td>\n",
       "      <td>Edgar Lindenau Aabye</td>\n",
       "      <td>M</td>\n",
       "      <td>34.0</td>\n",
       "      <td>NaN</td>\n",
       "      <td>NaN</td>\n",
       "      <td>Denmark/Sweden</td>\n",
       "      <td>DEN</td>\n",
       "      <td>1900 Summer</td>\n",
       "      <td>1900</td>\n",
       "      <td>Summer</td>\n",
       "      <td>Paris</td>\n",
       "      <td>Tug-Of-War</td>\n",
       "      <td>Tug-Of-War Men's Tug-Of-War</td>\n",
       "      <td>Gold</td>\n",
       "    </tr>\n",
       "    <tr>\n",
       "      <th>4</th>\n",
       "      <td>5</td>\n",
       "      <td>Christine Jacoba Aaftink</td>\n",
       "      <td>F</td>\n",
       "      <td>21.0</td>\n",
       "      <td>185.0</td>\n",
       "      <td>82.0</td>\n",
       "      <td>Netherlands</td>\n",
       "      <td>NED</td>\n",
       "      <td>1988 Winter</td>\n",
       "      <td>1988</td>\n",
       "      <td>Winter</td>\n",
       "      <td>Calgary</td>\n",
       "      <td>Speed Skating</td>\n",
       "      <td>Speed Skating Women's 500 metres</td>\n",
       "      <td>NaN</td>\n",
       "    </tr>\n",
       "  </tbody>\n",
       "</table>\n",
       "</div>"
      ],
      "text/plain": [
       "   ID              NombreAtleta Sexo  Edad  Altura  Peso          Equipo  \\\n",
       "0   1                 A Dijiang    M  24.0   180.0  80.0           China   \n",
       "1   2                  A Lamusi    M  23.0   170.0  60.0           China   \n",
       "2   3       Gunnar Nielsen Aaby    M  24.0     NaN   NaN         Denmark   \n",
       "3   4      Edgar Lindenau Aabye    M  34.0     NaN   NaN  Denmark/Sweden   \n",
       "4   5  Christine Jacoba Aaftink    F  21.0   185.0  82.0     Netherlands   \n",
       "\n",
       "  Comite JuegosOlimpicos   Año Temporada     Ciudad        Deporte  \\\n",
       "0    CHN     1992 Summer  1992    Summer  Barcelona     Basketball   \n",
       "1    CHN     2012 Summer  2012    Summer     London           Judo   \n",
       "2    DEN     1920 Summer  1920    Summer  Antwerpen       Football   \n",
       "3    DEN     1900 Summer  1900    Summer      Paris     Tug-Of-War   \n",
       "4    NED     1988 Winter  1988    Winter    Calgary  Speed Skating   \n",
       "\n",
       "                        Competencia Medalla  \n",
       "0       Basketball Men's Basketball     NaN  \n",
       "1      Judo Men's Extra-Lightweight     NaN  \n",
       "2           Football Men's Football     NaN  \n",
       "3       Tug-Of-War Men's Tug-Of-War    Gold  \n",
       "4  Speed Skating Women's 500 metres     NaN  "
      ]
     },
     "execution_count": 47,
     "metadata": {},
     "output_type": "execute_result"
    }
   ],
   "source": [
    "data.head()\n",
    "\n",
    "\n"
   ]
  },
  {
   "cell_type": "markdown",
   "metadata": {},
   "source": [
    " ## Explorando datos de juegos olímpicos"
   ]
  },
  {
   "cell_type": "code",
   "execution_count": 48,
   "metadata": {},
   "outputs": [
    {
     "data": {
      "text/html": [
       "<div>\n",
       "<style scoped>\n",
       "    .dataframe tbody tr th:only-of-type {\n",
       "        vertical-align: middle;\n",
       "    }\n",
       "\n",
       "    .dataframe tbody tr th {\n",
       "        vertical-align: top;\n",
       "    }\n",
       "\n",
       "    .dataframe thead th {\n",
       "        text-align: right;\n",
       "    }\n",
       "</style>\n",
       "<table border=\"1\" class=\"dataframe\">\n",
       "  <thead>\n",
       "    <tr style=\"text-align: right;\">\n",
       "      <th></th>\n",
       "      <th>ID</th>\n",
       "      <th>NombreAtleta</th>\n",
       "      <th>Sexo</th>\n",
       "      <th>Edad</th>\n",
       "      <th>Altura</th>\n",
       "      <th>Peso</th>\n",
       "      <th>Equipo</th>\n",
       "      <th>Comite</th>\n",
       "      <th>JuegosOlimpicos</th>\n",
       "      <th>Año</th>\n",
       "      <th>Temporada</th>\n",
       "      <th>Ciudad</th>\n",
       "      <th>Deporte</th>\n",
       "      <th>Competencia</th>\n",
       "      <th>Medalla</th>\n",
       "    </tr>\n",
       "  </thead>\n",
       "  <tbody>\n",
       "    <tr>\n",
       "      <th>count</th>\n",
       "      <td>271116.000000</td>\n",
       "      <td>271116</td>\n",
       "      <td>271116</td>\n",
       "      <td>261642.000000</td>\n",
       "      <td>210945.000000</td>\n",
       "      <td>208241.000000</td>\n",
       "      <td>271116</td>\n",
       "      <td>271116</td>\n",
       "      <td>271116</td>\n",
       "      <td>271116.000000</td>\n",
       "      <td>271116</td>\n",
       "      <td>271116</td>\n",
       "      <td>271116</td>\n",
       "      <td>271116</td>\n",
       "      <td>39783</td>\n",
       "    </tr>\n",
       "    <tr>\n",
       "      <th>unique</th>\n",
       "      <td>NaN</td>\n",
       "      <td>134732</td>\n",
       "      <td>2</td>\n",
       "      <td>NaN</td>\n",
       "      <td>NaN</td>\n",
       "      <td>NaN</td>\n",
       "      <td>1184</td>\n",
       "      <td>230</td>\n",
       "      <td>51</td>\n",
       "      <td>NaN</td>\n",
       "      <td>2</td>\n",
       "      <td>42</td>\n",
       "      <td>66</td>\n",
       "      <td>765</td>\n",
       "      <td>3</td>\n",
       "    </tr>\n",
       "    <tr>\n",
       "      <th>top</th>\n",
       "      <td>NaN</td>\n",
       "      <td>Robert Tait McKenzie</td>\n",
       "      <td>M</td>\n",
       "      <td>NaN</td>\n",
       "      <td>NaN</td>\n",
       "      <td>NaN</td>\n",
       "      <td>United States</td>\n",
       "      <td>USA</td>\n",
       "      <td>2000 Summer</td>\n",
       "      <td>NaN</td>\n",
       "      <td>Summer</td>\n",
       "      <td>London</td>\n",
       "      <td>Athletics</td>\n",
       "      <td>Football Men's Football</td>\n",
       "      <td>Gold</td>\n",
       "    </tr>\n",
       "    <tr>\n",
       "      <th>freq</th>\n",
       "      <td>NaN</td>\n",
       "      <td>58</td>\n",
       "      <td>196594</td>\n",
       "      <td>NaN</td>\n",
       "      <td>NaN</td>\n",
       "      <td>NaN</td>\n",
       "      <td>17847</td>\n",
       "      <td>18853</td>\n",
       "      <td>13821</td>\n",
       "      <td>NaN</td>\n",
       "      <td>222552</td>\n",
       "      <td>22426</td>\n",
       "      <td>38624</td>\n",
       "      <td>5733</td>\n",
       "      <td>13372</td>\n",
       "    </tr>\n",
       "    <tr>\n",
       "      <th>mean</th>\n",
       "      <td>68248.954396</td>\n",
       "      <td>NaN</td>\n",
       "      <td>NaN</td>\n",
       "      <td>25.556898</td>\n",
       "      <td>175.338970</td>\n",
       "      <td>70.702393</td>\n",
       "      <td>NaN</td>\n",
       "      <td>NaN</td>\n",
       "      <td>NaN</td>\n",
       "      <td>1978.378480</td>\n",
       "      <td>NaN</td>\n",
       "      <td>NaN</td>\n",
       "      <td>NaN</td>\n",
       "      <td>NaN</td>\n",
       "      <td>NaN</td>\n",
       "    </tr>\n",
       "    <tr>\n",
       "      <th>std</th>\n",
       "      <td>39022.286345</td>\n",
       "      <td>NaN</td>\n",
       "      <td>NaN</td>\n",
       "      <td>6.393561</td>\n",
       "      <td>10.518462</td>\n",
       "      <td>14.348020</td>\n",
       "      <td>NaN</td>\n",
       "      <td>NaN</td>\n",
       "      <td>NaN</td>\n",
       "      <td>29.877632</td>\n",
       "      <td>NaN</td>\n",
       "      <td>NaN</td>\n",
       "      <td>NaN</td>\n",
       "      <td>NaN</td>\n",
       "      <td>NaN</td>\n",
       "    </tr>\n",
       "    <tr>\n",
       "      <th>min</th>\n",
       "      <td>1.000000</td>\n",
       "      <td>NaN</td>\n",
       "      <td>NaN</td>\n",
       "      <td>10.000000</td>\n",
       "      <td>127.000000</td>\n",
       "      <td>25.000000</td>\n",
       "      <td>NaN</td>\n",
       "      <td>NaN</td>\n",
       "      <td>NaN</td>\n",
       "      <td>1896.000000</td>\n",
       "      <td>NaN</td>\n",
       "      <td>NaN</td>\n",
       "      <td>NaN</td>\n",
       "      <td>NaN</td>\n",
       "      <td>NaN</td>\n",
       "    </tr>\n",
       "    <tr>\n",
       "      <th>25%</th>\n",
       "      <td>34643.000000</td>\n",
       "      <td>NaN</td>\n",
       "      <td>NaN</td>\n",
       "      <td>21.000000</td>\n",
       "      <td>168.000000</td>\n",
       "      <td>60.000000</td>\n",
       "      <td>NaN</td>\n",
       "      <td>NaN</td>\n",
       "      <td>NaN</td>\n",
       "      <td>1960.000000</td>\n",
       "      <td>NaN</td>\n",
       "      <td>NaN</td>\n",
       "      <td>NaN</td>\n",
       "      <td>NaN</td>\n",
       "      <td>NaN</td>\n",
       "    </tr>\n",
       "    <tr>\n",
       "      <th>50%</th>\n",
       "      <td>68205.000000</td>\n",
       "      <td>NaN</td>\n",
       "      <td>NaN</td>\n",
       "      <td>24.000000</td>\n",
       "      <td>175.000000</td>\n",
       "      <td>70.000000</td>\n",
       "      <td>NaN</td>\n",
       "      <td>NaN</td>\n",
       "      <td>NaN</td>\n",
       "      <td>1988.000000</td>\n",
       "      <td>NaN</td>\n",
       "      <td>NaN</td>\n",
       "      <td>NaN</td>\n",
       "      <td>NaN</td>\n",
       "      <td>NaN</td>\n",
       "    </tr>\n",
       "    <tr>\n",
       "      <th>75%</th>\n",
       "      <td>102097.250000</td>\n",
       "      <td>NaN</td>\n",
       "      <td>NaN</td>\n",
       "      <td>28.000000</td>\n",
       "      <td>183.000000</td>\n",
       "      <td>79.000000</td>\n",
       "      <td>NaN</td>\n",
       "      <td>NaN</td>\n",
       "      <td>NaN</td>\n",
       "      <td>2002.000000</td>\n",
       "      <td>NaN</td>\n",
       "      <td>NaN</td>\n",
       "      <td>NaN</td>\n",
       "      <td>NaN</td>\n",
       "      <td>NaN</td>\n",
       "    </tr>\n",
       "    <tr>\n",
       "      <th>max</th>\n",
       "      <td>135571.000000</td>\n",
       "      <td>NaN</td>\n",
       "      <td>NaN</td>\n",
       "      <td>97.000000</td>\n",
       "      <td>226.000000</td>\n",
       "      <td>214.000000</td>\n",
       "      <td>NaN</td>\n",
       "      <td>NaN</td>\n",
       "      <td>NaN</td>\n",
       "      <td>2016.000000</td>\n",
       "      <td>NaN</td>\n",
       "      <td>NaN</td>\n",
       "      <td>NaN</td>\n",
       "      <td>NaN</td>\n",
       "      <td>NaN</td>\n",
       "    </tr>\n",
       "  </tbody>\n",
       "</table>\n",
       "</div>"
      ],
      "text/plain": [
       "                   ID          NombreAtleta    Sexo           Edad  \\\n",
       "count   271116.000000                271116  271116  261642.000000   \n",
       "unique            NaN                134732       2            NaN   \n",
       "top               NaN  Robert Tait McKenzie       M            NaN   \n",
       "freq              NaN                    58  196594            NaN   \n",
       "mean     68248.954396                   NaN     NaN      25.556898   \n",
       "std      39022.286345                   NaN     NaN       6.393561   \n",
       "min          1.000000                   NaN     NaN      10.000000   \n",
       "25%      34643.000000                   NaN     NaN      21.000000   \n",
       "50%      68205.000000                   NaN     NaN      24.000000   \n",
       "75%     102097.250000                   NaN     NaN      28.000000   \n",
       "max     135571.000000                   NaN     NaN      97.000000   \n",
       "\n",
       "               Altura           Peso         Equipo  Comite JuegosOlimpicos  \\\n",
       "count   210945.000000  208241.000000         271116  271116          271116   \n",
       "unique            NaN            NaN           1184     230              51   \n",
       "top               NaN            NaN  United States     USA     2000 Summer   \n",
       "freq              NaN            NaN          17847   18853           13821   \n",
       "mean       175.338970      70.702393            NaN     NaN             NaN   \n",
       "std         10.518462      14.348020            NaN     NaN             NaN   \n",
       "min        127.000000      25.000000            NaN     NaN             NaN   \n",
       "25%        168.000000      60.000000            NaN     NaN             NaN   \n",
       "50%        175.000000      70.000000            NaN     NaN             NaN   \n",
       "75%        183.000000      79.000000            NaN     NaN             NaN   \n",
       "max        226.000000     214.000000            NaN     NaN             NaN   \n",
       "\n",
       "                  Año Temporada  Ciudad    Deporte              Competencia  \\\n",
       "count   271116.000000    271116  271116     271116                   271116   \n",
       "unique            NaN         2      42         66                      765   \n",
       "top               NaN    Summer  London  Athletics  Football Men's Football   \n",
       "freq              NaN    222552   22426      38624                     5733   \n",
       "mean      1978.378480       NaN     NaN        NaN                      NaN   \n",
       "std         29.877632       NaN     NaN        NaN                      NaN   \n",
       "min       1896.000000       NaN     NaN        NaN                      NaN   \n",
       "25%       1960.000000       NaN     NaN        NaN                      NaN   \n",
       "50%       1988.000000       NaN     NaN        NaN                      NaN   \n",
       "75%       2002.000000       NaN     NaN        NaN                      NaN   \n",
       "max       2016.000000       NaN     NaN        NaN                      NaN   \n",
       "\n",
       "       Medalla  \n",
       "count    39783  \n",
       "unique       3  \n",
       "top       Gold  \n",
       "freq     13372  \n",
       "mean       NaN  \n",
       "std        NaN  \n",
       "min        NaN  \n",
       "25%        NaN  \n",
       "50%        NaN  \n",
       "75%        NaN  \n",
       "max        NaN  "
      ]
     },
     "execution_count": 48,
     "metadata": {},
     "output_type": "execute_result"
    }
   ],
   "source": [
    "data.describe(include=\"all\")\n"
   ]
  },
  {
   "cell_type": "markdown",
   "metadata": {},
   "source": [
    " ## Visualizando info del dataframe"
   ]
  },
  {
   "cell_type": "code",
   "execution_count": 49,
   "metadata": {},
   "outputs": [
    {
     "name": "stdout",
     "output_type": "stream",
     "text": [
      "<class 'pandas.core.frame.DataFrame'>\n",
      "RangeIndex: 271116 entries, 0 to 271115\n",
      "Data columns (total 15 columns):\n",
      " #   Column           Non-Null Count   Dtype  \n",
      "---  ------           --------------   -----  \n",
      " 0   ID               271116 non-null  int64  \n",
      " 1   NombreAtleta     271116 non-null  object \n",
      " 2   Sexo             271116 non-null  object \n",
      " 3   Edad             261642 non-null  float64\n",
      " 4   Altura           210945 non-null  float64\n",
      " 5   Peso             208241 non-null  float64\n",
      " 6   Equipo           271116 non-null  object \n",
      " 7   Comite           271116 non-null  object \n",
      " 8   JuegosOlimpicos  271116 non-null  object \n",
      " 9   Año              271116 non-null  int64  \n",
      " 10  Temporada        271116 non-null  object \n",
      " 11  Ciudad           271116 non-null  object \n",
      " 12  Deporte          271116 non-null  object \n",
      " 13  Competencia      271116 non-null  object \n",
      " 14  Medalla          39783 non-null   object \n",
      "dtypes: float64(3), int64(2), object(10)\n",
      "memory usage: 31.0+ MB\n"
     ]
    }
   ],
   "source": [
    "data.info()\n",
    "\n"
   ]
  },
  {
   "cell_type": "markdown",
   "metadata": {},
   "source": [
    " ## Verificando tipos de datos"
   ]
  },
  {
   "cell_type": "code",
   "execution_count": 50,
   "metadata": {},
   "outputs": [
    {
     "data": {
      "text/plain": [
       "ID                   int64\n",
       "NombreAtleta        object\n",
       "Sexo                object\n",
       "Edad               float64\n",
       "Altura             float64\n",
       "Peso               float64\n",
       "Equipo              object\n",
       "Comite              object\n",
       "JuegosOlimpicos     object\n",
       "Año                  int64\n",
       "Temporada           object\n",
       "Ciudad              object\n",
       "Deporte             object\n",
       "Competencia         object\n",
       "Medalla             object\n",
       "dtype: object"
      ]
     },
     "execution_count": 50,
     "metadata": {},
     "output_type": "execute_result"
    }
   ],
   "source": [
    "data.dtypes\n",
    "\n"
   ]
  },
  {
   "cell_type": "markdown",
   "metadata": {},
   "source": [
    " ## Visualizando elementos nulos"
   ]
  },
  {
   "cell_type": "code",
   "execution_count": 51,
   "metadata": {},
   "outputs": [
    {
     "data": {
      "text/plain": [
       "231333"
      ]
     },
     "execution_count": 51,
     "metadata": {},
     "output_type": "execute_result"
    }
   ],
   "source": [
    "data[\"Medalla\"].isnull().sum()\n",
    "\n",
    "\n"
   ]
  },
  {
   "cell_type": "markdown",
   "metadata": {},
   "source": [
    " # Anecdotas de los juegos olímpicos"
   ]
  },
  {
   "cell_type": "markdown",
   "metadata": {},
   "source": [
    " <table align=\"left\" width=\"75%\">\n",
    " <td width=\"20%\" align=\"center\"><img src=\"../imagenes/pregunta01.png\" width=\"100px\" heigth=\"75px\"/></td>\n",
    " <td width=\"75%\" style=\"text-align: justify;\">\n",
    " 1. Dorando Pietri el perdedor más famoso de la historia. El atleta italiano, pastelero de profesión, se desplomó varias veces antes de llegar a la meta. Un juez y el entonces periodista Arthur Conan Doyle le arrastraron hasta la línea de llegada. ¿En qué año sucedió esta anécdota?\n",
    " </td>\n",
    " </table>"
   ]
  },
  {
   "cell_type": "code",
   "execution_count": 52,
   "metadata": {},
   "outputs": [
    {
     "data": {
      "text/html": [
       "<div>\n",
       "<style scoped>\n",
       "    .dataframe tbody tr th:only-of-type {\n",
       "        vertical-align: middle;\n",
       "    }\n",
       "\n",
       "    .dataframe tbody tr th {\n",
       "        vertical-align: top;\n",
       "    }\n",
       "\n",
       "    .dataframe thead th {\n",
       "        text-align: right;\n",
       "    }\n",
       "</style>\n",
       "<table border=\"1\" class=\"dataframe\">\n",
       "  <thead>\n",
       "    <tr style=\"text-align: right;\">\n",
       "      <th></th>\n",
       "      <th>Año</th>\n",
       "      <th>Temporada</th>\n",
       "      <th>Ciudad</th>\n",
       "      <th>Deporte</th>\n",
       "      <th>Competencia</th>\n",
       "    </tr>\n",
       "  </thead>\n",
       "  <tbody>\n",
       "    <tr>\n",
       "      <th>188632</th>\n",
       "      <td>1908</td>\n",
       "      <td>Summer</td>\n",
       "      <td>London</td>\n",
       "      <td>Athletics</td>\n",
       "      <td>Athletics Men's Marathon</td>\n",
       "    </tr>\n",
       "  </tbody>\n",
       "</table>\n",
       "</div>"
      ],
      "text/plain": [
       "         Año Temporada  Ciudad    Deporte               Competencia\n",
       "188632  1908    Summer  London  Athletics  Athletics Men's Marathon"
      ]
     },
     "execution_count": 52,
     "metadata": {},
     "output_type": "execute_result"
    }
   ],
   "source": [
    "atleta = data.loc[:, \"NombreAtleta\"]==\"Dorando Pietri\"\n",
    "competencia = data.loc[:, \"Competencia\"].str.contains(\"Marathon\")\n",
    "anio = data.loc[:, \"Año\"]==1908\n",
    "dorando = data.loc[atleta & competencia & anio]\n",
    "dorando[[\"Año\", \"Temporada\", \"Ciudad\", \"Deporte\", \"Competencia\"]]\n"
   ]
  },
  {
   "cell_type": "markdown",
   "metadata": {},
   "source": [
    " <p style=\"text-align: justify; width: 75%;\">\n",
    " Dorando fue aclamado por su fortaleza al competir y perder multiples veces la conciencia durante la maratón de las olimpiadas de Londres en 1908, pero aunque fue descalificado, igualmente llego al final de la competencia.\n",
    " </p><hr>"
   ]
  },
  {
   "cell_type": "markdown",
   "metadata": {},
   "source": [
    " <table align=\"left\" width=\"75%\">\n",
    " <td width=\"75%\" style=\"text-align: justify;\">\n",
    " 2. Wilma Rudolph junto a su elegancia y belleza, le valió el sobrenombre de Gacela negra es una de esas historias de superación que emociona. De familia humilde y vigésima de veintidós hermanos, pasó varios años sin caminar cuando era pequeña a causa de una poliomielitis. ¿Cuál(es) son sus logros que la llevaron a tener el reconocimiento de superación?\n",
    " </td>\n",
    " <td width=\"20%\" align=\"center\"><img src=\"../imagenes/pregunta02.png\" width=\"100px\" heigth=\"75px\"/></td>\n",
    " </table>"
   ]
  },
  {
   "cell_type": "code",
   "execution_count": 53,
   "metadata": {},
   "outputs": [
    {
     "data": {
      "text/html": [
       "<div>\n",
       "<style scoped>\n",
       "    .dataframe tbody tr th:only-of-type {\n",
       "        vertical-align: middle;\n",
       "    }\n",
       "\n",
       "    .dataframe tbody tr th {\n",
       "        vertical-align: top;\n",
       "    }\n",
       "\n",
       "    .dataframe thead th {\n",
       "        text-align: right;\n",
       "    }\n",
       "</style>\n",
       "<table border=\"1\" class=\"dataframe\">\n",
       "  <thead>\n",
       "    <tr style=\"text-align: right;\">\n",
       "      <th></th>\n",
       "      <th>Edad</th>\n",
       "      <th>Año</th>\n",
       "      <th>Temporada</th>\n",
       "      <th>Ciudad</th>\n",
       "      <th>Deporte</th>\n",
       "      <th>Competencia</th>\n",
       "      <th>Medalla</th>\n",
       "    </tr>\n",
       "  </thead>\n",
       "  <tbody>\n",
       "    <tr>\n",
       "      <th>205798</th>\n",
       "      <td>16.0</td>\n",
       "      <td>1956</td>\n",
       "      <td>Summer</td>\n",
       "      <td>Melbourne</td>\n",
       "      <td>Athletics</td>\n",
       "      <td>Athletics Women's 200 metres</td>\n",
       "      <td>NaN</td>\n",
       "    </tr>\n",
       "    <tr>\n",
       "      <th>205799</th>\n",
       "      <td>16.0</td>\n",
       "      <td>1956</td>\n",
       "      <td>Summer</td>\n",
       "      <td>Melbourne</td>\n",
       "      <td>Athletics</td>\n",
       "      <td>Athletics Women's 4 x 100 metres Relay</td>\n",
       "      <td>Bronze</td>\n",
       "    </tr>\n",
       "    <tr>\n",
       "      <th>205800</th>\n",
       "      <td>20.0</td>\n",
       "      <td>1960</td>\n",
       "      <td>Summer</td>\n",
       "      <td>Roma</td>\n",
       "      <td>Athletics</td>\n",
       "      <td>Athletics Women's 100 metres</td>\n",
       "      <td>Gold</td>\n",
       "    </tr>\n",
       "    <tr>\n",
       "      <th>205801</th>\n",
       "      <td>20.0</td>\n",
       "      <td>1960</td>\n",
       "      <td>Summer</td>\n",
       "      <td>Roma</td>\n",
       "      <td>Athletics</td>\n",
       "      <td>Athletics Women's 200 metres</td>\n",
       "      <td>Gold</td>\n",
       "    </tr>\n",
       "    <tr>\n",
       "      <th>205802</th>\n",
       "      <td>20.0</td>\n",
       "      <td>1960</td>\n",
       "      <td>Summer</td>\n",
       "      <td>Roma</td>\n",
       "      <td>Athletics</td>\n",
       "      <td>Athletics Women's 4 x 100 metres Relay</td>\n",
       "      <td>Gold</td>\n",
       "    </tr>\n",
       "  </tbody>\n",
       "</table>\n",
       "</div>"
      ],
      "text/plain": [
       "        Edad   Año Temporada     Ciudad    Deporte  \\\n",
       "205798  16.0  1956    Summer  Melbourne  Athletics   \n",
       "205799  16.0  1956    Summer  Melbourne  Athletics   \n",
       "205800  20.0  1960    Summer       Roma  Athletics   \n",
       "205801  20.0  1960    Summer       Roma  Athletics   \n",
       "205802  20.0  1960    Summer       Roma  Athletics   \n",
       "\n",
       "                                   Competencia Medalla  \n",
       "205798            Athletics Women's 200 metres     NaN  \n",
       "205799  Athletics Women's 4 x 100 metres Relay  Bronze  \n",
       "205800            Athletics Women's 100 metres    Gold  \n",
       "205801            Athletics Women's 200 metres    Gold  \n",
       "205802  Athletics Women's 4 x 100 metres Relay    Gold  "
      ]
     },
     "execution_count": 53,
     "metadata": {},
     "output_type": "execute_result"
    }
   ],
   "source": [
    "nombre = data.loc[:, \"NombreAtleta\"].str.contains(\"Wilma\")\n",
    "apellido = data.loc[:, \"NombreAtleta\"].str.contains(\"Rudolph\")\n",
    "wilma = data.loc[nombre & apellido]\n",
    "wilma[[\"Edad\", \"Año\", \"Temporada\", \"Ciudad\", \"Deporte\", \"Competencia\", \"Medalla\"]]\n"
   ]
  },
  {
   "cell_type": "markdown",
   "metadata": {},
   "source": [
    " <p style=\"text-align: justify; width: 75%;\">\n",
    " Wilma Rudolph, participo por primera vez en las olimpiadas de Melbourne en el año 1956 con tan solo 16 años, participó en dos disciplinas 200 metros planos y en el relevo 4x100 metros, en esta última competición obtubo su primera medalla de bronce.\n",
    " En los juegos olímpicos de Roma el año 1960, obtubo tres medallas de oro con tan solo 20 años de edad, las competiciones que gano fueron 100 y 200 metros planos y en el relevo de 4x100 metros.\n",
    " </p><hr>"
   ]
  },
  {
   "cell_type": "markdown",
   "metadata": {},
   "source": [
    " <table align=\"left\" width=\"75%\">\n",
    " <td width=\"20%\" align=\"center\"><img src=\"../imagenes/pregunta03.png\" width=\"100px\" heigth=\"75px\"/></td>\n",
    " <td width=\"75%\" style=\"text-align: justify;\">\n",
    " 3. La esgrimista Helene Mayer fue la única judía que desfiló bajo la bandera Nazi y estrechó la mano de Hitler al recibir su medalla de plata. ¿En qué JJOO sucedió?\n",
    " </td>\n",
    " </table>"
   ]
  },
  {
   "cell_type": "code",
   "execution_count": 54,
   "metadata": {},
   "outputs": [
    {
     "data": {
      "text/html": [
       "<div>\n",
       "<style scoped>\n",
       "    .dataframe tbody tr th:only-of-type {\n",
       "        vertical-align: middle;\n",
       "    }\n",
       "\n",
       "    .dataframe tbody tr th {\n",
       "        vertical-align: top;\n",
       "    }\n",
       "\n",
       "    .dataframe thead th {\n",
       "        text-align: right;\n",
       "    }\n",
       "</style>\n",
       "<table border=\"1\" class=\"dataframe\">\n",
       "  <thead>\n",
       "    <tr style=\"text-align: right;\">\n",
       "      <th></th>\n",
       "      <th>Ciudad</th>\n",
       "      <th>Año</th>\n",
       "      <th>Deporte</th>\n",
       "      <th>Competencia</th>\n",
       "      <th>Medalla</th>\n",
       "    </tr>\n",
       "  </thead>\n",
       "  <tbody>\n",
       "    <tr>\n",
       "      <th>153392</th>\n",
       "      <td>Berlin</td>\n",
       "      <td>1936</td>\n",
       "      <td>Fencing</td>\n",
       "      <td>Fencing Women's Foil, Individual</td>\n",
       "      <td>Silver</td>\n",
       "    </tr>\n",
       "  </tbody>\n",
       "</table>\n",
       "</div>"
      ],
      "text/plain": [
       "        Ciudad   Año  Deporte                       Competencia Medalla\n",
       "153392  Berlin  1936  Fencing  Fencing Women's Foil, Individual  Silver"
      ]
     },
     "execution_count": 54,
     "metadata": {},
     "output_type": "execute_result"
    }
   ],
   "source": [
    "nombre = data.loc[:, \"NombreAtleta\"].str.contains(\"Helene\")\n",
    "apellido = data.loc[:, \"NombreAtleta\"].str.contains(\"Mayer\")\n",
    "anio = data.loc[:, \"Año\"]==1936\n",
    "helene = data.loc[nombre & apellido & anio]\n",
    "helene[[\"Ciudad\", \"Año\", \"Deporte\", \"Competencia\", \"Medalla\"]]\n"
   ]
  },
  {
   "cell_type": "markdown",
   "metadata": {},
   "source": [
    " <p style=\"text-align: justify; width: 75%;\">\n",
    " Helene Mayer en el año 1936, en los juegos realizados en Berlin Alemania, gano la medalla de plata en esgrima femenina representando a Alemania, esto permitio que los juegos se realizaran y finalmente evito el boicot internacional, ya que Hittler no quería que ningún deportista Judío representara a la Alemania Nazi de ese entonces.\n",
    " </p><hr>"
   ]
  },
  {
   "cell_type": "markdown",
   "metadata": {},
   "source": [
    " <table align=\"left\" width=\"75%\">\n",
    " <td width=\"75%\" style=\"text-align: justify;\">\n",
    " 4. Bob Beamon el monstruo que saltó ocho metros noventa centímetros, en el salto del siglo ¿En qué temporada de los JJOO lo realizo?\n",
    " </td>\n",
    " <td width=\"20%\" align=\"center\"><img src=\"../imagenes/pregunta04.png\" width=\"100px\" heigth=\"75px\"/></td>\n",
    " </table>"
   ]
  },
  {
   "cell_type": "code",
   "execution_count": 55,
   "metadata": {},
   "outputs": [
    {
     "data": {
      "text/html": [
       "<div>\n",
       "<style scoped>\n",
       "    .dataframe tbody tr th:only-of-type {\n",
       "        vertical-align: middle;\n",
       "    }\n",
       "\n",
       "    .dataframe tbody tr th {\n",
       "        vertical-align: top;\n",
       "    }\n",
       "\n",
       "    .dataframe thead th {\n",
       "        text-align: right;\n",
       "    }\n",
       "</style>\n",
       "<table border=\"1\" class=\"dataframe\">\n",
       "  <thead>\n",
       "    <tr style=\"text-align: right;\">\n",
       "      <th></th>\n",
       "      <th>Ciudad</th>\n",
       "      <th>Año</th>\n",
       "      <th>JuegosOlimpicos</th>\n",
       "      <th>Deporte</th>\n",
       "      <th>Competencia</th>\n",
       "      <th>Medalla</th>\n",
       "    </tr>\n",
       "  </thead>\n",
       "  <tbody>\n",
       "    <tr>\n",
       "      <th>16830</th>\n",
       "      <td>Mexico City</td>\n",
       "      <td>1968</td>\n",
       "      <td>1968 Summer</td>\n",
       "      <td>Athletics</td>\n",
       "      <td>Athletics Men's Long Jump</td>\n",
       "      <td>Gold</td>\n",
       "    </tr>\n",
       "  </tbody>\n",
       "</table>\n",
       "</div>"
      ],
      "text/plain": [
       "            Ciudad   Año JuegosOlimpicos    Deporte  \\\n",
       "16830  Mexico City  1968     1968 Summer  Athletics   \n",
       "\n",
       "                     Competencia Medalla  \n",
       "16830  Athletics Men's Long Jump    Gold  "
      ]
     },
     "execution_count": 55,
     "metadata": {},
     "output_type": "execute_result"
    }
   ],
   "source": [
    "nombre = data.loc[:, \"NombreAtleta\"].str.contains(\"Bob\")\n",
    "apellido = data.loc[:, \"NombreAtleta\"].str.contains(\"Beamon\")\n",
    "anio = data.loc[:, \"Año\"]==1968\n",
    "bob = data.loc[nombre & apellido & anio]\n",
    "bob[[\"Ciudad\", \"Año\", \"JuegosOlimpicos\",  \"Deporte\", \"Competencia\", \"Medalla\"]]\n"
   ]
  },
  {
   "cell_type": "markdown",
   "metadata": {},
   "source": [
    " <p style=\"text-align: justify; width: 75%;\">\n",
    " Robert Bob Beamon obtuvo el record de salto de longitud  alcanzando la distancia de 8 metros y 90 centimetros en la ciudad de Mejico en el año 1968, en los juegos olímpicos de verano, dicho récord perduró durante 22 años, 10 meses y 22 días, hasta ser superado en la final del Mundial de Tokio 1991 por Mike Powell (8,95 metros).\n",
    " </p><hr>"
   ]
  },
  {
   "cell_type": "markdown",
   "metadata": {},
   "source": [
    " <table align=\"left\" width=\"75%\">\n",
    " <td width=\"20%\" align=\"center\"><img src=\"../imagenes/pregunta05.png\" width=\"100px\" heigth=\"75px\"/></td>\n",
    " <td width=\"75%\" style=\"text-align: justify;\">\n",
    " 5. Jim Thorpe indio piel roja, ganador olímpico, vio truncada su carrera cuando le retiraron las medallas y no fue hasta 70 años después cuando Samaranch reconoció el error y devolvió las insignias a sus hijos. ¿Dónde logro las medallas y en que disciplina?\n",
    " </td>\n",
    " </table>"
   ]
  },
  {
   "cell_type": "code",
   "execution_count": 56,
   "metadata": {},
   "outputs": [
    {
     "data": {
      "text/html": [
       "<div>\n",
       "<style scoped>\n",
       "    .dataframe tbody tr th:only-of-type {\n",
       "        vertical-align: middle;\n",
       "    }\n",
       "\n",
       "    .dataframe tbody tr th {\n",
       "        vertical-align: top;\n",
       "    }\n",
       "\n",
       "    .dataframe thead th {\n",
       "        text-align: right;\n",
       "    }\n",
       "</style>\n",
       "<table border=\"1\" class=\"dataframe\">\n",
       "  <thead>\n",
       "    <tr style=\"text-align: right;\">\n",
       "      <th></th>\n",
       "      <th>JuegosOlimpicos</th>\n",
       "      <th>Ciudad</th>\n",
       "      <th>Deporte</th>\n",
       "      <th>Competencia</th>\n",
       "      <th>Medalla</th>\n",
       "    </tr>\n",
       "  </thead>\n",
       "  <tbody>\n",
       "    <tr>\n",
       "      <th>239627</th>\n",
       "      <td>1912 Summer</td>\n",
       "      <td>Stockholm</td>\n",
       "      <td>Athletics</td>\n",
       "      <td>Athletics Men's Pentathlon</td>\n",
       "      <td>Gold</td>\n",
       "    </tr>\n",
       "    <tr>\n",
       "      <th>239628</th>\n",
       "      <td>1912 Summer</td>\n",
       "      <td>Stockholm</td>\n",
       "      <td>Athletics</td>\n",
       "      <td>Athletics Men's Decathlon</td>\n",
       "      <td>Gold</td>\n",
       "    </tr>\n",
       "  </tbody>\n",
       "</table>\n",
       "</div>"
      ],
      "text/plain": [
       "       JuegosOlimpicos     Ciudad    Deporte                 Competencia  \\\n",
       "239627     1912 Summer  Stockholm  Athletics  Athletics Men's Pentathlon   \n",
       "239628     1912 Summer  Stockholm  Athletics   Athletics Men's Decathlon   \n",
       "\n",
       "       Medalla  \n",
       "239627    Gold  \n",
       "239628    Gold  "
      ]
     },
     "execution_count": 56,
     "metadata": {},
     "output_type": "execute_result"
    }
   ],
   "source": [
    "nombre = data.loc[:, \"NombreAtleta\"].str.contains(\"Jim\")\n",
    "apellido = data.loc[:, \"NombreAtleta\"].str.contains(\"Thorpe\")\n",
    "medallas = data.loc[:, \"Medalla\"]==\"Gold\"\n",
    "jim = data.loc[nombre & apellido & medallas]\n",
    "jim[[\"JuegosOlimpicos\", \"Ciudad\", \"Deporte\", \"Competencia\", \"Medalla\"]]\n"
   ]
  },
  {
   "cell_type": "markdown",
   "metadata": {},
   "source": [
    " <p style=\"text-align: justify; width: 75%;\">\n",
    "  Jim Thorpe gano las medallas de oro en el Pentatlon y Decatlon en las olimpiadas de verano en 1912, realizadas en Estocolmo, estas fueron retiradas ya que Jim habia jugado béisbol de manera profesional antes de presentarse a las olimpiadas.\n",
    " </p><hr>"
   ]
  },
  {
   "cell_type": "markdown",
   "metadata": {},
   "source": [
    " <table align=\"left\" width=\"75%\">\n",
    " <td width=\"75%\" style=\"text-align: justify;\">\n",
    " 6. ¿Puede alguien ganar una maratón corriendo descalzo y tres semanas después de ser operado de apendicitis? El etíope Abebe Bikila lo logró más tarde quedó parapléjico, pero no se rindió y siguió compitiendo con el mismo espíritu de lucha. ¿Sabes en que año logro su hazaña?\n",
    " </td>\n",
    " <td width=\"20%\" align=\"center\"><img src=\"../imagenes/pregunta06.png\" width=\"100px\" heigth=\"75px\"/></td>\n",
    " </table>"
   ]
  },
  {
   "cell_type": "code",
   "execution_count": 57,
   "metadata": {},
   "outputs": [
    {
     "data": {
      "text/html": [
       "<div>\n",
       "<style scoped>\n",
       "    .dataframe tbody tr th:only-of-type {\n",
       "        vertical-align: middle;\n",
       "    }\n",
       "\n",
       "    .dataframe tbody tr th {\n",
       "        vertical-align: top;\n",
       "    }\n",
       "\n",
       "    .dataframe thead th {\n",
       "        text-align: right;\n",
       "    }\n",
       "</style>\n",
       "<table border=\"1\" class=\"dataframe\">\n",
       "  <thead>\n",
       "    <tr style=\"text-align: right;\">\n",
       "      <th></th>\n",
       "      <th>JuegosOlimpicos</th>\n",
       "      <th>Ciudad</th>\n",
       "      <th>Deporte</th>\n",
       "      <th>Competencia</th>\n",
       "      <th>Medalla</th>\n",
       "    </tr>\n",
       "  </thead>\n",
       "  <tbody>\n",
       "    <tr>\n",
       "      <th>21706</th>\n",
       "      <td>1960 Summer</td>\n",
       "      <td>Roma</td>\n",
       "      <td>Athletics</td>\n",
       "      <td>Athletics Men's Marathon</td>\n",
       "      <td>Gold</td>\n",
       "    </tr>\n",
       "  </tbody>\n",
       "</table>\n",
       "</div>"
      ],
      "text/plain": [
       "      JuegosOlimpicos Ciudad    Deporte               Competencia Medalla\n",
       "21706     1960 Summer   Roma  Athletics  Athletics Men's Marathon    Gold"
      ]
     },
     "execution_count": 57,
     "metadata": {},
     "output_type": "execute_result"
    }
   ],
   "source": [
    "nombre = data.loc[:, \"NombreAtleta\"].str.contains(\"Abebe\")\n",
    "apellido = data.loc[:, \"NombreAtleta\"].str.contains(\"Bikila\")\n",
    "anio = data.loc[:, \"Año\"]==1960\n",
    "abebe = data.loc[nombre & apellido & anio]\n",
    "abebe[[\"JuegosOlimpicos\", \"Ciudad\", \"Deporte\", \"Competencia\", \"Medalla\"]]\n"
   ]
  },
  {
   "cell_type": "markdown",
   "metadata": {},
   "source": [
    " <p style=\"text-align: justify; width: 75%;\">\n",
    " Lo consiguio en los juegos olímpicos de Roma en 1960, además estableció una nueva marca en la maratón teniendo un tiempo de 2 horas con doce minutos y doce segundos, en 1969 el atleta se vio involucrado en un accidente de autos cerca de Adís Abeba, en Etiopía, lo que le produjo una paraplejia. Bikila nunca pudo reponerse totalmente del accidente, y falleció a los 41 años de edad.\n",
    " </p><hr>"
   ]
  },
  {
   "cell_type": "markdown",
   "metadata": {},
   "source": [
    " <table align=\"left\" width=\"75%\">\n",
    " <td width=\"20%\" align=\"center\"><img src=\"../imagenes/pregunta07.png\" width=\"100px\" heigth=\"75px\"/></td>\n",
    " <td width=\"75%\" style=\"text-align: justify;\">\n",
    " 7. Abandonado al nacer, a los nueve años fumaba y bebía. Vivió con miedos y fobias, condicionado por su elección sexual. Dura realidad la de Louganis que acabó transformando en éxito y superación, al obtener varios oros olímpicos. ¿Sabes en que disciplina logro el podio?\n",
    " </td>\n",
    " </table>"
   ]
  },
  {
   "cell_type": "code",
   "execution_count": 58,
   "metadata": {},
   "outputs": [
    {
     "data": {
      "text/html": [
       "<div>\n",
       "<style scoped>\n",
       "    .dataframe tbody tr th:only-of-type {\n",
       "        vertical-align: middle;\n",
       "    }\n",
       "\n",
       "    .dataframe tbody tr th {\n",
       "        vertical-align: top;\n",
       "    }\n",
       "\n",
       "    .dataframe thead th {\n",
       "        text-align: right;\n",
       "    }\n",
       "</style>\n",
       "<table border=\"1\" class=\"dataframe\">\n",
       "  <thead>\n",
       "    <tr style=\"text-align: right;\">\n",
       "      <th></th>\n",
       "      <th>NombreAtleta</th>\n",
       "      <th>Edad</th>\n",
       "      <th>Deporte</th>\n",
       "      <th>Competencia</th>\n",
       "      <th>JuegosOlimpicos</th>\n",
       "      <th>Ciudad</th>\n",
       "      <th>Medalla</th>\n",
       "    </tr>\n",
       "  </thead>\n",
       "  <tbody>\n",
       "    <tr>\n",
       "      <th>142835</th>\n",
       "      <td>Gregory Efthimios \"Greg\" Louganis</td>\n",
       "      <td>16.0</td>\n",
       "      <td>Diving</td>\n",
       "      <td>Diving Men's Platform</td>\n",
       "      <td>1976 Summer</td>\n",
       "      <td>Montreal</td>\n",
       "      <td>Silver</td>\n",
       "    </tr>\n",
       "    <tr>\n",
       "      <th>142836</th>\n",
       "      <td>Gregory Efthimios \"Greg\" Louganis</td>\n",
       "      <td>24.0</td>\n",
       "      <td>Diving</td>\n",
       "      <td>Diving Men's Springboard</td>\n",
       "      <td>1984 Summer</td>\n",
       "      <td>Los Angeles</td>\n",
       "      <td>Gold</td>\n",
       "    </tr>\n",
       "    <tr>\n",
       "      <th>142837</th>\n",
       "      <td>Gregory Efthimios \"Greg\" Louganis</td>\n",
       "      <td>24.0</td>\n",
       "      <td>Diving</td>\n",
       "      <td>Diving Men's Platform</td>\n",
       "      <td>1984 Summer</td>\n",
       "      <td>Los Angeles</td>\n",
       "      <td>Gold</td>\n",
       "    </tr>\n",
       "    <tr>\n",
       "      <th>142838</th>\n",
       "      <td>Gregory Efthimios \"Greg\" Louganis</td>\n",
       "      <td>28.0</td>\n",
       "      <td>Diving</td>\n",
       "      <td>Diving Men's Springboard</td>\n",
       "      <td>1988 Summer</td>\n",
       "      <td>Seoul</td>\n",
       "      <td>Gold</td>\n",
       "    </tr>\n",
       "    <tr>\n",
       "      <th>142839</th>\n",
       "      <td>Gregory Efthimios \"Greg\" Louganis</td>\n",
       "      <td>28.0</td>\n",
       "      <td>Diving</td>\n",
       "      <td>Diving Men's Platform</td>\n",
       "      <td>1988 Summer</td>\n",
       "      <td>Seoul</td>\n",
       "      <td>Gold</td>\n",
       "    </tr>\n",
       "  </tbody>\n",
       "</table>\n",
       "</div>"
      ],
      "text/plain": [
       "                             NombreAtleta  Edad Deporte  \\\n",
       "142835  Gregory Efthimios \"Greg\" Louganis  16.0  Diving   \n",
       "142836  Gregory Efthimios \"Greg\" Louganis  24.0  Diving   \n",
       "142837  Gregory Efthimios \"Greg\" Louganis  24.0  Diving   \n",
       "142838  Gregory Efthimios \"Greg\" Louganis  28.0  Diving   \n",
       "142839  Gregory Efthimios \"Greg\" Louganis  28.0  Diving   \n",
       "\n",
       "                     Competencia JuegosOlimpicos       Ciudad Medalla  \n",
       "142835     Diving Men's Platform     1976 Summer     Montreal  Silver  \n",
       "142836  Diving Men's Springboard     1984 Summer  Los Angeles    Gold  \n",
       "142837     Diving Men's Platform     1984 Summer  Los Angeles    Gold  \n",
       "142838  Diving Men's Springboard     1988 Summer        Seoul    Gold  \n",
       "142839     Diving Men's Platform     1988 Summer        Seoul    Gold  "
      ]
     },
     "execution_count": 58,
     "metadata": {},
     "output_type": "execute_result"
    }
   ],
   "source": [
    "apellido = data.loc[:, \"NombreAtleta\"].str.contains(\"Louganis\")\n",
    "medallas = data.loc[:, \"Medalla\"].isin([\"Gold\", \"Silver\", \"Bronze\"])\n",
    "greg = data.loc[apellido & medallas]\n",
    "greg[[\"NombreAtleta\", \"Edad\", \"Deporte\", \"Competencia\", \"JuegosOlimpicos\", \"Ciudad\", \"Medalla\"]]\n"
   ]
  },
  {
   "cell_type": "markdown",
   "metadata": {},
   "source": [
    " <p style=\"text-align: justify; width: 75%;\">\n",
    " Greg Louganis, compitio en cuatro olimpiadas, consiguió medalla de plata en los juegos de 1976 en Montreal (salto en plataforma) con tan solo 16 años de edad, luego participó en juegos realizados en Los Angeless 1984 y Seoul 1988 logrando medallas de oro en las especialidades de salto en trampolín y salto en plataformas consecutivamente.\n",
    " </p><hr>"
   ]
  },
  {
   "cell_type": "markdown",
   "metadata": {},
   "source": [
    " # Anecdotas de Chilenos en juegos olímpicos"
   ]
  },
  {
   "cell_type": "markdown",
   "metadata": {},
   "source": [
    " Definiendo variables comunes para estos deportistas."
   ]
  },
  {
   "cell_type": "code",
   "execution_count": 59,
   "metadata": {},
   "outputs": [],
   "source": [
    "equipo = data.loc[:, \"Equipo\"]==\"Chile\"\n",
    "campos =[\"NombreAtleta\", \"JuegosOlimpicos\", \"Ciudad\", \"Deporte\", \"Competencia\"]\n",
    "\n"
   ]
  },
  {
   "cell_type": "markdown",
   "metadata": {},
   "source": [
    " <table align=\"left\" width=\"75%\">\n",
    " <td width=\"75%\" style=\"text-align: justify;\">\n",
    " 8. Martín Vargas pelea con pañal<br>A los 17 años, Martín Vargas asistió a los JJ.OO, pero solo alcanzó a combatir una vez, ya que fue eliminado por el colombiano Calixto Pérez en estrecho veredicto. Su explicación fue contundente: \"Estaba enfermo del estómago por comer fruta mal lavada. Tuve que pelear con pañales, lo que me perjudicó. En aquella ocasión Pérez me calzó un derechazo a la cara que me tiró al suelo. Me levanté prontamente y no hubo cuenta, pero estaba nocaut. Todo el estadio nos aplaudió mucho”.\n",
    " </td>\n",
    " <td width=\"20%\" align=\"center\"><img src=\"../imagenes/pregunta08.png\" width=\"100px\" heigth=\"75px\"/></td>\n",
    " </table>"
   ]
  },
  {
   "cell_type": "code",
   "execution_count": 60,
   "metadata": {},
   "outputs": [
    {
     "data": {
      "text/html": [
       "<div>\n",
       "<style scoped>\n",
       "    .dataframe tbody tr th:only-of-type {\n",
       "        vertical-align: middle;\n",
       "    }\n",
       "\n",
       "    .dataframe tbody tr th {\n",
       "        vertical-align: top;\n",
       "    }\n",
       "\n",
       "    .dataframe thead th {\n",
       "        text-align: right;\n",
       "    }\n",
       "</style>\n",
       "<table border=\"1\" class=\"dataframe\">\n",
       "  <thead>\n",
       "    <tr style=\"text-align: right;\">\n",
       "      <th></th>\n",
       "      <th>NombreAtleta</th>\n",
       "      <th>Competencia</th>\n",
       "      <th>JuegosOlimpicos</th>\n",
       "      <th>Ciudad</th>\n",
       "    </tr>\n",
       "  </thead>\n",
       "  <tbody>\n",
       "    <tr>\n",
       "      <th>250167</th>\n",
       "      <td>Martn Adolfo Vargas Fuentes</td>\n",
       "      <td>Boxing Men's Flyweight</td>\n",
       "      <td>1972 Summer</td>\n",
       "      <td>Munich</td>\n",
       "    </tr>\n",
       "  </tbody>\n",
       "</table>\n",
       "</div>"
      ],
      "text/plain": [
       "                       NombreAtleta             Competencia JuegosOlimpicos  \\\n",
       "250167  Martn Adolfo Vargas Fuentes  Boxing Men's Flyweight     1972 Summer   \n",
       "\n",
       "        Ciudad  \n",
       "250167  Munich  "
      ]
     },
     "execution_count": 60,
     "metadata": {},
     "output_type": "execute_result"
    }
   ],
   "source": [
    "apellido = data.loc[:, \"NombreAtleta\"].str.contains(\"Vargas Fuentes\")\n",
    "dale_martin = data.loc[apellido & equipo]\n",
    "dale_martin[[\"NombreAtleta\", \"Competencia\", \"JuegosOlimpicos\", \"Ciudad\"]]\n"
   ]
  },
  {
   "cell_type": "markdown",
   "metadata": {},
   "source": [
    " <p style=\"text-align: justify; width: 75%;\">\n",
    " Aquella pelea de Martin Vargas ocurrio en los juegos olímpicos de Munich en 1972, en la categoría de peso mosca.\n",
    " </p><hr>"
   ]
  },
  {
   "cell_type": "markdown",
   "metadata": {},
   "source": [
    " <table align=\"left\" width=\"75%\">\n",
    " <td width=\"20%\" align=\"center\"><img src=\"../imagenes/pregunta09.png\" width=\"100px\" heigth=\"75px\"/></td>\n",
    " <td width=\"75%\" style=\"text-align: justify;\">\n",
    " 9. El primer eliminado por indisciplina<br>Francisco Arellano, el \"Mono\", era hermano de David, el mártir colocolino fallecido en 1927, en Valladolid. Un año después de la desgracia, era uno de los pilares del equipo de fútbol que perdió con Portugal 4 a 2 en la primera fase. Arellano no jugó, pues fue devuelto en el mismo barco en el que había llegado. \"Me echaron sin escucharme. No fue mi culpa, lo hice para defender a un compañero. Me devolvieron con poca plata y en Buenos Aires pasé un día sin comer\". La prensa de la época no da detalles del incidente (aparentemente, una pelea a golpes), aunque otro hermano, Alberto, fundador del Círculo de Periodistas Deportivos, lo defendió: \"Volvió para asistir al funeral de nuestra madre\".\n",
    " </td>\n",
    " </table>"
   ]
  },
  {
   "cell_type": "code",
   "execution_count": 61,
   "metadata": {},
   "outputs": [
    {
     "data": {
      "text/html": [
       "<div>\n",
       "<style scoped>\n",
       "    .dataframe tbody tr th:only-of-type {\n",
       "        vertical-align: middle;\n",
       "    }\n",
       "\n",
       "    .dataframe tbody tr th {\n",
       "        vertical-align: top;\n",
       "    }\n",
       "\n",
       "    .dataframe thead th {\n",
       "        text-align: right;\n",
       "    }\n",
       "</style>\n",
       "<table border=\"1\" class=\"dataframe\">\n",
       "  <thead>\n",
       "    <tr style=\"text-align: right;\">\n",
       "      <th></th>\n",
       "      <th>NombreAtleta</th>\n",
       "      <th>Equipo</th>\n",
       "      <th>Deporte</th>\n",
       "      <th>JuegosOlimpicos</th>\n",
       "      <th>Ciudad</th>\n",
       "    </tr>\n",
       "  </thead>\n",
       "  <tbody>\n",
       "    <tr>\n",
       "      <th>4598</th>\n",
       "      <td>scar Armando Alfaro Saavedra</td>\n",
       "      <td>Chile</td>\n",
       "      <td>Football</td>\n",
       "      <td>1928 Summer</td>\n",
       "      <td>Amsterdam</td>\n",
       "    </tr>\n",
       "    <tr>\n",
       "      <th>35252</th>\n",
       "      <td>Alejandro Carbonell Alfaro</td>\n",
       "      <td>Chile</td>\n",
       "      <td>Football</td>\n",
       "      <td>1928 Summer</td>\n",
       "      <td>Amsterdam</td>\n",
       "    </tr>\n",
       "    <tr>\n",
       "      <th>38535</th>\n",
       "      <td>Ernesto Chaparro Esquivel</td>\n",
       "      <td>Chile</td>\n",
       "      <td>Football</td>\n",
       "      <td>1928 Summer</td>\n",
       "      <td>Amsterdam</td>\n",
       "    </tr>\n",
       "    <tr>\n",
       "      <th>44220</th>\n",
       "      <td>Humberto Contreras Canales</td>\n",
       "      <td>Chile</td>\n",
       "      <td>Football</td>\n",
       "      <td>1928 Summer</td>\n",
       "      <td>Amsterdam</td>\n",
       "    </tr>\n",
       "    <tr>\n",
       "      <th>101844</th>\n",
       "      <td>Juan Ibacache Pizzaro</td>\n",
       "      <td>Chile</td>\n",
       "      <td>Football</td>\n",
       "      <td>1928 Summer</td>\n",
       "      <td>Amsterdam</td>\n",
       "    </tr>\n",
       "    <tr>\n",
       "      <th>162897</th>\n",
       "      <td>Vctor Morales Salas</td>\n",
       "      <td>Chile</td>\n",
       "      <td>Football</td>\n",
       "      <td>1928 Summer</td>\n",
       "      <td>Amsterdam</td>\n",
       "    </tr>\n",
       "    <tr>\n",
       "      <th>176360</th>\n",
       "      <td>Jos Miguel Olgun Farias</td>\n",
       "      <td>Chile</td>\n",
       "      <td>Football</td>\n",
       "      <td>1928 Summer</td>\n",
       "      <td>Amsterdam</td>\n",
       "    </tr>\n",
       "    <tr>\n",
       "      <th>207267</th>\n",
       "      <td>Guillermo Saavedra Tapia</td>\n",
       "      <td>Chile</td>\n",
       "      <td>Football</td>\n",
       "      <td>1928 Summer</td>\n",
       "      <td>Amsterdam</td>\n",
       "    </tr>\n",
       "    <tr>\n",
       "      <th>213563</th>\n",
       "      <td>Carlos Oscar Schneeberger Lemp</td>\n",
       "      <td>Chile</td>\n",
       "      <td>Football</td>\n",
       "      <td>1928 Summer</td>\n",
       "      <td>Amsterdam</td>\n",
       "    </tr>\n",
       "    <tr>\n",
       "      <th>231445</th>\n",
       "      <td>Guillermo Subiabre Astorga</td>\n",
       "      <td>Chile</td>\n",
       "      <td>Football</td>\n",
       "      <td>1928 Summer</td>\n",
       "      <td>Amsterdam</td>\n",
       "    </tr>\n",
       "    <tr>\n",
       "      <th>242069</th>\n",
       "      <td>Arturo Torres Carrasco</td>\n",
       "      <td>Chile</td>\n",
       "      <td>Football</td>\n",
       "      <td>1928 Summer</td>\n",
       "      <td>Amsterdam</td>\n",
       "    </tr>\n",
       "  </tbody>\n",
       "</table>\n",
       "</div>"
      ],
      "text/plain": [
       "                          NombreAtleta Equipo   Deporte JuegosOlimpicos  \\\n",
       "4598      scar Armando Alfaro Saavedra  Chile  Football     1928 Summer   \n",
       "35252       Alejandro Carbonell Alfaro  Chile  Football     1928 Summer   \n",
       "38535        Ernesto Chaparro Esquivel  Chile  Football     1928 Summer   \n",
       "44220       Humberto Contreras Canales  Chile  Football     1928 Summer   \n",
       "101844           Juan Ibacache Pizzaro  Chile  Football     1928 Summer   \n",
       "162897             Vctor Morales Salas  Chile  Football     1928 Summer   \n",
       "176360         Jos Miguel Olgun Farias  Chile  Football     1928 Summer   \n",
       "207267        Guillermo Saavedra Tapia  Chile  Football     1928 Summer   \n",
       "213563  Carlos Oscar Schneeberger Lemp  Chile  Football     1928 Summer   \n",
       "231445      Guillermo Subiabre Astorga  Chile  Football     1928 Summer   \n",
       "242069          Arturo Torres Carrasco  Chile  Football     1928 Summer   \n",
       "\n",
       "           Ciudad  \n",
       "4598    Amsterdam  \n",
       "35252   Amsterdam  \n",
       "38535   Amsterdam  \n",
       "44220   Amsterdam  \n",
       "101844  Amsterdam  \n",
       "162897  Amsterdam  \n",
       "176360  Amsterdam  \n",
       "207267  Amsterdam  \n",
       "213563  Amsterdam  \n",
       "231445  Amsterdam  \n",
       "242069  Amsterdam  "
      ]
     },
     "execution_count": 61,
     "metadata": {},
     "output_type": "execute_result"
    }
   ],
   "source": [
    "deporte = data.loc[:, \"Deporte\"]==\"Football\"\n",
    "anio = data.loc[:, \"Año\"]==1928\n",
    "arellano = data.loc[deporte & anio & equipo]\n",
    "arellano[[\"NombreAtleta\", \"Equipo\", \"Deporte\", \"JuegosOlimpicos\", \"Ciudad\"]].head(22)\n"
   ]
  },
  {
   "cell_type": "markdown",
   "metadata": {},
   "source": [
    " <p style=\"text-align: justify; width: 75%;\">\n",
    " Este episodio ocurre en los juegos olímpicos de Amsterdam de 1928, la lista anterior se pueden visualizar los compañeros de Francisco Arellano que si participaron del certamen.\n",
    " </p><hr>"
   ]
  },
  {
   "cell_type": "markdown",
   "metadata": {},
   "source": [
    " <table align=\"left\" width=\"75%\">\n",
    " <td width=\"95%\" style=\"text-align: justify;\">\n",
    " 10. La primera mujer a pan y té<br>Raquel Martínez recién se había titulado como profesora de Educación Física cuando el rector de la Universidad de Chile, Juvenal Hernández, encabezó la campaña para costear su pasaje, donde se convertiría en la primera mujer chilena en participar de los JJ.OO. Lo suyo rozó la tragedia. En el barco, según contó, \"la comida era tan mala que casi todos se enfermaron. Yo opté por consumir solo té y pan durante 10 días. La fiebre me atacó y estuve en cama hasta que llegué a Frankfurt\". Tras la odisea compitió. Fue última en su serie de 100 metros planos.\n",
    " </td>\n",
    " </table>"
   ]
  },
  {
   "cell_type": "code",
   "execution_count": 62,
   "metadata": {},
   "outputs": [
    {
     "data": {
      "text/html": [
       "<div>\n",
       "<style scoped>\n",
       "    .dataframe tbody tr th:only-of-type {\n",
       "        vertical-align: middle;\n",
       "    }\n",
       "\n",
       "    .dataframe tbody tr th {\n",
       "        vertical-align: top;\n",
       "    }\n",
       "\n",
       "    .dataframe thead th {\n",
       "        text-align: right;\n",
       "    }\n",
       "</style>\n",
       "<table border=\"1\" class=\"dataframe\">\n",
       "  <thead>\n",
       "    <tr style=\"text-align: right;\">\n",
       "      <th></th>\n",
       "      <th>NombreAtleta</th>\n",
       "      <th>JuegosOlimpicos</th>\n",
       "      <th>Ciudad</th>\n",
       "      <th>Deporte</th>\n",
       "      <th>Competencia</th>\n",
       "    </tr>\n",
       "  </thead>\n",
       "  <tbody>\n",
       "    <tr>\n",
       "      <th>151097</th>\n",
       "      <td>Raquel Martnez</td>\n",
       "      <td>1936 Summer</td>\n",
       "      <td>Berlin</td>\n",
       "      <td>Athletics</td>\n",
       "      <td>Athletics Women's 100 metres</td>\n",
       "    </tr>\n",
       "  </tbody>\n",
       "</table>\n",
       "</div>"
      ],
      "text/plain": [
       "          NombreAtleta JuegosOlimpicos  Ciudad    Deporte  \\\n",
       "151097  Raquel Martnez     1936 Summer  Berlin  Athletics   \n",
       "\n",
       "                         Competencia  \n",
       "151097  Athletics Women's 100 metres  "
      ]
     },
     "execution_count": 62,
     "metadata": {},
     "output_type": "execute_result"
    }
   ],
   "source": [
    "nombre = data.loc[:, \"NombreAtleta\"].str.contains(\"Raquel\")\n",
    "raquel = data.loc[nombre & equipo]\n",
    "raquel[campos]\n"
   ]
  },
  {
   "cell_type": "markdown",
   "metadata": {},
   "source": [
    " <p style=\"text-align: justify; width: 75%;\">\n",
    " Raquel Martínez vivió esta lamentable situación en los juegos olímpicos de Berlin en el año 1936, compitiendo en los 100 metros planos en la división femenina.\n",
    " </p><hr>"
   ]
  },
  {
   "cell_type": "markdown",
   "metadata": {},
   "source": [
    " <table align=\"left\" width=\"75%\">\n",
    " <td width=\"95%\" style=\"text-align: justify;\">\n",
    " 11. El blanco más rápido en el living<br>Iván Moreno llegó en su mejor momento a los JJ.OO Había adquirido experiencia en Tokio 64 y todo hacía pensar que elevaría sus marcas. El problema es que estuvo en cama dos días antes de su prueba, por una gripe. ¿La razón? Chile fue asignado al edificio 6, en el cuarto piso. Era un departamento que tenía tres dormitorios y un living, que fueron ocupados por orden de llegada. Y los primeros en llegar fueron los equitadores y boxeadores. Luego los tiradores y al final, los atletas, que debieron ocupar el living. \"El lugar se transformó en pasillo y las corrientes de aire terminaron por resfriar a todo el equipo\", confesó Jorge Grosser, otro atleta que tuvo fiebre. Moreno, en todo caso, igual respondió llegando a semifinales en 100 y 200 metros planos.\n",
    " </td>\n",
    " </table>"
   ]
  },
  {
   "cell_type": "code",
   "execution_count": 63,
   "metadata": {},
   "outputs": [
    {
     "data": {
      "text/html": [
       "<div>\n",
       "<style scoped>\n",
       "    .dataframe tbody tr th:only-of-type {\n",
       "        vertical-align: middle;\n",
       "    }\n",
       "\n",
       "    .dataframe tbody tr th {\n",
       "        vertical-align: top;\n",
       "    }\n",
       "\n",
       "    .dataframe thead th {\n",
       "        text-align: right;\n",
       "    }\n",
       "</style>\n",
       "<table border=\"1\" class=\"dataframe\">\n",
       "  <thead>\n",
       "    <tr style=\"text-align: right;\">\n",
       "      <th></th>\n",
       "      <th>NombreAtleta</th>\n",
       "      <th>JuegosOlimpicos</th>\n",
       "      <th>Ciudad</th>\n",
       "      <th>Deporte</th>\n",
       "      <th>Competencia</th>\n",
       "    </tr>\n",
       "  </thead>\n",
       "  <tbody>\n",
       "    <tr>\n",
       "      <th>163255</th>\n",
       "      <td>Ivn Moreno Lpez</td>\n",
       "      <td>1968 Summer</td>\n",
       "      <td>Mexico City</td>\n",
       "      <td>Athletics</td>\n",
       "      <td>Athletics Men's 100 metres</td>\n",
       "    </tr>\n",
       "    <tr>\n",
       "      <th>163256</th>\n",
       "      <td>Ivn Moreno Lpez</td>\n",
       "      <td>1968 Summer</td>\n",
       "      <td>Mexico City</td>\n",
       "      <td>Athletics</td>\n",
       "      <td>Athletics Men's 200 metres</td>\n",
       "    </tr>\n",
       "  </tbody>\n",
       "</table>\n",
       "</div>"
      ],
      "text/plain": [
       "           NombreAtleta JuegosOlimpicos       Ciudad    Deporte  \\\n",
       "163255  Ivn Moreno Lpez     1968 Summer  Mexico City  Athletics   \n",
       "163256  Ivn Moreno Lpez     1968 Summer  Mexico City  Athletics   \n",
       "\n",
       "                       Competencia  \n",
       "163255  Athletics Men's 100 metres  \n",
       "163256  Athletics Men's 200 metres  "
      ]
     },
     "execution_count": 63,
     "metadata": {},
     "output_type": "execute_result"
    }
   ],
   "source": [
    "nombre = data.loc[:, \"NombreAtleta\"].str.contains(\"Iv\")\n",
    "apellido = data.loc[:, \"NombreAtleta\"].str.contains(\"Moreno\")\n",
    "anio = data.loc[:, \"Año\"]!=1964\n",
    "ivan = data.loc[nombre & apellido & equipo & anio]\n",
    "ivan[campos]\n"
   ]
  },
  {
   "cell_type": "markdown",
   "metadata": {},
   "source": [
    " <p style=\"text-align: justify; width: 75%;\">\n",
    " Esta anecdota ocurrió en los juegos olímpicos del año 1968 en Ciudad de Méjico.\n",
    " </p><hr>"
   ]
  },
  {
   "cell_type": "markdown",
   "metadata": {},
   "source": [
    " <table align=\"left\" width=\"75%\">\n",
    " <td width=\"95%\" style=\"text-align: justify;\">\n",
    " 12. El primer chileno, ¿a los 14?<br>Nunca se ha sabido con certeza, pero los griegos tienen su registro propio y dicen que acudió un chileno de nombre Luis Subercaseaux Errázuriz, quien se entusiasmó, se inscribió, le prestaron indumentaria e ingresó a la historia. Habría corrido los 100 y 400 metros, aunque no hay registro de ubicación ni marcas. En la inscripción quedó como representante chileno gracias al pasaporte diplomático. Al cumplirse el centenario de su gesta, Ramón Subercaseaux, su hijo, agregó datos a la historia en \"El Mercurio\", señalando que mandó confeccionar una bandera chilena para lucirla en el evento. Si así hubiese ocurrido, Subercaseaux habría participado con 14 años, ya que nació en 1882.\n",
    " </td>\n",
    " </table>"
   ]
  },
  {
   "cell_type": "code",
   "execution_count": 64,
   "metadata": {},
   "outputs": [
    {
     "data": {
      "text/html": [
       "<div>\n",
       "<style scoped>\n",
       "    .dataframe tbody tr th:only-of-type {\n",
       "        vertical-align: middle;\n",
       "    }\n",
       "\n",
       "    .dataframe tbody tr th {\n",
       "        vertical-align: top;\n",
       "    }\n",
       "\n",
       "    .dataframe thead th {\n",
       "        text-align: right;\n",
       "    }\n",
       "</style>\n",
       "<table border=\"1\" class=\"dataframe\">\n",
       "  <thead>\n",
       "    <tr style=\"text-align: right;\">\n",
       "      <th></th>\n",
       "      <th>NombreAtleta</th>\n",
       "      <th>JuegosOlimpicos</th>\n",
       "      <th>Ciudad</th>\n",
       "      <th>Deporte</th>\n",
       "      <th>Competencia</th>\n",
       "    </tr>\n",
       "  </thead>\n",
       "  <tbody>\n",
       "  </tbody>\n",
       "</table>\n",
       "</div>"
      ],
      "text/plain": [
       "Empty DataFrame\n",
       "Columns: [NombreAtleta, JuegosOlimpicos, Ciudad, Deporte, Competencia]\n",
       "Index: []"
      ]
     },
     "execution_count": 64,
     "metadata": {},
     "output_type": "execute_result"
    }
   ],
   "source": [
    "apellido = data.loc[:, \"NombreAtleta\"].str.contains(\"Subercaseaux\")\n",
    "anio = data.loc[:, \"Año\"]==1896\n",
    "luis = data.loc[apellido & anio]\n",
    "luis[campos]\n"
   ]
  },
  {
   "cell_type": "markdown",
   "metadata": {},
   "source": [
    " <p style=\"text-align: justify; width: 75%;\">\n",
    " No es posible encontrar datos asociados a Luis Subercaseaux, se ha buscado la información por el apellido \"Subercaseaux\" y el año \"1896\" y los filtros no arrojan resultados.\n",
    " </p><hr>"
   ]
  },
  {
   "cell_type": "markdown",
   "metadata": {},
   "source": [
    " <table align=\"left\" width=\"75%\">\n",
    " <td width=\"95%\" style=\"text-align: justify;\">\n",
    " 13. La crisis nerviosa de la hermana de Mund<br>Gunther Mund fue pionero en los saltos ornamentales en Chile. Participó en Londres con apenas 14 años, y en Melbourne ya tenía la experiencia y talento suficientes para estar en la final de la plataforma de tres metros, donde logra un meritorio séptimo lugar. A esos juegos viaja acompañado de su hermana Lilo, quien debía hospedarse junto a Marlene Ahrens en la Villa Olímpica, pero no pudo competir debido a que al ser separada de su hermano, \"la atrapó el temor de la absoluta soledad que anulaba su personalidad y sufrió una crisis nerviosa\", explicó su madre, Margarita.\n",
    " </td>\n",
    " </table>"
   ]
  },
  {
   "cell_type": "code",
   "execution_count": 65,
   "metadata": {},
   "outputs": [
    {
     "data": {
      "text/html": [
       "<div>\n",
       "<style scoped>\n",
       "    .dataframe tbody tr th:only-of-type {\n",
       "        vertical-align: middle;\n",
       "    }\n",
       "\n",
       "    .dataframe tbody tr th {\n",
       "        vertical-align: top;\n",
       "    }\n",
       "\n",
       "    .dataframe thead th {\n",
       "        text-align: right;\n",
       "    }\n",
       "</style>\n",
       "<table border=\"1\" class=\"dataframe\">\n",
       "  <thead>\n",
       "    <tr style=\"text-align: right;\">\n",
       "      <th></th>\n",
       "      <th>NombreAtleta</th>\n",
       "      <th>JuegosOlimpicos</th>\n",
       "      <th>Ciudad</th>\n",
       "      <th>Deporte</th>\n",
       "      <th>Competencia</th>\n",
       "    </tr>\n",
       "  </thead>\n",
       "  <tbody>\n",
       "    <tr>\n",
       "      <th>165771</th>\n",
       "      <td>Lilo Mund Borgs</td>\n",
       "      <td>1956 Summer</td>\n",
       "      <td>Melbourne</td>\n",
       "      <td>Diving</td>\n",
       "      <td>Diving Women's Springboard</td>\n",
       "    </tr>\n",
       "  </tbody>\n",
       "</table>\n",
       "</div>"
      ],
      "text/plain": [
       "           NombreAtleta JuegosOlimpicos     Ciudad Deporte  \\\n",
       "165771  Lilo Mund Borgs     1956 Summer  Melbourne  Diving   \n",
       "\n",
       "                       Competencia  \n",
       "165771  Diving Women's Springboard  "
      ]
     },
     "execution_count": 65,
     "metadata": {},
     "output_type": "execute_result"
    }
   ],
   "source": [
    "nombre = data.loc[:, \"NombreAtleta\"].str.contains(\"Lilo\")\n",
    "apellido = data.loc[:, \"NombreAtleta\"].str.contains(\"Mund\")\n",
    "lilo = data.loc[nombre & apellido & equipo]\n",
    "lilo[campos]\n"
   ]
  },
  {
   "cell_type": "markdown",
   "metadata": {},
   "source": [
    " <p style=\"text-align: justify; width: 75%;\">\n",
    " Lilo sufrio aquel incidente en los juegos olímpicos del año 1956 en Melbourne, estaba inscrita en la disciplina de salto de plataforma.\n",
    " </p><hr>"
   ]
  },
  {
   "cell_type": "markdown",
   "metadata": {},
   "source": [
    " <table align=\"left\" width=\"75%\">\n",
    " <td width=\"95%\" style=\"text-align: justify;\">\n",
    " 14. ¿Cuál es el porcentaje de mujeres participantes en los Juegos Olímpicos desde 1896 a 2016?\n",
    " </td>\n",
    " </table>"
   ]
  },
  {
   "cell_type": "code",
   "execution_count": 66,
   "metadata": {},
   "outputs": [
    {
     "name": "stdout",
     "output_type": "stream",
     "text": [
      "Total de participantes en juegos olímpicos: 271116\n",
      "Total participantes hombres: 196594 (72.51%)\n",
      "Total participantes mujeres: 74522 (27.49%)\n"
     ]
    }
   ],
   "source": [
    "filtro_femenino = data.loc[:, \"Sexo\"]==\"F\"\n",
    "filtro_masculino = data.loc[:, \"Sexo\"]==\"M\"\n",
    "mujeres_df = data.loc[filtro_femenino] \n",
    "hombres_df = data.loc[filtro_masculino] \n",
    "porcentaje_mujeres = round(((len(mujeres_df)/len(data))*100),2)\n",
    "porcentaje_hombres = round(((len(hombres_df)/len(data))*100),2)\n",
    "print(\"Total de participantes en juegos olímpicos: {}\".format(len(data)))\n",
    "print(\"Total participantes hombres: {} ({}%)\".format(len(hombres_df), porcentaje_hombres))\n",
    "print(\"Total participantes mujeres: {} ({}%)\".format(len(mujeres_df), porcentaje_mujeres))\n"
   ]
  },
  {
   "cell_type": "code",
   "execution_count": 67,
   "metadata": {},
   "outputs": [
    {
     "data": {
      "image/png": "[encoded data removed]",
      "text/plain": [
       "<Figure size 432x288 with 1 Axes>"
      ]
     },
     "metadata": {},
     "output_type": "display_data"
    }
   ],
   "source": [
    "%matplotlib inline \n",
    "data.Sexo.groupby(data.Sexo).count().plot(kind=\"pie\", legend=\"Reverse\")\n",
    "plt.title(\"Relación de participantes femeninas en juegos olímpicos\")\n",
    "plt.legend([\"F - Femenino\", \"M - Masculino\"])\n",
    "plt.ylabel(\"\")\n",
    "plt.show()\n"
   ]
  },
  {
   "cell_type": "markdown",
   "metadata": {},
   "source": [
    " <p style=\"text-align: justify; width: 75%;\">\n",
    " De un total de 271116 participantes en los juegos olímpicos, desde los años 1986 hasta el 2016 han participado 74522 mujeres, esto representa un 27.49% de la muestra.<br>\n",
    " En la gráfica anterior se puede visualizar la relación entre participantes mujeres y participantes hombres, en el, se distingue la proporción entre ambos sexos.\n",
    " </p><hr>"
   ]
  },
  {
   "cell_type": "markdown",
   "metadata": {},
   "source": [
    " <table align=\"left\" width=\"75%\">\n",
    " <td width=\"95%\" style=\"text-align: justify;\">\n",
    " 15. ¿En qué temporada de los Juegos Olímpicos compitieron por primera vez las atletas femeninas?\n",
    " </td>\n",
    " </table>"
   ]
  },
  {
   "cell_type": "code",
   "execution_count": 68,
   "metadata": {},
   "outputs": [
    {
     "data": {
      "text/html": [
       "<div>\n",
       "<style scoped>\n",
       "    .dataframe tbody tr th:only-of-type {\n",
       "        vertical-align: middle;\n",
       "    }\n",
       "\n",
       "    .dataframe tbody tr th {\n",
       "        vertical-align: top;\n",
       "    }\n",
       "\n",
       "    .dataframe thead th {\n",
       "        text-align: right;\n",
       "    }\n",
       "</style>\n",
       "<table border=\"1\" class=\"dataframe\">\n",
       "  <thead>\n",
       "    <tr style=\"text-align: right;\">\n",
       "      <th></th>\n",
       "      <th>Año</th>\n",
       "      <th>Temporada</th>\n",
       "      <th>Ciudad</th>\n",
       "    </tr>\n",
       "  </thead>\n",
       "  <tbody>\n",
       "    <tr>\n",
       "      <th>71787</th>\n",
       "      <td>1900</td>\n",
       "      <td>Summer</td>\n",
       "      <td>Paris</td>\n",
       "    </tr>\n",
       "  </tbody>\n",
       "</table>\n",
       "</div>"
      ],
      "text/plain": [
       "        Año Temporada Ciudad\n",
       "71787  1900    Summer  Paris"
      ]
     },
     "execution_count": 68,
     "metadata": {},
     "output_type": "execute_result"
    }
   ],
   "source": [
    "temporada = mujeres_df.sort_values(\"Año\", ascending=True)\n",
    "temporada.iloc[0:1, 9:12]\n"
   ]
  },
  {
   "cell_type": "markdown",
   "metadata": {},
   "source": [
    " <p style=\"text-align: justify; width: 75%;\">\n",
    "  Los primeros juegos olímpicos que registra la participación de mujeres corresponde a los realizados en el verano del año 1900 en Francia.\n",
    " </p><hr>"
   ]
  },
  {
   "cell_type": "markdown",
   "metadata": {},
   "source": [
    " <table align=\"left\" width=\"75%\">\n",
    " <td width=\"95%\" style=\"text-align: justify;\">\n",
    " 16. ¿Cuál es el porcentaje que representa la participación total de atletas femeninas en la primera temporada, respecto a los atletas masculinos?\n",
    " </td>\n",
    " </table>"
   ]
  },
  {
   "cell_type": "code",
   "execution_count": 69,
   "metadata": {},
   "outputs": [
    {
     "name": "stdout",
     "output_type": "stream",
     "text": [
      "Total de participantes en juegos olímpicos de 1900: 1936\n",
      "Total participantes hombres: 1903 (98.3%)\n",
      "Total participantes mujeres: 33 (1.7%)\n"
     ]
    }
   ],
   "source": [
    "anio = data.loc[:, \"Año\"]==1900\n",
    "primera_temporada = data.loc[anio]\n",
    "filtro_femenino = primera_temporada.loc[:, \"Sexo\"]==\"F\"\n",
    "filtro_masculino = primera_temporada.loc[:, \"Sexo\"]==\"M\"\n",
    "mujeres_df = primera_temporada.loc[filtro_femenino] \n",
    "hombres_df = primera_temporada.loc[filtro_masculino] \n",
    "porcentaje_mujeres = round(((len(mujeres_df)/len(primera_temporada))*100),2)\n",
    "porcentaje_hombres = round(((len(hombres_df)/len(primera_temporada))*100),2)\n",
    "print(\"Total de participantes en juegos olímpicos de 1900: {}\".format(len(primera_temporada)))\n",
    "print(\"Total participantes hombres: {} ({}%)\".format(len(hombres_df), porcentaje_hombres))\n",
    "print(\"Total participantes mujeres: {} ({}%)\".format(len(mujeres_df), porcentaje_mujeres))\n"
   ]
  },
  {
   "cell_type": "code",
   "execution_count": 70,
   "metadata": {},
   "outputs": [
    {
     "data": {
      "image/png": "[encoded data removed]",
      "text/plain": [
       "<Figure size 432x288 with 1 Axes>"
      ]
     },
     "metadata": {},
     "output_type": "display_data"
    }
   ],
   "source": [
    "%matplotlib inline \n",
    "primera_temporada.Sexo.groupby(primera_temporada.Sexo).count().plot(kind=\"pie\", legend=\"Reverse\")\n",
    "plt.title(\"Relación de participantes según genero en olimpiadas de 1900\")\n",
    "plt.legend([\"F - Femenino\", \"M - Masculino\"])\n",
    "plt.ylabel(\"\")\n",
    "plt.show()\n"
   ]
  },
  {
   "cell_type": "markdown",
   "metadata": {},
   "source": [
    " <p style=\"text-align: justify; width: 75%;\">\n",
    " En la primera temporada de los juegos olímpicos del año 1896 en Atenas, no hubo participación femenina, por lo tanto para revisar la participación de mujeres en los juegos, se revisará los realizados en Francia en 1900, donde si estubieron participando atletas femeninas.<br>\n",
    " En Francia participaron 1936 atletas, de los cuales, 1903 fueron hombres representando un 98.3%, mientras tanto tan solo el 1.7% corresponde a atletas femeninas con una cantidad de 33 participantes.\n",
    " </p><hr>"
   ]
  },
  {
   "cell_type": "markdown",
   "metadata": {},
   "source": [
    " <table align=\"left\" width=\"75%\">\n",
    " <td width=\"95%\" style=\"text-align: justify;\">\n",
    " 17. ¿Cuál es el porcentaje de las atletas femeninas en Río de Janeiro 2016, respecto al total de deportista?\n",
    " </td>\n",
    " </table>"
   ]
  },
  {
   "cell_type": "code",
   "execution_count": 71,
   "metadata": {},
   "outputs": [
    {
     "name": "stdout",
     "output_type": "stream",
     "text": [
      "Total de participantes en juegos olímpicos de 2016: 13688\n",
      "Total participantes hombres: 7465 (54.54%)\n",
      "Total participantes mujeres: 6223 (45.46%)\n"
     ]
    }
   ],
   "source": [
    "anio = data.loc[:, \"Año\"]==2016\n",
    "primera_temporada = data.loc[anio]\n",
    "filtro_femenino = primera_temporada.loc[:, \"Sexo\"]==\"F\"\n",
    "filtro_masculino = primera_temporada.loc[:, \"Sexo\"]==\"M\"\n",
    "mujeres_df = primera_temporada.loc[filtro_femenino] \n",
    "hombres_df = primera_temporada.loc[filtro_masculino] \n",
    "porcentaje_mujeres = round(((len(mujeres_df)/len(primera_temporada))*100),2)\n",
    "porcentaje_hombres = round(((len(hombres_df)/len(primera_temporada))*100),2)\n",
    "print(\"Total de participantes en juegos olímpicos de 2016: {}\".format(len(primera_temporada)))\n",
    "print(\"Total participantes hombres: {} ({}%)\".format(len(hombres_df), porcentaje_hombres))\n",
    "print(\"Total participantes mujeres: {} ({}%)\".format(len(mujeres_df), porcentaje_mujeres))\n"
   ]
  },
  {
   "cell_type": "code",
   "execution_count": 72,
   "metadata": {},
   "outputs": [
    {
     "data": {
      "image/png": "[encoded data removed]",
      "text/plain": [
       "<Figure size 432x288 with 1 Axes>"
      ]
     },
     "metadata": {},
     "output_type": "display_data"
    }
   ],
   "source": [
    "%matplotlib inline \n",
    "primera_temporada.Sexo.groupby(primera_temporada.Sexo).count().plot(kind=\"pie\", legend=\"Reverse\")\n",
    "plt.title(\"Relación de participantes según genero en olimpiadas de Río de Janeiro en 2016\")\n",
    "plt.legend([\"F - Femenino\", \"M - Masculino\"])\n",
    "plt.ylabel(\"\")\n",
    "plt.show()\n"
   ]
  },
  {
   "cell_type": "markdown",
   "metadata": {},
   "source": [
    " <p style=\"text-align: justify; width: 75%;\">\n",
    " En RRío de Janeiro participaron un total de 13688 atletas, la presencia femenina fue de un 45.46% con 6223 atletas, en cambio la participación de los hombres corresponde al 54.54% con 7465 competidores.\n",
    " </p><hr>"
   ]
  },
  {
   "cell_type": "markdown",
   "metadata": {},
   "source": [
    " <table align=\"left\" width=\"75%\">\n",
    " <td width=\"95%\" style=\"text-align: justify;\">\n",
    " 18. ¿Sabes quién es el deportista que más medallas de oro ha ganado en los Juegos Olímpicos hasta el momento? Si quieres saber quién ha ganado más medallas en los Juegos Olímpicos, no dudes en aplicar un análisis que arroje los 10 deportistas con más medallas olímpicas de oro en sus palmareses.\n",
    " </td>\n",
    " </table>"
   ]
  },
  {
   "cell_type": "code",
   "execution_count": 73,
   "metadata": {},
   "outputs": [
    {
     "name": "stdout",
     "output_type": "stream",
     "text": [
      "Rankin de deportistas con mayor cantidad de medallas de oros ganadas.\n"
     ]
    },
    {
     "data": {
      "text/plain": [
       "Michael Fred Phelps, II                            23\n",
       "Raymond Clarence \"Ray\" Ewry                        10\n",
       "Mark Andrew Spitz                                   9\n",
       "Paavo Johannes Nurmi                                9\n",
       "Frederick Carlton \"Carl\" Lewis                      9\n",
       "Larysa Semenivna Latynina (Diriy-)                  9\n",
       "Birgit Fischer-Schmidt                              8\n",
       "Sawao Kato                                          8\n",
       "Usain St. Leo Bolt                                  8\n",
       "Jennifer Elisabeth \"Jenny\" Thompson (-Cumpelik)     8\n",
       "Name: NombreAtleta, dtype: int64"
      ]
     },
     "execution_count": 73,
     "metadata": {},
     "output_type": "execute_result"
    }
   ],
   "source": [
    "filtro_medallas = data.loc[:, \"Medalla\"]==\"Gold\"\n",
    "medallistas = data.loc[filtro_medallas]\n",
    "print(\"Rankin de deportistas con mayor cantidad de medallas de oros ganadas.\")\n",
    "medallistas[\"NombreAtleta\"].value_counts().head(10)\n"
   ]
  },
  {
   "cell_type": "markdown",
   "metadata": {},
   "source": [
    " <p style=\"text-align: justify; width: 75%;\">\n",
    " El top 3  de deportistas con mas medallas de oro ganadas, la lidera Michael Phelps con 23 medallas, lo sigue Raymond Clarence 10 medallas y por último Mark Andrew Spitz con 9 medallas de oro.<br>\n",
    " En el siguiente apartado se visualizarán donde obtubieron sus medallas estos deportistas.\n",
    " </p><hr>"
   ]
  },
  {
   "cell_type": "code",
   "execution_count": 74,
   "metadata": {},
   "outputs": [],
   "source": [
    "medallas = data.loc[:, \"Medalla\"].isin([\"Gold\"])\n",
    "campos =[\"NombreAtleta\", \"Equipo\", \"JuegosOlimpicos\", \"Ciudad\", \"Deporte\", \"Competencia\", \"Medalla\"]\n"
   ]
  },
  {
   "cell_type": "code",
   "execution_count": 75,
   "metadata": {},
   "outputs": [],
   "source": [
    "def mostrar_medallas(nombre_atleta, apellido_atleta):\n",
    "    nombre = data.loc[:, \"NombreAtleta\"].str.contains(nombre_atleta)\n",
    "    apellido = data.loc[:, \"NombreAtleta\"].str.contains(apellido_atleta)\n",
    "    atleta  = data.loc[nombre & apellido & medallas]\n",
    "    return atleta[campos]\n",
    "\n"
   ]
  },
  {
   "cell_type": "markdown",
   "metadata": {},
   "source": [
    " ### Michael Phelps"
   ]
  },
  {
   "cell_type": "code",
   "execution_count": 76,
   "metadata": {},
   "outputs": [
    {
     "data": {
      "text/html": [
       "<div>\n",
       "<style scoped>\n",
       "    .dataframe tbody tr th:only-of-type {\n",
       "        vertical-align: middle;\n",
       "    }\n",
       "\n",
       "    .dataframe tbody tr th {\n",
       "        vertical-align: top;\n",
       "    }\n",
       "\n",
       "    .dataframe thead th {\n",
       "        text-align: right;\n",
       "    }\n",
       "</style>\n",
       "<table border=\"1\" class=\"dataframe\">\n",
       "  <thead>\n",
       "    <tr style=\"text-align: right;\">\n",
       "      <th></th>\n",
       "      <th>NombreAtleta</th>\n",
       "      <th>Equipo</th>\n",
       "      <th>JuegosOlimpicos</th>\n",
       "      <th>Ciudad</th>\n",
       "      <th>Deporte</th>\n",
       "      <th>Competencia</th>\n",
       "      <th>Medalla</th>\n",
       "    </tr>\n",
       "  </thead>\n",
       "  <tbody>\n",
       "    <tr>\n",
       "      <th>187890</th>\n",
       "      <td>Michael Fred Phelps, II</td>\n",
       "      <td>United States</td>\n",
       "      <td>2004 Summer</td>\n",
       "      <td>Athina</td>\n",
       "      <td>Swimming</td>\n",
       "      <td>Swimming Men's 4 x 200 metres Freestyle Relay</td>\n",
       "      <td>Gold</td>\n",
       "    </tr>\n",
       "    <tr>\n",
       "      <th>187891</th>\n",
       "      <td>Michael Fred Phelps, II</td>\n",
       "      <td>United States</td>\n",
       "      <td>2004 Summer</td>\n",
       "      <td>Athina</td>\n",
       "      <td>Swimming</td>\n",
       "      <td>Swimming Men's 100 metres Butterfly</td>\n",
       "      <td>Gold</td>\n",
       "    </tr>\n",
       "    <tr>\n",
       "      <th>187892</th>\n",
       "      <td>Michael Fred Phelps, II</td>\n",
       "      <td>United States</td>\n",
       "      <td>2004 Summer</td>\n",
       "      <td>Athina</td>\n",
       "      <td>Swimming</td>\n",
       "      <td>Swimming Men's 200 metres Butterfly</td>\n",
       "      <td>Gold</td>\n",
       "    </tr>\n",
       "    <tr>\n",
       "      <th>187893</th>\n",
       "      <td>Michael Fred Phelps, II</td>\n",
       "      <td>United States</td>\n",
       "      <td>2004 Summer</td>\n",
       "      <td>Athina</td>\n",
       "      <td>Swimming</td>\n",
       "      <td>Swimming Men's 200 metres Individual Medley</td>\n",
       "      <td>Gold</td>\n",
       "    </tr>\n",
       "    <tr>\n",
       "      <th>187894</th>\n",
       "      <td>Michael Fred Phelps, II</td>\n",
       "      <td>United States</td>\n",
       "      <td>2004 Summer</td>\n",
       "      <td>Athina</td>\n",
       "      <td>Swimming</td>\n",
       "      <td>Swimming Men's 400 metres Individual Medley</td>\n",
       "      <td>Gold</td>\n",
       "    </tr>\n",
       "    <tr>\n",
       "      <th>187895</th>\n",
       "      <td>Michael Fred Phelps, II</td>\n",
       "      <td>United States</td>\n",
       "      <td>2004 Summer</td>\n",
       "      <td>Athina</td>\n",
       "      <td>Swimming</td>\n",
       "      <td>Swimming Men's 4 x 100 metres Medley Relay</td>\n",
       "      <td>Gold</td>\n",
       "    </tr>\n",
       "    <tr>\n",
       "      <th>187896</th>\n",
       "      <td>Michael Fred Phelps, II</td>\n",
       "      <td>United States</td>\n",
       "      <td>2008 Summer</td>\n",
       "      <td>Beijing</td>\n",
       "      <td>Swimming</td>\n",
       "      <td>Swimming Men's 200 metres Freestyle</td>\n",
       "      <td>Gold</td>\n",
       "    </tr>\n",
       "    <tr>\n",
       "      <th>187897</th>\n",
       "      <td>Michael Fred Phelps, II</td>\n",
       "      <td>United States</td>\n",
       "      <td>2008 Summer</td>\n",
       "      <td>Beijing</td>\n",
       "      <td>Swimming</td>\n",
       "      <td>Swimming Men's 4 x 100 metres Freestyle Relay</td>\n",
       "      <td>Gold</td>\n",
       "    </tr>\n",
       "    <tr>\n",
       "      <th>187898</th>\n",
       "      <td>Michael Fred Phelps, II</td>\n",
       "      <td>United States</td>\n",
       "      <td>2008 Summer</td>\n",
       "      <td>Beijing</td>\n",
       "      <td>Swimming</td>\n",
       "      <td>Swimming Men's 4 x 200 metres Freestyle Relay</td>\n",
       "      <td>Gold</td>\n",
       "    </tr>\n",
       "    <tr>\n",
       "      <th>187899</th>\n",
       "      <td>Michael Fred Phelps, II</td>\n",
       "      <td>United States</td>\n",
       "      <td>2008 Summer</td>\n",
       "      <td>Beijing</td>\n",
       "      <td>Swimming</td>\n",
       "      <td>Swimming Men's 100 metres Butterfly</td>\n",
       "      <td>Gold</td>\n",
       "    </tr>\n",
       "    <tr>\n",
       "      <th>187900</th>\n",
       "      <td>Michael Fred Phelps, II</td>\n",
       "      <td>United States</td>\n",
       "      <td>2008 Summer</td>\n",
       "      <td>Beijing</td>\n",
       "      <td>Swimming</td>\n",
       "      <td>Swimming Men's 200 metres Butterfly</td>\n",
       "      <td>Gold</td>\n",
       "    </tr>\n",
       "    <tr>\n",
       "      <th>187901</th>\n",
       "      <td>Michael Fred Phelps, II</td>\n",
       "      <td>United States</td>\n",
       "      <td>2008 Summer</td>\n",
       "      <td>Beijing</td>\n",
       "      <td>Swimming</td>\n",
       "      <td>Swimming Men's 200 metres Individual Medley</td>\n",
       "      <td>Gold</td>\n",
       "    </tr>\n",
       "    <tr>\n",
       "      <th>187902</th>\n",
       "      <td>Michael Fred Phelps, II</td>\n",
       "      <td>United States</td>\n",
       "      <td>2008 Summer</td>\n",
       "      <td>Beijing</td>\n",
       "      <td>Swimming</td>\n",
       "      <td>Swimming Men's 400 metres Individual Medley</td>\n",
       "      <td>Gold</td>\n",
       "    </tr>\n",
       "    <tr>\n",
       "      <th>187903</th>\n",
       "      <td>Michael Fred Phelps, II</td>\n",
       "      <td>United States</td>\n",
       "      <td>2008 Summer</td>\n",
       "      <td>Beijing</td>\n",
       "      <td>Swimming</td>\n",
       "      <td>Swimming Men's 4 x 100 metres Medley Relay</td>\n",
       "      <td>Gold</td>\n",
       "    </tr>\n",
       "    <tr>\n",
       "      <th>187905</th>\n",
       "      <td>Michael Fred Phelps, II</td>\n",
       "      <td>United States</td>\n",
       "      <td>2012 Summer</td>\n",
       "      <td>London</td>\n",
       "      <td>Swimming</td>\n",
       "      <td>Swimming Men's 4 x 200 metres Freestyle Relay</td>\n",
       "      <td>Gold</td>\n",
       "    </tr>\n",
       "    <tr>\n",
       "      <th>187906</th>\n",
       "      <td>Michael Fred Phelps, II</td>\n",
       "      <td>United States</td>\n",
       "      <td>2012 Summer</td>\n",
       "      <td>London</td>\n",
       "      <td>Swimming</td>\n",
       "      <td>Swimming Men's 100 metres Butterfly</td>\n",
       "      <td>Gold</td>\n",
       "    </tr>\n",
       "    <tr>\n",
       "      <th>187908</th>\n",
       "      <td>Michael Fred Phelps, II</td>\n",
       "      <td>United States</td>\n",
       "      <td>2012 Summer</td>\n",
       "      <td>London</td>\n",
       "      <td>Swimming</td>\n",
       "      <td>Swimming Men's 200 metres Individual Medley</td>\n",
       "      <td>Gold</td>\n",
       "    </tr>\n",
       "    <tr>\n",
       "      <th>187910</th>\n",
       "      <td>Michael Fred Phelps, II</td>\n",
       "      <td>United States</td>\n",
       "      <td>2012 Summer</td>\n",
       "      <td>London</td>\n",
       "      <td>Swimming</td>\n",
       "      <td>Swimming Men's 4 x 100 metres Medley Relay</td>\n",
       "      <td>Gold</td>\n",
       "    </tr>\n",
       "    <tr>\n",
       "      <th>187911</th>\n",
       "      <td>Michael Fred Phelps, II</td>\n",
       "      <td>United States</td>\n",
       "      <td>2016 Summer</td>\n",
       "      <td>Rio de Janeiro</td>\n",
       "      <td>Swimming</td>\n",
       "      <td>Swimming Men's 4 x 100 metres Freestyle Relay</td>\n",
       "      <td>Gold</td>\n",
       "    </tr>\n",
       "    <tr>\n",
       "      <th>187912</th>\n",
       "      <td>Michael Fred Phelps, II</td>\n",
       "      <td>United States</td>\n",
       "      <td>2016 Summer</td>\n",
       "      <td>Rio de Janeiro</td>\n",
       "      <td>Swimming</td>\n",
       "      <td>Swimming Men's 4 x 200 metres Freestyle Relay</td>\n",
       "      <td>Gold</td>\n",
       "    </tr>\n",
       "    <tr>\n",
       "      <th>187914</th>\n",
       "      <td>Michael Fred Phelps, II</td>\n",
       "      <td>United States</td>\n",
       "      <td>2016 Summer</td>\n",
       "      <td>Rio de Janeiro</td>\n",
       "      <td>Swimming</td>\n",
       "      <td>Swimming Men's 200 metres Butterfly</td>\n",
       "      <td>Gold</td>\n",
       "    </tr>\n",
       "    <tr>\n",
       "      <th>187915</th>\n",
       "      <td>Michael Fred Phelps, II</td>\n",
       "      <td>United States</td>\n",
       "      <td>2016 Summer</td>\n",
       "      <td>Rio de Janeiro</td>\n",
       "      <td>Swimming</td>\n",
       "      <td>Swimming Men's 200 metres Individual Medley</td>\n",
       "      <td>Gold</td>\n",
       "    </tr>\n",
       "    <tr>\n",
       "      <th>187916</th>\n",
       "      <td>Michael Fred Phelps, II</td>\n",
       "      <td>United States</td>\n",
       "      <td>2016 Summer</td>\n",
       "      <td>Rio de Janeiro</td>\n",
       "      <td>Swimming</td>\n",
       "      <td>Swimming Men's 4 x 100 metres Medley Relay</td>\n",
       "      <td>Gold</td>\n",
       "    </tr>\n",
       "  </tbody>\n",
       "</table>\n",
       "</div>"
      ],
      "text/plain": [
       "                   NombreAtleta         Equipo JuegosOlimpicos  \\\n",
       "187890  Michael Fred Phelps, II  United States     2004 Summer   \n",
       "187891  Michael Fred Phelps, II  United States     2004 Summer   \n",
       "187892  Michael Fred Phelps, II  United States     2004 Summer   \n",
       "187893  Michael Fred Phelps, II  United States     2004 Summer   \n",
       "187894  Michael Fred Phelps, II  United States     2004 Summer   \n",
       "187895  Michael Fred Phelps, II  United States     2004 Summer   \n",
       "187896  Michael Fred Phelps, II  United States     2008 Summer   \n",
       "187897  Michael Fred Phelps, II  United States     2008 Summer   \n",
       "187898  Michael Fred Phelps, II  United States     2008 Summer   \n",
       "187899  Michael Fred Phelps, II  United States     2008 Summer   \n",
       "187900  Michael Fred Phelps, II  United States     2008 Summer   \n",
       "187901  Michael Fred Phelps, II  United States     2008 Summer   \n",
       "187902  Michael Fred Phelps, II  United States     2008 Summer   \n",
       "187903  Michael Fred Phelps, II  United States     2008 Summer   \n",
       "187905  Michael Fred Phelps, II  United States     2012 Summer   \n",
       "187906  Michael Fred Phelps, II  United States     2012 Summer   \n",
       "187908  Michael Fred Phelps, II  United States     2012 Summer   \n",
       "187910  Michael Fred Phelps, II  United States     2012 Summer   \n",
       "187911  Michael Fred Phelps, II  United States     2016 Summer   \n",
       "187912  Michael Fred Phelps, II  United States     2016 Summer   \n",
       "187914  Michael Fred Phelps, II  United States     2016 Summer   \n",
       "187915  Michael Fred Phelps, II  United States     2016 Summer   \n",
       "187916  Michael Fred Phelps, II  United States     2016 Summer   \n",
       "\n",
       "                Ciudad   Deporte  \\\n",
       "187890          Athina  Swimming   \n",
       "187891          Athina  Swimming   \n",
       "187892          Athina  Swimming   \n",
       "187893          Athina  Swimming   \n",
       "187894          Athina  Swimming   \n",
       "187895          Athina  Swimming   \n",
       "187896         Beijing  Swimming   \n",
       "187897         Beijing  Swimming   \n",
       "187898         Beijing  Swimming   \n",
       "187899         Beijing  Swimming   \n",
       "187900         Beijing  Swimming   \n",
       "187901         Beijing  Swimming   \n",
       "187902         Beijing  Swimming   \n",
       "187903         Beijing  Swimming   \n",
       "187905          London  Swimming   \n",
       "187906          London  Swimming   \n",
       "187908          London  Swimming   \n",
       "187910          London  Swimming   \n",
       "187911  Rio de Janeiro  Swimming   \n",
       "187912  Rio de Janeiro  Swimming   \n",
       "187914  Rio de Janeiro  Swimming   \n",
       "187915  Rio de Janeiro  Swimming   \n",
       "187916  Rio de Janeiro  Swimming   \n",
       "\n",
       "                                          Competencia Medalla  \n",
       "187890  Swimming Men's 4 x 200 metres Freestyle Relay    Gold  \n",
       "187891            Swimming Men's 100 metres Butterfly    Gold  \n",
       "187892            Swimming Men's 200 metres Butterfly    Gold  \n",
       "187893    Swimming Men's 200 metres Individual Medley    Gold  \n",
       "187894    Swimming Men's 400 metres Individual Medley    Gold  \n",
       "187895     Swimming Men's 4 x 100 metres Medley Relay    Gold  \n",
       "187896            Swimming Men's 200 metres Freestyle    Gold  \n",
       "187897  Swimming Men's 4 x 100 metres Freestyle Relay    Gold  \n",
       "187898  Swimming Men's 4 x 200 metres Freestyle Relay    Gold  \n",
       "187899            Swimming Men's 100 metres Butterfly    Gold  \n",
       "187900            Swimming Men's 200 metres Butterfly    Gold  \n",
       "187901    Swimming Men's 200 metres Individual Medley    Gold  \n",
       "187902    Swimming Men's 400 metres Individual Medley    Gold  \n",
       "187903     Swimming Men's 4 x 100 metres Medley Relay    Gold  \n",
       "187905  Swimming Men's 4 x 200 metres Freestyle Relay    Gold  \n",
       "187906            Swimming Men's 100 metres Butterfly    Gold  \n",
       "187908    Swimming Men's 200 metres Individual Medley    Gold  \n",
       "187910     Swimming Men's 4 x 100 metres Medley Relay    Gold  \n",
       "187911  Swimming Men's 4 x 100 metres Freestyle Relay    Gold  \n",
       "187912  Swimming Men's 4 x 200 metres Freestyle Relay    Gold  \n",
       "187914            Swimming Men's 200 metres Butterfly    Gold  \n",
       "187915    Swimming Men's 200 metres Individual Medley    Gold  \n",
       "187916     Swimming Men's 4 x 100 metres Medley Relay    Gold  "
      ]
     },
     "execution_count": 76,
     "metadata": {},
     "output_type": "execute_result"
    }
   ],
   "source": [
    "mostrar_medallas(\"Michael\", \"Phelps\").head(25)\n"
   ]
  },
  {
   "cell_type": "markdown",
   "metadata": {},
   "source": [
    " ### Raymond Clarence"
   ]
  },
  {
   "cell_type": "code",
   "execution_count": 77,
   "metadata": {},
   "outputs": [
    {
     "data": {
      "text/html": [
       "<div>\n",
       "<style scoped>\n",
       "    .dataframe tbody tr th:only-of-type {\n",
       "        vertical-align: middle;\n",
       "    }\n",
       "\n",
       "    .dataframe tbody tr th {\n",
       "        vertical-align: top;\n",
       "    }\n",
       "\n",
       "    .dataframe thead th {\n",
       "        text-align: right;\n",
       "    }\n",
       "</style>\n",
       "<table border=\"1\" class=\"dataframe\">\n",
       "  <thead>\n",
       "    <tr style=\"text-align: right;\">\n",
       "      <th></th>\n",
       "      <th>NombreAtleta</th>\n",
       "      <th>Equipo</th>\n",
       "      <th>JuegosOlimpicos</th>\n",
       "      <th>Ciudad</th>\n",
       "      <th>Deporte</th>\n",
       "      <th>Competencia</th>\n",
       "      <th>Medalla</th>\n",
       "    </tr>\n",
       "  </thead>\n",
       "  <tbody>\n",
       "    <tr>\n",
       "      <th>65574</th>\n",
       "      <td>Raymond Clarence \"Ray\" Ewry</td>\n",
       "      <td>United States</td>\n",
       "      <td>1900 Summer</td>\n",
       "      <td>Paris</td>\n",
       "      <td>Athletics</td>\n",
       "      <td>Athletics Men's Standing High Jump</td>\n",
       "      <td>Gold</td>\n",
       "    </tr>\n",
       "    <tr>\n",
       "      <th>65575</th>\n",
       "      <td>Raymond Clarence \"Ray\" Ewry</td>\n",
       "      <td>United States</td>\n",
       "      <td>1900 Summer</td>\n",
       "      <td>Paris</td>\n",
       "      <td>Athletics</td>\n",
       "      <td>Athletics Men's Standing Long Jump</td>\n",
       "      <td>Gold</td>\n",
       "    </tr>\n",
       "    <tr>\n",
       "      <th>65576</th>\n",
       "      <td>Raymond Clarence \"Ray\" Ewry</td>\n",
       "      <td>United States</td>\n",
       "      <td>1900 Summer</td>\n",
       "      <td>Paris</td>\n",
       "      <td>Athletics</td>\n",
       "      <td>Athletics Men's Standing Triple Jump</td>\n",
       "      <td>Gold</td>\n",
       "    </tr>\n",
       "    <tr>\n",
       "      <th>65577</th>\n",
       "      <td>Raymond Clarence \"Ray\" Ewry</td>\n",
       "      <td>United States</td>\n",
       "      <td>1904 Summer</td>\n",
       "      <td>St. Louis</td>\n",
       "      <td>Athletics</td>\n",
       "      <td>Athletics Men's Standing High Jump</td>\n",
       "      <td>Gold</td>\n",
       "    </tr>\n",
       "    <tr>\n",
       "      <th>65578</th>\n",
       "      <td>Raymond Clarence \"Ray\" Ewry</td>\n",
       "      <td>United States</td>\n",
       "      <td>1904 Summer</td>\n",
       "      <td>St. Louis</td>\n",
       "      <td>Athletics</td>\n",
       "      <td>Athletics Men's Standing Long Jump</td>\n",
       "      <td>Gold</td>\n",
       "    </tr>\n",
       "    <tr>\n",
       "      <th>65579</th>\n",
       "      <td>Raymond Clarence \"Ray\" Ewry</td>\n",
       "      <td>United States</td>\n",
       "      <td>1904 Summer</td>\n",
       "      <td>St. Louis</td>\n",
       "      <td>Athletics</td>\n",
       "      <td>Athletics Men's Standing Triple Jump</td>\n",
       "      <td>Gold</td>\n",
       "    </tr>\n",
       "    <tr>\n",
       "      <th>65580</th>\n",
       "      <td>Raymond Clarence \"Ray\" Ewry</td>\n",
       "      <td>United States</td>\n",
       "      <td>1906 Summer</td>\n",
       "      <td>Athina</td>\n",
       "      <td>Athletics</td>\n",
       "      <td>Athletics Men's Standing High Jump</td>\n",
       "      <td>Gold</td>\n",
       "    </tr>\n",
       "    <tr>\n",
       "      <th>65581</th>\n",
       "      <td>Raymond Clarence \"Ray\" Ewry</td>\n",
       "      <td>United States</td>\n",
       "      <td>1906 Summer</td>\n",
       "      <td>Athina</td>\n",
       "      <td>Athletics</td>\n",
       "      <td>Athletics Men's Standing Long Jump</td>\n",
       "      <td>Gold</td>\n",
       "    </tr>\n",
       "    <tr>\n",
       "      <th>65582</th>\n",
       "      <td>Raymond Clarence \"Ray\" Ewry</td>\n",
       "      <td>United States</td>\n",
       "      <td>1908 Summer</td>\n",
       "      <td>London</td>\n",
       "      <td>Athletics</td>\n",
       "      <td>Athletics Men's Standing High Jump</td>\n",
       "      <td>Gold</td>\n",
       "    </tr>\n",
       "    <tr>\n",
       "      <th>65583</th>\n",
       "      <td>Raymond Clarence \"Ray\" Ewry</td>\n",
       "      <td>United States</td>\n",
       "      <td>1908 Summer</td>\n",
       "      <td>London</td>\n",
       "      <td>Athletics</td>\n",
       "      <td>Athletics Men's Standing Long Jump</td>\n",
       "      <td>Gold</td>\n",
       "    </tr>\n",
       "  </tbody>\n",
       "</table>\n",
       "</div>"
      ],
      "text/plain": [
       "                      NombreAtleta         Equipo JuegosOlimpicos     Ciudad  \\\n",
       "65574  Raymond Clarence \"Ray\" Ewry  United States     1900 Summer      Paris   \n",
       "65575  Raymond Clarence \"Ray\" Ewry  United States     1900 Summer      Paris   \n",
       "65576  Raymond Clarence \"Ray\" Ewry  United States     1900 Summer      Paris   \n",
       "65577  Raymond Clarence \"Ray\" Ewry  United States     1904 Summer  St. Louis   \n",
       "65578  Raymond Clarence \"Ray\" Ewry  United States     1904 Summer  St. Louis   \n",
       "65579  Raymond Clarence \"Ray\" Ewry  United States     1904 Summer  St. Louis   \n",
       "65580  Raymond Clarence \"Ray\" Ewry  United States     1906 Summer     Athina   \n",
       "65581  Raymond Clarence \"Ray\" Ewry  United States     1906 Summer     Athina   \n",
       "65582  Raymond Clarence \"Ray\" Ewry  United States     1908 Summer     London   \n",
       "65583  Raymond Clarence \"Ray\" Ewry  United States     1908 Summer     London   \n",
       "\n",
       "         Deporte                           Competencia Medalla  \n",
       "65574  Athletics    Athletics Men's Standing High Jump    Gold  \n",
       "65575  Athletics    Athletics Men's Standing Long Jump    Gold  \n",
       "65576  Athletics  Athletics Men's Standing Triple Jump    Gold  \n",
       "65577  Athletics    Athletics Men's Standing High Jump    Gold  \n",
       "65578  Athletics    Athletics Men's Standing Long Jump    Gold  \n",
       "65579  Athletics  Athletics Men's Standing Triple Jump    Gold  \n",
       "65580  Athletics    Athletics Men's Standing High Jump    Gold  \n",
       "65581  Athletics    Athletics Men's Standing Long Jump    Gold  \n",
       "65582  Athletics    Athletics Men's Standing High Jump    Gold  \n",
       "65583  Athletics    Athletics Men's Standing Long Jump    Gold  "
      ]
     },
     "execution_count": 77,
     "metadata": {},
     "output_type": "execute_result"
    }
   ],
   "source": [
    "mostrar_medallas(\"Raymond\", \"Clarence\").head(15)\n"
   ]
  },
  {
   "cell_type": "markdown",
   "metadata": {},
   "source": [
    " ### Mark Andrew Spitz"
   ]
  },
  {
   "cell_type": "code",
   "execution_count": 78,
   "metadata": {},
   "outputs": [
    {
     "data": {
      "text/html": [
       "<div>\n",
       "<style scoped>\n",
       "    .dataframe tbody tr th:only-of-type {\n",
       "        vertical-align: middle;\n",
       "    }\n",
       "\n",
       "    .dataframe tbody tr th {\n",
       "        vertical-align: top;\n",
       "    }\n",
       "\n",
       "    .dataframe thead th {\n",
       "        text-align: right;\n",
       "    }\n",
       "</style>\n",
       "<table border=\"1\" class=\"dataframe\">\n",
       "  <thead>\n",
       "    <tr style=\"text-align: right;\">\n",
       "      <th></th>\n",
       "      <th>NombreAtleta</th>\n",
       "      <th>Equipo</th>\n",
       "      <th>JuegosOlimpicos</th>\n",
       "      <th>Ciudad</th>\n",
       "      <th>Deporte</th>\n",
       "      <th>Competencia</th>\n",
       "      <th>Medalla</th>\n",
       "    </tr>\n",
       "  </thead>\n",
       "  <tbody>\n",
       "    <tr>\n",
       "      <th>226658</th>\n",
       "      <td>Mark Andrew Spitz</td>\n",
       "      <td>United States</td>\n",
       "      <td>1968 Summer</td>\n",
       "      <td>Mexico City</td>\n",
       "      <td>Swimming</td>\n",
       "      <td>Swimming Men's 4 x 100 metres Freestyle Relay</td>\n",
       "      <td>Gold</td>\n",
       "    </tr>\n",
       "    <tr>\n",
       "      <th>226659</th>\n",
       "      <td>Mark Andrew Spitz</td>\n",
       "      <td>United States</td>\n",
       "      <td>1968 Summer</td>\n",
       "      <td>Mexico City</td>\n",
       "      <td>Swimming</td>\n",
       "      <td>Swimming Men's 4 x 200 metres Freestyle Relay</td>\n",
       "      <td>Gold</td>\n",
       "    </tr>\n",
       "    <tr>\n",
       "      <th>226662</th>\n",
       "      <td>Mark Andrew Spitz</td>\n",
       "      <td>United States</td>\n",
       "      <td>1972 Summer</td>\n",
       "      <td>Munich</td>\n",
       "      <td>Swimming</td>\n",
       "      <td>Swimming Men's 100 metres Freestyle</td>\n",
       "      <td>Gold</td>\n",
       "    </tr>\n",
       "    <tr>\n",
       "      <th>226663</th>\n",
       "      <td>Mark Andrew Spitz</td>\n",
       "      <td>United States</td>\n",
       "      <td>1972 Summer</td>\n",
       "      <td>Munich</td>\n",
       "      <td>Swimming</td>\n",
       "      <td>Swimming Men's 200 metres Freestyle</td>\n",
       "      <td>Gold</td>\n",
       "    </tr>\n",
       "    <tr>\n",
       "      <th>226664</th>\n",
       "      <td>Mark Andrew Spitz</td>\n",
       "      <td>United States</td>\n",
       "      <td>1972 Summer</td>\n",
       "      <td>Munich</td>\n",
       "      <td>Swimming</td>\n",
       "      <td>Swimming Men's 4 x 100 metres Freestyle Relay</td>\n",
       "      <td>Gold</td>\n",
       "    </tr>\n",
       "    <tr>\n",
       "      <th>226665</th>\n",
       "      <td>Mark Andrew Spitz</td>\n",
       "      <td>United States</td>\n",
       "      <td>1972 Summer</td>\n",
       "      <td>Munich</td>\n",
       "      <td>Swimming</td>\n",
       "      <td>Swimming Men's 4 x 200 metres Freestyle Relay</td>\n",
       "      <td>Gold</td>\n",
       "    </tr>\n",
       "    <tr>\n",
       "      <th>226666</th>\n",
       "      <td>Mark Andrew Spitz</td>\n",
       "      <td>United States</td>\n",
       "      <td>1972 Summer</td>\n",
       "      <td>Munich</td>\n",
       "      <td>Swimming</td>\n",
       "      <td>Swimming Men's 100 metres Butterfly</td>\n",
       "      <td>Gold</td>\n",
       "    </tr>\n",
       "    <tr>\n",
       "      <th>226667</th>\n",
       "      <td>Mark Andrew Spitz</td>\n",
       "      <td>United States</td>\n",
       "      <td>1972 Summer</td>\n",
       "      <td>Munich</td>\n",
       "      <td>Swimming</td>\n",
       "      <td>Swimming Men's 200 metres Butterfly</td>\n",
       "      <td>Gold</td>\n",
       "    </tr>\n",
       "    <tr>\n",
       "      <th>226668</th>\n",
       "      <td>Mark Andrew Spitz</td>\n",
       "      <td>United States</td>\n",
       "      <td>1972 Summer</td>\n",
       "      <td>Munich</td>\n",
       "      <td>Swimming</td>\n",
       "      <td>Swimming Men's 4 x 100 metres Medley Relay</td>\n",
       "      <td>Gold</td>\n",
       "    </tr>\n",
       "  </tbody>\n",
       "</table>\n",
       "</div>"
      ],
      "text/plain": [
       "             NombreAtleta         Equipo JuegosOlimpicos       Ciudad  \\\n",
       "226658  Mark Andrew Spitz  United States     1968 Summer  Mexico City   \n",
       "226659  Mark Andrew Spitz  United States     1968 Summer  Mexico City   \n",
       "226662  Mark Andrew Spitz  United States     1972 Summer       Munich   \n",
       "226663  Mark Andrew Spitz  United States     1972 Summer       Munich   \n",
       "226664  Mark Andrew Spitz  United States     1972 Summer       Munich   \n",
       "226665  Mark Andrew Spitz  United States     1972 Summer       Munich   \n",
       "226666  Mark Andrew Spitz  United States     1972 Summer       Munich   \n",
       "226667  Mark Andrew Spitz  United States     1972 Summer       Munich   \n",
       "226668  Mark Andrew Spitz  United States     1972 Summer       Munich   \n",
       "\n",
       "         Deporte                                    Competencia Medalla  \n",
       "226658  Swimming  Swimming Men's 4 x 100 metres Freestyle Relay    Gold  \n",
       "226659  Swimming  Swimming Men's 4 x 200 metres Freestyle Relay    Gold  \n",
       "226662  Swimming            Swimming Men's 100 metres Freestyle    Gold  \n",
       "226663  Swimming            Swimming Men's 200 metres Freestyle    Gold  \n",
       "226664  Swimming  Swimming Men's 4 x 100 metres Freestyle Relay    Gold  \n",
       "226665  Swimming  Swimming Men's 4 x 200 metres Freestyle Relay    Gold  \n",
       "226666  Swimming            Swimming Men's 100 metres Butterfly    Gold  \n",
       "226667  Swimming            Swimming Men's 200 metres Butterfly    Gold  \n",
       "226668  Swimming     Swimming Men's 4 x 100 metres Medley Relay    Gold  "
      ]
     },
     "execution_count": 78,
     "metadata": {},
     "output_type": "execute_result"
    }
   ],
   "source": [
    "mostrar_medallas(\"Mark\",\"Spitz\").head(10)\n",
    "\n",
    "\n"
   ]
  },
  {
   "cell_type": "markdown",
   "metadata": {},
   "source": [
    " <table align=\"left\" width=\"75%\">\n",
    " <td width=\"95%\" style=\"text-align: justify;\">\n",
    " 19. ¿Cuál son los datos del primer atleta que se coronó campeón en los Juegos Olímpicos? Y en el apartado femenino ¿Quién fue?\n",
    " </td>\n",
    " </table>"
   ]
  },
  {
   "cell_type": "code",
   "execution_count": 79,
   "metadata": {},
   "outputs": [
    {
     "data": {
      "text/html": [
       "<div>\n",
       "<style scoped>\n",
       "    .dataframe tbody tr th:only-of-type {\n",
       "        vertical-align: middle;\n",
       "    }\n",
       "\n",
       "    .dataframe tbody tr th {\n",
       "        vertical-align: top;\n",
       "    }\n",
       "\n",
       "    .dataframe thead th {\n",
       "        text-align: right;\n",
       "    }\n",
       "</style>\n",
       "<table border=\"1\" class=\"dataframe\">\n",
       "  <thead>\n",
       "    <tr style=\"text-align: right;\">\n",
       "      <th></th>\n",
       "      <th>NombreAtleta</th>\n",
       "      <th>Equipo</th>\n",
       "      <th>JuegosOlimpicos</th>\n",
       "      <th>Ciudad</th>\n",
       "      <th>Deporte</th>\n",
       "      <th>Competencia</th>\n",
       "      <th>Medalla</th>\n",
       "    </tr>\n",
       "  </thead>\n",
       "  <tbody>\n",
       "    <tr>\n",
       "      <th>44062</th>\n",
       "      <td>James Brendan Bennet Connolly</td>\n",
       "      <td>United States</td>\n",
       "      <td>1896 Summer</td>\n",
       "      <td>Athina</td>\n",
       "      <td>Athletics</td>\n",
       "      <td>Athletics Men's High Jump</td>\n",
       "      <td>Silver</td>\n",
       "    </tr>\n",
       "    <tr>\n",
       "      <th>44063</th>\n",
       "      <td>James Brendan Bennet Connolly</td>\n",
       "      <td>United States</td>\n",
       "      <td>1896 Summer</td>\n",
       "      <td>Athina</td>\n",
       "      <td>Athletics</td>\n",
       "      <td>Athletics Men's Long Jump</td>\n",
       "      <td>Bronze</td>\n",
       "    </tr>\n",
       "    <tr>\n",
       "      <th>44064</th>\n",
       "      <td>James Brendan Bennet Connolly</td>\n",
       "      <td>United States</td>\n",
       "      <td>1896 Summer</td>\n",
       "      <td>Athina</td>\n",
       "      <td>Athletics</td>\n",
       "      <td>Athletics Men's Triple Jump</td>\n",
       "      <td>Gold</td>\n",
       "    </tr>\n",
       "  </tbody>\n",
       "</table>\n",
       "</div>"
      ],
      "text/plain": [
       "                        NombreAtleta         Equipo JuegosOlimpicos  Ciudad  \\\n",
       "44062  James Brendan Bennet Connolly  United States     1896 Summer  Athina   \n",
       "44063  James Brendan Bennet Connolly  United States     1896 Summer  Athina   \n",
       "44064  James Brendan Bennet Connolly  United States     1896 Summer  Athina   \n",
       "\n",
       "         Deporte                  Competencia Medalla  \n",
       "44062  Athletics    Athletics Men's High Jump  Silver  \n",
       "44063  Athletics    Athletics Men's Long Jump  Bronze  \n",
       "44064  Athletics  Athletics Men's Triple Jump    Gold  "
      ]
     },
     "execution_count": 79,
     "metadata": {},
     "output_type": "execute_result"
    }
   ],
   "source": [
    "nombre = data.loc[:, \"NombreAtleta\"].str.contains(\"James\")\n",
    "apellido = data.loc[:, \"NombreAtleta\"].str.contains(\"Connolly\")\n",
    "anio = data.loc[:, \"Año\"]==1896\n",
    "primer_medallista = data.loc[nombre & apellido & anio]\n",
    "primer_medallista[campos]\n"
   ]
  },
  {
   "cell_type": "markdown",
   "metadata": {},
   "source": [
    " <p style=\"text-align: justify; width: 75%;\">\n",
    " El Estado Unidense James Connolly, fue el primer campeón olímpico al ganar medallas en las disciplinas de triple salto, salto alto y salto largo, esto lo logro el 06/04/1896.\n",
    " </p><hr>"
   ]
  },
  {
   "cell_type": "code",
   "execution_count": 80,
   "metadata": {},
   "outputs": [
    {
     "data": {
      "text/html": [
       "<div>\n",
       "<style scoped>\n",
       "    .dataframe tbody tr th:only-of-type {\n",
       "        vertical-align: middle;\n",
       "    }\n",
       "\n",
       "    .dataframe tbody tr th {\n",
       "        vertical-align: top;\n",
       "    }\n",
       "\n",
       "    .dataframe thead th {\n",
       "        text-align: right;\n",
       "    }\n",
       "</style>\n",
       "<table border=\"1\" class=\"dataframe\">\n",
       "  <thead>\n",
       "    <tr style=\"text-align: right;\">\n",
       "      <th></th>\n",
       "      <th>NombreAtleta</th>\n",
       "      <th>Equipo</th>\n",
       "      <th>JuegosOlimpicos</th>\n",
       "      <th>Ciudad</th>\n",
       "      <th>Deporte</th>\n",
       "      <th>Competencia</th>\n",
       "      <th>Medalla</th>\n",
       "    </tr>\n",
       "  </thead>\n",
       "  <tbody>\n",
       "    <tr>\n",
       "      <th>44448</th>\n",
       "      <td>Charlotte Reinagle Cooper (-Sterry)</td>\n",
       "      <td>Great Britain</td>\n",
       "      <td>1900 Summer</td>\n",
       "      <td>Paris</td>\n",
       "      <td>Tennis</td>\n",
       "      <td>Tennis Women's Singles</td>\n",
       "      <td>Gold</td>\n",
       "    </tr>\n",
       "    <tr>\n",
       "      <th>44449</th>\n",
       "      <td>Charlotte Reinagle Cooper (-Sterry)</td>\n",
       "      <td>Great Britain</td>\n",
       "      <td>1900 Summer</td>\n",
       "      <td>Paris</td>\n",
       "      <td>Tennis</td>\n",
       "      <td>Tennis Mixed Doubles</td>\n",
       "      <td>Gold</td>\n",
       "    </tr>\n",
       "  </tbody>\n",
       "</table>\n",
       "</div>"
      ],
      "text/plain": [
       "                              NombreAtleta         Equipo JuegosOlimpicos  \\\n",
       "44448  Charlotte Reinagle Cooper (-Sterry)  Great Britain     1900 Summer   \n",
       "44449  Charlotte Reinagle Cooper (-Sterry)  Great Britain     1900 Summer   \n",
       "\n",
       "      Ciudad Deporte             Competencia Medalla  \n",
       "44448  Paris  Tennis  Tennis Women's Singles    Gold  \n",
       "44449  Paris  Tennis    Tennis Mixed Doubles    Gold  "
      ]
     },
     "execution_count": 80,
     "metadata": {},
     "output_type": "execute_result"
    }
   ],
   "source": [
    "nombre = data.loc[:, \"NombreAtleta\"].str.contains(\"Charlotte\")\n",
    "apellido = data.loc[:, \"NombreAtleta\"].str.contains(\"Cooper\")\n",
    "primera_medallista = data.loc[nombre & apellido]\n",
    "primera_medallista[campos]\n"
   ]
  },
  {
   "cell_type": "markdown",
   "metadata": {},
   "source": [
    " <p style=\"text-align: justify; width: 75%;\">\n",
    " Charlotte Cooper fue la primera mujer en ganar un título olímpico, Ganó en la final a la francesa Hélène Prévost por 6-1, 7-5.<br>\n",
    " En las mismas olimpiadas sumó otra victoria en la disciplina de dobles mixto con su compañero Reginald Doherty 6-2, 6-4, sobre Harold Mahony y Prévost.\n",
    " </p><hr>"
   ]
  },
  {
   "cell_type": "markdown",
   "metadata": {},
   "source": [
    " <table align=\"left\" width=\"75%\">\n",
    " <td width=\"95%\" style=\"text-align: justify;\">\n",
    " 20. ¿Cuáles son los 5 primeros países de Latinoamérica en cuanto a obtenciones de medallas de oro en todos los JJ.OO?\n",
    " </td>\n",
    " </table>"
   ]
  },
  {
   "cell_type": "code",
   "execution_count": 81,
   "metadata": {},
   "outputs": [
    {
     "data": {
      "text/plain": [
       "Brazil       3772\n",
       "Argentina    3199\n",
       "Colombia     1068\n",
       "Chile         924\n",
       "Venezuela     921\n",
       "Uruguay       570\n",
       "Peru          532\n",
       "Ecuador       277\n",
       "Bolivia       152\n",
       "Paraguay      135\n",
       "Name: Equipo, dtype: int64"
      ]
     },
     "execution_count": 81,
     "metadata": {},
     "output_type": "execute_result"
    }
   ],
   "source": [
    "lista_paises = [\"Argentina\", \"Brazil\", \"Bolivia\", \"Chile\", \"Colombia\", \"Ecuador\", \"Paraguay\", \"Peru\", \"Uruguay\", \"Venezuela\"]\n",
    "paises_latinos  = data.loc[data[\"Equipo\"].isin(lista_paises), [\"Equipo\", \"Medalla\"]]\n",
    "paises_latinos[\"Equipo\"].value_counts()\n"
   ]
  },
  {
   "cell_type": "code",
   "execution_count": 82,
   "metadata": {},
   "outputs": [
    {
     "data": {
      "image/png": "[encoded data removed]",
      "text/plain": [
       "<Figure size 432x288 with 1 Axes>"
      ]
     },
     "metadata": {
      "needs_background": "light"
     },
     "output_type": "display_data"
    }
   ],
   "source": [
    "%matplotlib inline \n",
    "paises_latinos.groupby(\"Equipo\")[\"Equipo\"].count().plot(kind=\"barh\", legend=\"Reverse\")\n",
    "plt.xlabel(\"Cantidad de medallas\")\n",
    "plt.ylabel(\"Paises\")\n",
    "plt.title(\"Ranking de medallas obtenidas por paises latinoamericanos\")\n",
    "plt.show()\n"
   ]
  },
  {
   "cell_type": "markdown",
   "metadata": {},
   "source": [
    " <p style=\"text-align: justify; width: 75%;\">\n",
    " Los paises con más medallas obtenidases liderado por Brasil con 3772, lo sigue Argentina con 3199 y en tercer lugar se encuentra Colombia con 1068 medallas.<br>\n",
    " A continuación se mostrará la relación existente entre tipos de medallas obtenidas por paises latinoamericanos.\n",
    " </p><hr>"
   ]
  },
  {
   "cell_type": "code",
   "execution_count": 83,
   "metadata": {},
   "outputs": [
    {
     "name": "stdout",
     "output_type": "stream",
     "text": [
      "Cantidad de tipo de medalla obtenidas por paises latinoamericanos:\n"
     ]
    },
    {
     "data": {
      "text/plain": [
       "Bronze    350\n",
       "Silver    299\n",
       "Gold      237\n",
       "Name: Medalla, dtype: int64"
      ]
     },
     "execution_count": 83,
     "metadata": {},
     "output_type": "execute_result"
    }
   ],
   "source": [
    "print(\"Cantidad de tipo de medalla obtenidas por paises latinoamericanos:\")\n",
    "paises_latinos[\"Medalla\"].value_counts()\n"
   ]
  },
  {
   "cell_type": "code",
   "execution_count": 84,
   "metadata": {},
   "outputs": [
    {
     "data": {
      "image/png": "[encoded data removed]",
      "text/plain": [
       "<Figure size 432x288 with 1 Axes>"
      ]
     },
     "metadata": {
      "needs_background": "light"
     },
     "output_type": "display_data"
    }
   ],
   "source": [
    "%matplotlib inline \n",
    "paises_latinos.groupby(\"Medalla\")[\"Medalla\"].count().plot(kind=\"barh\", legend=\"Reverse\")\n",
    "plt.title(\"Relación de tipos de medallas obtenidas en latinoamerica\")\n",
    "plt.xlabel(\"Cantidad de medallas\")\n",
    "plt.ylabel(\"Tipo de medalla\")\n",
    "plt.show()\n"
   ]
  },
  {
   "cell_type": "markdown",
   "metadata": {},
   "source": [
    " En la gráfica podemos distinguir que la mayor cantidad de medallas obtenidas por los paises latino americanos son de tipo bronce (350), seguidas por medallas de plata (299) y por último medallas de oro (237)."
   ]
  },
  {
   "cell_type": "markdown",
   "metadata": {},
   "source": [
    " <p style=\"text-align: justify; width: 75%;\">\n",
    "  Por último se visualizarán los resultados separados por tipos de medallas y por paises.\n",
    " </p><hr>"
   ]
  },
  {
   "cell_type": "code",
   "execution_count": 85,
   "metadata": {},
   "outputs": [
    {
     "data": {
      "image/png": "[encoded data removed]",
      "text/plain": [
       "<Figure size 720x360 with 1 Axes>"
      ]
     },
     "metadata": {
      "needs_background": "light"
     },
     "output_type": "display_data"
    }
   ],
   "source": [
    "fig=plt.subplots(figsize=(10,5))\n",
    "d=sns.countplot(x='Equipo',data=paises_latinos,hue='Medalla',palette='bright')\n",
    "m=plt.setp(d.get_xticklabels(),rotation=90)\n",
    "plt.title(\"Relación de medallas por paises latinoamericanos\")\n",
    "plt.ylabel(\"Cantidad de medallas\")\n",
    "plt.xlabel(\"Paises\")\n",
    "plt.show()\n"
   ]
  },
  {
   "cell_type": "markdown",
   "metadata": {},
   "source": [
    " <p style=\"text-align: justify; width: 75%;\">\n",
    " Brasil posee la mayor cantidad de medallas en latinoamérica, la distribución indica que la gran cantidad de medallas obtenidas son de bronce seguidas por las medallas de plata y luego las de oro.<br>\n",
    " Sin embargo Argentina es mas pareja la obtención de medallas, estando casi eqilibradas las medallas de oro y bronce, seguidas muy de cerca las medallas de plata.<br>\n",
    " Por último los demás paises de la región poseen una cantidad muy inferior de medallas a excepción de Colombia, pero no alcanza a Argentina.\n",
    " </p><hr>"
   ]
  },
  {
   "cell_type": "markdown",
   "metadata": {},
   "source": [
    " # Configuración utilizada para esta evaluación."
   ]
  },
  {
   "cell_type": "code",
   "execution_count": 86,
   "metadata": {},
   "outputs": [
    {
     "name": "stdout",
     "output_type": "stream",
     "text": [
      "The watermark extension is already loaded. To reload it, use:\n",
      "  %reload_ext watermark\n",
      "2020-05-06T15:57:43-04:00\n",
      "\n",
      "CPython 3.7.6\n",
      "IPython 7.13.0\n",
      "\n",
      "compiler   : MSC v.1916 64 bit (AMD64)\n",
      "system     : Windows\n",
      "release    : 10\n",
      "machine    : AMD64\n",
      "processor  : Intel64 Family 6 Model 158 Stepping 10, GenuineIntel\n",
      "CPU cores  : 12\n",
      "interpreter: 64bit\n"
     ]
    }
   ],
   "source": [
    "%load_ext watermark\n",
    "%watermark"
   ]
  }
 ],
 "metadata": {
  "kernelspec": {
   "display_name": "Python 3",
   "language": "python",
   "name": "python3"
  },
  "language_info": {
   "codemirror_mode": {
    "name": "ipython",
    "version": 3
   },
   "file_extension": ".py",
   "mimetype": "text/x-python",
   "name": "python",
   "nbconvert_exporter": "python",
   "pygments_lexer": "ipython3",
   "version": "3.7.6"
  }
 },
 "nbformat": 4,
 "nbformat_minor": 2
}
