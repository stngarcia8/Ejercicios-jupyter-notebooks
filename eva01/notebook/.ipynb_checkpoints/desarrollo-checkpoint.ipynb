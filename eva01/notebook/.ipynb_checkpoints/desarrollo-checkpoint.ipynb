{
 "cells": [
  {
   "cell_type": "markdown",
   "metadata": {},
   "source": [
    " # Evaluación actividad Juegos Olímpicos"
   ]
  },
  {
   "cell_type": "code",
   "execution_count": 5,
   "metadata": {},
   "outputs": [],
   "source": [
    "import pandas as pd\n",
    "import numpy as np\n",
    "import matplotlib.pyplot as plt \n"
   ]
  },
  {
   "cell_type": "markdown",
   "metadata": {},
   "source": [
    " ## Cargando datos de juegos olímpicos"
   ]
  },
  {
   "cell_type": "code",
   "execution_count": 6,
   "metadata": {},
   "outputs": [
    {
     "data": {
      "text/plain": [
       "(271116, 15)"
      ]
     },
     "execution_count": 6,
     "metadata": {},
     "output_type": "execute_result"
    }
   ],
   "source": [
    "data_file=\"../data/original/JuegosOlimpicos.csv\"\n",
    "data = pd.read_csv(data_file)\n",
    "data.shape \n",
    "\n"
   ]
  },
  {
   "cell_type": "markdown",
   "metadata": {},
   "source": [
    " Ajustando títulos de columnas al dataframe"
   ]
  },
  {
   "cell_type": "code",
   "execution_count": 7,
   "metadata": {},
   "outputs": [
    {
     "data": {
      "text/html": [
       "<div>\n",
       "<style scoped>\n",
       "    .dataframe tbody tr th:only-of-type {\n",
       "        vertical-align: middle;\n",
       "    }\n",
       "\n",
       "    .dataframe tbody tr th {\n",
       "        vertical-align: top;\n",
       "    }\n",
       "\n",
       "    .dataframe thead th {\n",
       "        text-align: right;\n",
       "    }\n",
       "</style>\n",
       "<table border=\"1\" class=\"dataframe\">\n",
       "  <thead>\n",
       "    <tr style=\"text-align: right;\">\n",
       "      <th></th>\n",
       "      <th>ID</th>\n",
       "      <th>Name</th>\n",
       "      <th>Sex</th>\n",
       "      <th>Age</th>\n",
       "      <th>Height</th>\n",
       "      <th>Weight</th>\n",
       "      <th>Team</th>\n",
       "      <th>NOC</th>\n",
       "      <th>Games</th>\n",
       "      <th>Year</th>\n",
       "      <th>Season</th>\n",
       "      <th>City</th>\n",
       "      <th>Sport</th>\n",
       "      <th>Event</th>\n",
       "      <th>Medal</th>\n",
       "    </tr>\n",
       "  </thead>\n",
       "  <tbody>\n",
       "    <tr>\n",
       "      <th>0</th>\n",
       "      <td>1</td>\n",
       "      <td>A Dijiang</td>\n",
       "      <td>M</td>\n",
       "      <td>24.0</td>\n",
       "      <td>180.0</td>\n",
       "      <td>80.0</td>\n",
       "      <td>China</td>\n",
       "      <td>CHN</td>\n",
       "      <td>1992 Summer</td>\n",
       "      <td>1992</td>\n",
       "      <td>Summer</td>\n",
       "      <td>Barcelona</td>\n",
       "      <td>Basketball</td>\n",
       "      <td>Basketball Men's Basketball</td>\n",
       "      <td>NaN</td>\n",
       "    </tr>\n",
       "    <tr>\n",
       "      <th>1</th>\n",
       "      <td>2</td>\n",
       "      <td>A Lamusi</td>\n",
       "      <td>M</td>\n",
       "      <td>23.0</td>\n",
       "      <td>170.0</td>\n",
       "      <td>60.0</td>\n",
       "      <td>China</td>\n",
       "      <td>CHN</td>\n",
       "      <td>2012 Summer</td>\n",
       "      <td>2012</td>\n",
       "      <td>Summer</td>\n",
       "      <td>London</td>\n",
       "      <td>Judo</td>\n",
       "      <td>Judo Men's Extra-Lightweight</td>\n",
       "      <td>NaN</td>\n",
       "    </tr>\n",
       "    <tr>\n",
       "      <th>2</th>\n",
       "      <td>3</td>\n",
       "      <td>Gunnar Nielsen Aaby</td>\n",
       "      <td>M</td>\n",
       "      <td>24.0</td>\n",
       "      <td>NaN</td>\n",
       "      <td>NaN</td>\n",
       "      <td>Denmark</td>\n",
       "      <td>DEN</td>\n",
       "      <td>1920 Summer</td>\n",
       "      <td>1920</td>\n",
       "      <td>Summer</td>\n",
       "      <td>Antwerpen</td>\n",
       "      <td>Football</td>\n",
       "      <td>Football Men's Football</td>\n",
       "      <td>NaN</td>\n",
       "    </tr>\n",
       "    <tr>\n",
       "      <th>3</th>\n",
       "      <td>4</td>\n",
       "      <td>Edgar Lindenau Aabye</td>\n",
       "      <td>M</td>\n",
       "      <td>34.0</td>\n",
       "      <td>NaN</td>\n",
       "      <td>NaN</td>\n",
       "      <td>Denmark/Sweden</td>\n",
       "      <td>DEN</td>\n",
       "      <td>1900 Summer</td>\n",
       "      <td>1900</td>\n",
       "      <td>Summer</td>\n",
       "      <td>Paris</td>\n",
       "      <td>Tug-Of-War</td>\n",
       "      <td>Tug-Of-War Men's Tug-Of-War</td>\n",
       "      <td>Gold</td>\n",
       "    </tr>\n",
       "    <tr>\n",
       "      <th>4</th>\n",
       "      <td>5</td>\n",
       "      <td>Christine Jacoba Aaftink</td>\n",
       "      <td>F</td>\n",
       "      <td>21.0</td>\n",
       "      <td>185.0</td>\n",
       "      <td>82.0</td>\n",
       "      <td>Netherlands</td>\n",
       "      <td>NED</td>\n",
       "      <td>1988 Winter</td>\n",
       "      <td>1988</td>\n",
       "      <td>Winter</td>\n",
       "      <td>Calgary</td>\n",
       "      <td>Speed Skating</td>\n",
       "      <td>Speed Skating Women's 500 metres</td>\n",
       "      <td>NaN</td>\n",
       "    </tr>\n",
       "  </tbody>\n",
       "</table>\n",
       "</div>"
      ],
      "text/plain": [
       "   ID                      Name Sex   Age  Height  Weight            Team  \\\n",
       "0   1                 A Dijiang   M  24.0   180.0    80.0           China   \n",
       "1   2                  A Lamusi   M  23.0   170.0    60.0           China   \n",
       "2   3       Gunnar Nielsen Aaby   M  24.0     NaN     NaN         Denmark   \n",
       "3   4      Edgar Lindenau Aabye   M  34.0     NaN     NaN  Denmark/Sweden   \n",
       "4   5  Christine Jacoba Aaftink   F  21.0   185.0    82.0     Netherlands   \n",
       "\n",
       "   NOC        Games  Year  Season       City          Sport  \\\n",
       "0  CHN  1992 Summer  1992  Summer  Barcelona     Basketball   \n",
       "1  CHN  2012 Summer  2012  Summer     London           Judo   \n",
       "2  DEN  1920 Summer  1920  Summer  Antwerpen       Football   \n",
       "3  DEN  1900 Summer  1900  Summer      Paris     Tug-Of-War   \n",
       "4  NED  1988 Winter  1988  Winter    Calgary  Speed Skating   \n",
       "\n",
       "                              Event Medal  \n",
       "0       Basketball Men's Basketball   NaN  \n",
       "1      Judo Men's Extra-Lightweight   NaN  \n",
       "2           Football Men's Football   NaN  \n",
       "3       Tug-Of-War Men's Tug-Of-War  Gold  \n",
       "4  Speed Skating Women's 500 metres   NaN  "
      ]
     },
     "execution_count": 7,
     "metadata": {},
     "output_type": "execute_result"
    }
   ],
   "source": [
    "data.head()\n",
    "\n",
    "\n"
   ]
  },
  {
   "cell_type": "markdown",
   "metadata": {},
   "source": [
    " ## Explorando datos de juegos olímpicos"
   ]
  },
  {
   "cell_type": "markdown",
   "metadata": {},
   "source": [
    " ## Visualizando info del dataframe"
   ]
  },
  {
   "cell_type": "markdown",
   "metadata": {},
   "source": [
    " ## Verificando tipos de datos"
   ]
  },
  {
   "cell_type": "markdown",
   "metadata": {},
   "source": [
    " ## Visualizando elementos nulos"
   ]
  },
  {
   "cell_type": "code",
   "execution_count": 8,
   "metadata": {},
   "outputs": [
    {
     "ename": "KeyError",
     "evalue": "'Medalla'",
     "output_type": "error",
     "traceback": [
      "\u001b[1;31m---------------------------------------------------------------------------\u001b[0m",
      "\u001b[1;31mKeyError\u001b[0m                                  Traceback (most recent call last)",
      "\u001b[1;32mD:\\appz\\anaconda-3.2020.02\\lib\\site-packages\\pandas\\core\\indexes\\base.py\u001b[0m in \u001b[0;36mget_loc\u001b[1;34m(self, key, method, tolerance)\u001b[0m\n\u001b[0;32m   2645\u001b[0m             \u001b[1;32mtry\u001b[0m\u001b[1;33m:\u001b[0m\u001b[1;33m\u001b[0m\u001b[1;33m\u001b[0m\u001b[0m\n\u001b[1;32m-> 2646\u001b[1;33m                 \u001b[1;32mreturn\u001b[0m \u001b[0mself\u001b[0m\u001b[1;33m.\u001b[0m\u001b[0m_engine\u001b[0m\u001b[1;33m.\u001b[0m\u001b[0mget_loc\u001b[0m\u001b[1;33m(\u001b[0m\u001b[0mkey\u001b[0m\u001b[1;33m)\u001b[0m\u001b[1;33m\u001b[0m\u001b[1;33m\u001b[0m\u001b[0m\n\u001b[0m\u001b[0;32m   2647\u001b[0m             \u001b[1;32mexcept\u001b[0m \u001b[0mKeyError\u001b[0m\u001b[1;33m:\u001b[0m\u001b[1;33m\u001b[0m\u001b[1;33m\u001b[0m\u001b[0m\n",
      "\u001b[1;32mpandas\\_libs\\index.pyx\u001b[0m in \u001b[0;36mpandas._libs.index.IndexEngine.get_loc\u001b[1;34m()\u001b[0m\n",
      "\u001b[1;32mpandas\\_libs\\index.pyx\u001b[0m in \u001b[0;36mpandas._libs.index.IndexEngine.get_loc\u001b[1;34m()\u001b[0m\n",
      "\u001b[1;32mpandas\\_libs\\hashtable_class_helper.pxi\u001b[0m in \u001b[0;36mpandas._libs.hashtable.PyObjectHashTable.get_item\u001b[1;34m()\u001b[0m\n",
      "\u001b[1;32mpandas\\_libs\\hashtable_class_helper.pxi\u001b[0m in \u001b[0;36mpandas._libs.hashtable.PyObjectHashTable.get_item\u001b[1;34m()\u001b[0m\n",
      "\u001b[1;31mKeyError\u001b[0m: 'Medalla'",
      "\nDuring handling of the above exception, another exception occurred:\n",
      "\u001b[1;31mKeyError\u001b[0m                                  Traceback (most recent call last)",
      "\u001b[1;32m<ipython-input-8-5a20a244038f>\u001b[0m in \u001b[0;36m<module>\u001b[1;34m\u001b[0m\n\u001b[1;32m----> 1\u001b[1;33m \u001b[0mdata\u001b[0m\u001b[1;33m[\u001b[0m\u001b[1;34m\"Medalla\"\u001b[0m\u001b[1;33m]\u001b[0m\u001b[1;33m.\u001b[0m\u001b[0mcount\u001b[0m\u001b[1;33m(\u001b[0m\u001b[1;33m)\u001b[0m\u001b[1;33m\u001b[0m\u001b[1;33m\u001b[0m\u001b[0m\n\u001b[0m",
      "\u001b[1;32mD:\\appz\\anaconda-3.2020.02\\lib\\site-packages\\pandas\\core\\frame.py\u001b[0m in \u001b[0;36m__getitem__\u001b[1;34m(self, key)\u001b[0m\n\u001b[0;32m   2798\u001b[0m             \u001b[1;32mif\u001b[0m \u001b[0mself\u001b[0m\u001b[1;33m.\u001b[0m\u001b[0mcolumns\u001b[0m\u001b[1;33m.\u001b[0m\u001b[0mnlevels\u001b[0m \u001b[1;33m>\u001b[0m \u001b[1;36m1\u001b[0m\u001b[1;33m:\u001b[0m\u001b[1;33m\u001b[0m\u001b[1;33m\u001b[0m\u001b[0m\n\u001b[0;32m   2799\u001b[0m                 \u001b[1;32mreturn\u001b[0m \u001b[0mself\u001b[0m\u001b[1;33m.\u001b[0m\u001b[0m_getitem_multilevel\u001b[0m\u001b[1;33m(\u001b[0m\u001b[0mkey\u001b[0m\u001b[1;33m)\u001b[0m\u001b[1;33m\u001b[0m\u001b[1;33m\u001b[0m\u001b[0m\n\u001b[1;32m-> 2800\u001b[1;33m             \u001b[0mindexer\u001b[0m \u001b[1;33m=\u001b[0m \u001b[0mself\u001b[0m\u001b[1;33m.\u001b[0m\u001b[0mcolumns\u001b[0m\u001b[1;33m.\u001b[0m\u001b[0mget_loc\u001b[0m\u001b[1;33m(\u001b[0m\u001b[0mkey\u001b[0m\u001b[1;33m)\u001b[0m\u001b[1;33m\u001b[0m\u001b[1;33m\u001b[0m\u001b[0m\n\u001b[0m\u001b[0;32m   2801\u001b[0m             \u001b[1;32mif\u001b[0m \u001b[0mis_integer\u001b[0m\u001b[1;33m(\u001b[0m\u001b[0mindexer\u001b[0m\u001b[1;33m)\u001b[0m\u001b[1;33m:\u001b[0m\u001b[1;33m\u001b[0m\u001b[1;33m\u001b[0m\u001b[0m\n\u001b[0;32m   2802\u001b[0m                 \u001b[0mindexer\u001b[0m \u001b[1;33m=\u001b[0m \u001b[1;33m[\u001b[0m\u001b[0mindexer\u001b[0m\u001b[1;33m]\u001b[0m\u001b[1;33m\u001b[0m\u001b[1;33m\u001b[0m\u001b[0m\n",
      "\u001b[1;32mD:\\appz\\anaconda-3.2020.02\\lib\\site-packages\\pandas\\core\\indexes\\base.py\u001b[0m in \u001b[0;36mget_loc\u001b[1;34m(self, key, method, tolerance)\u001b[0m\n\u001b[0;32m   2646\u001b[0m                 \u001b[1;32mreturn\u001b[0m \u001b[0mself\u001b[0m\u001b[1;33m.\u001b[0m\u001b[0m_engine\u001b[0m\u001b[1;33m.\u001b[0m\u001b[0mget_loc\u001b[0m\u001b[1;33m(\u001b[0m\u001b[0mkey\u001b[0m\u001b[1;33m)\u001b[0m\u001b[1;33m\u001b[0m\u001b[1;33m\u001b[0m\u001b[0m\n\u001b[0;32m   2647\u001b[0m             \u001b[1;32mexcept\u001b[0m \u001b[0mKeyError\u001b[0m\u001b[1;33m:\u001b[0m\u001b[1;33m\u001b[0m\u001b[1;33m\u001b[0m\u001b[0m\n\u001b[1;32m-> 2648\u001b[1;33m                 \u001b[1;32mreturn\u001b[0m \u001b[0mself\u001b[0m\u001b[1;33m.\u001b[0m\u001b[0m_engine\u001b[0m\u001b[1;33m.\u001b[0m\u001b[0mget_loc\u001b[0m\u001b[1;33m(\u001b[0m\u001b[0mself\u001b[0m\u001b[1;33m.\u001b[0m\u001b[0m_maybe_cast_indexer\u001b[0m\u001b[1;33m(\u001b[0m\u001b[0mkey\u001b[0m\u001b[1;33m)\u001b[0m\u001b[1;33m)\u001b[0m\u001b[1;33m\u001b[0m\u001b[1;33m\u001b[0m\u001b[0m\n\u001b[0m\u001b[0;32m   2649\u001b[0m         \u001b[0mindexer\u001b[0m \u001b[1;33m=\u001b[0m \u001b[0mself\u001b[0m\u001b[1;33m.\u001b[0m\u001b[0mget_indexer\u001b[0m\u001b[1;33m(\u001b[0m\u001b[1;33m[\u001b[0m\u001b[0mkey\u001b[0m\u001b[1;33m]\u001b[0m\u001b[1;33m,\u001b[0m \u001b[0mmethod\u001b[0m\u001b[1;33m=\u001b[0m\u001b[0mmethod\u001b[0m\u001b[1;33m,\u001b[0m \u001b[0mtolerance\u001b[0m\u001b[1;33m=\u001b[0m\u001b[0mtolerance\u001b[0m\u001b[1;33m)\u001b[0m\u001b[1;33m\u001b[0m\u001b[1;33m\u001b[0m\u001b[0m\n\u001b[0;32m   2650\u001b[0m         \u001b[1;32mif\u001b[0m \u001b[0mindexer\u001b[0m\u001b[1;33m.\u001b[0m\u001b[0mndim\u001b[0m \u001b[1;33m>\u001b[0m \u001b[1;36m1\u001b[0m \u001b[1;32mor\u001b[0m \u001b[0mindexer\u001b[0m\u001b[1;33m.\u001b[0m\u001b[0msize\u001b[0m \u001b[1;33m>\u001b[0m \u001b[1;36m1\u001b[0m\u001b[1;33m:\u001b[0m\u001b[1;33m\u001b[0m\u001b[1;33m\u001b[0m\u001b[0m\n",
      "\u001b[1;32mpandas\\_libs\\index.pyx\u001b[0m in \u001b[0;36mpandas._libs.index.IndexEngine.get_loc\u001b[1;34m()\u001b[0m\n",
      "\u001b[1;32mpandas\\_libs\\index.pyx\u001b[0m in \u001b[0;36mpandas._libs.index.IndexEngine.get_loc\u001b[1;34m()\u001b[0m\n",
      "\u001b[1;32mpandas\\_libs\\hashtable_class_helper.pxi\u001b[0m in \u001b[0;36mpandas._libs.hashtable.PyObjectHashTable.get_item\u001b[1;34m()\u001b[0m\n",
      "\u001b[1;32mpandas\\_libs\\hashtable_class_helper.pxi\u001b[0m in \u001b[0;36mpandas._libs.hashtable.PyObjectHashTable.get_item\u001b[1;34m()\u001b[0m\n",
      "\u001b[1;31mKeyError\u001b[0m: 'Medalla'"
     ]
    }
   ],
   "source": [
    "data[\"Medalla\"].count()\n"
   ]
  },
  {
   "cell_type": "markdown",
   "metadata": {},
   "source": [
    " ## Tratamiento de elementos nulos"
   ]
  },
  {
   "cell_type": "code",
   "execution_count": null,
   "metadata": {},
   "outputs": [],
   "source": [
    "print(\"Cantidad de registros antes de limpiar nulos:\", len(data), sep=\"\\t\")\n",
    "# data.dropna(inplace=True)\n",
    "# data.isnull().sum()\n",
    "print(\"Cantidad de registros resultantes:\", len(data), sep=\"\\t\")\n"
   ]
  },
  {
   "cell_type": "code",
   "execution_count": null,
   "metadata": {},
   "outputs": [],
   "source": [
    "data[\"Medalla\"].count()\n",
    "\n",
    "\n",
    "\n"
   ]
  },
  {
   "cell_type": "markdown",
   "metadata": {},
   "source": [
    " # Anecdotas de los juegos olímpicos"
   ]
  },
  {
   "cell_type": "markdown",
   "metadata": {},
   "source": [
    " <table width=\"100%\">\n",
    " # <td width=\"20%\" align=\"center\"><img src=\"../imagenes/pregunta01.png\" width=\"100px\" heigth=\"75px\"/></td>\n",
    " <td width=\"75%\" style=\"text-align: justify;\">\n",
    " 1. Dorando Pietri el perdedor más famoso de la historia. El atleta italiano, pastelero de profesión, se desplomó varias veces antes de llegar a la meta. Un juez y el entonces periodista Arthur Conan Doyle le arrastraron hasta la línea de llegada. ¿En qué año sucedió esta anécdota?\n",
    " </td>\n",
    " </table>"
   ]
  },
  {
   "cell_type": "code",
   "execution_count": null,
   "metadata": {},
   "outputs": [],
   "source": [
    "atleta = data.loc[:, \"NombreAtleta\"]==\"Dorando Pietri\"\n",
    "competencia = data.loc[:, \"Competencia\"].str.contains(\"Marathon\")\n",
    "anio = data.loc[:, \"Año\"]==1908\n",
    "dorando = data.loc[atleta & competencia & anio]\n",
    "dorando[[\"Año\", \"Temporada\", \"Ciudad\", \"Deporte\", \"Competencia\"]]\n"
   ]
  },
  {
   "cell_type": "markdown",
   "metadata": {},
   "source": [
    " <p style=\"text-align: justify;\">\n",
    " Dorando fue aclamado por su fortaleza al competir y perder multiples veces la conciencia durante la maratón de las olimpiadas de Londres en 1908, pero aunque fue descalificado, igualmente llego al final de la competencia.\n",
    " </p><hr>"
   ]
  },
  {
   "cell_type": "markdown",
   "metadata": {},
   "source": [
    " <table width=\"100%\">\n",
    " <td width=\"75%\" style=\"text-align: justify;\">\n",
    " 2. Wilma Rudolph junto a su elegancia y belleza, le valió el sobrenombre de Gacela negra es una de esas historias de superación que emociona. De familia humilde y vigésima de veintidós hermanos, pasó varios años sin caminar cuando era pequeña a causa de una poliomielitis. ¿Cuál(es) son sus logros que la llevaron a tener el reconocimiento de superación?\n",
    " </td>\n",
    " <td width=\"20%\" align=\"center\"><img src=\"../imagenes/pregunta02.png\" width=\"100px\" heigth=\"75px\"/></td>\n",
    " </table>"
   ]
  },
  {
   "cell_type": "code",
   "execution_count": null,
   "metadata": {},
   "outputs": [],
   "source": [
    "nombre = data.loc[:, \"NombreAtleta\"].str.contains(\"Wilma\")\n",
    "apellido = data.loc[:, \"NombreAtleta\"].str.contains(\"Rudolph\")\n",
    "wilma = data.loc[nombre & apellido]\n",
    "wilma[[\"Edad\", \"Año\", \"Temporada\", \"Ciudad\", \"Deporte\", \"Competencia\", \"Medalla\"]]\n"
   ]
  },
  {
   "cell_type": "markdown",
   "metadata": {},
   "source": [
    " <p style=\"text-align: justify;\">\n",
    " Wilma Rudolph, participo por primera vez en las olimpiadas de Melbourne en el año 1956 con tan solo 16 años, participó en dos disciplinas 200 metros planos y en el relevo 4x100 metros, en esta última competición obtubo su primera medalla de bronce.\n",
    " En los juegos olímpicos de Roma el año 1960, obtubo tres medallas de oro con tan solo 20 años de edad, las competiciones que gano fueron 100 y 200 metros planos y en el relevo de 4x100 metros.\n",
    " </p><hr>"
   ]
  },
  {
   "cell_type": "markdown",
   "metadata": {},
   "source": [
    " <table width=\"100%\">\n",
    " <td width=\"20%\" align=\"center\"><img src=\"../imagenes/pregunta03.png\" width=\"100px\" heigth=\"75px\"/></td>\n",
    " <td width=\"75%\" style=\"text-align: justify;\">\n",
    " 3. La esgrimista Helene Mayer fue la única judía que desfiló bajo la bandera Nazi y estrechó la mano de Hitler al recibir su medalla de plata. ¿En qué JJOO sucedió?\n",
    " </td>\n",
    " </table>"
   ]
  },
  {
   "cell_type": "code",
   "execution_count": null,
   "metadata": {},
   "outputs": [],
   "source": [
    "nombre = data.loc[:, \"NombreAtleta\"].str.contains(\"Helene\")\n",
    "apellido = data.loc[:, \"NombreAtleta\"].str.contains(\"Mayer\")\n",
    "anio = data.loc[:, \"Año\"]==1936\n",
    "helene = data.loc[nombre & apellido & anio]\n",
    "helene[[\"Ciudad\", \"Año\", \"Deporte\", \"Competencia\", \"Medalla\"]]\n"
   ]
  },
  {
   "cell_type": "markdown",
   "metadata": {},
   "source": [
    " <p style=\"text-align: justify;\">\n",
    " Helene Mayer en el año 1936, en los juegos realizados en Berlin Alemania, gano la medalla de plata en esgrima femenina representando a Alemania, esto permitio que los juegos se realizaran y finalmente evito el boicot internacional, ya que Hittler no quería que ningún deportista Judío representara a la Alemania Nazi de ese entonces.\n",
    " </p><hr>"
   ]
  },
  {
   "cell_type": "markdown",
   "metadata": {},
   "source": [
    " <table width=\"100%\">\n",
    " <td width=\"20%\" align=\"center\"><img src=\"../imagenes/pregunta04.png\" width=\"100px\" heigth=\"75px\"/></td>\n",
    " <td width=\"75%\" style=\"text-align: justify;\">\n",
    " 4. Bob Beamon el monstruo que saltó ocho metros noventa centímetros, en el salto del siglo ¿En qué temporada de los JJOO lo realizo?\n",
    " </td>\n",
    " </table>"
   ]
  },
  {
   "cell_type": "code",
   "execution_count": null,
   "metadata": {},
   "outputs": [],
   "source": [
    "nombre = data.loc[:, \"NombreAtleta\"].str.contains(\"Bob\")\n",
    "apellido = data.loc[:, \"NombreAtleta\"].str.contains(\"Beamon\")\n",
    "anio = data.loc[:, \"Año\"]==1968\n",
    "bob = data.loc[nombre & apellido & anio]\n",
    "bob[[\"Ciudad\", \"Año\", \"JuegosOlimpicos\",  \"Deporte\", \"Competencia\", \"Medalla\"]]\n"
   ]
  },
  {
   "cell_type": "markdown",
   "metadata": {},
   "source": [
    " <p style=\"text-align: justify;\">\n",
    " Robert Bob Beamon obtuvo el record de salto de longitud  alcanzando la distancia de 8 metros y 90 centimetros en la ciudad de Mejico en el año 1968, en los juegos olímpicos de verano, dicho récord perduró durante 22 años, 10 meses y 22 días, hasta ser superado en la final del Mundial de Tokio 1991 por Mike Powell (8,95 metros).\n",
    " </p><hr>"
   ]
  },
  {
   "cell_type": "markdown",
   "metadata": {},
   "source": [
    " <table width=\"100%\">\n",
    " <td width=\"20%\" align=\"center\"><img src=\"../imagenes/pregunta05.png\" width=\"100px\" heigth=\"75px\"/></td>\n",
    " <td width=\"75%\" style=\"text-align: justify;\">\n",
    " 5. Jim Thorpe indio piel roja, ganador olímpico, vio truncada su carrera cuando le retiraron las medallas y no fue hasta 70 años después cuando Samaranch reconoció el error y devolvió las insignias a sus hijos. ¿Dónde logro las medallas y en que disciplina?\n",
    " </td>\n",
    " </table>"
   ]
  },
  {
   "cell_type": "code",
   "execution_count": null,
   "metadata": {},
   "outputs": [],
   "source": [
    "nombre = data.loc[:, \"NombreAtleta\"].str.contains(\"Jim\")\n",
    "apellido = data.loc[:, \"NombreAtleta\"].str.contains(\"Thorpe\")\n",
    "medallas = data.loc[:, \"Medalla\"]==\"Gold\"\n",
    "jim = data.loc[nombre & apellido & medallas]\n",
    "jim[[\"JuegosOlimpicos\", \"Ciudad\", \"Deporte\", \"Competencia\", \"Medalla\"]]\n"
   ]
  },
  {
   "cell_type": "markdown",
   "metadata": {},
   "source": [
    " <p style=\"text-align: justify;\">\n",
    "  Jim Thorpe gano las medallas de oro en el Pentatlon y Decatlon en las olimpiadas de verano en 1912, realizadas en Estocolmo, estas fueron retiradas ya que Jim habia jugado béisbol de manera profesional antes de presentarse a las olimpiadas.\n",
    " </p><hr>"
   ]
  },
  {
   "cell_type": "markdown",
   "metadata": {},
   "source": [
    " <table width=\"100%\">\n",
    " <td width=\"75%\" style=\"text-align: justify;\">\n",
    " 6. ¿Puede alguien ganar una maratón corriendo descalzo y tres semanas después de ser operado de apendicitis? El etíope Abebe Bikila lo logró más tarde quedó parapléjico, pero no se rindió y siguió compitiendo con el mismo espíritu de lucha. ¿Sabes en que año logro su hazaña?\n",
    " </td>\n",
    " <td width=\"20%\" align=\"center\"><img src=\"../imagenes/pregunta06.png\" width=\"100px\" heigth=\"75px\"/></td>\n",
    " </table>"
   ]
  },
  {
   "cell_type": "code",
   "execution_count": null,
   "metadata": {},
   "outputs": [],
   "source": [
    "nombre = data.loc[:, \"NombreAtleta\"].str.contains(\"Abebe\")\n",
    "apellido = data.loc[:, \"NombreAtleta\"].str.contains(\"Bikila\")\n",
    "anio = data.loc[:, \"Año\"]==1960\n",
    "abebe = data.loc[nombre & apellido & anio]\n",
    "abebe[[\"JuegosOlimpicos\", \"Ciudad\", \"Deporte\", \"Competencia\", \"Medalla\"]]\n"
   ]
  },
  {
   "cell_type": "markdown",
   "metadata": {},
   "source": [
    " <p style=\"text-align: justify;\">\n",
    " Lo consiguio en los juegos olímpicos de Roma en 1960, además estableció una nueva marca en la maratón teniendo un tiempo de 2 horas con doce minutos y doce segundos, en 1969 el atleta se vio involucrado en un accidente de autos cerca de Adís Abeba, en Etiopía, lo que le produjo una paraplejia. Bikila nunca pudo reponerse totalmente del accidente, y falleció a los 41 años de edad.\n",
    " </p><hr>"
   ]
  },
  {
   "cell_type": "markdown",
   "metadata": {},
   "source": [
    " <table width=\"100%\">\n",
    " <td width=\"20%\" align=\"center\"><img src=\"../imagenes/pregunta07.png\" width=\"100px\" heigth=\"75px\"/></td>\n",
    " <td width=\"75%\" style=\"text-align: justify;\">\n",
    " 7. Abandonado al nacer, a los nueve años fumaba y bebía. Vivió con miedos y fobias, condicionado por su elección sexual. Dura realidad la de Louganis que acabó transformando en éxito y superación, al obtener varios oros olímpicos. ¿Sabes en que disciplina logro el podio?\n",
    " </td>\n",
    " </table>"
   ]
  },
  {
   "cell_type": "code",
   "execution_count": null,
   "metadata": {},
   "outputs": [],
   "source": [
    "apellido = data.loc[:, \"NombreAtleta\"].str.contains(\"Louganis\")\n",
    "medallas = data.loc[:, \"Medalla\"].isin([\"Gold\", \"Silver\", \"Bronze\"])\n",
    "greg = data.loc[apellido & medallas]\n",
    "greg[[\"NombreAtleta\", \"Edad\", \"Deporte\", \"Competencia\", \"JuegosOlimpicos\", \"Ciudad\", \"Medalla\"]]\n"
   ]
  },
  {
   "cell_type": "markdown",
   "metadata": {},
   "source": [
    " <p style=\"text-align: justify;\">\n",
    " Greg Louganis, compitio en cuatro olimpiadas, consiguió medalla de plata en los juegos de 1976 en Montreal (salto en plataforma) con tan solo 16 años de edad, luego participó en juegos realizados en Los Angeless 1984 y Seoul 1988 logrando medallas de oro en las especialidades de salto en trampolín y salto en plataformas consecutivamente.\n",
    " </p><hr>"
   ]
  },
  {
   "cell_type": "markdown",
   "metadata": {},
   "source": [
    " # Anecdotas de Chilenos en juegos olímpicos"
   ]
  },
  {
   "cell_type": "markdown",
   "metadata": {},
   "source": [
    " Definiendo variables comunes para estos deportistas."
   ]
  },
  {
   "cell_type": "markdown",
   "metadata": {},
   "source": [
    " <table width=\"100%\">\n",
    " <td width=\"75%\" style=\"text-align: justify;\">\n",
    " 8. Martín Vargas pelea con pañal<br>A los 17 años, Martín Vargas asistió a los JJ.OO, pero solo alcanzó a combatir una vez, ya que fue eliminado por el colombiano Calixto Pérez en estrecho veredicto. Su explicación fue contundente: \"Estaba enfermo del estómago por comer fruta mal lavada. Tuve que pelear con pañales, lo que me perjudicó. En aquella ocasión Pérez me calzó un derechazo a la cara que me tiró al suelo. Me levanté prontamente y no hubo cuenta, pero estaba nocaut. Todo el estadio nos aplaudió mucho”.\n",
    " </td>\n",
    " <td width=\"20%\" align=\"center\"><img src=\"../imagenes/pregunta08.png\" width=\"100px\" heigth=\"75px\"/></td>\n",
    " </table>"
   ]
  },
  {
   "cell_type": "code",
   "execution_count": null,
   "metadata": {},
   "outputs": [],
   "source": [
    "apellido = data.loc[:, \"NombreAtleta\"].str.contains(\"Vargas Fuentes\")\n",
    "dale_martin = data.loc[apellido & equipo]\n",
    "dale_martin[[\"NombreAtleta\", \"Competencia\", \"JuegosOlimpicos\", \"Ciudad\"]]\n"
   ]
  },
  {
   "cell_type": "markdown",
   "metadata": {},
   "source": [
    " <p style=\"text-align: justify;\">\n",
    " Aquella pelea de Martin Vargas ocurrio en los juegos olímpicos de Munich en 1972, en la categoría de peso mosca.\n",
    " </p><hr>"
   ]
  },
  {
   "cell_type": "markdown",
   "metadata": {},
   "source": [
    " <table width=\"100%\">\n",
    " <td width=\"20%\" align=\"center\"><img src=\"../imagenes/pregunta09.png\" width=\"100px\" heigth=\"75px\"/></td>\n",
    " <td width=\"75%\" style=\"text-align: justify;\">\n",
    " 9. El primer eliminado por indisciplina<br>Francisco Arellano, el \"Mono\", era hermano de David, el mártir colocolino fallecido en 1927, en Valladolid. Un año después de la desgracia, era uno de los pilares del equipo de fútbol que perdió con Portugal 4 a 2 en la primera fase. Arellano no jugó, pues fue devuelto en el mismo barco en el que había llegado. \"Me echaron sin escucharme. No fue mi culpa, lo hice para defender a un compañero. Me devolvieron con poca plata y en Buenos Aires pasé un día sin comer\". La prensa de la época no da detalles del incidente (aparentemente, una pelea a golpes), aunque otro hermano, Alberto, fundador del Círculo de Periodistas Deportivos, lo defendió: \"Volvió para asistir al funeral de nuestra madre\".\n",
    " </td>\n",
    " </table>"
   ]
  },
  {
   "cell_type": "code",
   "execution_count": null,
   "metadata": {},
   "outputs": [],
   "source": [
    "deporte = data.loc[:, \"Deporte\"]==\"Football\"\n",
    "anio = data.loc[:, \"Año\"]==1928\n",
    "arellano = data.loc[deporte & anio & equipo]\n",
    "arellano[[\"NombreAtleta\", \"Equipo\", \"Deporte\", \"JuegosOlimpicos\", \"Ciudad\"]].head(22)\n"
   ]
  },
  {
   "cell_type": "markdown",
   "metadata": {},
   "source": [
    " <p style=\"text-align: justify;\">\n",
    " Este episodio ocurre en los juegos olímpicos de Amsterdam de 1928, la lista anterior se pueden visualizar los compañeros de Francisco Arellano que si participaron del certamen.\n",
    " </p><hr>"
   ]
  },
  {
   "cell_type": "markdown",
   "metadata": {},
   "source": [
    " <table width=\"100%\">\n",
    " <td width=\"95%\" style=\"text-align: justify;\">\n",
    " 10. La primera mujer a pan y té<br>Raquel Martínez recién se había titulado como profesora de Educación Física cuando el rector de la Universidad de Chile, Juvenal Hernández, encabezó la campaña para costear su pasaje, donde se convertiría en la primera mujer chilena en participar de los JJ.OO. Lo suyo rozó la tragedia. En el barco, según contó, \"la comida era tan mala que casi todos se enfermaron. Yo opté por consumir solo té y pan durante 10 días. La fiebre me atacó y estuve en cama hasta que llegué a Frankfurt\". Tras la odisea compitió. Fue última en su serie de 100 metros planos.\n",
    " </td>\n",
    " </table>"
   ]
  },
  {
   "cell_type": "code",
   "execution_count": null,
   "metadata": {},
   "outputs": [],
   "source": [
    "nombre = data.loc[:, \"NombreAtleta\"].str.contains(\"Raquel\")\n",
    "raquel = data.loc[nombre & equipo]\n",
    "raquel[campos]\n"
   ]
  },
  {
   "cell_type": "markdown",
   "metadata": {},
   "source": [
    " <p style=\"text-align: justify;\">\n",
    " Raquel Martínez vivió esta lamentable situación en los juegos olímpicos de Berlin en el año 1936, compitiendo en los 100 metros planos en la división femenina.\n",
    " </p><hr>"
   ]
  },
  {
   "cell_type": "markdown",
   "metadata": {},
   "source": [
    " <table width=\"100%\">\n",
    " <td width=\"95%\" style=\"text-align: justify;\">\n",
    " 11. El blanco más rápido en el living<br>Iván Moreno llegó en su mejor momento a los JJ.OO Había adquirido experiencia en Tokio 64 y todo hacía pensar que elevaría sus marcas. El problema es que estuvo en cama dos días antes de su prueba, por una gripe. ¿La razón? Chile fue asignado al edificio 6, en el cuarto piso. Era un departamento que tenía tres dormitorios y un living, que fueron ocupados por orden de llegada. Y los primeros en llegar fueron los equitadores y boxeadores. Luego los tiradores y al final, los atletas, que debieron ocupar el living. \"El lugar se transformó en pasillo y las corrientes de aire terminaron por resfriar a todo el equipo\", confesó Jorge Grosser, otro atleta que tuvo fiebre. Moreno, en todo caso, igual respondió llegando a semifinales en 100 y 200 metros planos.\n",
    " </td>\n",
    " </table>"
   ]
  },
  {
   "cell_type": "code",
   "execution_count": null,
   "metadata": {},
   "outputs": [],
   "source": [
    "nombre = data.loc[:, \"NombreAtleta\"].str.contains(\"Iv\")\n",
    "apellido = data.loc[:, \"NombreAtleta\"].str.contains(\"Moreno\")\n",
    "anio = data.loc[:, \"Año\"]!=1964\n",
    "ivan = data.loc[nombre & apellido & equipo & anio]\n",
    "ivan[campos]\n"
   ]
  },
  {
   "cell_type": "markdown",
   "metadata": {},
   "source": [
    " <p style=\"text-align: justify;\">\n",
    " Esta anecdota ocurrió en los juegos olímpicos del año 1968 en Ciudad de Méjico.\n",
    " </p><hr>"
   ]
  },
  {
   "cell_type": "markdown",
   "metadata": {},
   "source": [
    " <table width=\"100%\">\n",
    " <td width=\"95%\" style=\"text-align: justify;\">\n",
    " 12. El primer chileno, ¿a los 14?<br>Nunca se ha sabido con certeza, pero los griegos tienen su registro propio y dicen que acudió un chileno de nombre Luis Subercaseaux Errázuriz, quien se entusiasmó, se inscribió, le prestaron indumentaria e ingresó a la historia. Habría corrido los 100 y 400 metros, aunque no hay registro de ubicación ni marcas. En la inscripción quedó como representante chileno gracias al pasaporte diplomático. Al cumplirse el centenario de su gesta, Ramón Subercaseaux, su hijo, agregó datos a la historia en \"El Mercurio\", señalando que mandó confeccionar una bandera chilena para lucirla en el evento. Si así hubiese ocurrido, Subercaseaux habría participado con 14 años, ya que nació en 1882.\n",
    " </td>\n",
    " </table>"
   ]
  },
  {
   "cell_type": "code",
   "execution_count": null,
   "metadata": {},
   "outputs": [],
   "source": [
    "apellido = data.loc[:, \"NombreAtleta\"].str.contains(\"Subercaseaux\")\n",
    "anio = data.loc[:, \"Año\"]==1896\n",
    "luis = data.loc[nombre & anio]\n",
    "luis[campos]\n"
   ]
  },
  {
   "cell_type": "markdown",
   "metadata": {},
   "source": [
    " <p style=\"text-align: justify;\">\n",
    " No es posible encontrar datos asociados a Luis Subercaseaux, se ha buscado la información por el apellido \"Subercaseaux\" y el año \"1896\" y los filtros no arrojan resultados.\n",
    " </p><hr>"
   ]
  },
  {
   "cell_type": "markdown",
   "metadata": {},
   "source": [
    " <table width=\"100%\">\n",
    " <td width=\"95%\" style=\"text-align: justify;\">\n",
    " 13. La crisis nerviosa de la hermana de Mund<br>Gunther Mund fue pionero en los saltos ornamentales en Chile. Participó en Londres con apenas 14 años, y en Melbourne ya tenía la experiencia y talento suficientes para estar en la final de la plataforma de tres metros, donde logra un meritorio séptimo lugar. A esos juegos viaja acompañado de su hermana Lilo, quien debía hospedarse junto a Marlene Ahrens en la Villa Olímpica, pero no pudo competir debido a que al ser separada de su hermano, \"la atrapó el temor de la absoluta soledad que anulaba su personalidad y sufrió una crisis nerviosa\", explicó su madre, Margarita.\n",
    " </td>\n",
    " </table>"
   ]
  },
  {
   "cell_type": "code",
   "execution_count": null,
   "metadata": {},
   "outputs": [],
   "source": [
    "nombre = data.loc[:, \"NombreAtleta\"].str.contains(\"Lilo\")\n",
    "apellido = data.loc[:, \"NombreAtleta\"].str.contains(\"Mund\")\n",
    "lilo = data.loc[nombre & apellido & equipo]\n",
    "lilo[campos]\n"
   ]
  },
  {
   "cell_type": "markdown",
   "metadata": {},
   "source": [
    " <p style=\"text-align: justify;\">\n",
    " Lilo sufrio aquel incidente en los juegos olímpicos del año 1956 en Melbourne, estaba inscrita en la disciplina de salto de plataforma.\n",
    " </p><hr>"
   ]
  }
 ],
 "metadata": {
  "kernelspec": {
   "display_name": "Python 3",
   "language": "python",
   "name": "python3"
  },
  "language_info": {
   "codemirror_mode": {
    "name": "ipython",
    "version": 3
   },
   "file_extension": ".py",
   "mimetype": "text/x-python",
   "name": "python",
   "nbconvert_exporter": "python",
   "pygments_lexer": "ipython3",
   "version": "3.7.6"
  }
 },
 "nbformat": 4,
 "nbformat_minor": 2
}
