{
 "cells": [
  {
   "cell_type": "code",
   "execution_count": 1,
   "metadata": {},
   "outputs": [
    {
     "ename": "AttributeError",
     "evalue": "module 'numpy' has no attribute '__version__'",
     "output_type": "error",
     "traceback": [
      "\u001b[1;31m---------------------------------------------------------------------------\u001b[0m",
      "\u001b[1;31mAttributeError\u001b[0m                            Traceback (most recent call last)",
      "\u001b[1;32m<ipython-input-1-29a718688dc9>\u001b[0m in \u001b[0;36m<module>\u001b[1;34m\u001b[0m\n\u001b[1;32m----> 1\u001b[1;33m \u001b[1;32mimport\u001b[0m \u001b[0mpandas\u001b[0m \u001b[1;32mas\u001b[0m \u001b[0mpd\u001b[0m\u001b[1;33m\u001b[0m\u001b[1;33m\u001b[0m\u001b[0m\n\u001b[0m\u001b[0;32m      2\u001b[0m \u001b[1;32mimport\u001b[0m \u001b[0mpandas_profiling\u001b[0m\u001b[1;33m\u001b[0m\u001b[1;33m\u001b[0m\u001b[0m\n\u001b[0;32m      3\u001b[0m \u001b[1;32mfrom\u001b[0m \u001b[0mpandas_profiling\u001b[0m \u001b[1;32mimport\u001b[0m \u001b[0mProfileReport\u001b[0m\u001b[1;33m\u001b[0m\u001b[1;33m\u001b[0m\u001b[0m\n\u001b[0;32m      4\u001b[0m \u001b[1;32mimport\u001b[0m \u001b[0mnumpy\u001b[0m \u001b[1;32mas\u001b[0m \u001b[0mnp\u001b[0m\u001b[1;33m\u001b[0m\u001b[1;33m\u001b[0m\u001b[0m\n\u001b[0;32m      5\u001b[0m \u001b[1;32mimport\u001b[0m \u001b[0mmatplotlib\u001b[0m\u001b[1;33m.\u001b[0m\u001b[0mpyplot\u001b[0m \u001b[1;32mas\u001b[0m \u001b[0mplt\u001b[0m\u001b[1;33m\u001b[0m\u001b[1;33m\u001b[0m\u001b[0m\n",
      "\u001b[1;32mD:\\appz\\anaconda-3.2020.02\\lib\\site-packages\\pandas\\__init__.py\u001b[0m in \u001b[0;36m<module>\u001b[1;34m\u001b[0m\n\u001b[0;32m     20\u001b[0m \u001b[1;33m\u001b[0m\u001b[0m\n\u001b[0;32m     21\u001b[0m \u001b[1;31m# numpy compat\u001b[0m\u001b[1;33m\u001b[0m\u001b[1;33m\u001b[0m\u001b[1;33m\u001b[0m\u001b[0m\n\u001b[1;32m---> 22\u001b[1;33m from pandas.compat.numpy import (\n\u001b[0m\u001b[0;32m     23\u001b[0m     \u001b[0m_np_version_under1p14\u001b[0m\u001b[1;33m,\u001b[0m\u001b[1;33m\u001b[0m\u001b[1;33m\u001b[0m\u001b[0m\n\u001b[0;32m     24\u001b[0m     \u001b[0m_np_version_under1p15\u001b[0m\u001b[1;33m,\u001b[0m\u001b[1;33m\u001b[0m\u001b[1;33m\u001b[0m\u001b[0m\n",
      "\u001b[1;32mD:\\appz\\anaconda-3.2020.02\\lib\\site-packages\\pandas\\compat\\numpy\\__init__.py\u001b[0m in \u001b[0;36m<module>\u001b[1;34m\u001b[0m\n\u001b[0;32m      7\u001b[0m \u001b[1;33m\u001b[0m\u001b[0m\n\u001b[0;32m      8\u001b[0m \u001b[1;31m# numpy versioning\u001b[0m\u001b[1;33m\u001b[0m\u001b[1;33m\u001b[0m\u001b[1;33m\u001b[0m\u001b[0m\n\u001b[1;32m----> 9\u001b[1;33m \u001b[0m_np_version\u001b[0m \u001b[1;33m=\u001b[0m \u001b[0mnp\u001b[0m\u001b[1;33m.\u001b[0m\u001b[0m__version__\u001b[0m\u001b[1;33m\u001b[0m\u001b[1;33m\u001b[0m\u001b[0m\n\u001b[0m\u001b[0;32m     10\u001b[0m \u001b[0m_nlv\u001b[0m \u001b[1;33m=\u001b[0m \u001b[0mLooseVersion\u001b[0m\u001b[1;33m(\u001b[0m\u001b[0m_np_version\u001b[0m\u001b[1;33m)\u001b[0m\u001b[1;33m\u001b[0m\u001b[1;33m\u001b[0m\u001b[0m\n\u001b[0;32m     11\u001b[0m \u001b[0m_np_version_under1p14\u001b[0m \u001b[1;33m=\u001b[0m \u001b[0m_nlv\u001b[0m \u001b[1;33m<\u001b[0m \u001b[0mLooseVersion\u001b[0m\u001b[1;33m(\u001b[0m\u001b[1;34m\"1.14\"\u001b[0m\u001b[1;33m)\u001b[0m\u001b[1;33m\u001b[0m\u001b[1;33m\u001b[0m\u001b[0m\n",
      "\u001b[1;31mAttributeError\u001b[0m: module 'numpy' has no attribute '__version__'"
     ]
    }
   ],
   "source": [
    "import pandas as pd\n",
    "import pandas_profiling\n",
    "from pandas_profiling import ProfileReport\n",
    "import numpy as np\n",
    "import matplotlib.pyplot as plt\n",
    "import seaborn as sns\n",
    "import os\n",
    "from os import scandir, getcwd, path\n"
   ]
  },
  {
   "cell_type": "code",
   "execution_count": null,
   "metadata": {},
   "outputs": [],
   "source": [
    "def load_workbook(path_excel_file, file_name):\n",
    "    excel_file = os.path.join(path_excel_file, file_name)\n",
    "    return pd.ExcelFile(excel_file)\n"
   ]
  },
  {
   "cell_type": "code",
   "execution_count": null,
   "metadata": {},
   "outputs": [],
   "source": [
    "def load_worksheet(workbook, worksheet_name, init_row, drop_fields):\n",
    "    worksheet = workbook.parse(sheet_name=worksheet_name, skiprows=init_row)\n",
    "    worksheet.drop(drop_fields, axis=1, inplace=True)\n",
    "    return pd.DataFrame(worksheet)\n"
   ]
  },
  {
   "cell_type": "code",
   "execution_count": null,
   "metadata": {},
   "outputs": [],
   "source": [
    "def combine_dataframe(df_left, df_right):\n",
    "    df_merged = pd.merge(\n",
    "        left=df_left, right=df_right, \n",
    "        left_on='ID', right_on='ID')\n",
    "    return df_merged\n"
   ]
  },
  {
   "cell_type": "code",
   "execution_count": null,
   "metadata": {},
   "outputs": [],
   "source": [
    "def generate_dataframe(workbook):\n",
    "    risk_list = load_worksheet(workbook, 'identificacionRiesgos', 4, [\"Respuesta\", \"Causa raíz\", \"Identificación\"])\n",
    "    risk_matrix = load_worksheet(workbook, 'matriz', 4, [\"Riesgo\", \"Tipo\"])\n",
    "    risk_response = load_worksheet(workbook, 'respuestaRiesgos', 4, [\"Riesgo\", \"global\", \"Prioridad\"])\n",
    "    df = combine_dataframe(risk_list, risk_matrix)\n",
    "    return  combine_dataframe(df, risk_response)\n"
   ]
  },
  {
   "cell_type": "code",
   "execution_count": null,
   "metadata": {},
   "outputs": [],
   "source": [
    "def clean_dataframe(df):\n",
    "    df.drop([\"A\"], axis=1, inplace=True)\n",
    "    df.columns = [\"ID\", \"riesgo\", \"categoría\", \"subcategoría\", \"tipo_riesgo\", \"objetivo_alcance\", \n",
    "    \"objetivo_cronograma\", \"objetivo_costos\", \"objetivo_calidad\", \"tipo_impacto\", \"probabilidad\", \"valor_probabilidad\", \n",
    "    \"impacto_alcance\", \"impacto_cronograma\", \"impacto_costos\", \"impacto_calidad\", \"valor_alcance\", \"valor_cronograma\", \n",
    "    \"valor_costos\", \"valor_calidad\", \"puntuacion_alcance\", \"puntuacion_cronograma\", \"puntuacion_costos\", \"puntuacion_calidad\", \n",
    "    \"valoracion_global\", \"prioridad_riesgo\", \"dueño\", \"responsable\", \"plan_respuesta_predet\", \"estrategia_respuesta\", \n",
    "    \"plan_respuesta_adapt\", \"riesgo_residual\", \"riesgo_activado\", \"fecha_activacion\"]\n",
    "    return df\n",
    "\n",
    "\n"
   ]
  },
  {
   "cell_type": "markdown",
   "metadata": {},
   "source": [
    " # Cargando datos de riesgos"
   ]
  },
  {
   "cell_type": "code",
   "execution_count": null,
   "metadata": {},
   "outputs": [],
   "source": [
    "data=pd.DataFrame({'A' : []})\n",
    "path_excel_files =\"../data/original\"\n",
    "file_list = [file.name for file in scandir(path_excel_files) if file.is_file()]\n",
    "for file in file_list:\n",
    "    workbook = load_workbook(path_excel_files, file)\n",
    "    data_temp = generate_dataframe(workbook) \n",
    "    data = pd.concat([data, data_temp], axis=0)\n",
    "data = clean_dataframe(data)\n",
    "data \n",
    "\n",
    "\n"
   ]
  },
  {
   "cell_type": "markdown",
   "metadata": {},
   "source": [
    " # Visualizando estado del dataframe de riesgos"
   ]
  },
  {
   "cell_type": "code",
   "execution_count": null,
   "metadata": {},
   "outputs": [],
   "source": [
    "data.describe(include=\"all\")\n"
   ]
  },
  {
   "cell_type": "code",
   "execution_count": null,
   "metadata": {},
   "outputs": [],
   "source": [
    "data.dtypes\n",
    "\n"
   ]
  },
  {
   "cell_type": "markdown",
   "metadata": {},
   "source": [
    " # Transformando datos del dataframe de riesgos"
   ]
  },
  {
   "cell_type": "code",
   "execution_count": null,
   "metadata": {},
   "outputs": [],
   "source": [
    "def change_value_fields(df, fields):\n",
    "    for field in fields:\n",
    "        df.loc[df[field]==\"X\", field] = 1\n",
    "        df.loc[df[field]==\"-\", field] = np.NAN\n",
    "    return df\n"
   ]
  },
  {
   "cell_type": "code",
   "execution_count": null,
   "metadata": {},
   "outputs": [],
   "source": [
    "fields = [\"objetivo_alcance\", \"objetivo_cronograma\", \"objetivo_costos\", \"objetivo_calidad\",\n",
    "\"impacto_alcance\", \"impacto_cronograma\", \"impacto_costos\", \"impacto_calidad\"] \n",
    "data = change_value_fields(data, fields)\n",
    "#data.drop([\"valor_probabilidad\", \"valor_alcance\", \"valor_cronograma\", \"valor_costos\", \n",
    "#\"valor_calidad\", \"puntuacion_alcance\", \"puntuacion_cronograma\", \"puntuacion_costos\", \"puntuacion_calidad\"], axis=1, inplace=True)\n",
    "data.head()\n"
   ]
  },
  {
   "cell_type": "markdown",
   "metadata": {},
   "source": [
    " Categorizando los riesgos"
   ]
  },
  {
   "cell_type": "code",
   "execution_count": null,
   "metadata": {},
   "outputs": [],
   "source": [
    "data[\"proyecto\"]=\"\"\n",
    "data.loc[data[\"ID\"].str.contains(\"IN\"), \"proyecto\"]=\"Intranet\"\n",
    "data.loc[data[\"ID\"].str.contains(\"FM\"), \"proyecto\"]=\"Farmacia\"\n",
    "data.loc[data[\"ID\"].str.contains(\"IS\"), \"proyecto\"]=\"Isapre\"\n",
    "data.loc[data[\"ID\"].str.contains(\"VS\"), \"proyecto\"]=\"Vida sana\"\n",
    "data.loc[data[\"ID\"].str.contains(\"TM\"), \"proyecto\"]=\"Telemedicina\"\n",
    "data.head()\n",
    "\n"
   ]
  },
  {
   "cell_type": "markdown",
   "metadata": {},
   "source": [
    " # Visualizando estado de las variables"
   ]
  },
  {
   "cell_type": "code",
   "execution_count": null,
   "metadata": {},
   "outputs": [],
   "source": [
    "%matplotlib inline \n",
    "def show_plot(field, title, xtitle, ytitle):\n",
    "    data[field].hist()\n",
    "    plt.title(title)\n",
    "    plt.xlabel(xtitle)\n",
    "    plt.ylabel(ytitle)\n",
    "    plt.show()\n",
    "    return \n",
    "\n",
    "\n"
   ]
  },
  {
   "cell_type": "code",
   "execution_count": null,
   "metadata": {},
   "outputs": [],
   "source": [
    "show_plot(\"proyecto\", \"Relación de tipos de proyectos\", \"Tipo proyecto\", \"Cantidad de riesgos\")\n"
   ]
  },
  {
   "cell_type": "code",
   "execution_count": null,
   "metadata": {},
   "outputs": [],
   "source": [
    "show_plot(\"tipo_riesgo\", \"Relación de tipos de riesgos\", \"Tipo de riesgo\", \"Cantidad de riesgos\")\n"
   ]
  },
  {
   "cell_type": "code",
   "execution_count": null,
   "metadata": {},
   "outputs": [],
   "source": [
    "show_plot(\"tipo_impacto\", \"Relación de tipos de impacto\", \"Tipo de impacto\", \"Cantidad de riesgos\")\n"
   ]
  },
  {
   "cell_type": "code",
   "execution_count": null,
   "metadata": {},
   "outputs": [],
   "source": [
    "show_plot(\"probabilidad\", \"Relación de probabilidad de riesgo\", \"Probabilidad\", \"Cantidad de riesgos\")\n"
   ]
  },
  {
   "cell_type": "code",
   "execution_count": null,
   "metadata": {},
   "outputs": [],
   "source": [
    "show_plot(\"prioridad_riesgo\", \"Relación de prioridad de riesgos\", \"Prioridad\", \"Cantidad de riesgos\")\n"
   ]
  },
  {
   "cell_type": "markdown",
   "metadata": {},
   "source": [
    " # Estructura de desglose de riesgos"
   ]
  },
  {
   "cell_type": "code",
   "execution_count": null,
   "metadata": {},
   "outputs": [],
   "source": [
    "rbs = data.pivot_table(index=[\"categoría\", \"subcategoría\", \"ID\", \"riesgo\"], columns=\"ID\", aggfunc=\"count\")\n",
    "rbs \n",
    "\n",
    "\n",
    "\n"
   ]
  },
  {
   "cell_type": "markdown",
   "metadata": {},
   "source": [
    " # Almacenando el dataframe de riesgos"
   ]
  },
  {
   "cell_type": "code",
   "execution_count": null,
   "metadata": {},
   "outputs": [],
   "source": [
    "data_file=\"../data/intermediate/riesgos.csv\"\n",
    "data.to_csv(data_file, index=False, encoding='utf-8-sig', float_format='%.2f')\n",
    "print(data_file, \" almacenado.\")\n"
   ]
  },
  {
   "cell_type": "code",
   "execution_count": null,
   "metadata": {},
   "outputs": [],
   "source": [
    "fields = [\"riesgo\", \"dueño\", \"responsable\", \"plan_respuesta_predet\",\n",
    "\"estrategia_respuesta\", \"plan_respuesta_adapt\", \"riesgo_residual\", \"riesgo_activado\", \"fecha_activacion\"]\n",
    "data.drop(fields, axis=1, inplace=True)\n"
   ]
  },
  {
   "cell_type": "code",
   "execution_count": null,
   "metadata": {},
   "outputs": [],
   "source": [
    "data_file=\"../data/intermediate/riesgos-analisis.csv\"\n",
    "data.to_csv(data_file, index=False, encoding='utf-8-sig', float_format='%.2f')\n",
    "print(data_file, \" almacenado.\")\n"
   ]
  },
  {
   "cell_type": "code",
   "execution_count": null,
   "metadata": {},
   "outputs": [],
   "source": [
    "data.reset_index(drop=True, inplace=True)\n",
    "pp = ProfileReport(data).to_file('report.html')\n",
    "pp"
   ]
  },
  {
   "cell_type": "code",
   "execution_count": null,
   "metadata": {},
   "outputs": [],
   "source": []
  }
 ],
 "metadata": {
  "kernelspec": {
   "display_name": "Python 3",
   "language": "python",
   "name": "python3"
  },
  "language_info": {
   "codemirror_mode": {
    "name": "ipython",
    "version": 3
   },
   "file_extension": ".py",
   "mimetype": "text/x-python",
   "name": "python",
   "nbconvert_exporter": "python",
   "pygments_lexer": "ipython3",
   "version": "3.7.6"
  }
 },
 "nbformat": 4,
 "nbformat_minor": 2
}
