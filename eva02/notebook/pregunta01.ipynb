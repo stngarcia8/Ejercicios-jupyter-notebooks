{
 "cells": [
  {
   "cell_type": "markdown",
   "metadata": {},
   "source": [
    " # Evaluación 02 -  Juegos Olímpicos\n",
    " Alumno: Daniel García Loyola<br>\n",
    " Profesor: Israel Naranjo Retamal<br>\n",
    " Ramo: Minería de datos (MDY7101)<br>\n",
    " Sección: 002D<br>\n",
    " Entrega: 12/06/2020<br>\n",
    " Pregunta: 01"
   ]
  },
  {
   "cell_type": "code",
   "execution_count": null,
   "metadata": {},
   "outputs": [],
   "source": []
  },
  {
   "cell_type": "code",
   "execution_count": 1075,
   "metadata": {},
   "outputs": [],
   "source": [
    "import pandas as pd\n",
    "import numpy as np\n",
    "import matplotlib.pyplot as plt\n",
    "import seaborn as sns\n",
    "import warnings\n",
    "\n"
   ]
  },
  {
   "cell_type": "code",
   "execution_count": 1076,
   "metadata": {},
   "outputs": [],
   "source": [
    "# Ajustes al notebook\n",
    "warnings.filterwarnings('ignore')\n",
    "plt.rcParams['figure.figsize'] = (8, 8)\n",
    "\n"
   ]
  },
  {
   "cell_type": "markdown",
   "metadata": {},
   "source": [
    " # Cargando datos de juegos olímpicos"
   ]
  },
  {
   "cell_type": "code",
   "execution_count": 1077,
   "metadata": {},
   "outputs": [
    {
     "data": {
      "text/plain": [
       "(271116, 15)"
      ]
     },
     "execution_count": 1077,
     "metadata": {},
     "output_type": "execute_result"
    }
   ],
   "source": [
    "data_file = \"../data/original/JuegosOlimpicos.csv\"\n",
    "data = pd.read_csv(data_file, engine='python')\n",
    "data.shape\n"
   ]
  },
  {
   "cell_type": "markdown",
   "metadata": {},
   "source": [
    " Ajustando nombres de columnas."
   ]
  },
  {
   "cell_type": "code",
   "execution_count": 1078,
   "metadata": {},
   "outputs": [
    {
     "data": {
      "text/plain": [
       "Index(['ID', 'NombreAtleta', 'Sexo', 'Edad', 'Altura', 'Peso', 'Equipo',\n",
       "       'Comite', 'JuegosOlimpicos', 'Año', 'Temporada', 'Ciudad', 'Deporte',\n",
       "       'Competencia', 'Medalla'],\n",
       "      dtype='object')"
      ]
     },
     "execution_count": 1078,
     "metadata": {},
     "output_type": "execute_result"
    }
   ],
   "source": [
    "data.columns = [\n",
    "    'ID', 'NombreAtleta', 'Sexo',\n",
    "    'Edad', 'Altura', 'Peso',\n",
    "    'Equipo', 'Comite',\n",
    "    'JuegosOlimpicos', 'Año', 'Temporada', 'Ciudad',\n",
    "    'Deporte', 'Competencia', 'Medalla']\n",
    "data.columns\n"
   ]
  },
  {
   "cell_type": "markdown",
   "metadata": {},
   "source": [
    " # Explorando datos"
   ]
  },
  {
   "cell_type": "code",
   "execution_count": 1079,
   "metadata": {},
   "outputs": [
    {
     "data": {
      "text/html": [
       "<div>\n",
       "<style scoped>\n",
       "    .dataframe tbody tr th:only-of-type {\n",
       "        vertical-align: middle;\n",
       "    }\n",
       "\n",
       "    .dataframe tbody tr th {\n",
       "        vertical-align: top;\n",
       "    }\n",
       "\n",
       "    .dataframe thead th {\n",
       "        text-align: right;\n",
       "    }\n",
       "</style>\n",
       "<table border=\"1\" class=\"dataframe\">\n",
       "  <thead>\n",
       "    <tr style=\"text-align: right;\">\n",
       "      <th></th>\n",
       "      <th>ID</th>\n",
       "      <th>NombreAtleta</th>\n",
       "      <th>Sexo</th>\n",
       "      <th>Edad</th>\n",
       "      <th>Altura</th>\n",
       "      <th>Peso</th>\n",
       "      <th>Equipo</th>\n",
       "      <th>Comite</th>\n",
       "      <th>JuegosOlimpicos</th>\n",
       "      <th>Año</th>\n",
       "      <th>Temporada</th>\n",
       "      <th>Ciudad</th>\n",
       "      <th>Deporte</th>\n",
       "      <th>Competencia</th>\n",
       "      <th>Medalla</th>\n",
       "    </tr>\n",
       "  </thead>\n",
       "  <tbody>\n",
       "    <tr>\n",
       "      <th>0</th>\n",
       "      <td>1</td>\n",
       "      <td>A Dijiang</td>\n",
       "      <td>M</td>\n",
       "      <td>24.0</td>\n",
       "      <td>180.0</td>\n",
       "      <td>80.0</td>\n",
       "      <td>China</td>\n",
       "      <td>CHN</td>\n",
       "      <td>1992 Summer</td>\n",
       "      <td>1992</td>\n",
       "      <td>Summer</td>\n",
       "      <td>Barcelona</td>\n",
       "      <td>Basketball</td>\n",
       "      <td>Basketball Men's Basketball</td>\n",
       "      <td>NaN</td>\n",
       "    </tr>\n",
       "    <tr>\n",
       "      <th>1</th>\n",
       "      <td>2</td>\n",
       "      <td>A Lamusi</td>\n",
       "      <td>M</td>\n",
       "      <td>23.0</td>\n",
       "      <td>170.0</td>\n",
       "      <td>60.0</td>\n",
       "      <td>China</td>\n",
       "      <td>CHN</td>\n",
       "      <td>2012 Summer</td>\n",
       "      <td>2012</td>\n",
       "      <td>Summer</td>\n",
       "      <td>London</td>\n",
       "      <td>Judo</td>\n",
       "      <td>Judo Men's Extra-Lightweight</td>\n",
       "      <td>NaN</td>\n",
       "    </tr>\n",
       "    <tr>\n",
       "      <th>2</th>\n",
       "      <td>3</td>\n",
       "      <td>Gunnar Nielsen Aaby</td>\n",
       "      <td>M</td>\n",
       "      <td>24.0</td>\n",
       "      <td>NaN</td>\n",
       "      <td>NaN</td>\n",
       "      <td>Denmark</td>\n",
       "      <td>DEN</td>\n",
       "      <td>1920 Summer</td>\n",
       "      <td>1920</td>\n",
       "      <td>Summer</td>\n",
       "      <td>Antwerpen</td>\n",
       "      <td>Football</td>\n",
       "      <td>Football Men's Football</td>\n",
       "      <td>NaN</td>\n",
       "    </tr>\n",
       "    <tr>\n",
       "      <th>3</th>\n",
       "      <td>4</td>\n",
       "      <td>Edgar Lindenau Aabye</td>\n",
       "      <td>M</td>\n",
       "      <td>34.0</td>\n",
       "      <td>NaN</td>\n",
       "      <td>NaN</td>\n",
       "      <td>Denmark/Sweden</td>\n",
       "      <td>DEN</td>\n",
       "      <td>1900 Summer</td>\n",
       "      <td>1900</td>\n",
       "      <td>Summer</td>\n",
       "      <td>Paris</td>\n",
       "      <td>Tug-Of-War</td>\n",
       "      <td>Tug-Of-War Men's Tug-Of-War</td>\n",
       "      <td>Gold</td>\n",
       "    </tr>\n",
       "    <tr>\n",
       "      <th>4</th>\n",
       "      <td>5</td>\n",
       "      <td>Christine Jacoba Aaftink</td>\n",
       "      <td>F</td>\n",
       "      <td>21.0</td>\n",
       "      <td>185.0</td>\n",
       "      <td>82.0</td>\n",
       "      <td>Netherlands</td>\n",
       "      <td>NED</td>\n",
       "      <td>1988 Winter</td>\n",
       "      <td>1988</td>\n",
       "      <td>Winter</td>\n",
       "      <td>Calgary</td>\n",
       "      <td>Speed Skating</td>\n",
       "      <td>Speed Skating Women's 500 metres</td>\n",
       "      <td>NaN</td>\n",
       "    </tr>\n",
       "  </tbody>\n",
       "</table>\n",
       "</div>"
      ],
      "text/plain": [
       "   ID              NombreAtleta Sexo  Edad  Altura  Peso          Equipo  \\\n",
       "0   1                 A Dijiang    M  24.0   180.0  80.0           China   \n",
       "1   2                  A Lamusi    M  23.0   170.0  60.0           China   \n",
       "2   3       Gunnar Nielsen Aaby    M  24.0     NaN   NaN         Denmark   \n",
       "3   4      Edgar Lindenau Aabye    M  34.0     NaN   NaN  Denmark/Sweden   \n",
       "4   5  Christine Jacoba Aaftink    F  21.0   185.0  82.0     Netherlands   \n",
       "\n",
       "  Comite JuegosOlimpicos   Año Temporada     Ciudad        Deporte  \\\n",
       "0    CHN     1992 Summer  1992    Summer  Barcelona     Basketball   \n",
       "1    CHN     2012 Summer  2012    Summer     London           Judo   \n",
       "2    DEN     1920 Summer  1920    Summer  Antwerpen       Football   \n",
       "3    DEN     1900 Summer  1900    Summer      Paris     Tug-Of-War   \n",
       "4    NED     1988 Winter  1988    Winter    Calgary  Speed Skating   \n",
       "\n",
       "                        Competencia Medalla  \n",
       "0       Basketball Men's Basketball     NaN  \n",
       "1      Judo Men's Extra-Lightweight     NaN  \n",
       "2           Football Men's Football     NaN  \n",
       "3       Tug-Of-War Men's Tug-Of-War    Gold  \n",
       "4  Speed Skating Women's 500 metres     NaN  "
      ]
     },
     "execution_count": 1079,
     "metadata": {},
     "output_type": "execute_result"
    }
   ],
   "source": [
    "data.head()\n"
   ]
  },
  {
   "cell_type": "code",
   "execution_count": 1080,
   "metadata": {},
   "outputs": [
    {
     "data": {
      "text/html": [
       "<div>\n",
       "<style scoped>\n",
       "    .dataframe tbody tr th:only-of-type {\n",
       "        vertical-align: middle;\n",
       "    }\n",
       "\n",
       "    .dataframe tbody tr th {\n",
       "        vertical-align: top;\n",
       "    }\n",
       "\n",
       "    .dataframe thead th {\n",
       "        text-align: right;\n",
       "    }\n",
       "</style>\n",
       "<table border=\"1\" class=\"dataframe\">\n",
       "  <thead>\n",
       "    <tr style=\"text-align: right;\">\n",
       "      <th></th>\n",
       "      <th>ID</th>\n",
       "      <th>NombreAtleta</th>\n",
       "      <th>Sexo</th>\n",
       "      <th>Edad</th>\n",
       "      <th>Altura</th>\n",
       "      <th>Peso</th>\n",
       "      <th>Equipo</th>\n",
       "      <th>Comite</th>\n",
       "      <th>JuegosOlimpicos</th>\n",
       "      <th>Año</th>\n",
       "      <th>Temporada</th>\n",
       "      <th>Ciudad</th>\n",
       "      <th>Deporte</th>\n",
       "      <th>Competencia</th>\n",
       "      <th>Medalla</th>\n",
       "    </tr>\n",
       "  </thead>\n",
       "  <tbody>\n",
       "    <tr>\n",
       "      <th>count</th>\n",
       "      <td>271116.000000</td>\n",
       "      <td>271116</td>\n",
       "      <td>271116</td>\n",
       "      <td>261642.000000</td>\n",
       "      <td>210945.000000</td>\n",
       "      <td>208241.000000</td>\n",
       "      <td>271116</td>\n",
       "      <td>271116</td>\n",
       "      <td>271116</td>\n",
       "      <td>271116.000000</td>\n",
       "      <td>271116</td>\n",
       "      <td>271116</td>\n",
       "      <td>271116</td>\n",
       "      <td>271116</td>\n",
       "      <td>39783</td>\n",
       "    </tr>\n",
       "    <tr>\n",
       "      <th>unique</th>\n",
       "      <td>NaN</td>\n",
       "      <td>134732</td>\n",
       "      <td>2</td>\n",
       "      <td>NaN</td>\n",
       "      <td>NaN</td>\n",
       "      <td>NaN</td>\n",
       "      <td>1184</td>\n",
       "      <td>230</td>\n",
       "      <td>51</td>\n",
       "      <td>NaN</td>\n",
       "      <td>2</td>\n",
       "      <td>42</td>\n",
       "      <td>66</td>\n",
       "      <td>765</td>\n",
       "      <td>3</td>\n",
       "    </tr>\n",
       "    <tr>\n",
       "      <th>top</th>\n",
       "      <td>NaN</td>\n",
       "      <td>Robert Tait McKenzie</td>\n",
       "      <td>M</td>\n",
       "      <td>NaN</td>\n",
       "      <td>NaN</td>\n",
       "      <td>NaN</td>\n",
       "      <td>United States</td>\n",
       "      <td>USA</td>\n",
       "      <td>2000 Summer</td>\n",
       "      <td>NaN</td>\n",
       "      <td>Summer</td>\n",
       "      <td>London</td>\n",
       "      <td>Athletics</td>\n",
       "      <td>Football Men's Football</td>\n",
       "      <td>Gold</td>\n",
       "    </tr>\n",
       "    <tr>\n",
       "      <th>freq</th>\n",
       "      <td>NaN</td>\n",
       "      <td>58</td>\n",
       "      <td>196594</td>\n",
       "      <td>NaN</td>\n",
       "      <td>NaN</td>\n",
       "      <td>NaN</td>\n",
       "      <td>17847</td>\n",
       "      <td>18853</td>\n",
       "      <td>13821</td>\n",
       "      <td>NaN</td>\n",
       "      <td>222552</td>\n",
       "      <td>22426</td>\n",
       "      <td>38624</td>\n",
       "      <td>5733</td>\n",
       "      <td>13372</td>\n",
       "    </tr>\n",
       "    <tr>\n",
       "      <th>mean</th>\n",
       "      <td>68248.954396</td>\n",
       "      <td>NaN</td>\n",
       "      <td>NaN</td>\n",
       "      <td>25.556898</td>\n",
       "      <td>175.338970</td>\n",
       "      <td>70.702393</td>\n",
       "      <td>NaN</td>\n",
       "      <td>NaN</td>\n",
       "      <td>NaN</td>\n",
       "      <td>1978.378480</td>\n",
       "      <td>NaN</td>\n",
       "      <td>NaN</td>\n",
       "      <td>NaN</td>\n",
       "      <td>NaN</td>\n",
       "      <td>NaN</td>\n",
       "    </tr>\n",
       "    <tr>\n",
       "      <th>std</th>\n",
       "      <td>39022.286345</td>\n",
       "      <td>NaN</td>\n",
       "      <td>NaN</td>\n",
       "      <td>6.393561</td>\n",
       "      <td>10.518462</td>\n",
       "      <td>14.348020</td>\n",
       "      <td>NaN</td>\n",
       "      <td>NaN</td>\n",
       "      <td>NaN</td>\n",
       "      <td>29.877632</td>\n",
       "      <td>NaN</td>\n",
       "      <td>NaN</td>\n",
       "      <td>NaN</td>\n",
       "      <td>NaN</td>\n",
       "      <td>NaN</td>\n",
       "    </tr>\n",
       "    <tr>\n",
       "      <th>min</th>\n",
       "      <td>1.000000</td>\n",
       "      <td>NaN</td>\n",
       "      <td>NaN</td>\n",
       "      <td>10.000000</td>\n",
       "      <td>127.000000</td>\n",
       "      <td>25.000000</td>\n",
       "      <td>NaN</td>\n",
       "      <td>NaN</td>\n",
       "      <td>NaN</td>\n",
       "      <td>1896.000000</td>\n",
       "      <td>NaN</td>\n",
       "      <td>NaN</td>\n",
       "      <td>NaN</td>\n",
       "      <td>NaN</td>\n",
       "      <td>NaN</td>\n",
       "    </tr>\n",
       "    <tr>\n",
       "      <th>25%</th>\n",
       "      <td>34643.000000</td>\n",
       "      <td>NaN</td>\n",
       "      <td>NaN</td>\n",
       "      <td>21.000000</td>\n",
       "      <td>168.000000</td>\n",
       "      <td>60.000000</td>\n",
       "      <td>NaN</td>\n",
       "      <td>NaN</td>\n",
       "      <td>NaN</td>\n",
       "      <td>1960.000000</td>\n",
       "      <td>NaN</td>\n",
       "      <td>NaN</td>\n",
       "      <td>NaN</td>\n",
       "      <td>NaN</td>\n",
       "      <td>NaN</td>\n",
       "    </tr>\n",
       "    <tr>\n",
       "      <th>50%</th>\n",
       "      <td>68205.000000</td>\n",
       "      <td>NaN</td>\n",
       "      <td>NaN</td>\n",
       "      <td>24.000000</td>\n",
       "      <td>175.000000</td>\n",
       "      <td>70.000000</td>\n",
       "      <td>NaN</td>\n",
       "      <td>NaN</td>\n",
       "      <td>NaN</td>\n",
       "      <td>1988.000000</td>\n",
       "      <td>NaN</td>\n",
       "      <td>NaN</td>\n",
       "      <td>NaN</td>\n",
       "      <td>NaN</td>\n",
       "      <td>NaN</td>\n",
       "    </tr>\n",
       "    <tr>\n",
       "      <th>75%</th>\n",
       "      <td>102097.250000</td>\n",
       "      <td>NaN</td>\n",
       "      <td>NaN</td>\n",
       "      <td>28.000000</td>\n",
       "      <td>183.000000</td>\n",
       "      <td>79.000000</td>\n",
       "      <td>NaN</td>\n",
       "      <td>NaN</td>\n",
       "      <td>NaN</td>\n",
       "      <td>2002.000000</td>\n",
       "      <td>NaN</td>\n",
       "      <td>NaN</td>\n",
       "      <td>NaN</td>\n",
       "      <td>NaN</td>\n",
       "      <td>NaN</td>\n",
       "    </tr>\n",
       "    <tr>\n",
       "      <th>max</th>\n",
       "      <td>135571.000000</td>\n",
       "      <td>NaN</td>\n",
       "      <td>NaN</td>\n",
       "      <td>97.000000</td>\n",
       "      <td>226.000000</td>\n",
       "      <td>214.000000</td>\n",
       "      <td>NaN</td>\n",
       "      <td>NaN</td>\n",
       "      <td>NaN</td>\n",
       "      <td>2016.000000</td>\n",
       "      <td>NaN</td>\n",
       "      <td>NaN</td>\n",
       "      <td>NaN</td>\n",
       "      <td>NaN</td>\n",
       "      <td>NaN</td>\n",
       "    </tr>\n",
       "  </tbody>\n",
       "</table>\n",
       "</div>"
      ],
      "text/plain": [
       "                   ID          NombreAtleta    Sexo           Edad  \\\n",
       "count   271116.000000                271116  271116  261642.000000   \n",
       "unique            NaN                134732       2            NaN   \n",
       "top               NaN  Robert Tait McKenzie       M            NaN   \n",
       "freq              NaN                    58  196594            NaN   \n",
       "mean     68248.954396                   NaN     NaN      25.556898   \n",
       "std      39022.286345                   NaN     NaN       6.393561   \n",
       "min          1.000000                   NaN     NaN      10.000000   \n",
       "25%      34643.000000                   NaN     NaN      21.000000   \n",
       "50%      68205.000000                   NaN     NaN      24.000000   \n",
       "75%     102097.250000                   NaN     NaN      28.000000   \n",
       "max     135571.000000                   NaN     NaN      97.000000   \n",
       "\n",
       "               Altura           Peso         Equipo  Comite JuegosOlimpicos  \\\n",
       "count   210945.000000  208241.000000         271116  271116          271116   \n",
       "unique            NaN            NaN           1184     230              51   \n",
       "top               NaN            NaN  United States     USA     2000 Summer   \n",
       "freq              NaN            NaN          17847   18853           13821   \n",
       "mean       175.338970      70.702393            NaN     NaN             NaN   \n",
       "std         10.518462      14.348020            NaN     NaN             NaN   \n",
       "min        127.000000      25.000000            NaN     NaN             NaN   \n",
       "25%        168.000000      60.000000            NaN     NaN             NaN   \n",
       "50%        175.000000      70.000000            NaN     NaN             NaN   \n",
       "75%        183.000000      79.000000            NaN     NaN             NaN   \n",
       "max        226.000000     214.000000            NaN     NaN             NaN   \n",
       "\n",
       "                  Año Temporada  Ciudad    Deporte              Competencia  \\\n",
       "count   271116.000000    271116  271116     271116                   271116   \n",
       "unique            NaN         2      42         66                      765   \n",
       "top               NaN    Summer  London  Athletics  Football Men's Football   \n",
       "freq              NaN    222552   22426      38624                     5733   \n",
       "mean      1978.378480       NaN     NaN        NaN                      NaN   \n",
       "std         29.877632       NaN     NaN        NaN                      NaN   \n",
       "min       1896.000000       NaN     NaN        NaN                      NaN   \n",
       "25%       1960.000000       NaN     NaN        NaN                      NaN   \n",
       "50%       1988.000000       NaN     NaN        NaN                      NaN   \n",
       "75%       2002.000000       NaN     NaN        NaN                      NaN   \n",
       "max       2016.000000       NaN     NaN        NaN                      NaN   \n",
       "\n",
       "       Medalla  \n",
       "count    39783  \n",
       "unique       3  \n",
       "top       Gold  \n",
       "freq     13372  \n",
       "mean       NaN  \n",
       "std        NaN  \n",
       "min        NaN  \n",
       "25%        NaN  \n",
       "50%        NaN  \n",
       "75%        NaN  \n",
       "max        NaN  "
      ]
     },
     "execution_count": 1080,
     "metadata": {},
     "output_type": "execute_result"
    }
   ],
   "source": [
    "data.describe(include='all')\n"
   ]
  },
  {
   "cell_type": "code",
   "execution_count": 1081,
   "metadata": {},
   "outputs": [
    {
     "name": "stdout",
     "output_type": "stream",
     "text": [
      "<class 'pandas.core.frame.DataFrame'>\n",
      "RangeIndex: 271116 entries, 0 to 271115\n",
      "Data columns (total 15 columns):\n",
      " #   Column           Non-Null Count   Dtype  \n",
      "---  ------           --------------   -----  \n",
      " 0   ID               271116 non-null  int64  \n",
      " 1   NombreAtleta     271116 non-null  object \n",
      " 2   Sexo             271116 non-null  object \n",
      " 3   Edad             261642 non-null  float64\n",
      " 4   Altura           210945 non-null  float64\n",
      " 5   Peso             208241 non-null  float64\n",
      " 6   Equipo           271116 non-null  object \n",
      " 7   Comite           271116 non-null  object \n",
      " 8   JuegosOlimpicos  271116 non-null  object \n",
      " 9   Año              271116 non-null  int64  \n",
      " 10  Temporada        271116 non-null  object \n",
      " 11  Ciudad           271116 non-null  object \n",
      " 12  Deporte          271116 non-null  object \n",
      " 13  Competencia      271116 non-null  object \n",
      " 14  Medalla          39783 non-null   object \n",
      "dtypes: float64(3), int64(2), object(10)\n",
      "memory usage: 31.0+ MB\n"
     ]
    }
   ],
   "source": [
    "data.info()\n"
   ]
  },
  {
   "cell_type": "code",
   "execution_count": 1082,
   "metadata": {},
   "outputs": [
    {
     "data": {
      "text/plain": [
       "ID                   int64\n",
       "NombreAtleta        object\n",
       "Sexo                object\n",
       "Edad               float64\n",
       "Altura             float64\n",
       "Peso               float64\n",
       "Equipo              object\n",
       "Comite              object\n",
       "JuegosOlimpicos     object\n",
       "Año                  int64\n",
       "Temporada           object\n",
       "Ciudad              object\n",
       "Deporte             object\n",
       "Competencia         object\n",
       "Medalla             object\n",
       "dtype: object"
      ]
     },
     "execution_count": 1082,
     "metadata": {},
     "output_type": "execute_result"
    }
   ],
   "source": [
    "data.dtypes\n",
    "\n"
   ]
  },
  {
   "cell_type": "markdown",
   "metadata": {},
   "source": [
    " # Analisis y procesado de datos.\n",
    " Se realizarán ajustes al dataframe para que el comportamiento frente a los modelos predictivos sea óptimo."
   ]
  },
  {
   "cell_type": "markdown",
   "metadata": {},
   "source": [
    " ## Procesando elementos nulos\n",
    " Para el estudio son requeridos las observaciones que poseen medallas,\n",
    " por lo tanto, tan solo estas observaciones serán tomadas en cuenta\n",
    " los atletas que no hayan ganado medallas serán eliminados del dataframe."
   ]
  },
  {
   "cell_type": "code",
   "execution_count": 1083,
   "metadata": {},
   "outputs": [
    {
     "name": "stdout",
     "output_type": "stream",
     "text": [
      "Cantidad de elementos nulos por columna:\n"
     ]
    },
    {
     "data": {
      "text/plain": [
       "ID                      0\n",
       "NombreAtleta            0\n",
       "Sexo                    0\n",
       "Edad                 9474\n",
       "Altura              60171\n",
       "Peso                62875\n",
       "Equipo                  0\n",
       "Comite                  0\n",
       "JuegosOlimpicos         0\n",
       "Año                     0\n",
       "Temporada               0\n",
       "Ciudad                  0\n",
       "Deporte                 0\n",
       "Competencia             0\n",
       "Medalla            231333\n",
       "dtype: int64"
      ]
     },
     "execution_count": 1083,
     "metadata": {},
     "output_type": "execute_result"
    }
   ],
   "source": [
    "print(\"Cantidad de elementos nulos por columna:\")\n",
    "data.isnull().sum()\n"
   ]
  },
  {
   "cell_type": "code",
   "execution_count": 1084,
   "metadata": {},
   "outputs": [
    {
     "name": "stdout",
     "output_type": "stream",
     "text": [
      "Resultado luego de eliminar nulos: \n"
     ]
    },
    {
     "data": {
      "text/plain": [
       "ID                 0\n",
       "NombreAtleta       0\n",
       "Sexo               0\n",
       "Edad               0\n",
       "Altura             0\n",
       "Peso               0\n",
       "Equipo             0\n",
       "Comite             0\n",
       "JuegosOlimpicos    0\n",
       "Año                0\n",
       "Temporada          0\n",
       "Ciudad             0\n",
       "Deporte            0\n",
       "Competencia        0\n",
       "Medalla            0\n",
       "dtype: int64"
      ]
     },
     "execution_count": 1084,
     "metadata": {},
     "output_type": "execute_result"
    }
   ],
   "source": [
    "data.dropna(inplace=True)\n",
    "print(\"Resultado luego de eliminar nulos: \")\n",
    "data.isnull().sum()\n",
    "\n"
   ]
  },
  {
   "cell_type": "markdown",
   "metadata": {},
   "source": [
    " ## Transformando variables\n",
    " Cambiar ciertas columnas para un mejor tratamiento de los datos relacionados."
   ]
  },
  {
   "cell_type": "code",
   "execution_count": 1085,
   "metadata": {},
   "outputs": [
    {
     "name": "stdout",
     "output_type": "stream",
     "text": [
      "Cambiando columna sexo a valores numéricos\n"
     ]
    }
   ],
   "source": [
    "print(\"Cambiando columna sexo a valores numéricos\")\n",
    "data['Sexo_temp'] = 0\n",
    "data.loc[data.Sexo == 'M', 'Sexo_temp'] = 1\n",
    "data.loc[data.Sexo == 'F', 'Sexo_temp'] = 0\n",
    "\n"
   ]
  },
  {
   "cell_type": "code",
   "execution_count": 1086,
   "metadata": {},
   "outputs": [
    {
     "name": "stdout",
     "output_type": "stream",
     "text": [
      "Cambiando columna medalla a valores numéricos\n"
     ]
    }
   ],
   "source": [
    "print(\"Cambiando columna medalla a valores numéricos\")\n",
    "data['Medalla_temp'] = 0\n",
    "data.loc[data.Medalla == 'Gold', 'Medalla_temp'] = 1\n",
    "data.loc[data.Medalla == 'Silver', 'Medalla_temp'] = 2\n",
    "data.loc[data.Medalla == 'Bronze', 'Medalla_temp'] = 3\n",
    "\n"
   ]
  },
  {
   "cell_type": "code",
   "execution_count": 1087,
   "metadata": {},
   "outputs": [
    {
     "data": {
      "text/html": [
       "<div>\n",
       "<style scoped>\n",
       "    .dataframe tbody tr th:only-of-type {\n",
       "        vertical-align: middle;\n",
       "    }\n",
       "\n",
       "    .dataframe tbody tr th {\n",
       "        vertical-align: top;\n",
       "    }\n",
       "\n",
       "    .dataframe thead th {\n",
       "        text-align: right;\n",
       "    }\n",
       "</style>\n",
       "<table border=\"1\" class=\"dataframe\">\n",
       "  <thead>\n",
       "    <tr style=\"text-align: right;\">\n",
       "      <th></th>\n",
       "      <th>ID</th>\n",
       "      <th>NombreAtleta</th>\n",
       "      <th>Sexo</th>\n",
       "      <th>Edad</th>\n",
       "      <th>Altura</th>\n",
       "      <th>Peso</th>\n",
       "      <th>Equipo</th>\n",
       "      <th>Comite</th>\n",
       "      <th>JuegosOlimpicos</th>\n",
       "      <th>Año</th>\n",
       "      <th>Temporada</th>\n",
       "      <th>Ciudad</th>\n",
       "      <th>Deporte</th>\n",
       "      <th>Competencia</th>\n",
       "      <th>Medalla</th>\n",
       "      <th>Sexo_temp</th>\n",
       "      <th>Medalla_temp</th>\n",
       "    </tr>\n",
       "  </thead>\n",
       "  <tbody>\n",
       "    <tr>\n",
       "      <th>40</th>\n",
       "      <td>16</td>\n",
       "      <td>Juhamatti Tapio Aaltonen</td>\n",
       "      <td>M</td>\n",
       "      <td>28.0</td>\n",
       "      <td>184.0</td>\n",
       "      <td>85.0</td>\n",
       "      <td>Finland</td>\n",
       "      <td>FIN</td>\n",
       "      <td>2014 Winter</td>\n",
       "      <td>2014</td>\n",
       "      <td>Winter</td>\n",
       "      <td>Sochi</td>\n",
       "      <td>Ice Hockey</td>\n",
       "      <td>Ice Hockey Men's Ice Hockey</td>\n",
       "      <td>Bronze</td>\n",
       "      <td>1</td>\n",
       "      <td>3</td>\n",
       "    </tr>\n",
       "    <tr>\n",
       "      <th>41</th>\n",
       "      <td>17</td>\n",
       "      <td>Paavo Johannes Aaltonen</td>\n",
       "      <td>M</td>\n",
       "      <td>28.0</td>\n",
       "      <td>175.0</td>\n",
       "      <td>64.0</td>\n",
       "      <td>Finland</td>\n",
       "      <td>FIN</td>\n",
       "      <td>1948 Summer</td>\n",
       "      <td>1948</td>\n",
       "      <td>Summer</td>\n",
       "      <td>London</td>\n",
       "      <td>Gymnastics</td>\n",
       "      <td>Gymnastics Men's Individual All-Around</td>\n",
       "      <td>Bronze</td>\n",
       "      <td>1</td>\n",
       "      <td>3</td>\n",
       "    </tr>\n",
       "    <tr>\n",
       "      <th>42</th>\n",
       "      <td>17</td>\n",
       "      <td>Paavo Johannes Aaltonen</td>\n",
       "      <td>M</td>\n",
       "      <td>28.0</td>\n",
       "      <td>175.0</td>\n",
       "      <td>64.0</td>\n",
       "      <td>Finland</td>\n",
       "      <td>FIN</td>\n",
       "      <td>1948 Summer</td>\n",
       "      <td>1948</td>\n",
       "      <td>Summer</td>\n",
       "      <td>London</td>\n",
       "      <td>Gymnastics</td>\n",
       "      <td>Gymnastics Men's Team All-Around</td>\n",
       "      <td>Gold</td>\n",
       "      <td>1</td>\n",
       "      <td>1</td>\n",
       "    </tr>\n",
       "    <tr>\n",
       "      <th>44</th>\n",
       "      <td>17</td>\n",
       "      <td>Paavo Johannes Aaltonen</td>\n",
       "      <td>M</td>\n",
       "      <td>28.0</td>\n",
       "      <td>175.0</td>\n",
       "      <td>64.0</td>\n",
       "      <td>Finland</td>\n",
       "      <td>FIN</td>\n",
       "      <td>1948 Summer</td>\n",
       "      <td>1948</td>\n",
       "      <td>Summer</td>\n",
       "      <td>London</td>\n",
       "      <td>Gymnastics</td>\n",
       "      <td>Gymnastics Men's Horse Vault</td>\n",
       "      <td>Gold</td>\n",
       "      <td>1</td>\n",
       "      <td>1</td>\n",
       "    </tr>\n",
       "    <tr>\n",
       "      <th>48</th>\n",
       "      <td>17</td>\n",
       "      <td>Paavo Johannes Aaltonen</td>\n",
       "      <td>M</td>\n",
       "      <td>28.0</td>\n",
       "      <td>175.0</td>\n",
       "      <td>64.0</td>\n",
       "      <td>Finland</td>\n",
       "      <td>FIN</td>\n",
       "      <td>1948 Summer</td>\n",
       "      <td>1948</td>\n",
       "      <td>Summer</td>\n",
       "      <td>London</td>\n",
       "      <td>Gymnastics</td>\n",
       "      <td>Gymnastics Men's Pommelled Horse</td>\n",
       "      <td>Gold</td>\n",
       "      <td>1</td>\n",
       "      <td>1</td>\n",
       "    </tr>\n",
       "    <tr>\n",
       "      <th>50</th>\n",
       "      <td>17</td>\n",
       "      <td>Paavo Johannes Aaltonen</td>\n",
       "      <td>M</td>\n",
       "      <td>32.0</td>\n",
       "      <td>175.0</td>\n",
       "      <td>64.0</td>\n",
       "      <td>Finland</td>\n",
       "      <td>FIN</td>\n",
       "      <td>1952 Summer</td>\n",
       "      <td>1952</td>\n",
       "      <td>Summer</td>\n",
       "      <td>Helsinki</td>\n",
       "      <td>Gymnastics</td>\n",
       "      <td>Gymnastics Men's Team All-Around</td>\n",
       "      <td>Bronze</td>\n",
       "      <td>1</td>\n",
       "      <td>3</td>\n",
       "    </tr>\n",
       "    <tr>\n",
       "      <th>60</th>\n",
       "      <td>20</td>\n",
       "      <td>Kjetil Andr Aamodt</td>\n",
       "      <td>M</td>\n",
       "      <td>20.0</td>\n",
       "      <td>176.0</td>\n",
       "      <td>85.0</td>\n",
       "      <td>Norway</td>\n",
       "      <td>NOR</td>\n",
       "      <td>1992 Winter</td>\n",
       "      <td>1992</td>\n",
       "      <td>Winter</td>\n",
       "      <td>Albertville</td>\n",
       "      <td>Alpine Skiing</td>\n",
       "      <td>Alpine Skiing Men's Super G</td>\n",
       "      <td>Gold</td>\n",
       "      <td>1</td>\n",
       "      <td>1</td>\n",
       "    </tr>\n",
       "    <tr>\n",
       "      <th>61</th>\n",
       "      <td>20</td>\n",
       "      <td>Kjetil Andr Aamodt</td>\n",
       "      <td>M</td>\n",
       "      <td>20.0</td>\n",
       "      <td>176.0</td>\n",
       "      <td>85.0</td>\n",
       "      <td>Norway</td>\n",
       "      <td>NOR</td>\n",
       "      <td>1992 Winter</td>\n",
       "      <td>1992</td>\n",
       "      <td>Winter</td>\n",
       "      <td>Albertville</td>\n",
       "      <td>Alpine Skiing</td>\n",
       "      <td>Alpine Skiing Men's Giant Slalom</td>\n",
       "      <td>Bronze</td>\n",
       "      <td>1</td>\n",
       "      <td>3</td>\n",
       "    </tr>\n",
       "    <tr>\n",
       "      <th>63</th>\n",
       "      <td>20</td>\n",
       "      <td>Kjetil Andr Aamodt</td>\n",
       "      <td>M</td>\n",
       "      <td>22.0</td>\n",
       "      <td>176.0</td>\n",
       "      <td>85.0</td>\n",
       "      <td>Norway</td>\n",
       "      <td>NOR</td>\n",
       "      <td>1994 Winter</td>\n",
       "      <td>1994</td>\n",
       "      <td>Winter</td>\n",
       "      <td>Lillehammer</td>\n",
       "      <td>Alpine Skiing</td>\n",
       "      <td>Alpine Skiing Men's Downhill</td>\n",
       "      <td>Silver</td>\n",
       "      <td>1</td>\n",
       "      <td>2</td>\n",
       "    </tr>\n",
       "    <tr>\n",
       "      <th>64</th>\n",
       "      <td>20</td>\n",
       "      <td>Kjetil Andr Aamodt</td>\n",
       "      <td>M</td>\n",
       "      <td>22.0</td>\n",
       "      <td>176.0</td>\n",
       "      <td>85.0</td>\n",
       "      <td>Norway</td>\n",
       "      <td>NOR</td>\n",
       "      <td>1994 Winter</td>\n",
       "      <td>1994</td>\n",
       "      <td>Winter</td>\n",
       "      <td>Lillehammer</td>\n",
       "      <td>Alpine Skiing</td>\n",
       "      <td>Alpine Skiing Men's Super G</td>\n",
       "      <td>Bronze</td>\n",
       "      <td>1</td>\n",
       "      <td>3</td>\n",
       "    </tr>\n",
       "    <tr>\n",
       "      <th>67</th>\n",
       "      <td>20</td>\n",
       "      <td>Kjetil Andr Aamodt</td>\n",
       "      <td>M</td>\n",
       "      <td>22.0</td>\n",
       "      <td>176.0</td>\n",
       "      <td>85.0</td>\n",
       "      <td>Norway</td>\n",
       "      <td>NOR</td>\n",
       "      <td>1994 Winter</td>\n",
       "      <td>1994</td>\n",
       "      <td>Winter</td>\n",
       "      <td>Lillehammer</td>\n",
       "      <td>Alpine Skiing</td>\n",
       "      <td>Alpine Skiing Men's Combined</td>\n",
       "      <td>Silver</td>\n",
       "      <td>1</td>\n",
       "      <td>2</td>\n",
       "    </tr>\n",
       "    <tr>\n",
       "      <th>73</th>\n",
       "      <td>20</td>\n",
       "      <td>Kjetil Andr Aamodt</td>\n",
       "      <td>M</td>\n",
       "      <td>30.0</td>\n",
       "      <td>176.0</td>\n",
       "      <td>85.0</td>\n",
       "      <td>Norway</td>\n",
       "      <td>NOR</td>\n",
       "      <td>2002 Winter</td>\n",
       "      <td>2002</td>\n",
       "      <td>Winter</td>\n",
       "      <td>Salt Lake City</td>\n",
       "      <td>Alpine Skiing</td>\n",
       "      <td>Alpine Skiing Men's Super G</td>\n",
       "      <td>Gold</td>\n",
       "      <td>1</td>\n",
       "      <td>1</td>\n",
       "    </tr>\n",
       "    <tr>\n",
       "      <th>76</th>\n",
       "      <td>20</td>\n",
       "      <td>Kjetil Andr Aamodt</td>\n",
       "      <td>M</td>\n",
       "      <td>30.0</td>\n",
       "      <td>176.0</td>\n",
       "      <td>85.0</td>\n",
       "      <td>Norway</td>\n",
       "      <td>NOR</td>\n",
       "      <td>2002 Winter</td>\n",
       "      <td>2002</td>\n",
       "      <td>Winter</td>\n",
       "      <td>Salt Lake City</td>\n",
       "      <td>Alpine Skiing</td>\n",
       "      <td>Alpine Skiing Men's Combined</td>\n",
       "      <td>Gold</td>\n",
       "      <td>1</td>\n",
       "      <td>1</td>\n",
       "    </tr>\n",
       "    <tr>\n",
       "      <th>78</th>\n",
       "      <td>20</td>\n",
       "      <td>Kjetil Andr Aamodt</td>\n",
       "      <td>M</td>\n",
       "      <td>34.0</td>\n",
       "      <td>176.0</td>\n",
       "      <td>85.0</td>\n",
       "      <td>Norway</td>\n",
       "      <td>NOR</td>\n",
       "      <td>2006 Winter</td>\n",
       "      <td>2006</td>\n",
       "      <td>Winter</td>\n",
       "      <td>Torino</td>\n",
       "      <td>Alpine Skiing</td>\n",
       "      <td>Alpine Skiing Men's Super G</td>\n",
       "      <td>Gold</td>\n",
       "      <td>1</td>\n",
       "      <td>1</td>\n",
       "    </tr>\n",
       "    <tr>\n",
       "      <th>92</th>\n",
       "      <td>30</td>\n",
       "      <td>Pepijn Aardewijn</td>\n",
       "      <td>M</td>\n",
       "      <td>26.0</td>\n",
       "      <td>189.0</td>\n",
       "      <td>72.0</td>\n",
       "      <td>Netherlands</td>\n",
       "      <td>NED</td>\n",
       "      <td>1996 Summer</td>\n",
       "      <td>1996</td>\n",
       "      <td>Summer</td>\n",
       "      <td>Atlanta</td>\n",
       "      <td>Rowing</td>\n",
       "      <td>Rowing Men's Lightweight Double Sculls</td>\n",
       "      <td>Silver</td>\n",
       "      <td>1</td>\n",
       "      <td>2</td>\n",
       "    </tr>\n",
       "  </tbody>\n",
       "</table>\n",
       "</div>"
      ],
      "text/plain": [
       "    ID              NombreAtleta Sexo  Edad  Altura  Peso       Equipo Comite  \\\n",
       "40  16  Juhamatti Tapio Aaltonen    M  28.0   184.0  85.0      Finland    FIN   \n",
       "41  17   Paavo Johannes Aaltonen    M  28.0   175.0  64.0      Finland    FIN   \n",
       "42  17   Paavo Johannes Aaltonen    M  28.0   175.0  64.0      Finland    FIN   \n",
       "44  17   Paavo Johannes Aaltonen    M  28.0   175.0  64.0      Finland    FIN   \n",
       "48  17   Paavo Johannes Aaltonen    M  28.0   175.0  64.0      Finland    FIN   \n",
       "50  17   Paavo Johannes Aaltonen    M  32.0   175.0  64.0      Finland    FIN   \n",
       "60  20        Kjetil Andr Aamodt    M  20.0   176.0  85.0       Norway    NOR   \n",
       "61  20        Kjetil Andr Aamodt    M  20.0   176.0  85.0       Norway    NOR   \n",
       "63  20        Kjetil Andr Aamodt    M  22.0   176.0  85.0       Norway    NOR   \n",
       "64  20        Kjetil Andr Aamodt    M  22.0   176.0  85.0       Norway    NOR   \n",
       "67  20        Kjetil Andr Aamodt    M  22.0   176.0  85.0       Norway    NOR   \n",
       "73  20        Kjetil Andr Aamodt    M  30.0   176.0  85.0       Norway    NOR   \n",
       "76  20        Kjetil Andr Aamodt    M  30.0   176.0  85.0       Norway    NOR   \n",
       "78  20        Kjetil Andr Aamodt    M  34.0   176.0  85.0       Norway    NOR   \n",
       "92  30          Pepijn Aardewijn    M  26.0   189.0  72.0  Netherlands    NED   \n",
       "\n",
       "   JuegosOlimpicos   Año Temporada          Ciudad        Deporte  \\\n",
       "40     2014 Winter  2014    Winter           Sochi     Ice Hockey   \n",
       "41     1948 Summer  1948    Summer          London     Gymnastics   \n",
       "42     1948 Summer  1948    Summer          London     Gymnastics   \n",
       "44     1948 Summer  1948    Summer          London     Gymnastics   \n",
       "48     1948 Summer  1948    Summer          London     Gymnastics   \n",
       "50     1952 Summer  1952    Summer        Helsinki     Gymnastics   \n",
       "60     1992 Winter  1992    Winter     Albertville  Alpine Skiing   \n",
       "61     1992 Winter  1992    Winter     Albertville  Alpine Skiing   \n",
       "63     1994 Winter  1994    Winter     Lillehammer  Alpine Skiing   \n",
       "64     1994 Winter  1994    Winter     Lillehammer  Alpine Skiing   \n",
       "67     1994 Winter  1994    Winter     Lillehammer  Alpine Skiing   \n",
       "73     2002 Winter  2002    Winter  Salt Lake City  Alpine Skiing   \n",
       "76     2002 Winter  2002    Winter  Salt Lake City  Alpine Skiing   \n",
       "78     2006 Winter  2006    Winter          Torino  Alpine Skiing   \n",
       "92     1996 Summer  1996    Summer         Atlanta         Rowing   \n",
       "\n",
       "                               Competencia Medalla  Sexo_temp  Medalla_temp  \n",
       "40             Ice Hockey Men's Ice Hockey  Bronze          1             3  \n",
       "41  Gymnastics Men's Individual All-Around  Bronze          1             3  \n",
       "42        Gymnastics Men's Team All-Around    Gold          1             1  \n",
       "44            Gymnastics Men's Horse Vault    Gold          1             1  \n",
       "48        Gymnastics Men's Pommelled Horse    Gold          1             1  \n",
       "50        Gymnastics Men's Team All-Around  Bronze          1             3  \n",
       "60             Alpine Skiing Men's Super G    Gold          1             1  \n",
       "61        Alpine Skiing Men's Giant Slalom  Bronze          1             3  \n",
       "63            Alpine Skiing Men's Downhill  Silver          1             2  \n",
       "64             Alpine Skiing Men's Super G  Bronze          1             3  \n",
       "67            Alpine Skiing Men's Combined  Silver          1             2  \n",
       "73             Alpine Skiing Men's Super G    Gold          1             1  \n",
       "76            Alpine Skiing Men's Combined    Gold          1             1  \n",
       "78             Alpine Skiing Men's Super G    Gold          1             1  \n",
       "92  Rowing Men's Lightweight Double Sculls  Silver          1             2  "
      ]
     },
     "execution_count": 1087,
     "metadata": {},
     "output_type": "execute_result"
    }
   ],
   "source": [
    "data.head(15)\n"
   ]
  },
  {
   "cell_type": "markdown",
   "metadata": {},
   "source": [
    " ## Eliminar columnas inecesarias en el dataframe"
   ]
  },
  {
   "cell_type": "code",
   "execution_count": 1088,
   "metadata": {},
   "outputs": [
    {
     "data": {
      "text/html": [
       "<div>\n",
       "<style scoped>\n",
       "    .dataframe tbody tr th:only-of-type {\n",
       "        vertical-align: middle;\n",
       "    }\n",
       "\n",
       "    .dataframe tbody tr th {\n",
       "        vertical-align: top;\n",
       "    }\n",
       "\n",
       "    .dataframe thead th {\n",
       "        text-align: right;\n",
       "    }\n",
       "</style>\n",
       "<table border=\"1\" class=\"dataframe\">\n",
       "  <thead>\n",
       "    <tr style=\"text-align: right;\">\n",
       "      <th></th>\n",
       "      <th>Edad</th>\n",
       "      <th>Altura</th>\n",
       "      <th>Peso</th>\n",
       "      <th>Deporte</th>\n",
       "      <th>Medalla</th>\n",
       "      <th>Sexo_temp</th>\n",
       "      <th>Medalla_temp</th>\n",
       "    </tr>\n",
       "  </thead>\n",
       "  <tbody>\n",
       "    <tr>\n",
       "      <th>40</th>\n",
       "      <td>28.0</td>\n",
       "      <td>184.0</td>\n",
       "      <td>85.0</td>\n",
       "      <td>Ice Hockey</td>\n",
       "      <td>Bronze</td>\n",
       "      <td>1</td>\n",
       "      <td>3</td>\n",
       "    </tr>\n",
       "    <tr>\n",
       "      <th>41</th>\n",
       "      <td>28.0</td>\n",
       "      <td>175.0</td>\n",
       "      <td>64.0</td>\n",
       "      <td>Gymnastics</td>\n",
       "      <td>Bronze</td>\n",
       "      <td>1</td>\n",
       "      <td>3</td>\n",
       "    </tr>\n",
       "    <tr>\n",
       "      <th>42</th>\n",
       "      <td>28.0</td>\n",
       "      <td>175.0</td>\n",
       "      <td>64.0</td>\n",
       "      <td>Gymnastics</td>\n",
       "      <td>Gold</td>\n",
       "      <td>1</td>\n",
       "      <td>1</td>\n",
       "    </tr>\n",
       "    <tr>\n",
       "      <th>44</th>\n",
       "      <td>28.0</td>\n",
       "      <td>175.0</td>\n",
       "      <td>64.0</td>\n",
       "      <td>Gymnastics</td>\n",
       "      <td>Gold</td>\n",
       "      <td>1</td>\n",
       "      <td>1</td>\n",
       "    </tr>\n",
       "    <tr>\n",
       "      <th>48</th>\n",
       "      <td>28.0</td>\n",
       "      <td>175.0</td>\n",
       "      <td>64.0</td>\n",
       "      <td>Gymnastics</td>\n",
       "      <td>Gold</td>\n",
       "      <td>1</td>\n",
       "      <td>1</td>\n",
       "    </tr>\n",
       "  </tbody>\n",
       "</table>\n",
       "</div>"
      ],
      "text/plain": [
       "    Edad  Altura  Peso     Deporte Medalla  Sexo_temp  Medalla_temp\n",
       "40  28.0   184.0  85.0  Ice Hockey  Bronze          1             3\n",
       "41  28.0   175.0  64.0  Gymnastics  Bronze          1             3\n",
       "42  28.0   175.0  64.0  Gymnastics    Gold          1             1\n",
       "44  28.0   175.0  64.0  Gymnastics    Gold          1             1\n",
       "48  28.0   175.0  64.0  Gymnastics    Gold          1             1"
      ]
     },
     "execution_count": 1088,
     "metadata": {},
     "output_type": "execute_result"
    }
   ],
   "source": [
    "columnas = [\n",
    "    'ID', 'NombreAtleta', 'Sexo',\n",
    "    'JuegosOlimpicos', 'Temporada', 'Ciudad',\n",
    "    'Año', 'Equipo', 'Comite', 'Competencia']\n",
    "data = data.drop(columnas, axis=1)\n",
    "data.head()\n"
   ]
  },
  {
   "cell_type": "code",
   "execution_count": 1089,
   "metadata": {},
   "outputs": [
    {
     "name": "stdout",
     "output_type": "stream",
     "text": [
      "Restableciendo nombres de columnas\n"
     ]
    },
    {
     "data": {
      "text/plain": [
       "Index(['Edad', 'Altura', 'Peso', 'Deporte', 'Medalla', 'Sexo', 'MedallaNum'], dtype='object')"
      ]
     },
     "execution_count": 1089,
     "metadata": {},
     "output_type": "execute_result"
    }
   ],
   "source": [
    "print(\"Restableciendo nombres de columnas\")\n",
    "data.columns = [\n",
    "    'Edad', 'Altura', 'Peso',\n",
    "    'Deporte', 'Medalla', 'Sexo', 'MedallaNum']\n",
    "data.columns\n",
    "\n"
   ]
  },
  {
   "cell_type": "markdown",
   "metadata": {},
   "source": [
    " # Visualizando correlación de las columnas"
   ]
  },
  {
   "cell_type": "code",
   "execution_count": 1090,
   "metadata": {},
   "outputs": [
    {
     "data": {
      "text/plain": [
       "Text(0.5, 1, 'Correlación de las variables del dataframe')"
      ]
     },
     "execution_count": 1090,
     "metadata": {},
     "output_type": "execute_result"
    },
    {
     "data": {
      "image/png": "[encoded data removed]",
      "text/plain": [
       "<Figure size 360x216 with 2 Axes>"
      ]
     },
     "metadata": {},
     "output_type": "display_data"
    }
   ],
   "source": [
    "data_corr = data.corr(method='pearson')\n",
    "sns.set_style(style='white')\n",
    "fig, ax = plt.subplots(figsize=(5, 3))\n",
    "sns.heatmap(data_corr, ax=ax)\n",
    "plt.title(\"Correlación de las variables del dataframe\")\n",
    "\n"
   ]
  },
  {
   "cell_type": "code",
   "execution_count": 1091,
   "metadata": {},
   "outputs": [
    {
     "data": {
      "text/html": [
       "<div>\n",
       "<style scoped>\n",
       "    .dataframe tbody tr th:only-of-type {\n",
       "        vertical-align: middle;\n",
       "    }\n",
       "\n",
       "    .dataframe tbody tr th {\n",
       "        vertical-align: top;\n",
       "    }\n",
       "\n",
       "    .dataframe thead th {\n",
       "        text-align: right;\n",
       "    }\n",
       "</style>\n",
       "<table border=\"1\" class=\"dataframe\">\n",
       "  <thead>\n",
       "    <tr style=\"text-align: right;\">\n",
       "      <th></th>\n",
       "      <th>Edad</th>\n",
       "      <th>Altura</th>\n",
       "      <th>Peso</th>\n",
       "      <th>Sexo</th>\n",
       "      <th>MedallaNum</th>\n",
       "    </tr>\n",
       "  </thead>\n",
       "  <tbody>\n",
       "    <tr>\n",
       "      <th>Edad</th>\n",
       "      <td>1.000000</td>\n",
       "      <td>0.095942</td>\n",
       "      <td>0.161750</td>\n",
       "      <td>0.118950</td>\n",
       "      <td>0.013261</td>\n",
       "    </tr>\n",
       "    <tr>\n",
       "      <th>Altura</th>\n",
       "      <td>0.095942</td>\n",
       "      <td>1.000000</td>\n",
       "      <td>0.801831</td>\n",
       "      <td>0.470164</td>\n",
       "      <td>-0.024170</td>\n",
       "    </tr>\n",
       "    <tr>\n",
       "      <th>Peso</th>\n",
       "      <td>0.161750</td>\n",
       "      <td>0.801831</td>\n",
       "      <td>1.000000</td>\n",
       "      <td>0.507178</td>\n",
       "      <td>-0.017563</td>\n",
       "    </tr>\n",
       "    <tr>\n",
       "      <th>Sexo</th>\n",
       "      <td>0.118950</td>\n",
       "      <td>0.470164</td>\n",
       "      <td>0.507178</td>\n",
       "      <td>1.000000</td>\n",
       "      <td>-0.003787</td>\n",
       "    </tr>\n",
       "    <tr>\n",
       "      <th>MedallaNum</th>\n",
       "      <td>0.013261</td>\n",
       "      <td>-0.024170</td>\n",
       "      <td>-0.017563</td>\n",
       "      <td>-0.003787</td>\n",
       "      <td>1.000000</td>\n",
       "    </tr>\n",
       "  </tbody>\n",
       "</table>\n",
       "</div>"
      ],
      "text/plain": [
       "                Edad    Altura      Peso      Sexo  MedallaNum\n",
       "Edad        1.000000  0.095942  0.161750  0.118950    0.013261\n",
       "Altura      0.095942  1.000000  0.801831  0.470164   -0.024170\n",
       "Peso        0.161750  0.801831  1.000000  0.507178   -0.017563\n",
       "Sexo        0.118950  0.470164  0.507178  1.000000   -0.003787\n",
       "MedallaNum  0.013261 -0.024170 -0.017563 -0.003787    1.000000"
      ]
     },
     "execution_count": 1091,
     "metadata": {},
     "output_type": "execute_result"
    }
   ],
   "source": [
    "data_corr\n"
   ]
  },
  {
   "cell_type": "markdown",
   "metadata": {},
   "source": [
    " Se puede ver que existe una alta correlación entre altura y peso,\n",
    " la columna sexo, posee una debil correlacion con las mencionadas anteriormente,\n",
    " las demás columnas no poseen relación alguna entre si.\n",
    " <hr style=\"border:2px; width:75%;\">"
   ]
  },
  {
   "cell_type": "markdown",
   "metadata": {},
   "source": [
    " # Verificando distribución de las columnas\n",
    " Se requere verificar la distribución para poder saber si es que debe ser aplicado\n",
    " algún metodo de standarización a los datos, las variables interesantes\n",
    " para este estudio corresponden a la edad, altura ypeso de los atletas,\n",
    " por lo tanto, las correcciones serán realizadas a dichas columnas, las demás pueden que sirvan de predictores solamente."
   ]
  },
  {
   "cell_type": "code",
   "execution_count": 1092,
   "metadata": {},
   "outputs": [],
   "source": [
    "from scipy import stats\n",
    "\n"
   ]
  },
  {
   "cell_type": "code",
   "execution_count": 1093,
   "metadata": {},
   "outputs": [
    {
     "data": {
      "image/png": "[encoded data removed]",
      "text/plain": [
       "<Figure size 720x216 with 3 Axes>"
      ]
     },
     "metadata": {},
     "output_type": "display_data"
    }
   ],
   "source": [
    "plt.figure(figsize=(10, 3))\n",
    "plt.title('Relación de simetria de las columnas edad, peso y altura')\n",
    "plt.subplot(1, 3, 1)\n",
    "data.Edad.plot.kde()\n",
    "plt.subplot(1, 3, 2)\n",
    "data.Peso.plot.kde()\n",
    "plt.subplot(1, 3, 3)\n",
    "data.Altura.plot.kde()\n",
    "plt.show()\n"
   ]
  },
  {
   "cell_type": "code",
   "execution_count": 1094,
   "metadata": {},
   "outputs": [
    {
     "name": "stdout",
     "output_type": "stream",
     "text": [
      "Coeficientes de simetría: \n",
      "Edad    : \t1.067400585357262\n",
      "Peso    : \t0.6894054869942579\n",
      "Altura : \t0.041995987904002885\n"
     ]
    }
   ],
   "source": [
    "print('Coeficientes de simetría: ')\n",
    "print('Edad    : ', stats.skew(data.Edad), sep='\\t')\n",
    "print('Peso    : ', stats.skew(data.Peso), sep='\\t')\n",
    "print('Altura : ', stats.skew(data.Altura), sep='\\t')\n",
    "\n"
   ]
  },
  {
   "cell_type": "markdown",
   "metadata": {},
   "source": [
    " Vemos que las columnas estan mas cargadas al costado derecho del gráfico,\n",
    " será necesario realizar la eliminación de extremos para poder\n",
    " normalizar las columnas y asi los modelos predictivos a aplicar\n",
    " no se sesgaran por los valores mas altos que encuentren."
   ]
  },
  {
   "cell_type": "code",
   "execution_count": 1095,
   "metadata": {},
   "outputs": [],
   "source": [
    "def quitar_extremos(df):\n",
    "    cantidad_outliers = 0\n",
    "    for columna in df:\n",
    "        if df[columna].dtype != np.object:\n",
    "            n_outliers = len(df[np.abs(stats.zscore(df[columna])) > 3])\n",
    "            print(\"{} {} {}\".format(\n",
    "                df[columna].name, n_outliers, df[columna].dtype))\n",
    "            if n_outliers > 0:\n",
    "                cantidad_outliers = n_outliers\n",
    "    return True if cantidad_outliers > 0 else False\n",
    "\n"
   ]
  },
  {
   "cell_type": "code",
   "execution_count": 1096,
   "metadata": {},
   "outputs": [
    {
     "name": "stdout",
     "output_type": "stream",
     "text": [
      "Edad 352 float64\n",
      "Peso 286 float64\n",
      "Altura 116 float64\n",
      "Edad 184 float64\n",
      "Peso 87 float64\n",
      "Altura 42 float64\n",
      "Edad 0 float64\n",
      "Peso 0 float64\n",
      "Altura 0 float64\n"
     ]
    }
   ],
   "source": [
    "while quitar_extremos(data[['Edad', 'Peso', 'Altura']]):\n",
    "    data = data[\n",
    "        (np.abs(stats.zscore(data.Edad)) < 3)  &\n",
    "        (np.abs(stats.zscore(data.Peso)) < 3) &\n",
    "        (np.abs(stats.zscore(data.Altura)) < 3)]\n",
    "\n"
   ]
  },
  {
   "cell_type": "markdown",
   "metadata": {},
   "source": [
    " Ahora vuelvo a visualizar para verificar que los extremos fueron eliminados correctamente."
   ]
  },
  {
   "cell_type": "code",
   "execution_count": 1097,
   "metadata": {},
   "outputs": [
    {
     "data": {
      "image/png": "[encoded data removed]",
      "text/plain": [
       "<Figure size 720x216 with 3 Axes>"
      ]
     },
     "metadata": {},
     "output_type": "display_data"
    }
   ],
   "source": [
    "plt.figure(figsize=(10, 3))\n",
    "plt.title('Relación de simetria de las columnas edad, peso y altura')\n",
    "plt.subplot(1, 3, 1)\n",
    "data.Edad.plot.kde()\n",
    "plt.subplot(1, 3, 2)\n",
    "data.Peso.plot.kde()\n",
    "plt.subplot(1, 3, 3)\n",
    "data.Altura.plot.kde()\n",
    "plt.show()\n"
   ]
  },
  {
   "cell_type": "code",
   "execution_count": 1098,
   "metadata": {},
   "outputs": [
    {
     "name": "stdout",
     "output_type": "stream",
     "text": [
      "Coeficientes de simetría: \n",
      "Edad    : \t0.3507844651697528\n",
      "Peso    : \t0.23401765103866498\n",
      "Altura : \t0.024301969888423976\n"
     ]
    }
   ],
   "source": [
    "print('Coeficientes de simetría: ')\n",
    "print('Edad    : ', stats.skew(data.Edad), sep='\\t')\n",
    "print('Peso    : ', stats.skew(data.Peso), sep='\\t')\n",
    "print('Altura : ', stats.skew(data.Altura), sep='\\t')\n"
   ]
  },
  {
   "cell_type": "markdown",
   "metadata": {},
   "source": [
    " Ahora las columnas de edad, peso y altura estan normalizadas,\n",
    " esto permitirá que los modelos sean mas parejos para realizar las\n",
    " preddicciones, recordar que deben ser eliminados los extremos\n",
    " (outliers) antes de proseguir con el ejercicio."
   ]
  },
  {
   "cell_type": "markdown",
   "metadata": {},
   "source": [
    " # Visualizando los tipos de medallas\n",
    " Debemos conocer el estado de la dictribución de los tipos de medallas\n",
    " para saber que tal será el desempeño del atleta a mostrar."
   ]
  },
  {
   "cell_type": "code",
   "execution_count": 1099,
   "metadata": {},
   "outputs": [
    {
     "data": {
      "image/png": "[encoded data removed]",
      "text/plain": [
       "<Figure size 432x144 with 1 Axes>"
      ]
     },
     "metadata": {},
     "output_type": "display_data"
    }
   ],
   "source": [
    "plt.figure(figsize=(6, 2))\n",
    "data.groupby('Medalla')['Medalla'].value_counts(normalize=True).plot(kind='barh', legend='best', color='orange')\n",
    "plt.title('Distribución de tipos de medallas')\n",
    "plt.xlabel('Porcentaje')\n",
    "plt.ylabel('Tipo medalla')\n",
    "plt.show()\n"
   ]
  },
  {
   "cell_type": "code",
   "execution_count": 1100,
   "metadata": {},
   "outputs": [
    {
     "name": "stdout",
     "output_type": "stream",
     "text": [
      "Tipos de medallas\n"
     ]
    },
    {
     "data": {
      "text/plain": [
       "Gold      9823\n",
       "Bronze    9789\n",
       "Silver    9525\n",
       "Name: Medalla, dtype: int64"
      ]
     },
     "execution_count": 1100,
     "metadata": {},
     "output_type": "execute_result"
    }
   ],
   "source": [
    "print('Tipos de medallas')\n",
    "data.Medalla.value_counts()\n"
   ]
  },
  {
   "cell_type": "code",
   "execution_count": 1101,
   "metadata": {},
   "outputs": [],
   "source": [
    "# ## Medallas de oro\n"
   ]
  },
  {
   "cell_type": "code",
   "execution_count": 1102,
   "metadata": {},
   "outputs": [
    {
     "name": "stdout",
     "output_type": "stream",
     "text": [
      "Edad 0 float64\n",
      "Peso 0 float64\n",
      "Altura 0 float64\n"
     ]
    }
   ],
   "source": [
    "df_oro = data.loc[data[\"Medalla\"] == 'Gold', ]\n",
    "while quitar_extremos(df_oro[['Edad', 'Peso', 'Altura']]):\n",
    "    df_oro = df_oro[\n",
    "        (np.abs(stats.zscore(df_oro.Edad)) < 3)  &\n",
    "        (np.abs(stats.zscore(df_oro.Peso)) < 3) &\n",
    "        (np.abs(stats.zscore(df_oro.Altura)) < 3)\n",
    "        ]\n",
    "\n"
   ]
  },
  {
   "cell_type": "code",
   "execution_count": 1103,
   "metadata": {},
   "outputs": [],
   "source": [
    "def generar_grafico(df, columna, color):\n",
    "    grafico = sns.distplot(\n",
    "        df[columna],\n",
    "        rug=True, rug_kws={\"color\": color},\n",
    "        kde_kws={\"color\": \"k\", \"lw\": 3, \"label\": columna},\n",
    "        hist_kws={\"histtype\": \"step\", \"linewidth\": 3, \"alpha\": 1, \"color\": color})\n",
    "    return grafico\n",
    "\n"
   ]
  },
  {
   "cell_type": "code",
   "execution_count": 1104,
   "metadata": {},
   "outputs": [
    {
     "data": {
      "image/png": "[encoded data removed]",
      "text/plain": [
       "<Figure size 720x216 with 3 Axes>"
      ]
     },
     "metadata": {},
     "output_type": "display_data"
    }
   ],
   "source": [
    "plt.figure(figsize=(10, 3))\n",
    "plt.subplot(1, 3, 1)\n",
    "plt.title('Medallas de oro')\n",
    "generar_grafico(df_oro, 'Edad', 'g')\n",
    "plt.subplot(1, 3, 2)\n",
    "generar_grafico(df_oro, 'Peso', 'r')\n",
    "plt.title('Medallas de plata')\n",
    "plt.subplot(1, 3, 3)\n",
    "generar_grafico(df_oro, 'Altura', 'b')\n",
    "plt.title('Medallas de bronce')\n",
    "plt.show()\n",
    "\n"
   ]
  },
  {
   "cell_type": "code",
   "execution_count": 1105,
   "metadata": {},
   "outputs": [],
   "source": [
    "# ## Medallas de plata\n",
    "\n"
   ]
  },
  {
   "cell_type": "code",
   "execution_count": 1106,
   "metadata": {},
   "outputs": [
    {
     "name": "stdout",
     "output_type": "stream",
     "text": [
      "Edad 0 float64\n",
      "Peso 6 float64\n",
      "Altura 0 float64\n",
      "Edad 0 float64\n",
      "Peso 0 float64\n",
      "Altura 4 float64\n",
      "Edad 0 float64\n",
      "Peso 0 float64\n",
      "Altura 0 float64\n"
     ]
    }
   ],
   "source": [
    "df_plata = data.loc[data[\"Medalla\"] == 'Silver', ]\n",
    "while quitar_extremos(df_plata[['Edad', 'Peso', 'Altura']]):\n",
    "    df_plata = df_plata[\n",
    "        (np.abs(stats.zscore(df_plata.Edad)) < 3)  &\n",
    "        (np.abs(stats.zscore(df_plata.Peso)) < 3) &\n",
    "        (np.abs(stats.zscore(df_plata.Altura)) < 3)\n",
    "        ]\n",
    "\n"
   ]
  },
  {
   "cell_type": "code",
   "execution_count": 1107,
   "metadata": {},
   "outputs": [
    {
     "data": {
      "image/png": "[encoded data removed]",
      "text/plain": [
       "<Figure size 720x216 with 3 Axes>"
      ]
     },
     "metadata": {},
     "output_type": "display_data"
    }
   ],
   "source": [
    "plt.figure(figsize=(10, 3))\n",
    "plt.subplot(1, 3, 1)\n",
    "plt.title('Medallas de oro')\n",
    "generar_grafico(df_plata, 'Edad', 'g')\n",
    "plt.subplot(1, 3, 2)\n",
    "generar_grafico(df_plata, 'Peso', 'r')\n",
    "plt.title('Medallas de plata')\n",
    "plt.subplot(1, 3, 3)\n",
    "generar_grafico(df_plata, 'Altura', 'b')\n",
    "plt.title('Medallas de bronce')\n",
    "plt.show()\n",
    "\n"
   ]
  },
  {
   "cell_type": "code",
   "execution_count": 1108,
   "metadata": {},
   "outputs": [],
   "source": [
    "# ## Medallas de bronze\n",
    "\n"
   ]
  },
  {
   "cell_type": "code",
   "execution_count": 1109,
   "metadata": {},
   "outputs": [
    {
     "name": "stdout",
     "output_type": "stream",
     "text": [
      "Edad 0 float64\n",
      "Peso 8 float64\n",
      "Altura 0 float64\n",
      "Edad 0 float64\n",
      "Peso 0 float64\n",
      "Altura 0 float64\n"
     ]
    }
   ],
   "source": [
    "df_bronce = data.loc[data[\"Medalla\"] == 'Bronze', ]\n",
    "while quitar_extremos(df_bronce[['Edad', 'Peso', 'Altura']]):\n",
    "    df_bronce = df_bronce[\n",
    "        (np.abs(stats.zscore(df_bronce.Edad)) < 3)  &\n",
    "        (np.abs(stats.zscore(df_bronce.Peso)) < 3) &\n",
    "        (np.abs(stats.zscore(df_bronce.Altura)) < 3)\n",
    "        ]\n",
    "\n"
   ]
  },
  {
   "cell_type": "code",
   "execution_count": 1110,
   "metadata": {},
   "outputs": [
    {
     "data": {
      "image/png": "[encoded data removed]",
      "text/plain": [
       "<Figure size 720x216 with 3 Axes>"
      ]
     },
     "metadata": {},
     "output_type": "display_data"
    }
   ],
   "source": [
    "plt.figure(figsize=(10, 3))\n",
    "plt.subplot(1, 3, 1)\n",
    "plt.title('Medallas de oro')\n",
    "generar_grafico(df_bronce, 'Edad', 'g')\n",
    "plt.subplot(1, 3, 2)\n",
    "generar_grafico(df_bronce, 'Peso', 'r')\n",
    "plt.title('Medallas de plata')\n",
    "plt.subplot(1, 3, 3)\n",
    "generar_grafico(df_bronce, 'Altura', 'b')\n",
    "plt.title('Medallas de bronce')\n",
    "plt.show()\n",
    "\n"
   ]
  },
  {
   "cell_type": "markdown",
   "metadata": {},
   "source": [
    " Luego de visualizar, procesar y explorar los datos,\n",
    " estamos en condiciones de poder aplicar los modelos\n",
    " necesarios para el ejercicio."
   ]
  },
  {
   "cell_type": "markdown",
   "metadata": {},
   "source": [
    " # Calcular las probabilidades que posee un atleta\n",
    " Para el ejercicio, es necesario aplicar diferentes\n",
    " modelos que nos permitan ingresar la edad, peso, altura\n",
    " sexo y deporte para poder visualizar si el atleta tendrá\n",
    "  posibilidades de exito en los próximos juegos olímpicos de Tokio 2020."
   ]
  },
  {
   "cell_type": "code",
   "execution_count": 1111,
   "metadata": {},
   "outputs": [],
   "source": [
    "def obtener_dataframe(df, sexo, deporte, medalla):\n",
    "    deporte_atleta = data.loc[:, 'Deporte'].str.contains(deporte, case=False)\n",
    "    sexo_atleta = data.loc[:, 'Sexo'] == sexo\n",
    "    if not deporte:\n",
    "        df = df.loc[sexo_atleta]\n",
    "    elif not sexo:\n",
    "        df = df.loc[deporte_atleta]\n",
    "    elif not sexo and not deporte:\n",
    "        df = df\n",
    "    else:\n",
    "        df = df.loc[deporte_atleta & sexo_atleta]\n",
    "    if medalla:\n",
    "        medalla_atleta = data.loc[:, 'Medalla'] == medalla\n",
    "        df = df.loc[medalla_atleta]\n",
    "    return df\n",
    "\n"
   ]
  },
  {
   "cell_type": "markdown",
   "metadata": {},
   "source": [
    " Los datos a utilizar para este ejercicio son los de la atleta **Kristel Koubrick**"
   ]
  },
  {
   "cell_type": "code",
   "execution_count": 1112,
   "metadata": {},
   "outputs": [
    {
     "data": {
      "text/html": [
       "<div>\n",
       "<style scoped>\n",
       "    .dataframe tbody tr th:only-of-type {\n",
       "        vertical-align: middle;\n",
       "    }\n",
       "\n",
       "    .dataframe tbody tr th {\n",
       "        vertical-align: top;\n",
       "    }\n",
       "\n",
       "    .dataframe thead th {\n",
       "        text-align: right;\n",
       "    }\n",
       "</style>\n",
       "<table border=\"1\" class=\"dataframe\">\n",
       "  <thead>\n",
       "    <tr style=\"text-align: right;\">\n",
       "      <th></th>\n",
       "      <th>Edad</th>\n",
       "      <th>Altura</th>\n",
       "      <th>Peso</th>\n",
       "      <th>Deporte</th>\n",
       "      <th>Sexo</th>\n",
       "      <th>MedallaNum</th>\n",
       "    </tr>\n",
       "  </thead>\n",
       "  <tbody>\n",
       "    <tr>\n",
       "      <th>44972</th>\n",
       "      <td>13.0</td>\n",
       "      <td>157.0</td>\n",
       "      <td>45.0</td>\n",
       "      <td>Swimming</td>\n",
       "      <td>0</td>\n",
       "      <td>3</td>\n",
       "    </tr>\n",
       "    <tr>\n",
       "      <th>52010</th>\n",
       "      <td>13.0</td>\n",
       "      <td>168.0</td>\n",
       "      <td>61.0</td>\n",
       "      <td>Swimming</td>\n",
       "      <td>0</td>\n",
       "      <td>1</td>\n",
       "    </tr>\n",
       "    <tr>\n",
       "      <th>170652</th>\n",
       "      <td>13.0</td>\n",
       "      <td>168.0</td>\n",
       "      <td>61.0</td>\n",
       "      <td>Swimming</td>\n",
       "      <td>0</td>\n",
       "      <td>2</td>\n",
       "    </tr>\n",
       "    <tr>\n",
       "      <th>63524</th>\n",
       "      <td>13.0</td>\n",
       "      <td>172.0</td>\n",
       "      <td>59.0</td>\n",
       "      <td>Swimming</td>\n",
       "      <td>0</td>\n",
       "      <td>2</td>\n",
       "    </tr>\n",
       "    <tr>\n",
       "      <th>104649</th>\n",
       "      <td>14.0</td>\n",
       "      <td>159.0</td>\n",
       "      <td>50.0</td>\n",
       "      <td>Swimming</td>\n",
       "      <td>0</td>\n",
       "      <td>1</td>\n",
       "    </tr>\n",
       "    <tr>\n",
       "      <th>...</th>\n",
       "      <td>...</td>\n",
       "      <td>...</td>\n",
       "      <td>...</td>\n",
       "      <td>...</td>\n",
       "      <td>...</td>\n",
       "      <td>...</td>\n",
       "    </tr>\n",
       "    <tr>\n",
       "      <th>237085</th>\n",
       "      <td>35.0</td>\n",
       "      <td>165.0</td>\n",
       "      <td>66.0</td>\n",
       "      <td>Swimming</td>\n",
       "      <td>1</td>\n",
       "      <td>3</td>\n",
       "    </tr>\n",
       "    <tr>\n",
       "      <th>64650</th>\n",
       "      <td>35.0</td>\n",
       "      <td>191.0</td>\n",
       "      <td>80.0</td>\n",
       "      <td>Swimming</td>\n",
       "      <td>1</td>\n",
       "      <td>1</td>\n",
       "    </tr>\n",
       "    <tr>\n",
       "      <th>78988</th>\n",
       "      <td>36.0</td>\n",
       "      <td>185.0</td>\n",
       "      <td>78.0</td>\n",
       "      <td>Swimming</td>\n",
       "      <td>1</td>\n",
       "      <td>2</td>\n",
       "    </tr>\n",
       "    <tr>\n",
       "      <th>137867</th>\n",
       "      <td>36.0</td>\n",
       "      <td>193.0</td>\n",
       "      <td>98.0</td>\n",
       "      <td>Swimming</td>\n",
       "      <td>1</td>\n",
       "      <td>2</td>\n",
       "    </tr>\n",
       "    <tr>\n",
       "      <th>202031</th>\n",
       "      <td>37.0</td>\n",
       "      <td>183.0</td>\n",
       "      <td>76.0</td>\n",
       "      <td>Swimming</td>\n",
       "      <td>1</td>\n",
       "      <td>2</td>\n",
       "    </tr>\n",
       "  </tbody>\n",
       "</table>\n",
       "<p>2098 rows × 6 columns</p>\n",
       "</div>"
      ],
      "text/plain": [
       "        Edad  Altura  Peso   Deporte  Sexo  MedallaNum\n",
       "44972   13.0   157.0  45.0  Swimming     0           3\n",
       "52010   13.0   168.0  61.0  Swimming     0           1\n",
       "170652  13.0   168.0  61.0  Swimming     0           2\n",
       "63524   13.0   172.0  59.0  Swimming     0           2\n",
       "104649  14.0   159.0  50.0  Swimming     0           1\n",
       "...      ...     ...   ...       ...   ...         ...\n",
       "237085  35.0   165.0  66.0  Swimming     1           3\n",
       "64650   35.0   191.0  80.0  Swimming     1           1\n",
       "78988   36.0   185.0  78.0  Swimming     1           2\n",
       "137867  36.0   193.0  98.0  Swimming     1           2\n",
       "202031  37.0   183.0  76.0  Swimming     1           2\n",
       "\n",
       "[2098 rows x 6 columns]"
      ]
     },
     "execution_count": 1112,
     "metadata": {},
     "output_type": "execute_result"
    }
   ],
   "source": [
    "edad = 34\n",
    "peso = 61\n",
    "altura = 161\n",
    "sexo = 0\n",
    "deporte = 'Swimming'\n",
    "data_new = obtener_dataframe(data, sexo, deporte, '').drop_duplicates()\n",
    "data_new = data_new.drop(['Medalla'], axis=1)\n",
    "data_new = data_new.sort_values(['Edad', 'Altura', 'Peso'])\n",
    "data_new\n"
   ]
  },
  {
   "cell_type": "code",
   "execution_count": 1113,
   "metadata": {},
   "outputs": [],
   "source": [
    "from sklearn.linear_model import LinearRegression\n",
    "from sklearn.feature_selection import RFE\n",
    "from sklearn.svm import SVR\n",
    "from sklearn.model_selection import train_test_split\n",
    "from sklearn.metrics import mean_squared_error\n",
    "resultados = []\n",
    "resultados_oro = []\n",
    "resultados_plata = []\n",
    "resultados_bronce = []\n",
    "\n"
   ]
  },
  {
   "cell_type": "markdown",
   "metadata": {},
   "source": [
    " Revisar si las columnas son aptas para el modelo"
   ]
  },
  {
   "cell_type": "code",
   "execution_count": 1114,
   "metadata": {},
   "outputs": [],
   "source": [
    "def validar_columnas(df, tipo, X_columnas, y_columnas):\n",
    "    X = df[X_columnas]\n",
    "    Y = df[y_columnas]\n",
    "    estimador = SVR(kernel=tipo)\n",
    "    seleccionador = RFE(estimador, len(X), step=1)\n",
    "    seleccionador = seleccionador.fit(X, Y)\n",
    "    print(seleccionador.support_)\n",
    "    return\n",
    "\n"
   ]
  },
  {
   "cell_type": "markdown",
   "metadata": {},
   "source": [
    "  Generar los conjuntos de entrenamiento y test"
   ]
  },
  {
   "cell_type": "code",
   "execution_count": 1115,
   "metadata": {},
   "outputs": [],
   "source": [
    "def generar_entrenamiento(df, X_columnas, y_columnas):\n",
    "    X = np.array(df[X_columnas])\n",
    "    y = np.array(df[[y_columnas]].values)\n",
    "    X_train, X_test, y_train, y_test = train_test_split(X, y, test_size=0.2)\n",
    "    return X_train, X_test, y_train, y_test\n",
    "\n"
   ]
  },
  {
   "cell_type": "markdown",
   "metadata": {},
   "source": [
    " ## Regresión lineal"
   ]
  },
  {
   "cell_type": "markdown",
   "metadata": {},
   "source": [
    " ### Probabilidad general de obtener medallas"
   ]
  },
  {
   "cell_type": "code",
   "execution_count": 1116,
   "metadata": {},
   "outputs": [],
   "source": [
    "def mostrar_variables(interseccion, coeficiente, score, error_cuadratico):\n",
    "    print()\n",
    "    print('Intersección     :', interseccion, sep='\\t')\n",
    "    print('Coeficiente      :', coeficiente, sep='\\t')\n",
    "    print('Score            :', score, sep='\\t')\n",
    "    print('\"Error cuadrático :', error_cuadratico, sep='\\t')\n",
    "    return\n"
   ]
  },
  {
   "cell_type": "code",
   "execution_count": 1117,
   "metadata": {},
   "outputs": [
    {
     "name": "stdout",
     "output_type": "stream",
     "text": [
      "[ True  True  True]\n",
      "\n",
      "Intersección     :\t3.059133493007441\n",
      "Coeficiente      :\t0.008413340027855013\n",
      "Score            :\t0.004327596749350682\n",
      "\"Error cuadrático :\t0.6503704595549021\n"
     ]
    }
   ],
   "source": [
    "X_columnas = ['Edad', 'Peso', 'Altura']\n",
    "y_columnas = 'MedallaNum'\n",
    "validar_columnas(data_new, 'linear', X_columnas, y_columnas)\n",
    "X_train, X_test, y_train, y_test = generar_entrenamiento(data_new, X_columnas, y_columnas)\n",
    "lm = LinearRegression()\n",
    "lm.fit(X_train, y_train)\n",
    "y_pred = lm.predict(X_train)\n",
    "interseccion = lm.intercept_[0]\n",
    "coeficiente = lm.coef_[0][0]\n",
    "score = lm.score(X_train, y_train)\n",
    "error_cuadratico = mean_squared_error(y_train, y_pred)\n",
    "mostrar_variables(interseccion, coeficiente, score, error_cuadratico)\n",
    "\n"
   ]
  },
  {
   "cell_type": "markdown",
   "metadata": {},
   "source": [
    " Aplicar la formula a los elementos del dataframe"
   ]
  },
  {
   "cell_type": "code",
   "execution_count": 1118,
   "metadata": {},
   "outputs": [
    {
     "data": {
      "text/html": [
       "<div>\n",
       "<style scoped>\n",
       "    .dataframe tbody tr th:only-of-type {\n",
       "        vertical-align: middle;\n",
       "    }\n",
       "\n",
       "    .dataframe tbody tr th {\n",
       "        vertical-align: top;\n",
       "    }\n",
       "\n",
       "    .dataframe thead th {\n",
       "        text-align: right;\n",
       "    }\n",
       "</style>\n",
       "<table border=\"1\" class=\"dataframe\">\n",
       "  <thead>\n",
       "    <tr style=\"text-align: right;\">\n",
       "      <th></th>\n",
       "      <th>Edad</th>\n",
       "      <th>Altura</th>\n",
       "      <th>Peso</th>\n",
       "      <th>Deporte</th>\n",
       "      <th>Sexo</th>\n",
       "      <th>MedallaNum</th>\n",
       "      <th>re</th>\n",
       "      <th>rp</th>\n",
       "      <th>ra</th>\n",
       "    </tr>\n",
       "  </thead>\n",
       "  <tbody>\n",
       "    <tr>\n",
       "      <th>44972</th>\n",
       "      <td>13.0</td>\n",
       "      <td>157.0</td>\n",
       "      <td>45.0</td>\n",
       "      <td>Swimming</td>\n",
       "      <td>0</td>\n",
       "      <td>3</td>\n",
       "      <td>3.168507</td>\n",
       "      <td>3.437734</td>\n",
       "      <td>4.380028</td>\n",
       "    </tr>\n",
       "    <tr>\n",
       "      <th>52010</th>\n",
       "      <td>13.0</td>\n",
       "      <td>168.0</td>\n",
       "      <td>61.0</td>\n",
       "      <td>Swimming</td>\n",
       "      <td>0</td>\n",
       "      <td>1</td>\n",
       "      <td>3.168507</td>\n",
       "      <td>3.572347</td>\n",
       "      <td>4.472575</td>\n",
       "    </tr>\n",
       "    <tr>\n",
       "      <th>170652</th>\n",
       "      <td>13.0</td>\n",
       "      <td>168.0</td>\n",
       "      <td>61.0</td>\n",
       "      <td>Swimming</td>\n",
       "      <td>0</td>\n",
       "      <td>2</td>\n",
       "      <td>3.168507</td>\n",
       "      <td>3.572347</td>\n",
       "      <td>4.472575</td>\n",
       "    </tr>\n",
       "    <tr>\n",
       "      <th>63524</th>\n",
       "      <td>13.0</td>\n",
       "      <td>172.0</td>\n",
       "      <td>59.0</td>\n",
       "      <td>Swimming</td>\n",
       "      <td>0</td>\n",
       "      <td>2</td>\n",
       "      <td>3.168507</td>\n",
       "      <td>3.555521</td>\n",
       "      <td>4.506228</td>\n",
       "    </tr>\n",
       "    <tr>\n",
       "      <th>104649</th>\n",
       "      <td>14.0</td>\n",
       "      <td>159.0</td>\n",
       "      <td>50.0</td>\n",
       "      <td>Swimming</td>\n",
       "      <td>0</td>\n",
       "      <td>1</td>\n",
       "      <td>3.176920</td>\n",
       "      <td>3.479800</td>\n",
       "      <td>4.396855</td>\n",
       "    </tr>\n",
       "  </tbody>\n",
       "</table>\n",
       "</div>"
      ],
      "text/plain": [
       "        Edad  Altura  Peso   Deporte  Sexo  MedallaNum        re        rp  \\\n",
       "44972   13.0   157.0  45.0  Swimming     0           3  3.168507  3.437734   \n",
       "52010   13.0   168.0  61.0  Swimming     0           1  3.168507  3.572347   \n",
       "170652  13.0   168.0  61.0  Swimming     0           2  3.168507  3.572347   \n",
       "63524   13.0   172.0  59.0  Swimming     0           2  3.168507  3.555521   \n",
       "104649  14.0   159.0  50.0  Swimming     0           1  3.176920  3.479800   \n",
       "\n",
       "              ra  \n",
       "44972   4.380028  \n",
       "52010   4.472575  \n",
       "170652  4.472575  \n",
       "63524   4.506228  \n",
       "104649  4.396855  "
      ]
     },
     "execution_count": 1118,
     "metadata": {},
     "output_type": "execute_result"
    }
   ],
   "source": [
    "def aplicar_formula(df, coeficiente, interseccion):\n",
    "    df['re'] = df[['Edad']].apply(lambda x: (coeficiente*x.Edad+interseccion), axis=1)\n",
    "    df['rp'] = df[['Peso']].apply(lambda x: (coeficiente*x.Peso+interseccion), axis=1)\n",
    "    df['ra'] = df[['Altura']].apply(lambda x: (coeficiente*x.Altura+interseccion), axis=1)\n",
    "    return df\n",
    "data_new = aplicar_formula(data_new, coeficiente, interseccion)\n",
    "data_new.head(5)\n",
    "\n"
   ]
  },
  {
   "cell_type": "markdown",
   "metadata": {},
   "source": [
    " #### Graficar resultados aplicados al dataframe"
   ]
  },
  {
   "cell_type": "code",
   "execution_count": 1119,
   "metadata": {},
   "outputs": [
    {
     "data": {
      "image/png": "[encoded data removed]",
      "text/plain": [
       "<Figure size 864x216 with 3 Axes>"
      ]
     },
     "metadata": {},
     "output_type": "display_data"
    }
   ],
   "source": [
    "def graficar_resultados(df):\n",
    "    plt.figure(figsize=(12, 3))\n",
    "    plt.subplot(1, 3, 1)\n",
    "    sns.scatterplot(df.Edad, df.re)\n",
    "    plt.subplot(1, 3, 2)\n",
    "    sns.scatterplot(df.Peso, df.rp)\n",
    "    plt.subplot(1, 3, 3)\n",
    "    sns.scatterplot(df.Altura, df.ra)\n",
    "    plt.show()\n",
    "    return\n",
    "graficar_resultados(data_new)\n",
    "\n"
   ]
  },
  {
   "cell_type": "markdown",
   "metadata": {},
   "source": [
    " #### Predecir por las características del atleta"
   ]
  },
  {
   "cell_type": "code",
   "execution_count": 1120,
   "metadata": {},
   "outputs": [
    {
     "name": "stdout",
     "output_type": "stream",
     "text": [
      "La probabilidad de ganar medalla es : 2.275\n"
     ]
    }
   ],
   "source": [
    "y_pred = lm.predict(np.array([[edad, peso, altura]]))\n",
    "prediccion = y_pred[0][0]\n",
    "print('La probabilidad de ganar medalla es : {:.3f}'.format(prediccion))\n",
    "resultados.append(['Regresión lineal', score, interseccion, coeficiente, error_cuadratico, prediccion])\n",
    "\n"
   ]
  },
  {
   "cell_type": "markdown",
   "metadata": {},
   "source": [
    " ### Probabilidad medalla de oro"
   ]
  },
  {
   "cell_type": "markdown",
   "metadata": {},
   "source": [
    " Obtener datos para medalla de **oro**"
   ]
  },
  {
   "cell_type": "code",
   "execution_count": 1121,
   "metadata": {},
   "outputs": [
    {
     "data": {
      "text/html": [
       "<div>\n",
       "<style scoped>\n",
       "    .dataframe tbody tr th:only-of-type {\n",
       "        vertical-align: middle;\n",
       "    }\n",
       "\n",
       "    .dataframe tbody tr th {\n",
       "        vertical-align: top;\n",
       "    }\n",
       "\n",
       "    .dataframe thead th {\n",
       "        text-align: right;\n",
       "    }\n",
       "</style>\n",
       "<table border=\"1\" class=\"dataframe\">\n",
       "  <thead>\n",
       "    <tr style=\"text-align: right;\">\n",
       "      <th></th>\n",
       "      <th>Edad</th>\n",
       "      <th>Altura</th>\n",
       "      <th>Peso</th>\n",
       "      <th>MedallaNum</th>\n",
       "    </tr>\n",
       "  </thead>\n",
       "  <tbody>\n",
       "    <tr>\n",
       "      <th>52010</th>\n",
       "      <td>13.0</td>\n",
       "      <td>168.0</td>\n",
       "      <td>61.0</td>\n",
       "      <td>4</td>\n",
       "    </tr>\n",
       "    <tr>\n",
       "      <th>104649</th>\n",
       "      <td>14.0</td>\n",
       "      <td>159.0</td>\n",
       "      <td>50.0</td>\n",
       "      <td>0</td>\n",
       "    </tr>\n",
       "    <tr>\n",
       "      <th>262733</th>\n",
       "      <td>14.0</td>\n",
       "      <td>167.0</td>\n",
       "      <td>60.0</td>\n",
       "      <td>3</td>\n",
       "    </tr>\n",
       "    <tr>\n",
       "      <th>163440</th>\n",
       "      <td>14.0</td>\n",
       "      <td>167.0</td>\n",
       "      <td>67.0</td>\n",
       "      <td>2</td>\n",
       "    </tr>\n",
       "    <tr>\n",
       "      <th>172293</th>\n",
       "      <td>14.0</td>\n",
       "      <td>172.0</td>\n",
       "      <td>62.0</td>\n",
       "      <td>4</td>\n",
       "    </tr>\n",
       "  </tbody>\n",
       "</table>\n",
       "</div>"
      ],
      "text/plain": [
       "        Edad  Altura  Peso  MedallaNum\n",
       "52010   13.0   168.0  61.0           4\n",
       "104649  14.0   159.0  50.0           0\n",
       "262733  14.0   167.0  60.0           3\n",
       "163440  14.0   167.0  67.0           2\n",
       "172293  14.0   172.0  62.0           4"
      ]
     },
     "execution_count": 1121,
     "metadata": {},
     "output_type": "execute_result"
    }
   ],
   "source": [
    "import random\n",
    "data_oro = obtener_dataframe(data, sexo, deporte, 'Gold').drop_duplicates()\n",
    "data_oro = data_oro.drop(['Sexo', 'Medalla', 'Deporte'], axis=1)\n",
    "data_oro.MedallaNum = data_oro[['MedallaNum']].apply(lambda x : random.randrange(5), axis=1)\n",
    "data_oro = data_oro.sort_values(['Edad', 'Altura', 'Peso'])\n",
    "data_oro.head(5)\n"
   ]
  },
  {
   "cell_type": "markdown",
   "metadata": {},
   "source": [
    " Realizar las predicciones"
   ]
  },
  {
   "cell_type": "code",
   "execution_count": 1122,
   "metadata": {},
   "outputs": [
    {
     "name": "stdout",
     "output_type": "stream",
     "text": [
      "[ True  True  True]\n",
      "\n",
      "Intersección     :\t2.554603101215471\n",
      "Coeficiente      :\t0.008074415302049536\n",
      "Score            :\t0.0006455691754673198\n",
      "\"Error cuadrático :\t2.0545751396680876\n"
     ]
    }
   ],
   "source": [
    "validar_columnas(data_oro, 'linear', X_columnas, y_columnas)\n",
    "X_train, X_test, y_train, y_test = generar_entrenamiento(data_oro, X_columnas, y_columnas)\n",
    "lm = LinearRegression()\n",
    "lm.fit(X_train, y_train)\n",
    "y_pred = lm.predict(X_train)\n",
    "interseccion = lm.intercept_[0]\n",
    "coeficiente = lm.coef_[0][0]\n",
    "score = lm.score(X_train, y_train)\n",
    "error_cuadratico = mean_squared_error(y_train, y_pred)\n",
    "mostrar_variables(interseccion, coeficiente, score, error_cuadratico)\n",
    "\n"
   ]
  },
  {
   "cell_type": "markdown",
   "metadata": {},
   "source": [
    " Aplicar la formula a los elementos del dataframe"
   ]
  },
  {
   "cell_type": "code",
   "execution_count": 1123,
   "metadata": {},
   "outputs": [
    {
     "data": {
      "text/html": [
       "<div>\n",
       "<style scoped>\n",
       "    .dataframe tbody tr th:only-of-type {\n",
       "        vertical-align: middle;\n",
       "    }\n",
       "\n",
       "    .dataframe tbody tr th {\n",
       "        vertical-align: top;\n",
       "    }\n",
       "\n",
       "    .dataframe thead th {\n",
       "        text-align: right;\n",
       "    }\n",
       "</style>\n",
       "<table border=\"1\" class=\"dataframe\">\n",
       "  <thead>\n",
       "    <tr style=\"text-align: right;\">\n",
       "      <th></th>\n",
       "      <th>Edad</th>\n",
       "      <th>Altura</th>\n",
       "      <th>Peso</th>\n",
       "      <th>MedallaNum</th>\n",
       "      <th>re</th>\n",
       "      <th>rp</th>\n",
       "      <th>ra</th>\n",
       "    </tr>\n",
       "  </thead>\n",
       "  <tbody>\n",
       "    <tr>\n",
       "      <th>52010</th>\n",
       "      <td>13.0</td>\n",
       "      <td>168.0</td>\n",
       "      <td>61.0</td>\n",
       "      <td>4</td>\n",
       "      <td>2.659571</td>\n",
       "      <td>3.047142</td>\n",
       "      <td>3.911105</td>\n",
       "    </tr>\n",
       "    <tr>\n",
       "      <th>104649</th>\n",
       "      <td>14.0</td>\n",
       "      <td>159.0</td>\n",
       "      <td>50.0</td>\n",
       "      <td>0</td>\n",
       "      <td>2.667645</td>\n",
       "      <td>2.958324</td>\n",
       "      <td>3.838435</td>\n",
       "    </tr>\n",
       "    <tr>\n",
       "      <th>262733</th>\n",
       "      <td>14.0</td>\n",
       "      <td>167.0</td>\n",
       "      <td>60.0</td>\n",
       "      <td>3</td>\n",
       "      <td>2.667645</td>\n",
       "      <td>3.039068</td>\n",
       "      <td>3.903030</td>\n",
       "    </tr>\n",
       "    <tr>\n",
       "      <th>163440</th>\n",
       "      <td>14.0</td>\n",
       "      <td>167.0</td>\n",
       "      <td>67.0</td>\n",
       "      <td>2</td>\n",
       "      <td>2.667645</td>\n",
       "      <td>3.095589</td>\n",
       "      <td>3.903030</td>\n",
       "    </tr>\n",
       "    <tr>\n",
       "      <th>172293</th>\n",
       "      <td>14.0</td>\n",
       "      <td>172.0</td>\n",
       "      <td>62.0</td>\n",
       "      <td>4</td>\n",
       "      <td>2.667645</td>\n",
       "      <td>3.055217</td>\n",
       "      <td>3.943403</td>\n",
       "    </tr>\n",
       "  </tbody>\n",
       "</table>\n",
       "</div>"
      ],
      "text/plain": [
       "        Edad  Altura  Peso  MedallaNum        re        rp        ra\n",
       "52010   13.0   168.0  61.0           4  2.659571  3.047142  3.911105\n",
       "104649  14.0   159.0  50.0           0  2.667645  2.958324  3.838435\n",
       "262733  14.0   167.0  60.0           3  2.667645  3.039068  3.903030\n",
       "163440  14.0   167.0  67.0           2  2.667645  3.095589  3.903030\n",
       "172293  14.0   172.0  62.0           4  2.667645  3.055217  3.943403"
      ]
     },
     "execution_count": 1123,
     "metadata": {},
     "output_type": "execute_result"
    }
   ],
   "source": [
    "data_oro = aplicar_formula(data_oro, coeficiente, interseccion)\n",
    "data_oro.head(5)\n",
    "\n"
   ]
  },
  {
   "cell_type": "markdown",
   "metadata": {},
   "source": [
    " #### Graficar resultados aplicados al dataframe"
   ]
  },
  {
   "cell_type": "code",
   "execution_count": 1124,
   "metadata": {},
   "outputs": [
    {
     "data": {
      "image/png": "[encoded data removed]",
      "text/plain": [
       "<Figure size 864x216 with 3 Axes>"
      ]
     },
     "metadata": {},
     "output_type": "display_data"
    }
   ],
   "source": [
    "graficar_resultados(data_oro)\n",
    "\n"
   ]
  },
  {
   "cell_type": "markdown",
   "metadata": {},
   "source": [
    " #### Predecir por las características del atleta"
   ]
  },
  {
   "cell_type": "code",
   "execution_count": 1125,
   "metadata": {},
   "outputs": [
    {
     "name": "stdout",
     "output_type": "stream",
     "text": [
      "La probabilidad de ganar medalla de oro es : 2.212\n"
     ]
    }
   ],
   "source": [
    "y_pred = lm.predict(np.array([[edad, peso, altura]]))\n",
    "prediccion = y_pred[0][0]\n",
    "print('La probabilidad de ganar medalla de oro es : {:.3f}'.format(prediccion))\n",
    "resultados_oro.append(['Regresión lineal', score, interseccion, coeficiente, error_cuadratico, prediccion])\n",
    "\n"
   ]
  },
  {
   "cell_type": "markdown",
   "metadata": {},
   "source": [
    " ### Probabilidad medalla de **plata**"
   ]
  },
  {
   "cell_type": "markdown",
   "metadata": {},
   "source": [
    " Obtener datos para medalla de plata"
   ]
  },
  {
   "cell_type": "code",
   "execution_count": 1126,
   "metadata": {},
   "outputs": [
    {
     "data": {
      "text/html": [
       "<div>\n",
       "<style scoped>\n",
       "    .dataframe tbody tr th:only-of-type {\n",
       "        vertical-align: middle;\n",
       "    }\n",
       "\n",
       "    .dataframe tbody tr th {\n",
       "        vertical-align: top;\n",
       "    }\n",
       "\n",
       "    .dataframe thead th {\n",
       "        text-align: right;\n",
       "    }\n",
       "</style>\n",
       "<table border=\"1\" class=\"dataframe\">\n",
       "  <thead>\n",
       "    <tr style=\"text-align: right;\">\n",
       "      <th></th>\n",
       "      <th>Edad</th>\n",
       "      <th>Altura</th>\n",
       "      <th>Peso</th>\n",
       "      <th>MedallaNum</th>\n",
       "    </tr>\n",
       "  </thead>\n",
       "  <tbody>\n",
       "    <tr>\n",
       "      <th>170652</th>\n",
       "      <td>13.0</td>\n",
       "      <td>168.0</td>\n",
       "      <td>61.0</td>\n",
       "      <td>3</td>\n",
       "    </tr>\n",
       "    <tr>\n",
       "      <th>63524</th>\n",
       "      <td>13.0</td>\n",
       "      <td>172.0</td>\n",
       "      <td>59.0</td>\n",
       "      <td>0</td>\n",
       "    </tr>\n",
       "    <tr>\n",
       "      <th>122915</th>\n",
       "      <td>14.0</td>\n",
       "      <td>170.0</td>\n",
       "      <td>61.0</td>\n",
       "      <td>1</td>\n",
       "    </tr>\n",
       "    <tr>\n",
       "      <th>259436</th>\n",
       "      <td>14.0</td>\n",
       "      <td>171.0</td>\n",
       "      <td>60.0</td>\n",
       "      <td>0</td>\n",
       "    </tr>\n",
       "    <tr>\n",
       "      <th>16847</th>\n",
       "      <td>14.0</td>\n",
       "      <td>173.0</td>\n",
       "      <td>59.0</td>\n",
       "      <td>1</td>\n",
       "    </tr>\n",
       "  </tbody>\n",
       "</table>\n",
       "</div>"
      ],
      "text/plain": [
       "        Edad  Altura  Peso  MedallaNum\n",
       "170652  13.0   168.0  61.0           3\n",
       "63524   13.0   172.0  59.0           0\n",
       "122915  14.0   170.0  61.0           1\n",
       "259436  14.0   171.0  60.0           0\n",
       "16847   14.0   173.0  59.0           1"
      ]
     },
     "execution_count": 1126,
     "metadata": {},
     "output_type": "execute_result"
    }
   ],
   "source": [
    "data_plata = obtener_dataframe(data, sexo, deporte, 'Silver').drop_duplicates()\n",
    "data_plata = data_plata.drop(['Sexo', 'Medalla', 'Deporte'], axis=1)\n",
    "data_plata.MedallaNum = data_plata[['MedallaNum']].apply(lambda x : random.randrange(4), axis=1)\n",
    "data_plata = data_plata.sort_values(['Edad', 'Altura', 'Peso'])\n",
    "data_plata.head(5)\n"
   ]
  },
  {
   "cell_type": "markdown",
   "metadata": {},
   "source": [
    " Realizar las predicciones"
   ]
  },
  {
   "cell_type": "code",
   "execution_count": 1127,
   "metadata": {},
   "outputs": [
    {
     "name": "stdout",
     "output_type": "stream",
     "text": [
      "[ True  True  True]\n",
      "\n",
      "Intersección     :\t1.778550093898278\n",
      "Coeficiente      :\t-0.014476290139007525\n",
      "Score            :\t0.0034011181285330543\n",
      "\"Error cuadrático :\t1.1913851694946536\n"
     ]
    }
   ],
   "source": [
    "validar_columnas(data_plata, 'linear', X_columnas, y_columnas)\n",
    "X_train, X_test, y_train, y_test = generar_entrenamiento(data_plata, X_columnas, y_columnas)\n",
    "lm = LinearRegression()\n",
    "lm.fit(X_train, y_train)\n",
    "y_pred = lm.predict(X_train)\n",
    "interseccion = lm.intercept_[0]\n",
    "coeficiente = lm.coef_[0][0]\n",
    "score = lm.score(X_train, y_train)\n",
    "error_cuadratico = mean_squared_error(y_train, y_pred)\n",
    "mostrar_variables(interseccion, coeficiente, score, error_cuadratico)\n",
    "\n"
   ]
  },
  {
   "cell_type": "markdown",
   "metadata": {},
   "source": [
    " Aplicar la formula a los elementos del dataframe"
   ]
  },
  {
   "cell_type": "code",
   "execution_count": 1128,
   "metadata": {},
   "outputs": [
    {
     "data": {
      "text/html": [
       "<div>\n",
       "<style scoped>\n",
       "    .dataframe tbody tr th:only-of-type {\n",
       "        vertical-align: middle;\n",
       "    }\n",
       "\n",
       "    .dataframe tbody tr th {\n",
       "        vertical-align: top;\n",
       "    }\n",
       "\n",
       "    .dataframe thead th {\n",
       "        text-align: right;\n",
       "    }\n",
       "</style>\n",
       "<table border=\"1\" class=\"dataframe\">\n",
       "  <thead>\n",
       "    <tr style=\"text-align: right;\">\n",
       "      <th></th>\n",
       "      <th>Edad</th>\n",
       "      <th>Altura</th>\n",
       "      <th>Peso</th>\n",
       "      <th>MedallaNum</th>\n",
       "      <th>re</th>\n",
       "      <th>rp</th>\n",
       "      <th>ra</th>\n",
       "    </tr>\n",
       "  </thead>\n",
       "  <tbody>\n",
       "    <tr>\n",
       "      <th>170652</th>\n",
       "      <td>13.0</td>\n",
       "      <td>168.0</td>\n",
       "      <td>61.0</td>\n",
       "      <td>3</td>\n",
       "      <td>1.590358</td>\n",
       "      <td>0.895496</td>\n",
       "      <td>-0.653467</td>\n",
       "    </tr>\n",
       "    <tr>\n",
       "      <th>63524</th>\n",
       "      <td>13.0</td>\n",
       "      <td>172.0</td>\n",
       "      <td>59.0</td>\n",
       "      <td>0</td>\n",
       "      <td>1.590358</td>\n",
       "      <td>0.924449</td>\n",
       "      <td>-0.711372</td>\n",
       "    </tr>\n",
       "    <tr>\n",
       "      <th>122915</th>\n",
       "      <td>14.0</td>\n",
       "      <td>170.0</td>\n",
       "      <td>61.0</td>\n",
       "      <td>1</td>\n",
       "      <td>1.575882</td>\n",
       "      <td>0.895496</td>\n",
       "      <td>-0.682419</td>\n",
       "    </tr>\n",
       "    <tr>\n",
       "      <th>259436</th>\n",
       "      <td>14.0</td>\n",
       "      <td>171.0</td>\n",
       "      <td>60.0</td>\n",
       "      <td>0</td>\n",
       "      <td>1.575882</td>\n",
       "      <td>0.909973</td>\n",
       "      <td>-0.696896</td>\n",
       "    </tr>\n",
       "    <tr>\n",
       "      <th>16847</th>\n",
       "      <td>14.0</td>\n",
       "      <td>173.0</td>\n",
       "      <td>59.0</td>\n",
       "      <td>1</td>\n",
       "      <td>1.575882</td>\n",
       "      <td>0.924449</td>\n",
       "      <td>-0.725848</td>\n",
       "    </tr>\n",
       "  </tbody>\n",
       "</table>\n",
       "</div>"
      ],
      "text/plain": [
       "        Edad  Altura  Peso  MedallaNum        re        rp        ra\n",
       "170652  13.0   168.0  61.0           3  1.590358  0.895496 -0.653467\n",
       "63524   13.0   172.0  59.0           0  1.590358  0.924449 -0.711372\n",
       "122915  14.0   170.0  61.0           1  1.575882  0.895496 -0.682419\n",
       "259436  14.0   171.0  60.0           0  1.575882  0.909973 -0.696896\n",
       "16847   14.0   173.0  59.0           1  1.575882  0.924449 -0.725848"
      ]
     },
     "execution_count": 1128,
     "metadata": {},
     "output_type": "execute_result"
    }
   ],
   "source": [
    "data_plata = aplicar_formula(data_plata, coeficiente, interseccion)\n",
    "data_plata.head(5)\n",
    "\n"
   ]
  },
  {
   "cell_type": "markdown",
   "metadata": {},
   "source": [
    " #### Graficar resultados aplicados al dataframe"
   ]
  },
  {
   "cell_type": "code",
   "execution_count": 1129,
   "metadata": {},
   "outputs": [
    {
     "data": {
      "image/png": "[encoded data removed]",
      "text/plain": [
       "<Figure size 864x216 with 3 Axes>"
      ]
     },
     "metadata": {},
     "output_type": "display_data"
    }
   ],
   "source": [
    "graficar_resultados(data_plata)\n",
    "\n"
   ]
  },
  {
   "cell_type": "markdown",
   "metadata": {},
   "source": [
    " #### Predecir por las características del atleta"
   ]
  },
  {
   "cell_type": "code",
   "execution_count": 1130,
   "metadata": {},
   "outputs": [
    {
     "name": "stdout",
     "output_type": "stream",
     "text": [
      "La probabilidad de ganar medalla de plata es : 1.345\n"
     ]
    }
   ],
   "source": [
    "y_pred = lm.predict(np.array([[edad, peso, altura]]))\n",
    "prediccion = y_pred[0][0]\n",
    "print('La probabilidad de ganar medalla de plata es : {:.3f}'.format(prediccion))\n",
    "resultados_plata.append(['Regresión lineal', score, interseccion, coeficiente, error_cuadratico, prediccion])\n",
    "\n"
   ]
  },
  {
   "cell_type": "markdown",
   "metadata": {},
   "source": [
    " ### Probabilidad medalla de **bronce**"
   ]
  },
  {
   "cell_type": "markdown",
   "metadata": {},
   "source": [
    " Obtener datos para medalla de bronce"
   ]
  },
  {
   "cell_type": "code",
   "execution_count": 1131,
   "metadata": {},
   "outputs": [
    {
     "data": {
      "text/html": [
       "<div>\n",
       "<style scoped>\n",
       "    .dataframe tbody tr th:only-of-type {\n",
       "        vertical-align: middle;\n",
       "    }\n",
       "\n",
       "    .dataframe tbody tr th {\n",
       "        vertical-align: top;\n",
       "    }\n",
       "\n",
       "    .dataframe thead th {\n",
       "        text-align: right;\n",
       "    }\n",
       "</style>\n",
       "<table border=\"1\" class=\"dataframe\">\n",
       "  <thead>\n",
       "    <tr style=\"text-align: right;\">\n",
       "      <th></th>\n",
       "      <th>Edad</th>\n",
       "      <th>Altura</th>\n",
       "      <th>Peso</th>\n",
       "      <th>MedallaNum</th>\n",
       "    </tr>\n",
       "  </thead>\n",
       "  <tbody>\n",
       "    <tr>\n",
       "      <th>44972</th>\n",
       "      <td>13.0</td>\n",
       "      <td>157.0</td>\n",
       "      <td>45.0</td>\n",
       "      <td>0</td>\n",
       "    </tr>\n",
       "    <tr>\n",
       "      <th>162947</th>\n",
       "      <td>14.0</td>\n",
       "      <td>168.0</td>\n",
       "      <td>53.0</td>\n",
       "      <td>1</td>\n",
       "    </tr>\n",
       "    <tr>\n",
       "      <th>75741</th>\n",
       "      <td>14.0</td>\n",
       "      <td>168.0</td>\n",
       "      <td>54.0</td>\n",
       "      <td>1</td>\n",
       "    </tr>\n",
       "    <tr>\n",
       "      <th>196533</th>\n",
       "      <td>14.0</td>\n",
       "      <td>171.0</td>\n",
       "      <td>62.0</td>\n",
       "      <td>2</td>\n",
       "    </tr>\n",
       "    <tr>\n",
       "      <th>206627</th>\n",
       "      <td>14.0</td>\n",
       "      <td>173.0</td>\n",
       "      <td>63.0</td>\n",
       "      <td>1</td>\n",
       "    </tr>\n",
       "  </tbody>\n",
       "</table>\n",
       "</div>"
      ],
      "text/plain": [
       "        Edad  Altura  Peso  MedallaNum\n",
       "44972   13.0   157.0  45.0           0\n",
       "162947  14.0   168.0  53.0           1\n",
       "75741   14.0   168.0  54.0           1\n",
       "196533  14.0   171.0  62.0           2\n",
       "206627  14.0   173.0  63.0           1"
      ]
     },
     "execution_count": 1131,
     "metadata": {},
     "output_type": "execute_result"
    }
   ],
   "source": [
    "data_bronce = obtener_dataframe(data, sexo, deporte, 'Bronze').drop_duplicates()\n",
    "data_bronce = data_bronce.drop(['Sexo', 'Medalla', 'Deporte'], axis=1)\n",
    "data_bronce.MedallaNum = data_bronce[['MedallaNum']].apply(lambda x : random.randrange(3), axis=1)\n",
    "data_bronce = data_bronce.sort_values(['Edad', 'Altura', 'Peso'])\n",
    "data_bronce.head(5)\n"
   ]
  },
  {
   "cell_type": "markdown",
   "metadata": {},
   "source": [
    " Realizar las predicciones"
   ]
  },
  {
   "cell_type": "code",
   "execution_count": 1132,
   "metadata": {},
   "outputs": [
    {
     "name": "stdout",
     "output_type": "stream",
     "text": [
      "[ True  True  True]\n",
      "\n",
      "Intersección     :\t0.8012614465240359\n",
      "Coeficiente      :\t0.0012701478146028972\n",
      "Score            :\t0.0008215385723497892\n",
      "\"Error cuadrático :\t0.6525409034724283\n"
     ]
    }
   ],
   "source": [
    "validar_columnas(data_bronce, 'linear', X_columnas, y_columnas)\n",
    "X_train, X_test, y_train, y_test = generar_entrenamiento(data_bronce, X_columnas, y_columnas)\n",
    "lm = LinearRegression()\n",
    "lm.fit(X_train, y_train)\n",
    "y_pred = lm.predict(X_train)\n",
    "interseccion = lm.intercept_[0]\n",
    "coeficiente = lm.coef_[0][0]\n",
    "score = lm.score(X_train, y_train)\n",
    "error_cuadratico = mean_squared_error(y_train, y_pred)\n",
    "mostrar_variables(interseccion, coeficiente, score, error_cuadratico)\n",
    "\n"
   ]
  },
  {
   "cell_type": "markdown",
   "metadata": {},
   "source": [
    " Aplicar la formula a los elementos del dataframe"
   ]
  },
  {
   "cell_type": "code",
   "execution_count": 1133,
   "metadata": {},
   "outputs": [
    {
     "data": {
      "text/html": [
       "<div>\n",
       "<style scoped>\n",
       "    .dataframe tbody tr th:only-of-type {\n",
       "        vertical-align: middle;\n",
       "    }\n",
       "\n",
       "    .dataframe tbody tr th {\n",
       "        vertical-align: top;\n",
       "    }\n",
       "\n",
       "    .dataframe thead th {\n",
       "        text-align: right;\n",
       "    }\n",
       "</style>\n",
       "<table border=\"1\" class=\"dataframe\">\n",
       "  <thead>\n",
       "    <tr style=\"text-align: right;\">\n",
       "      <th></th>\n",
       "      <th>Edad</th>\n",
       "      <th>Altura</th>\n",
       "      <th>Peso</th>\n",
       "      <th>MedallaNum</th>\n",
       "      <th>re</th>\n",
       "      <th>rp</th>\n",
       "      <th>ra</th>\n",
       "    </tr>\n",
       "  </thead>\n",
       "  <tbody>\n",
       "    <tr>\n",
       "      <th>44972</th>\n",
       "      <td>13.0</td>\n",
       "      <td>157.0</td>\n",
       "      <td>45.0</td>\n",
       "      <td>0</td>\n",
       "      <td>0.817773</td>\n",
       "      <td>0.858418</td>\n",
       "      <td>1.000675</td>\n",
       "    </tr>\n",
       "    <tr>\n",
       "      <th>162947</th>\n",
       "      <td>14.0</td>\n",
       "      <td>168.0</td>\n",
       "      <td>53.0</td>\n",
       "      <td>1</td>\n",
       "      <td>0.819044</td>\n",
       "      <td>0.868579</td>\n",
       "      <td>1.014646</td>\n",
       "    </tr>\n",
       "    <tr>\n",
       "      <th>75741</th>\n",
       "      <td>14.0</td>\n",
       "      <td>168.0</td>\n",
       "      <td>54.0</td>\n",
       "      <td>1</td>\n",
       "      <td>0.819044</td>\n",
       "      <td>0.869849</td>\n",
       "      <td>1.014646</td>\n",
       "    </tr>\n",
       "    <tr>\n",
       "      <th>196533</th>\n",
       "      <td>14.0</td>\n",
       "      <td>171.0</td>\n",
       "      <td>62.0</td>\n",
       "      <td>2</td>\n",
       "      <td>0.819044</td>\n",
       "      <td>0.880011</td>\n",
       "      <td>1.018457</td>\n",
       "    </tr>\n",
       "    <tr>\n",
       "      <th>206627</th>\n",
       "      <td>14.0</td>\n",
       "      <td>173.0</td>\n",
       "      <td>63.0</td>\n",
       "      <td>1</td>\n",
       "      <td>0.819044</td>\n",
       "      <td>0.881281</td>\n",
       "      <td>1.020997</td>\n",
       "    </tr>\n",
       "  </tbody>\n",
       "</table>\n",
       "</div>"
      ],
      "text/plain": [
       "        Edad  Altura  Peso  MedallaNum        re        rp        ra\n",
       "44972   13.0   157.0  45.0           0  0.817773  0.858418  1.000675\n",
       "162947  14.0   168.0  53.0           1  0.819044  0.868579  1.014646\n",
       "75741   14.0   168.0  54.0           1  0.819044  0.869849  1.014646\n",
       "196533  14.0   171.0  62.0           2  0.819044  0.880011  1.018457\n",
       "206627  14.0   173.0  63.0           1  0.819044  0.881281  1.020997"
      ]
     },
     "execution_count": 1133,
     "metadata": {},
     "output_type": "execute_result"
    }
   ],
   "source": [
    "data_bronce = aplicar_formula(data_bronce, coeficiente, interseccion)\n",
    "data_bronce.head(5)\n",
    "\n"
   ]
  },
  {
   "cell_type": "markdown",
   "metadata": {},
   "source": [
    " #### Graficar resultados aplicados al dataframe"
   ]
  },
  {
   "cell_type": "code",
   "execution_count": 1134,
   "metadata": {},
   "outputs": [
    {
     "data": {
      "image/png": "[encoded data removed]",
      "text/plain": [
       "<Figure size 864x216 with 3 Axes>"
      ]
     },
     "metadata": {},
     "output_type": "display_data"
    }
   ],
   "source": [
    "graficar_resultados(data_bronce)\n",
    "\n"
   ]
  },
  {
   "cell_type": "markdown",
   "metadata": {},
   "source": [
    " #### Predecir por las características del atleta"
   ]
  },
  {
   "cell_type": "code",
   "execution_count": 1135,
   "metadata": {},
   "outputs": [
    {
     "name": "stdout",
     "output_type": "stream",
     "text": [
      "La probabilidad de ganar medalla de bronce es : 1.045\n"
     ]
    }
   ],
   "source": [
    "y_pred = lm.predict(np.array([[edad, peso, altura]]))\n",
    "prediccion = y_pred[0][0]\n",
    "print('La probabilidad de ganar medalla de bronce es : {:.3f}'.format(prediccion))\n",
    "resultados_bronce.append(['Regresión lineal', score, interseccion, coeficiente, error_cuadratico, prediccion])\n",
    "\n",
    "\n"
   ]
  },
  {
   "cell_type": "markdown",
   "metadata": {},
   "source": [
    " ## Regresión logistica"
   ]
  },
  {
   "cell_type": "markdown",
   "metadata": {},
   "source": [
    " ### Probabilidad general de obtener medallas# %% [markdown]"
   ]
  },
  {
   "cell_type": "code",
   "execution_count": 1136,
   "metadata": {},
   "outputs": [],
   "source": [
    "from sklearn.linear_model import LogisticRegression \n",
    "from sklearn.preprocessing import StandardScaler \n",
    "from sklearn import metrics\n",
    "\n"
   ]
  },
  {
   "cell_type": "code",
   "execution_count": 1137,
   "metadata": {},
   "outputs": [
    {
     "name": "stdout",
     "output_type": "stream",
     "text": [
      "\n",
      "Intersección     :\t-0.07817275685392255\n",
      "Coeficiente      :\t-0.043411023777786384\n",
      "Score            :\t0.3605482717520858\n",
      "\"Error cuadrático :\t1.2616209773539928\n"
     ]
    }
   ],
   "source": [
    "X_columnas = ['Edad', 'Peso', 'Altura']\n",
    "y_columnas = 'MedallaNum'\n",
    "X_train, X_test, y_train, y_test = generar_entrenamiento(data_new, X_columnas, y_columnas)\n",
    "escalar = StandardScaler() \n",
    "X_train = escalar.fit_transform(X_train) \n",
    "X_test = escalar.transform(X_test) \n",
    "lm = LogisticRegression()\n",
    "lm.fit(X_train, y_train)\n",
    "y_pred = lm.predict(X_train)\n",
    "interseccion = lm.intercept_[0]\n",
    "coeficiente = lm.coef_[0][0]\n",
    "score = lm.score(X_train, y_train)\n",
    "error_cuadratico = mean_squared_error(y_train, y_pred)\n",
    "mostrar_variables(interseccion, coeficiente, score, error_cuadratico)\n"
   ]
  },
  {
   "cell_type": "markdown",
   "metadata": {},
   "source": [
    " #### Predecir por las características del atleta"
   ]
  },
  {
   "cell_type": "code",
   "execution_count": 1138,
   "metadata": {},
   "outputs": [
    {
     "name": "stdout",
     "output_type": "stream",
     "text": [
      "La probabilidad de ganar medalla es : 1.000\n"
     ]
    }
   ],
   "source": [
    "y_pred = lm.predict(np.array([[edad, peso, altura]]))\n",
    "prediccion = y_pred[0] \n",
    "print('La probabilidad de ganar medalla es : {:.3f}'.format(prediccion))\n",
    "resultados.append(['Regresión logistica', score, interseccion, coeficiente, error_cuadratico, prediccion])\n",
    "\n"
   ]
  },
  {
   "cell_type": "markdown",
   "metadata": {},
   "source": [
    " ### Probabilidad de obtener medalla de **oro**"
   ]
  },
  {
   "cell_type": "code",
   "execution_count": 1139,
   "metadata": {},
   "outputs": [
    {
     "name": "stdout",
     "output_type": "stream",
     "text": [
      "\n",
      "Intersección     :\t-0.018759237187190785\n",
      "Coeficiente      :\t-0.03984482872816833\n",
      "Score            :\t0.24423076923076922\n",
      "\"Error cuadrático :\t3.7096153846153848\n"
     ]
    }
   ],
   "source": [
    "X_train, X_test, y_train, y_test = generar_entrenamiento(data_oro, X_columnas, y_columnas)\n",
    "escalar = StandardScaler() \n",
    "X_train = escalar.fit_transform(X_train) \n",
    "X_test = escalar.transform(X_test) \n",
    "lm = LogisticRegression()\n",
    "lm.fit(X_train, y_train)\n",
    "y_pred = lm.predict(X_train)\n",
    "interseccion = lm.intercept_[0]\n",
    "coeficiente = lm.coef_[0][0]\n",
    "score = lm.score(X_train, y_train)\n",
    "error_cuadratico = mean_squared_error(y_train, y_pred)\n",
    "mostrar_variables(interseccion, coeficiente, score, error_cuadratico)\n"
   ]
  },
  {
   "cell_type": "markdown",
   "metadata": {},
   "source": [
    " #### Predecir por las características del atleta"
   ]
  },
  {
   "cell_type": "code",
   "execution_count": 1140,
   "metadata": {},
   "outputs": [
    {
     "name": "stdout",
     "output_type": "stream",
     "text": [
      "La probabilidad de ganar medalla de oro es : 3.000\n"
     ]
    }
   ],
   "source": [
    "y_pred = lm.predict(np.array([[edad, peso, altura]]))\n",
    "prediccion = y_pred[0]\n",
    "print('La probabilidad de ganar medalla de oro es : {:.3f}'.format(prediccion))\n",
    "resultados_oro.append(['Regresión logistica', score, interseccion, coeficiente, error_cuadratico, prediccion])\n",
    "\n"
   ]
  },
  {
   "cell_type": "markdown",
   "metadata": {},
   "source": [
    " ### Probabilidad de obtener medalla de **plata**"
   ]
  },
  {
   "cell_type": "code",
   "execution_count": 1141,
   "metadata": {},
   "outputs": [
    {
     "name": "stdout",
     "output_type": "stream",
     "text": [
      "\n",
      "Intersección     :\t-0.11657202204499804\n",
      "Coeficiente      :\t0.040849180954389816\n",
      "Score            :\t0.2817391304347826\n",
      "\"Error cuadrático :\t1.5913043478260869\n"
     ]
    }
   ],
   "source": [
    "X_train, X_test, y_train, y_test = generar_entrenamiento(data_plata, X_columnas, y_columnas)\n",
    "escalar = StandardScaler() \n",
    "X_train = escalar.fit_transform(X_train) \n",
    "X_test = escalar.transform(X_test) \n",
    "lm = LogisticRegression()\n",
    "lm.fit(X_train, y_train)\n",
    "y_pred = lm.predict(X_train)\n",
    "interseccion = lm.intercept_[0]\n",
    "coeficiente = lm.coef_[0][0]\n",
    "score = lm.score(X_train, y_train)\n",
    "error_cuadratico = mean_squared_error(y_train, y_pred)\n",
    "mostrar_variables(interseccion, coeficiente, score, error_cuadratico)\n"
   ]
  },
  {
   "cell_type": "markdown",
   "metadata": {},
   "source": [
    " #### Predecir por las características del atleta"
   ]
  },
  {
   "cell_type": "code",
   "execution_count": 1142,
   "metadata": {},
   "outputs": [
    {
     "name": "stdout",
     "output_type": "stream",
     "text": [
      "La probabilidad de ganar medalla de plata es : 3.000\n"
     ]
    }
   ],
   "source": [
    "y_pred = lm.predict(np.array([[edad, peso, altura]]))\n",
    "prediccion = y_pred[0]\n",
    "print('La probabilidad de ganar medalla de plata es : {:.3f}'.format(prediccion))\n",
    "resultados_plata.append(['Regresión logistica', score, interseccion, coeficiente, error_cuadratico, prediccion])\n",
    "\n"
   ]
  },
  {
   "cell_type": "markdown",
   "metadata": {},
   "source": [
    " ### Probabilidad de obtener medalla de **bronce**"
   ]
  },
  {
   "cell_type": "code",
   "execution_count": 1143,
   "metadata": {},
   "outputs": [
    {
     "name": "stdout",
     "output_type": "stream",
     "text": [
      "\n",
      "Intersección     :\t-0.026673929160469685\n",
      "Coeficiente      :\t0.03127770045971431\n",
      "Score            :\t0.3900343642611684\n",
      "\"Error cuadrático :\t1.1821305841924399\n"
     ]
    }
   ],
   "source": [
    "X_train, X_test, y_train, y_test = generar_entrenamiento(data_bronce, X_columnas, y_columnas)\n",
    "escalar = StandardScaler() \n",
    "X_train = escalar.fit_transform(X_train) \n",
    "X_test = escalar.transform(X_test) \n",
    "lm = LogisticRegression()\n",
    "lm.fit(X_train, y_train)\n",
    "y_pred = lm.predict(X_train)\n",
    "interseccion = lm.intercept_[0]\n",
    "coeficiente = lm.coef_[0][0]\n",
    "score = lm.score(X_train, y_train)\n",
    "error_cuadratico = mean_squared_error(y_train, y_pred)\n",
    "mostrar_variables(interseccion, coeficiente, score, error_cuadratico)\n"
   ]
  },
  {
   "cell_type": "markdown",
   "metadata": {},
   "source": [
    " #### Predecir por las características del atleta"
   ]
  },
  {
   "cell_type": "code",
   "execution_count": 1144,
   "metadata": {},
   "outputs": [
    {
     "name": "stdout",
     "output_type": "stream",
     "text": [
      "La probabilidad de ganar medalla de bronce es : 0.000\n"
     ]
    }
   ],
   "source": [
    "y_pred = lm.predict(np.array([[edad, peso, altura]]))\n",
    "prediccion = y_pred[0]\n",
    "print('La probabilidad de ganar medalla de bronce es : {:.3f}'.format(prediccion))\n",
    "resultados_bronce.append(['Regresión logistica', score, interseccion, coeficiente, error_cuadratico, prediccion])\n",
    "\n",
    "\n"
   ]
  },
  {
   "cell_type": "markdown",
   "metadata": {},
   "source": [
    " ## Vector categorizado"
   ]
  },
  {
   "cell_type": "markdown",
   "metadata": {},
   "source": [
    " ### Probabilidad general de obtener medallas# %% [markdown]"
   ]
  },
  {
   "cell_type": "code",
   "execution_count": 1145,
   "metadata": {},
   "outputs": [],
   "source": [
    "from sklearn.svm import SVC\n",
    "\n",
    "\n"
   ]
  },
  {
   "cell_type": "code",
   "execution_count": 1146,
   "metadata": {},
   "outputs": [
    {
     "name": "stdout",
     "output_type": "stream",
     "text": [
      "\n",
      "Intersección     :\t-0.968346845913349\n",
      "Coeficiente      :\t0\n",
      "Score            :\t0.3563766388557807\n",
      "\"Error cuadrático :\t1.0834326579261024\n"
     ]
    }
   ],
   "source": [
    "X_columnas = ['Edad', 'Peso', 'Altura']\n",
    "y_columnas = 'MedallaNum'\n",
    "X_train, X_test, y_train, y_test = generar_entrenamiento(data_new, X_columnas, y_columnas)\n",
    "svc = SVC()\n",
    "svc.fit(X_train, y_train)\n",
    "y_pred = svc.predict(X_train)\n",
    "interseccion = svc.intercept_[0]\n",
    "score = svc.score(X_train, y_train)\n",
    "error_cuadratico = mean_squared_error(y_train, y_pred)\n",
    "mostrar_variables(interseccion, 0, score, error_cuadratico)\n",
    "\n"
   ]
  },
  {
   "cell_type": "markdown",
   "metadata": {},
   "source": [
    " #### Predecir por las características del atleta"
   ]
  },
  {
   "cell_type": "code",
   "execution_count": 1147,
   "metadata": {},
   "outputs": [
    {
     "name": "stdout",
     "output_type": "stream",
     "text": [
      "La probabilidad de ganar medalla es : 3.000\n"
     ]
    }
   ],
   "source": [
    "y_pred = svc.predict(np.array([[edad, peso, altura]]))\n",
    "prediccion = y_pred[0] \n",
    "print('La probabilidad de ganar medalla es : {:.3f}'.format(prediccion))\n",
    "resultados.append(['Vector supervisado (SVC)', score, interseccion, coeficiente, error_cuadratico, prediccion])\n",
    "\n"
   ]
  },
  {
   "cell_type": "markdown",
   "metadata": {},
   "source": [
    " ### Probabilidad de obtener medalla de **oro**"
   ]
  },
  {
   "cell_type": "code",
   "execution_count": 1148,
   "metadata": {},
   "outputs": [
    {
     "name": "stdout",
     "output_type": "stream",
     "text": [
      "\n",
      "Intersección     :\t0.8832121193408966\n",
      "Coeficiente      :\t0\n",
      "Score            :\t0.23076923076923078\n",
      "\"Error cuadrático :\t2.8192307692307694\n"
     ]
    }
   ],
   "source": [
    "X_train, X_test, y_train, y_test = generar_entrenamiento(data_oro, X_columnas, y_columnas)\n",
    "svc = SVC()\n",
    "svc.fit(X_train, y_train)\n",
    "y_pred = svc.predict(X_train)\n",
    "interseccion = svc.intercept_[0]\n",
    "score = svc.score(X_train, y_train)\n",
    "error_cuadratico = mean_squared_error(y_train, y_pred)\n",
    "mostrar_variables(interseccion, 0, score, error_cuadratico)\n",
    "\n"
   ]
  },
  {
   "cell_type": "markdown",
   "metadata": {},
   "source": [
    " #### Predecir por las características del atleta"
   ]
  },
  {
   "cell_type": "code",
   "execution_count": 1149,
   "metadata": {},
   "outputs": [
    {
     "name": "stdout",
     "output_type": "stream",
     "text": [
      "La probabilidad de ganar medalla de oro es : 3.000\n"
     ]
    }
   ],
   "source": [
    "y_pred = svc.predict(np.array([[edad, peso, altura]]))\n",
    "prediccion = y_pred[0] \n",
    "print('La probabilidad de ganar medalla de oro es : {:.3f}'.format(prediccion))\n",
    "resultados_oro.append(['Vector supervisado (SVC)', score, interseccion, coeficiente, error_cuadratico, prediccion])\n",
    "\n",
    "\n"
   ]
  },
  {
   "cell_type": "markdown",
   "metadata": {},
   "source": [
    " ### Probabilidad de obtener medalla de **plata**"
   ]
  },
  {
   "cell_type": "code",
   "execution_count": 1150,
   "metadata": {},
   "outputs": [
    {
     "name": "stdout",
     "output_type": "stream",
     "text": [
      "\n",
      "Intersección     :\t-0.9768716178981633\n",
      "Coeficiente      :\t0\n",
      "Score            :\t0.26608695652173914\n",
      "\"Error cuadrático :\t1.4330434782608696\n"
     ]
    }
   ],
   "source": [
    "X_train, X_test, y_train, y_test = generar_entrenamiento(data_plata, X_columnas, y_columnas)\n",
    "svc = SVC()\n",
    "svc.fit(X_train, y_train)\n",
    "y_pred = svc.predict(X_train)\n",
    "interseccion = svc.intercept_[0]\n",
    "score = svc.score(X_train, y_train)\n",
    "error_cuadratico = mean_squared_error(y_train, y_pred)\n",
    "mostrar_variables(interseccion, 0, score, error_cuadratico)\n",
    "\n"
   ]
  },
  {
   "cell_type": "markdown",
   "metadata": {},
   "source": [
    " #### Predecir por las características del atleta"
   ]
  },
  {
   "cell_type": "code",
   "execution_count": 1151,
   "metadata": {},
   "outputs": [
    {
     "name": "stdout",
     "output_type": "stream",
     "text": [
      "La probabilidad de ganar medalla de plata es : 2.000\n"
     ]
    }
   ],
   "source": [
    "y_pred = svc.predict(np.array([[edad, peso, altura]]))\n",
    "prediccion = y_pred[0] \n",
    "print('La probabilidad de ganar medalla de plata es : {:.3f}'.format(prediccion))\n",
    "resultados_plata.append(['Vector supervisado (SVC)', score, interseccion, coeficiente, error_cuadratico, prediccion])\n",
    "\n"
   ]
  },
  {
   "cell_type": "markdown",
   "metadata": {},
   "source": [
    " ### Probabilidad de obtener medalla de **bronce**"
   ]
  },
  {
   "cell_type": "code",
   "execution_count": 1152,
   "metadata": {},
   "outputs": [
    {
     "name": "stdout",
     "output_type": "stream",
     "text": [
      "\n",
      "Intersección     :\t-0.934198175606587\n",
      "Coeficiente      :\t0\n",
      "Score            :\t0.35223367697594504\n",
      "\"Error cuadrático :\t1.5756013745704467\n"
     ]
    }
   ],
   "source": [
    "X_train, X_test, y_train, y_test = generar_entrenamiento(data_bronce, X_columnas, y_columnas)\n",
    "svc = SVC()\n",
    "svc.fit(X_train, y_train)\n",
    "y_pred = svc.predict(X_train)\n",
    "interseccion = svc.intercept_[0]\n",
    "score = svc.score(X_train, y_train)\n",
    "error_cuadratico = mean_squared_error(y_train, y_pred)\n",
    "mostrar_variables(interseccion, 0, score, error_cuadratico)\n",
    "\n"
   ]
  },
  {
   "cell_type": "markdown",
   "metadata": {},
   "source": [
    " #### Predecir por las características del atleta"
   ]
  },
  {
   "cell_type": "code",
   "execution_count": 1153,
   "metadata": {},
   "outputs": [
    {
     "name": "stdout",
     "output_type": "stream",
     "text": [
      "La probabilidad de ganar medalla de bronce es : 2.000\n"
     ]
    }
   ],
   "source": [
    "y_pred = svc.predict(np.array([[edad, peso, altura]]))\n",
    "prediccion = y_pred[0] \n",
    "print('La probabilidad de ganar medalla de bronce es : {:.3f}'.format(prediccion))\n",
    "resultados_bronce.append(['Vector supervisado (SVC)', score, interseccion, coeficiente, error_cuadratico, prediccion])\n",
    "\n"
   ]
  },
  {
   "cell_type": "markdown",
   "metadata": {},
   "source": [
    " ## Arbol de desición"
   ]
  },
  {
   "cell_type": "markdown",
   "metadata": {},
   "source": [
    " ### Probabilidad general de obtener medallas# %% [markdown]"
   ]
  },
  {
   "cell_type": "code",
   "execution_count": 1154,
   "metadata": {},
   "outputs": [],
   "source": [
    "from sklearn.tree import DecisionTreeClassifier\n",
    "\n"
   ]
  },
  {
   "cell_type": "code",
   "execution_count": 1155,
   "metadata": {},
   "outputs": [
    {
     "name": "stdout",
     "output_type": "stream",
     "text": [
      "\n",
      "Intersección     :\t0\n",
      "Coeficiente      :\t0\n",
      "Score            :\t0.7872467222884386\n",
      "\"Error cuadrático :\t0.4237187127532777\n"
     ]
    }
   ],
   "source": [
    "X_columnas = ['Edad', 'Peso', 'Altura']\n",
    "y_columnas = 'MedallaNum'\n",
    "X_train, X_test, y_train, y_test = generar_entrenamiento(data_new, X_columnas, y_columnas)\n",
    "dtc = DecisionTreeClassifier()\n",
    "dtc.fit(X_train, y_train)\n",
    "y_pred = dtc.predict(X_train)\n",
    "score = dtc.score(X_train, y_train)\n",
    "error_cuadratico = mean_squared_error(y_train, y_pred)\n",
    "mostrar_variables(0, 0, score, error_cuadratico)\n",
    "\n"
   ]
  },
  {
   "cell_type": "markdown",
   "metadata": {},
   "source": [
    " #### Predecir por las características del atleta"
   ]
  },
  {
   "cell_type": "code",
   "execution_count": 1156,
   "metadata": {},
   "outputs": [
    {
     "name": "stdout",
     "output_type": "stream",
     "text": [
      "La probabilidad de ganar medalla es : 1.000\n"
     ]
    }
   ],
   "source": [
    "y_pred = dtc.predict(np.array([[edad, peso, altura]]))\n",
    "prediccion = y_pred[0] \n",
    "print('La probabilidad de ganar medalla es : {:.3f}'.format(prediccion))\n",
    "resultados.append(['Arvol de desición', score, 0, 0, error_cuadratico, prediccion])\n",
    "\n",
    "\n",
    "\n",
    "\n",
    "\n",
    "\n",
    "\n"
   ]
  },
  {
   "cell_type": "markdown",
   "metadata": {},
   "source": [
    " ### Probabilidad de ganar medalla de **oro**"
   ]
  },
  {
   "cell_type": "code",
   "execution_count": 1157,
   "metadata": {},
   "outputs": [
    {
     "name": "stdout",
     "output_type": "stream",
     "text": [
      "\n",
      "Intersección     :\t0\n",
      "Coeficiente      :\t0\n",
      "Score            :\t0.9903846153846154\n",
      "\"Error cuadrático :\t0.04038461538461539\n"
     ]
    }
   ],
   "source": [
    "X_train, X_test, y_train, y_test = generar_entrenamiento(data_oro, X_columnas, y_columnas)\n",
    "dtc = DecisionTreeClassifier()\n",
    "dtc.fit(X_train, y_train)\n",
    "y_pred = dtc.predict(X_train)\n",
    "score = dtc.score(X_train, y_train)\n",
    "error_cuadratico = mean_squared_error(y_train, y_pred)\n",
    "mostrar_variables(0, 0, score, error_cuadratico)\n",
    "\n"
   ]
  },
  {
   "cell_type": "markdown",
   "metadata": {},
   "source": [
    " #### Predecir por las características del atleta"
   ]
  },
  {
   "cell_type": "code",
   "execution_count": 1158,
   "metadata": {},
   "outputs": [
    {
     "name": "stdout",
     "output_type": "stream",
     "text": [
      "La probabilidad de ganar medalla de oro es : 3.000\n"
     ]
    }
   ],
   "source": [
    "y_pred = dtc.predict(np.array([[edad, peso, altura]]))\n",
    "prediccion = y_pred[0] \n",
    "print('La probabilidad de ganar medalla de oro es : {:.3f}'.format(prediccion))\n",
    "resultados_oro.append(['Arvol de desición', score, 0, 0, error_cuadratico, prediccion])\n",
    "\n"
   ]
  },
  {
   "cell_type": "markdown",
   "metadata": {},
   "source": [
    " ### Probabilidad de ganar medalla de **plata**"
   ]
  },
  {
   "cell_type": "code",
   "execution_count": 1159,
   "metadata": {},
   "outputs": [
    {
     "name": "stdout",
     "output_type": "stream",
     "text": [
      "\n",
      "Intersección     :\t0\n",
      "Coeficiente      :\t0\n",
      "Score            :\t0.9878260869565217\n",
      "\"Error cuadrático :\t0.04695652173913043\n"
     ]
    }
   ],
   "source": [
    "X_train, X_test, y_train, y_test = generar_entrenamiento(data_plata, X_columnas, y_columnas)\n",
    "dtc = DecisionTreeClassifier()\n",
    "dtc.fit(X_train, y_train)\n",
    "y_pred = dtc.predict(X_train)\n",
    "score = dtc.score(X_train, y_train)\n",
    "error_cuadratico = mean_squared_error(y_train, y_pred)\n",
    "mostrar_variables(0, 0, score, error_cuadratico)\n",
    "\n"
   ]
  },
  {
   "cell_type": "markdown",
   "metadata": {},
   "source": [
    " #### Predecir por las características del atleta"
   ]
  },
  {
   "cell_type": "code",
   "execution_count": 1160,
   "metadata": {},
   "outputs": [
    {
     "name": "stdout",
     "output_type": "stream",
     "text": [
      "La probabilidad de ganar medalla de plata es : 0.000\n"
     ]
    }
   ],
   "source": [
    "y_pred = dtc.predict(np.array([[edad, peso, altura]]))\n",
    "prediccion = y_pred[0] \n",
    "print('La probabilidad de ganar medalla de plata es : {:.3f}'.format(prediccion))\n",
    "resultados_plata.append(['Arvol de desición', score, 0, 0, error_cuadratico, prediccion])\n",
    "\n"
   ]
  },
  {
   "cell_type": "markdown",
   "metadata": {},
   "source": [
    " ### Probabilidad de ganar medalla de **bronce**"
   ]
  },
  {
   "cell_type": "code",
   "execution_count": 1161,
   "metadata": {},
   "outputs": [
    {
     "name": "stdout",
     "output_type": "stream",
     "text": [
      "\n",
      "Intersección     :\t0\n",
      "Coeficiente      :\t0\n",
      "Score            :\t0.993127147766323\n",
      "\"Error cuadrático :\t0.012027491408934709\n"
     ]
    }
   ],
   "source": [
    "X_train, X_test, y_train, y_test = generar_entrenamiento(data_bronce, X_columnas, y_columnas)\n",
    "dtc = DecisionTreeClassifier()\n",
    "dtc.fit(X_train, y_train)\n",
    "y_pred = dtc.predict(X_train)\n",
    "score = dtc.score(X_train, y_train)\n",
    "error_cuadratico = mean_squared_error(y_train, y_pred)\n",
    "mostrar_variables(0, 0, score, error_cuadratico)\n",
    "\n"
   ]
  },
  {
   "cell_type": "markdown",
   "metadata": {},
   "source": [
    " #### Predecir por las características del atleta"
   ]
  },
  {
   "cell_type": "code",
   "execution_count": 1162,
   "metadata": {},
   "outputs": [
    {
     "name": "stdout",
     "output_type": "stream",
     "text": [
      "La probabilidad de ganar medalla de bronce es : 0.000\n"
     ]
    }
   ],
   "source": [
    "y_pred = dtc.predict(np.array([[edad, peso, altura]]))\n",
    "prediccion = y_pred[0] \n",
    "print('La probabilidad de ganar medalla de bronce es : {:.3f}'.format(prediccion))\n",
    "resultados_bronce.append(['Arvol de desición', score, 0, 0, error_cuadratico, prediccion])\n",
    "\n"
   ]
  },
  {
   "cell_type": "markdown",
   "metadata": {},
   "source": [
    " ## KNeighborsClassifier"
   ]
  },
  {
   "cell_type": "markdown",
   "metadata": {},
   "source": [
    " ### Probabilidad general de obtener medallas# %% [markdown]"
   ]
  },
  {
   "cell_type": "code",
   "execution_count": 1163,
   "metadata": {},
   "outputs": [],
   "source": [
    "from sklearn.neighbors import KNeighborsClassifier\n"
   ]
  },
  {
   "cell_type": "code",
   "execution_count": 1164,
   "metadata": {},
   "outputs": [
    {
     "name": "stdout",
     "output_type": "stream",
     "text": [
      "\n",
      "Intersección     :\t0\n",
      "Coeficiente      :\t0\n",
      "Score            :\t0.5184743742550656\n",
      "\"Error cuadrático :\t0.9302741358760429\n"
     ]
    }
   ],
   "source": [
    "X_columnas = ['Edad', 'Peso', 'Altura']\n",
    "y_columnas = 'MedallaNum'\n",
    "X_train, X_test, y_train, y_test = generar_entrenamiento(data_new, X_columnas, y_columnas)\n",
    "knc = KNeighborsClassifier()\n",
    "knc.fit(X_train, y_train)\n",
    "y_pred = knc.predict(X_train)\n",
    "score = knc.score(X_train, y_train)\n",
    "error_cuadratico = mean_squared_error(y_train, y_pred)\n",
    "mostrar_variables(0, 0, score, error_cuadratico)\n"
   ]
  },
  {
   "cell_type": "markdown",
   "metadata": {},
   "source": [
    " #### Predecir por las características del atleta"
   ]
  },
  {
   "cell_type": "code",
   "execution_count": 1165,
   "metadata": {},
   "outputs": [
    {
     "name": "stdout",
     "output_type": "stream",
     "text": [
      "La probabilidad de ganar medalla es : 1.000\n"
     ]
    }
   ],
   "source": [
    "y_pred = knc.predict(np.array([[edad, peso, altura]]))\n",
    "prediccion = y_pred[0] \n",
    "print('La probabilidad de ganar medalla es : {:.3f}'.format(prediccion))\n",
    "resultados.append(['KNeighbors classifier', score, 0, 0, error_cuadratico, prediccion])\n",
    "\n"
   ]
  },
  {
   "cell_type": "markdown",
   "metadata": {},
   "source": [
    " ### Probabilidad de ganar medalla de **oro**"
   ]
  },
  {
   "cell_type": "code",
   "execution_count": 1166,
   "metadata": {},
   "outputs": [
    {
     "name": "stdout",
     "output_type": "stream",
     "text": [
      "\n",
      "Intersección     :\t0\n",
      "Coeficiente      :\t0\n",
      "Score            :\t0.475\n",
      "\"Error cuadrático :\t2.5942307692307693\n"
     ]
    }
   ],
   "source": [
    "X_train, X_test, y_train, y_test = generar_entrenamiento(data_oro, X_columnas, y_columnas)\n",
    "knc = KNeighborsClassifier()\n",
    "knc.fit(X_train, y_train)\n",
    "y_pred = knc.predict(X_train)\n",
    "score = knc.score(X_train, y_train)\n",
    "error_cuadratico = mean_squared_error(y_train, y_pred)\n",
    "mostrar_variables(0, 0, score, error_cuadratico)\n"
   ]
  },
  {
   "cell_type": "markdown",
   "metadata": {},
   "source": [
    " #### Predecir por las características del atleta"
   ]
  },
  {
   "cell_type": "code",
   "execution_count": 1167,
   "metadata": {},
   "outputs": [
    {
     "name": "stdout",
     "output_type": "stream",
     "text": [
      "La probabilidad de ganar medalla de oro es : 0.000\n"
     ]
    }
   ],
   "source": [
    "y_pred = knc.predict(np.array([[edad, peso, altura]]))\n",
    "prediccion = y_pred[0] \n",
    "print('La probabilidad de ganar medalla de oro es : {:.3f}'.format(prediccion))\n",
    "resultados_oro.append(['KNeighbors classifier', score, 0, 0, error_cuadratico, prediccion])\n",
    "\n"
   ]
  },
  {
   "cell_type": "markdown",
   "metadata": {},
   "source": [
    " ### Probabilidad de ganar medalla de **plata**"
   ]
  },
  {
   "cell_type": "code",
   "execution_count": 1168,
   "metadata": {},
   "outputs": [
    {
     "name": "stdout",
     "output_type": "stream",
     "text": [
      "\n",
      "Intersección     :\t0\n",
      "Coeficiente      :\t0\n",
      "Score            :\t0.4591304347826087\n",
      "\"Error cuadrático :\t1.7878260869565217\n"
     ]
    }
   ],
   "source": [
    "X_train, X_test, y_train, y_test = generar_entrenamiento(data_plata, X_columnas, y_columnas)\n",
    "knc = KNeighborsClassifier()\n",
    "knc.fit(X_train, y_train)\n",
    "y_pred = knc.predict(X_train)\n",
    "score = knc.score(X_train, y_train)\n",
    "error_cuadratico = mean_squared_error(y_train, y_pred)\n",
    "mostrar_variables(0, 0, score, error_cuadratico)\n"
   ]
  },
  {
   "cell_type": "markdown",
   "metadata": {},
   "source": [
    " #### Predecir por las características del atleta"
   ]
  },
  {
   "cell_type": "code",
   "execution_count": 1169,
   "metadata": {},
   "outputs": [
    {
     "name": "stdout",
     "output_type": "stream",
     "text": [
      "La probabilidad de ganar medalla de plata es : 1.000\n"
     ]
    }
   ],
   "source": [
    "y_pred = knc.predict(np.array([[edad, peso, altura]]))\n",
    "prediccion = y_pred[0] \n",
    "print('La probabilidad de ganar medalla de plata es : {:.3f}'.format(prediccion))\n",
    "resultados_plata.append(['KNeighbors classifier', score, 0, 0, error_cuadratico, prediccion])\n",
    "\n"
   ]
  },
  {
   "cell_type": "markdown",
   "metadata": {},
   "source": [
    " ### Probabilidad de ganar medalla de **bronce**"
   ]
  },
  {
   "cell_type": "code",
   "execution_count": 1170,
   "metadata": {},
   "outputs": [
    {
     "name": "stdout",
     "output_type": "stream",
     "text": [
      "\n",
      "Intersección     :\t0\n",
      "Coeficiente      :\t0\n",
      "Score            :\t0.5670103092783505\n",
      "\"Error cuadrático :\t0.8969072164948454\n"
     ]
    }
   ],
   "source": [
    "X_train, X_test, y_train, y_test = generar_entrenamiento(data_bronce, X_columnas, y_columnas)\n",
    "knc = KNeighborsClassifier()\n",
    "knc.fit(X_train, y_train)\n",
    "y_pred = knc.predict(X_train)\n",
    "score = knc.score(X_train, y_train)\n",
    "error_cuadratico = mean_squared_error(y_train, y_pred)\n",
    "mostrar_variables(0, 0, score, error_cuadratico)\n"
   ]
  },
  {
   "cell_type": "markdown",
   "metadata": {},
   "source": [
    " #### Predecir por las características del atleta"
   ]
  },
  {
   "cell_type": "code",
   "execution_count": 1171,
   "metadata": {},
   "outputs": [
    {
     "name": "stdout",
     "output_type": "stream",
     "text": [
      "La probabilidad de ganar medalla de bronce es : 1.000\n"
     ]
    }
   ],
   "source": [
    "y_pred = knc.predict(np.array([[edad, peso, altura]]))\n",
    "prediccion = y_pred[0] \n",
    "print('La probabilidad de ganar medalla de bronce es : {:.3f}'.format(prediccion))\n",
    "resultados_bronce.append(['KNeighbors classifier', score, 0, 0, error_cuadratico, prediccion])\n",
    "\n"
   ]
  },
  {
   "cell_type": "markdown",
   "metadata": {},
   "source": [
    " ## naive bayes"
   ]
  },
  {
   "cell_type": "markdown",
   "metadata": {},
   "source": [
    " ### Probabilidad general de obtener medallas# %% [markdown]"
   ]
  },
  {
   "cell_type": "code",
   "execution_count": 1172,
   "metadata": {},
   "outputs": [],
   "source": [
    "from sklearn.naive_bayes import GaussianNB\n",
    "\n"
   ]
  },
  {
   "cell_type": "code",
   "execution_count": 1173,
   "metadata": {},
   "outputs": [
    {
     "name": "stdout",
     "output_type": "stream",
     "text": [
      "\n",
      "Intersección     :\t0\n",
      "Coeficiente      :\t0\n",
      "Score            :\t0.36233611442193087\n",
      "\"Error cuadrático :\t1.1758045292014303\n"
     ]
    }
   ],
   "source": [
    "X_columnas = ['Edad', 'Peso', 'Altura']\n",
    "y_columnas = 'MedallaNum'\n",
    "X_train, X_test, y_train, y_test = generar_entrenamiento(data_new, X_columnas, y_columnas)\n",
    "nv = GaussianNB()\n",
    "nv.fit(X_train, y_train)\n",
    "y_pred = nv.predict(X_train)\n",
    "score = nv.score(X_train, y_train)\n",
    "error_cuadratico = mean_squared_error(y_train, y_pred)\n",
    "mostrar_variables(0, 0, score, error_cuadratico)\n"
   ]
  },
  {
   "cell_type": "markdown",
   "metadata": {},
   "source": [
    " #### Predecir por las características del atleta"
   ]
  },
  {
   "cell_type": "code",
   "execution_count": 1174,
   "metadata": {},
   "outputs": [
    {
     "name": "stdout",
     "output_type": "stream",
     "text": [
      "La probabilidad de ganar medalla es : 2.000\n"
     ]
    }
   ],
   "source": [
    "y_pred = nv.predict(np.array([[edad, peso, altura]]))\n",
    "prediccion = y_pred[0] \n",
    "print('La probabilidad de ganar medalla es : {:.3f}'.format(prediccion))\n",
    "resultados.append(['naive bayes', score, 0, 0, error_cuadratico, prediccion])\n",
    "\n"
   ]
  },
  {
   "cell_type": "markdown",
   "metadata": {},
   "source": [
    " ### Probabilidad de ganar medalla de **oro**"
   ]
  },
  {
   "cell_type": "code",
   "execution_count": 1175,
   "metadata": {},
   "outputs": [
    {
     "name": "stdout",
     "output_type": "stream",
     "text": [
      "\n",
      "Intersección     :\t0\n",
      "Coeficiente      :\t0\n",
      "Score            :\t0.25769230769230766\n",
      "\"Error cuadrático :\t3.9692307692307693\n"
     ]
    }
   ],
   "source": [
    "X_train, X_test, y_train, y_test = generar_entrenamiento(data_oro, X_columnas, y_columnas)\n",
    "nv = GaussianNB()\n",
    "nv.fit(X_train, y_train)\n",
    "y_pred = nv.predict(X_train)\n",
    "score = nv.score(X_train, y_train)\n",
    "error_cuadratico = mean_squared_error(y_train, y_pred)\n",
    "mostrar_variables(0, 0, score, error_cuadratico)\n"
   ]
  },
  {
   "cell_type": "markdown",
   "metadata": {},
   "source": [
    " #### Predecir por las características del atleta"
   ]
  },
  {
   "cell_type": "code",
   "execution_count": 1176,
   "metadata": {},
   "outputs": [
    {
     "name": "stdout",
     "output_type": "stream",
     "text": [
      "La probabilidad de ganar medalla de oro es : 3.000\n"
     ]
    }
   ],
   "source": [
    "y_pred = nv.predict(np.array([[edad, peso, altura]]))\n",
    "prediccion = y_pred[0] \n",
    "print('La probabilidad de ganar medalla de oro es : {:.3f}'.format(prediccion))\n",
    "resultados_oro.append(['naive bayes', score, 0, 0, error_cuadratico, prediccion])\n",
    "\n",
    "\n"
   ]
  },
  {
   "cell_type": "markdown",
   "metadata": {},
   "source": [
    " ### Probabilidad de ganar medalla de **plata**"
   ]
  },
  {
   "cell_type": "code",
   "execution_count": 1177,
   "metadata": {},
   "outputs": [
    {
     "name": "stdout",
     "output_type": "stream",
     "text": [
      "\n",
      "Intersección     :\t0\n",
      "Coeficiente      :\t0\n",
      "Score            :\t0.29391304347826086\n",
      "\"Error cuadrático :\t2.220869565217391\n"
     ]
    }
   ],
   "source": [
    "X_train, X_test, y_train, y_test = generar_entrenamiento(data_plata, X_columnas, y_columnas)\n",
    "nv = GaussianNB()\n",
    "nv.fit(X_train, y_train)\n",
    "y_pred = nv.predict(X_train)\n",
    "score = nv.score(X_train, y_train)\n",
    "error_cuadratico = mean_squared_error(y_train, y_pred)\n",
    "mostrar_variables(0, 0, score, error_cuadratico)\n"
   ]
  },
  {
   "cell_type": "markdown",
   "metadata": {},
   "source": [
    " #### Predecir por las características del atleta"
   ]
  },
  {
   "cell_type": "code",
   "execution_count": 1178,
   "metadata": {},
   "outputs": [
    {
     "name": "stdout",
     "output_type": "stream",
     "text": [
      "La probabilidad de ganar medalla de plata es : 2.000\n"
     ]
    }
   ],
   "source": [
    "y_pred = nv.predict(np.array([[edad, peso, altura]]))\n",
    "prediccion = y_pred[0] \n",
    "print('La probabilidad de ganar medalla de plata es : {:.3f}'.format(prediccion))\n",
    "resultados_plata.append(['naive bayes', score, 0, 0, error_cuadratico, prediccion])\n",
    "\n",
    "\n"
   ]
  },
  {
   "cell_type": "markdown",
   "metadata": {},
   "source": [
    " ### Probabilidad de ganar medalla de **bronce**"
   ]
  },
  {
   "cell_type": "code",
   "execution_count": 1179,
   "metadata": {},
   "outputs": [
    {
     "name": "stdout",
     "output_type": "stream",
     "text": [
      "\n",
      "Intersección     :\t0\n",
      "Coeficiente      :\t0\n",
      "Score            :\t0.36597938144329895\n",
      "\"Error cuadrático :\t1.3298969072164948\n"
     ]
    }
   ],
   "source": [
    "X_train, X_test, y_train, y_test = generar_entrenamiento(data_bronce, X_columnas, y_columnas)\n",
    "nv = GaussianNB()\n",
    "nv.fit(X_train, y_train)\n",
    "y_pred = nv.predict(X_train)\n",
    "score = nv.score(X_train, y_train)\n",
    "error_cuadratico = mean_squared_error(y_train, y_pred)\n",
    "mostrar_variables(0, 0, score, error_cuadratico)\n"
   ]
  },
  {
   "cell_type": "markdown",
   "metadata": {},
   "source": [
    " #### Predecir por las características del atleta"
   ]
  },
  {
   "cell_type": "code",
   "execution_count": 1180,
   "metadata": {},
   "outputs": [
    {
     "name": "stdout",
     "output_type": "stream",
     "text": [
      "La probabilidad de ganar medalla de bronce es : 2.000\n"
     ]
    }
   ],
   "source": [
    "y_pred = nv.predict(np.array([[edad, peso, altura]]))\n",
    "prediccion = y_pred[0] \n",
    "print('La probabilidad de ganar medalla de bronce es : {:.3f}'.format(prediccion))\n",
    "resultados_bronce.append(['naive bayes', score, 0, 0, error_cuadratico, prediccion])\n",
    "\n"
   ]
  },
  {
   "cell_type": "markdown",
   "metadata": {},
   "source": [
    " ## Random forest regressor"
   ]
  },
  {
   "cell_type": "markdown",
   "metadata": {},
   "source": [
    " ### Probabilidad general de obtener medallas# %% [markdown]"
   ]
  },
  {
   "cell_type": "code",
   "execution_count": 1181,
   "metadata": {},
   "outputs": [],
   "source": [
    "from sklearn.ensemble import RandomForestRegressor\n",
    "\n"
   ]
  },
  {
   "cell_type": "code",
   "execution_count": 1182,
   "metadata": {},
   "outputs": [
    {
     "name": "stdout",
     "output_type": "stream",
     "text": [
      "\n",
      "Intersección     :\t0\n",
      "Coeficiente      :\t0\n",
      "Score            :\t0.5989086228087761\n",
      "\"Error cuadrático :\t0.26187083887138324\n"
     ]
    }
   ],
   "source": [
    "X_columnas = ['Edad', 'Peso', 'Altura']\n",
    "y_columnas = 'MedallaNum'\n",
    "X_train, X_test, y_train, y_test = generar_entrenamiento(data_new, X_columnas, y_columnas)\n",
    "rfr = RandomForestRegressor()\n",
    "rfr.fit(X_train, y_train)\n",
    "y_pred = rfr.predict(X_train)\n",
    "score = rfr.score(X_train, y_train)\n",
    "error_cuadratico = mean_squared_error(y_train, y_pred)\n",
    "mostrar_variables(0, 0, score, error_cuadratico)\n"
   ]
  },
  {
   "cell_type": "markdown",
   "metadata": {},
   "source": [
    " #### Predecir por las características del atleta"
   ]
  },
  {
   "cell_type": "code",
   "execution_count": 1183,
   "metadata": {},
   "outputs": [
    {
     "name": "stdout",
     "output_type": "stream",
     "text": [
      "La probabilidad de ganar medalla es : 2.032\n"
     ]
    }
   ],
   "source": [
    "y_pred = rfr.predict(np.array([[edad, peso, altura]]))\n",
    "prediccion = y_pred[0] \n",
    "print('La probabilidad de ganar medalla es : {:.3f}'.format(prediccion))\n",
    "resultados.append(['Random forest regressor', score, 0, 0, error_cuadratico, prediccion])\n",
    "\n"
   ]
  },
  {
   "cell_type": "markdown",
   "metadata": {},
   "source": [
    " ### Probabilidad de ganar medalla de **oro**"
   ]
  },
  {
   "cell_type": "code",
   "execution_count": 1184,
   "metadata": {},
   "outputs": [
    {
     "name": "stdout",
     "output_type": "stream",
     "text": [
      "\n",
      "Intersección     :\t0\n",
      "Coeficiente      :\t0\n",
      "Score            :\t0.8231579378109737\n",
      "\"Error cuadrático :\t0.36634559746969303\n"
     ]
    }
   ],
   "source": [
    "X_train, X_test, y_train, y_test = generar_entrenamiento(data_oro, X_columnas, y_columnas)\n",
    "rfr = RandomForestRegressor()\n",
    "rfr.fit(X_train, y_train)\n",
    "y_pred = rfr.predict(X_train)\n",
    "score = rfr.score(X_train, y_train)\n",
    "error_cuadratico = mean_squared_error(y_train, y_pred)\n",
    "mostrar_variables(0, 0, score, error_cuadratico)\n"
   ]
  },
  {
   "cell_type": "markdown",
   "metadata": {},
   "source": [
    " #### Predecir por las características del atleta"
   ]
  },
  {
   "cell_type": "code",
   "execution_count": 1185,
   "metadata": {},
   "outputs": [
    {
     "name": "stdout",
     "output_type": "stream",
     "text": [
      "La probabilidad de ganar medalla de oro es : 2.140\n"
     ]
    }
   ],
   "source": [
    "y_pred = rfr.predict(np.array([[edad, peso, altura]]))\n",
    "prediccion = y_pred[0] \n",
    "print('La probabilidad de ganar medalla de oro es : {:.3f}'.format(prediccion))\n",
    "resultados_oro.append(['Random forest regressor', score, 0, 0, error_cuadratico, prediccion])\n",
    "\n",
    "\n"
   ]
  },
  {
   "cell_type": "markdown",
   "metadata": {},
   "source": [
    " ### Probabilidad de ganar medalla de **plata**"
   ]
  },
  {
   "cell_type": "code",
   "execution_count": 1186,
   "metadata": {},
   "outputs": [
    {
     "name": "stdout",
     "output_type": "stream",
     "text": [
      "\n",
      "Intersección     :\t0\n",
      "Coeficiente      :\t0\n",
      "Score            :\t0.8078810814339129\n",
      "\"Error cuadrático :\t0.22928524945578235\n"
     ]
    }
   ],
   "source": [
    "X_train, X_test, y_train, y_test = generar_entrenamiento(data_plata, X_columnas, y_columnas)\n",
    "rfr = RandomForestRegressor()\n",
    "rfr.fit(X_train, y_train)\n",
    "y_pred = rfr.predict(X_train)\n",
    "score = rfr.score(X_train, y_train)\n",
    "error_cuadratico = mean_squared_error(y_train, y_pred)\n",
    "mostrar_variables(0, 0, score, error_cuadratico)\n"
   ]
  },
  {
   "cell_type": "markdown",
   "metadata": {},
   "source": [
    " #### Predecir por las características del atleta"
   ]
  },
  {
   "cell_type": "code",
   "execution_count": 1187,
   "metadata": {},
   "outputs": [
    {
     "name": "stdout",
     "output_type": "stream",
     "text": [
      "La probabilidad de ganar medalla de plata es : 0.910\n"
     ]
    }
   ],
   "source": [
    "y_pred = rfr.predict(np.array([[edad, peso, altura]]))\n",
    "prediccion = y_pred[0] \n",
    "print('La probabilidad de ganar medalla de plata es : {:.3f}'.format(prediccion))\n",
    "resultados_plata.append(['Random forest regressor', score, 0, 0, error_cuadratico, prediccion])\n",
    "\n"
   ]
  },
  {
   "cell_type": "markdown",
   "metadata": {},
   "source": [
    " ### Probabilidad de ganar medalla de **bronce**"
   ]
  },
  {
   "cell_type": "code",
   "execution_count": 1188,
   "metadata": {},
   "outputs": [
    {
     "name": "stdout",
     "output_type": "stream",
     "text": [
      "\n",
      "Intersección     :\t0\n",
      "Coeficiente      :\t0\n",
      "Score            :\t0.8375916419695829\n",
      "\"Error cuadrático :\t0.10700068141466208\n"
     ]
    }
   ],
   "source": [
    "X_train, X_test, y_train, y_test = generar_entrenamiento(data_bronce, X_columnas, y_columnas)\n",
    "rfr = RandomForestRegressor()\n",
    "rfr.fit(X_train, y_train)\n",
    "y_pred = rfr.predict(X_train)\n",
    "score = rfr.score(X_train, y_train)\n",
    "error_cuadratico = mean_squared_error(y_train, y_pred)\n",
    "mostrar_variables(0, 0, score, error_cuadratico)\n"
   ]
  },
  {
   "cell_type": "markdown",
   "metadata": {},
   "source": [
    " #### Predecir por las características del atleta"
   ]
  },
  {
   "cell_type": "code",
   "execution_count": 1189,
   "metadata": {},
   "outputs": [
    {
     "name": "stdout",
     "output_type": "stream",
     "text": [
      "La probabilidad de ganar medalla de bronce es : 1.110\n"
     ]
    }
   ],
   "source": [
    "y_pred = rfr.predict(np.array([[edad, peso, altura]]))\n",
    "prediccion = y_pred[0] \n",
    "print('La probabilidad de ganar medalla de bronce es : {:.3f}'.format(prediccion))\n",
    "resultados_bronce.append(['Random forest regressor', score, 0, 0, error_cuadratico, prediccion])\n",
    "\n"
   ]
  },
  {
   "cell_type": "markdown",
   "metadata": {},
   "source": [
    " Compilando resultados"
   ]
  },
  {
   "cell_type": "code",
   "execution_count": 1190,
   "metadata": {},
   "outputs": [],
   "source": [
    "df_resultados = pd.DataFrame(resultados, columns=['Modelo', 'Score', 'Interseccion', 'Coeficiente', 'Error cuadratico', 'Prediccion'])\n",
    "df_resultados = df_resultados.sort_values(['Prediccion', 'Score'], ascending=False).reset_index()\n",
    "df_resultados_oro = pd.DataFrame(resultados_oro, columns=['Modelo', 'Score', 'Interseccion', 'Coeficiente', 'Error cuadratico', 'Prediccion'])\n",
    "df_resultados_oro = df_resultados_oro.sort_values(['Prediccion', 'Score'], ascending=False).reset_index()\n",
    "df_resultados_plata = pd.DataFrame(resultados_plata, columns=['Modelo', 'Score', 'Interseccion', 'Coeficiente', 'Error cuadratico', 'Prediccion'])\n",
    "df_resultados_plata = df_resultados_plata.sort_values(['Prediccion', 'Score'], ascending=False).reset_index()\n",
    "df_resultados_bronce = pd.DataFrame(resultados_bronce, columns=['Modelo', 'Score', 'Interseccion', 'Coeficiente', 'Error cuadratico', 'Prediccion'])\n",
    "df_resultados_bronce = df_resultados_bronce.sort_values(['Prediccion', 'Score'], ascending=False).reset_index()\n",
    "\n"
   ]
  },
  {
   "cell_type": "markdown",
   "metadata": {},
   "source": [
    " # Resumen de resultados\n",
    " Han sido ejecutados todos los modelos requeridos, ahora será visualizado cual de los modelos fue el\n",
    " que mejor predijo la obtención de medallas para las\n",
    " características del atleta ingresadas."
   ]
  },
  {
   "cell_type": "markdown",
   "metadata": {},
   "source": [
    " ## Datos de atleta"
   ]
  },
  {
   "cell_type": "code",
   "execution_count": 1191,
   "metadata": {},
   "outputs": [
    {
     "name": "stdout",
     "output_type": "stream",
     "text": [
      "Edad    :\t34\n",
      "Peso     : \t61\n",
      "Altura   : \t161\n",
      "Sexo     : \tFemenino\n",
      "Deporte  :\tSwimming\n"
     ]
    }
   ],
   "source": [
    "print('Edad    :', edad, sep='\\t')\n",
    "print('Peso     : ', peso, sep='\\t')\n",
    "print('Altura   : ', altura, sep='\\t')\n",
    "print('Sexo     : ', 'Femenino' if sexo == 0 else 'Masculino', sep='\\t')\n",
    "print('Deporte  :', deporte, sep='\\t')\n"
   ]
  },
  {
   "cell_type": "code",
   "execution_count": 1192,
   "metadata": {},
   "outputs": [
    {
     "name": "stdout",
     "output_type": "stream",
     "text": [
      "El mejor resultado general fue\n"
     ]
    },
    {
     "data": {
      "text/html": [
       "<div>\n",
       "<style scoped>\n",
       "    .dataframe tbody tr th:only-of-type {\n",
       "        vertical-align: middle;\n",
       "    }\n",
       "\n",
       "    .dataframe tbody tr th {\n",
       "        vertical-align: top;\n",
       "    }\n",
       "\n",
       "    .dataframe thead th {\n",
       "        text-align: right;\n",
       "    }\n",
       "</style>\n",
       "<table border=\"1\" class=\"dataframe\">\n",
       "  <thead>\n",
       "    <tr style=\"text-align: right;\">\n",
       "      <th></th>\n",
       "      <th>Modelo</th>\n",
       "      <th>Prediccion</th>\n",
       "      <th>Score</th>\n",
       "    </tr>\n",
       "  </thead>\n",
       "  <tbody>\n",
       "    <tr>\n",
       "      <th>0</th>\n",
       "      <td>Vector supervisado (SVC)</td>\n",
       "      <td>3.0</td>\n",
       "      <td>0.356377</td>\n",
       "    </tr>\n",
       "  </tbody>\n",
       "</table>\n",
       "</div>"
      ],
      "text/plain": [
       "                     Modelo  Prediccion     Score\n",
       "0  Vector supervisado (SVC)         3.0  0.356377"
      ]
     },
     "execution_count": 1192,
     "metadata": {},
     "output_type": "execute_result"
    }
   ],
   "source": [
    "print(\"El mejor resultado general fue\")\n",
    "df_resultados.loc[0:0, ['Modelo', 'Prediccion', 'Score']]\n"
   ]
  },
  {
   "cell_type": "code",
   "execution_count": 1193,
   "metadata": {},
   "outputs": [
    {
     "name": "stdout",
     "output_type": "stream",
     "text": [
      "El mejor resultado para medallas de oro fue\n"
     ]
    },
    {
     "data": {
      "text/html": [
       "<div>\n",
       "<style scoped>\n",
       "    .dataframe tbody tr th:only-of-type {\n",
       "        vertical-align: middle;\n",
       "    }\n",
       "\n",
       "    .dataframe tbody tr th {\n",
       "        vertical-align: top;\n",
       "    }\n",
       "\n",
       "    .dataframe thead th {\n",
       "        text-align: right;\n",
       "    }\n",
       "</style>\n",
       "<table border=\"1\" class=\"dataframe\">\n",
       "  <thead>\n",
       "    <tr style=\"text-align: right;\">\n",
       "      <th></th>\n",
       "      <th>Modelo</th>\n",
       "      <th>Prediccion</th>\n",
       "      <th>Score</th>\n",
       "    </tr>\n",
       "  </thead>\n",
       "  <tbody>\n",
       "    <tr>\n",
       "      <th>0</th>\n",
       "      <td>Arvol de desición</td>\n",
       "      <td>3.0</td>\n",
       "      <td>0.990385</td>\n",
       "    </tr>\n",
       "  </tbody>\n",
       "</table>\n",
       "</div>"
      ],
      "text/plain": [
       "              Modelo  Prediccion     Score\n",
       "0  Arvol de desición         3.0  0.990385"
      ]
     },
     "execution_count": 1193,
     "metadata": {},
     "output_type": "execute_result"
    }
   ],
   "source": [
    "print(\"El mejor resultado para medallas de oro fue\")\n",
    "df_resultados_oro.loc[0:0, ['Modelo', 'Prediccion', 'Score']]\n"
   ]
  },
  {
   "cell_type": "code",
   "execution_count": 1194,
   "metadata": {},
   "outputs": [
    {
     "name": "stdout",
     "output_type": "stream",
     "text": [
      "El mejor resultado para medallas de plata fue\n"
     ]
    },
    {
     "data": {
      "text/html": [
       "<div>\n",
       "<style scoped>\n",
       "    .dataframe tbody tr th:only-of-type {\n",
       "        vertical-align: middle;\n",
       "    }\n",
       "\n",
       "    .dataframe tbody tr th {\n",
       "        vertical-align: top;\n",
       "    }\n",
       "\n",
       "    .dataframe thead th {\n",
       "        text-align: right;\n",
       "    }\n",
       "</style>\n",
       "<table border=\"1\" class=\"dataframe\">\n",
       "  <thead>\n",
       "    <tr style=\"text-align: right;\">\n",
       "      <th></th>\n",
       "      <th>Modelo</th>\n",
       "      <th>Prediccion</th>\n",
       "      <th>Score</th>\n",
       "    </tr>\n",
       "  </thead>\n",
       "  <tbody>\n",
       "    <tr>\n",
       "      <th>0</th>\n",
       "      <td>Regresión logistica</td>\n",
       "      <td>3.0</td>\n",
       "      <td>0.281739</td>\n",
       "    </tr>\n",
       "  </tbody>\n",
       "</table>\n",
       "</div>"
      ],
      "text/plain": [
       "                Modelo  Prediccion     Score\n",
       "0  Regresión logistica         3.0  0.281739"
      ]
     },
     "execution_count": 1194,
     "metadata": {},
     "output_type": "execute_result"
    }
   ],
   "source": [
    "print(\"El mejor resultado para medallas de plata fue\")\n",
    "df_resultados_plata.loc[0:0, ['Modelo', 'Prediccion', 'Score']]\n"
   ]
  },
  {
   "cell_type": "code",
   "execution_count": 1195,
   "metadata": {},
   "outputs": [
    {
     "name": "stdout",
     "output_type": "stream",
     "text": [
      "El mejor resultado para medallas de bronce fue\n"
     ]
    },
    {
     "data": {
      "text/html": [
       "<div>\n",
       "<style scoped>\n",
       "    .dataframe tbody tr th:only-of-type {\n",
       "        vertical-align: middle;\n",
       "    }\n",
       "\n",
       "    .dataframe tbody tr th {\n",
       "        vertical-align: top;\n",
       "    }\n",
       "\n",
       "    .dataframe thead th {\n",
       "        text-align: right;\n",
       "    }\n",
       "</style>\n",
       "<table border=\"1\" class=\"dataframe\">\n",
       "  <thead>\n",
       "    <tr style=\"text-align: right;\">\n",
       "      <th></th>\n",
       "      <th>Modelo</th>\n",
       "      <th>Prediccion</th>\n",
       "      <th>Score</th>\n",
       "    </tr>\n",
       "  </thead>\n",
       "  <tbody>\n",
       "    <tr>\n",
       "      <th>0</th>\n",
       "      <td>naive bayes</td>\n",
       "      <td>2.0</td>\n",
       "      <td>0.365979</td>\n",
       "    </tr>\n",
       "  </tbody>\n",
       "</table>\n",
       "</div>"
      ],
      "text/plain": [
       "        Modelo  Prediccion     Score\n",
       "0  naive bayes         2.0  0.365979"
      ]
     },
     "execution_count": 1195,
     "metadata": {},
     "output_type": "execute_result"
    }
   ],
   "source": [
    "print(\"El mejor resultado para medallas de bronce fue\")\n",
    "df_resultados_bronce.loc[0:0, ['Modelo', 'Prediccion', 'Score']]\n"
   ]
  },
  {
   "cell_type": "markdown",
   "metadata": {},
   "source": [
    " ## Resultados completos de ejecución de los modelos"
   ]
  },
  {
   "cell_type": "code",
   "execution_count": 1196,
   "metadata": {},
   "outputs": [
    {
     "name": "stdout",
     "output_type": "stream",
     "text": [
      "Tabla de resultados general\n"
     ]
    },
    {
     "data": {
      "text/html": [
       "<div>\n",
       "<style scoped>\n",
       "    .dataframe tbody tr th:only-of-type {\n",
       "        vertical-align: middle;\n",
       "    }\n",
       "\n",
       "    .dataframe tbody tr th {\n",
       "        vertical-align: top;\n",
       "    }\n",
       "\n",
       "    .dataframe thead th {\n",
       "        text-align: right;\n",
       "    }\n",
       "</style>\n",
       "<table border=\"1\" class=\"dataframe\">\n",
       "  <thead>\n",
       "    <tr style=\"text-align: right;\">\n",
       "      <th></th>\n",
       "      <th>index</th>\n",
       "      <th>Modelo</th>\n",
       "      <th>Score</th>\n",
       "      <th>Interseccion</th>\n",
       "      <th>Coeficiente</th>\n",
       "      <th>Error cuadratico</th>\n",
       "      <th>Prediccion</th>\n",
       "    </tr>\n",
       "  </thead>\n",
       "  <tbody>\n",
       "    <tr>\n",
       "      <th>0</th>\n",
       "      <td>2</td>\n",
       "      <td>Vector supervisado (SVC)</td>\n",
       "      <td>0.356377</td>\n",
       "      <td>-0.968347</td>\n",
       "      <td>0.031278</td>\n",
       "      <td>1.083433</td>\n",
       "      <td>3.000000</td>\n",
       "    </tr>\n",
       "    <tr>\n",
       "      <th>1</th>\n",
       "      <td>0</td>\n",
       "      <td>Regresión lineal</td>\n",
       "      <td>0.004328</td>\n",
       "      <td>3.059133</td>\n",
       "      <td>0.008413</td>\n",
       "      <td>0.650370</td>\n",
       "      <td>2.274745</td>\n",
       "    </tr>\n",
       "    <tr>\n",
       "      <th>2</th>\n",
       "      <td>6</td>\n",
       "      <td>Random forest regressor</td>\n",
       "      <td>0.598909</td>\n",
       "      <td>0.000000</td>\n",
       "      <td>0.000000</td>\n",
       "      <td>0.261871</td>\n",
       "      <td>2.032000</td>\n",
       "    </tr>\n",
       "    <tr>\n",
       "      <th>3</th>\n",
       "      <td>5</td>\n",
       "      <td>naive bayes</td>\n",
       "      <td>0.362336</td>\n",
       "      <td>0.000000</td>\n",
       "      <td>0.000000</td>\n",
       "      <td>1.175805</td>\n",
       "      <td>2.000000</td>\n",
       "    </tr>\n",
       "    <tr>\n",
       "      <th>4</th>\n",
       "      <td>3</td>\n",
       "      <td>Arvol de desición</td>\n",
       "      <td>0.787247</td>\n",
       "      <td>0.000000</td>\n",
       "      <td>0.000000</td>\n",
       "      <td>0.423719</td>\n",
       "      <td>1.000000</td>\n",
       "    </tr>\n",
       "    <tr>\n",
       "      <th>5</th>\n",
       "      <td>4</td>\n",
       "      <td>KNeighbors classifier</td>\n",
       "      <td>0.518474</td>\n",
       "      <td>0.000000</td>\n",
       "      <td>0.000000</td>\n",
       "      <td>0.930274</td>\n",
       "      <td>1.000000</td>\n",
       "    </tr>\n",
       "    <tr>\n",
       "      <th>6</th>\n",
       "      <td>1</td>\n",
       "      <td>Regresión logistica</td>\n",
       "      <td>0.360548</td>\n",
       "      <td>-0.078173</td>\n",
       "      <td>-0.043411</td>\n",
       "      <td>1.261621</td>\n",
       "      <td>1.000000</td>\n",
       "    </tr>\n",
       "  </tbody>\n",
       "</table>\n",
       "</div>"
      ],
      "text/plain": [
       "   index                    Modelo     Score  Interseccion  Coeficiente  \\\n",
       "0      2  Vector supervisado (SVC)  0.356377     -0.968347     0.031278   \n",
       "1      0          Regresión lineal  0.004328      3.059133     0.008413   \n",
       "2      6   Random forest regressor  0.598909      0.000000     0.000000   \n",
       "3      5               naive bayes  0.362336      0.000000     0.000000   \n",
       "4      3         Arvol de desición  0.787247      0.000000     0.000000   \n",
       "5      4     KNeighbors classifier  0.518474      0.000000     0.000000   \n",
       "6      1       Regresión logistica  0.360548     -0.078173    -0.043411   \n",
       "\n",
       "   Error cuadratico  Prediccion  \n",
       "0          1.083433    3.000000  \n",
       "1          0.650370    2.274745  \n",
       "2          0.261871    2.032000  \n",
       "3          1.175805    2.000000  \n",
       "4          0.423719    1.000000  \n",
       "5          0.930274    1.000000  \n",
       "6          1.261621    1.000000  "
      ]
     },
     "execution_count": 1196,
     "metadata": {},
     "output_type": "execute_result"
    }
   ],
   "source": [
    "print(\"Tabla de resultados general\")\n",
    "df_resultados\n",
    "\n"
   ]
  },
  {
   "cell_type": "code",
   "execution_count": 1197,
   "metadata": {},
   "outputs": [
    {
     "name": "stdout",
     "output_type": "stream",
     "text": [
      "Tabla de resultados medallas de oro\n"
     ]
    },
    {
     "data": {
      "text/html": [
       "<div>\n",
       "<style scoped>\n",
       "    .dataframe tbody tr th:only-of-type {\n",
       "        vertical-align: middle;\n",
       "    }\n",
       "\n",
       "    .dataframe tbody tr th {\n",
       "        vertical-align: top;\n",
       "    }\n",
       "\n",
       "    .dataframe thead th {\n",
       "        text-align: right;\n",
       "    }\n",
       "</style>\n",
       "<table border=\"1\" class=\"dataframe\">\n",
       "  <thead>\n",
       "    <tr style=\"text-align: right;\">\n",
       "      <th></th>\n",
       "      <th>index</th>\n",
       "      <th>Modelo</th>\n",
       "      <th>Score</th>\n",
       "      <th>Interseccion</th>\n",
       "      <th>Coeficiente</th>\n",
       "      <th>Error cuadratico</th>\n",
       "      <th>Prediccion</th>\n",
       "    </tr>\n",
       "  </thead>\n",
       "  <tbody>\n",
       "    <tr>\n",
       "      <th>0</th>\n",
       "      <td>3</td>\n",
       "      <td>Arvol de desición</td>\n",
       "      <td>0.990385</td>\n",
       "      <td>0.000000</td>\n",
       "      <td>0.000000</td>\n",
       "      <td>0.040385</td>\n",
       "      <td>3.000000</td>\n",
       "    </tr>\n",
       "    <tr>\n",
       "      <th>1</th>\n",
       "      <td>5</td>\n",
       "      <td>naive bayes</td>\n",
       "      <td>0.257692</td>\n",
       "      <td>0.000000</td>\n",
       "      <td>0.000000</td>\n",
       "      <td>3.969231</td>\n",
       "      <td>3.000000</td>\n",
       "    </tr>\n",
       "    <tr>\n",
       "      <th>2</th>\n",
       "      <td>1</td>\n",
       "      <td>Regresión logistica</td>\n",
       "      <td>0.244231</td>\n",
       "      <td>-0.018759</td>\n",
       "      <td>-0.039845</td>\n",
       "      <td>3.709615</td>\n",
       "      <td>3.000000</td>\n",
       "    </tr>\n",
       "    <tr>\n",
       "      <th>3</th>\n",
       "      <td>2</td>\n",
       "      <td>Vector supervisado (SVC)</td>\n",
       "      <td>0.230769</td>\n",
       "      <td>0.883212</td>\n",
       "      <td>0.031278</td>\n",
       "      <td>2.819231</td>\n",
       "      <td>3.000000</td>\n",
       "    </tr>\n",
       "    <tr>\n",
       "      <th>4</th>\n",
       "      <td>0</td>\n",
       "      <td>Regresión lineal</td>\n",
       "      <td>0.000646</td>\n",
       "      <td>2.554603</td>\n",
       "      <td>0.008074</td>\n",
       "      <td>2.054575</td>\n",
       "      <td>2.211655</td>\n",
       "    </tr>\n",
       "    <tr>\n",
       "      <th>5</th>\n",
       "      <td>6</td>\n",
       "      <td>Random forest regressor</td>\n",
       "      <td>0.823158</td>\n",
       "      <td>0.000000</td>\n",
       "      <td>0.000000</td>\n",
       "      <td>0.366346</td>\n",
       "      <td>2.140000</td>\n",
       "    </tr>\n",
       "    <tr>\n",
       "      <th>6</th>\n",
       "      <td>4</td>\n",
       "      <td>KNeighbors classifier</td>\n",
       "      <td>0.475000</td>\n",
       "      <td>0.000000</td>\n",
       "      <td>0.000000</td>\n",
       "      <td>2.594231</td>\n",
       "      <td>0.000000</td>\n",
       "    </tr>\n",
       "  </tbody>\n",
       "</table>\n",
       "</div>"
      ],
      "text/plain": [
       "   index                    Modelo     Score  Interseccion  Coeficiente  \\\n",
       "0      3         Arvol de desición  0.990385      0.000000     0.000000   \n",
       "1      5               naive bayes  0.257692      0.000000     0.000000   \n",
       "2      1       Regresión logistica  0.244231     -0.018759    -0.039845   \n",
       "3      2  Vector supervisado (SVC)  0.230769      0.883212     0.031278   \n",
       "4      0          Regresión lineal  0.000646      2.554603     0.008074   \n",
       "5      6   Random forest regressor  0.823158      0.000000     0.000000   \n",
       "6      4     KNeighbors classifier  0.475000      0.000000     0.000000   \n",
       "\n",
       "   Error cuadratico  Prediccion  \n",
       "0          0.040385    3.000000  \n",
       "1          3.969231    3.000000  \n",
       "2          3.709615    3.000000  \n",
       "3          2.819231    3.000000  \n",
       "4          2.054575    2.211655  \n",
       "5          0.366346    2.140000  \n",
       "6          2.594231    0.000000  "
      ]
     },
     "execution_count": 1197,
     "metadata": {},
     "output_type": "execute_result"
    }
   ],
   "source": [
    "print(\"Tabla de resultados medallas de oro\")\n",
    "df_resultados_oro\n",
    "\n"
   ]
  },
  {
   "cell_type": "code",
   "execution_count": 1198,
   "metadata": {},
   "outputs": [
    {
     "name": "stdout",
     "output_type": "stream",
     "text": [
      "Tabla de resultados medallas de plata\n"
     ]
    },
    {
     "data": {
      "text/html": [
       "<div>\n",
       "<style scoped>\n",
       "    .dataframe tbody tr th:only-of-type {\n",
       "        vertical-align: middle;\n",
       "    }\n",
       "\n",
       "    .dataframe tbody tr th {\n",
       "        vertical-align: top;\n",
       "    }\n",
       "\n",
       "    .dataframe thead th {\n",
       "        text-align: right;\n",
       "    }\n",
       "</style>\n",
       "<table border=\"1\" class=\"dataframe\">\n",
       "  <thead>\n",
       "    <tr style=\"text-align: right;\">\n",
       "      <th></th>\n",
       "      <th>index</th>\n",
       "      <th>Modelo</th>\n",
       "      <th>Score</th>\n",
       "      <th>Interseccion</th>\n",
       "      <th>Coeficiente</th>\n",
       "      <th>Error cuadratico</th>\n",
       "      <th>Prediccion</th>\n",
       "    </tr>\n",
       "  </thead>\n",
       "  <tbody>\n",
       "    <tr>\n",
       "      <th>0</th>\n",
       "      <td>1</td>\n",
       "      <td>Regresión logistica</td>\n",
       "      <td>0.281739</td>\n",
       "      <td>-0.116572</td>\n",
       "      <td>0.040849</td>\n",
       "      <td>1.591304</td>\n",
       "      <td>3.000000</td>\n",
       "    </tr>\n",
       "    <tr>\n",
       "      <th>1</th>\n",
       "      <td>5</td>\n",
       "      <td>naive bayes</td>\n",
       "      <td>0.293913</td>\n",
       "      <td>0.000000</td>\n",
       "      <td>0.000000</td>\n",
       "      <td>2.220870</td>\n",
       "      <td>2.000000</td>\n",
       "    </tr>\n",
       "    <tr>\n",
       "      <th>2</th>\n",
       "      <td>2</td>\n",
       "      <td>Vector supervisado (SVC)</td>\n",
       "      <td>0.266087</td>\n",
       "      <td>-0.976872</td>\n",
       "      <td>0.031278</td>\n",
       "      <td>1.433043</td>\n",
       "      <td>2.000000</td>\n",
       "    </tr>\n",
       "    <tr>\n",
       "      <th>3</th>\n",
       "      <td>0</td>\n",
       "      <td>Regresión lineal</td>\n",
       "      <td>0.003401</td>\n",
       "      <td>1.778550</td>\n",
       "      <td>-0.014476</td>\n",
       "      <td>1.191385</td>\n",
       "      <td>1.345386</td>\n",
       "    </tr>\n",
       "    <tr>\n",
       "      <th>4</th>\n",
       "      <td>4</td>\n",
       "      <td>KNeighbors classifier</td>\n",
       "      <td>0.459130</td>\n",
       "      <td>0.000000</td>\n",
       "      <td>0.000000</td>\n",
       "      <td>1.787826</td>\n",
       "      <td>1.000000</td>\n",
       "    </tr>\n",
       "    <tr>\n",
       "      <th>5</th>\n",
       "      <td>6</td>\n",
       "      <td>Random forest regressor</td>\n",
       "      <td>0.807881</td>\n",
       "      <td>0.000000</td>\n",
       "      <td>0.000000</td>\n",
       "      <td>0.229285</td>\n",
       "      <td>0.910000</td>\n",
       "    </tr>\n",
       "    <tr>\n",
       "      <th>6</th>\n",
       "      <td>3</td>\n",
       "      <td>Arvol de desición</td>\n",
       "      <td>0.987826</td>\n",
       "      <td>0.000000</td>\n",
       "      <td>0.000000</td>\n",
       "      <td>0.046957</td>\n",
       "      <td>0.000000</td>\n",
       "    </tr>\n",
       "  </tbody>\n",
       "</table>\n",
       "</div>"
      ],
      "text/plain": [
       "   index                    Modelo     Score  Interseccion  Coeficiente  \\\n",
       "0      1       Regresión logistica  0.281739     -0.116572     0.040849   \n",
       "1      5               naive bayes  0.293913      0.000000     0.000000   \n",
       "2      2  Vector supervisado (SVC)  0.266087     -0.976872     0.031278   \n",
       "3      0          Regresión lineal  0.003401      1.778550    -0.014476   \n",
       "4      4     KNeighbors classifier  0.459130      0.000000     0.000000   \n",
       "5      6   Random forest regressor  0.807881      0.000000     0.000000   \n",
       "6      3         Arvol de desición  0.987826      0.000000     0.000000   \n",
       "\n",
       "   Error cuadratico  Prediccion  \n",
       "0          1.591304    3.000000  \n",
       "1          2.220870    2.000000  \n",
       "2          1.433043    2.000000  \n",
       "3          1.191385    1.345386  \n",
       "4          1.787826    1.000000  \n",
       "5          0.229285    0.910000  \n",
       "6          0.046957    0.000000  "
      ]
     },
     "execution_count": 1198,
     "metadata": {},
     "output_type": "execute_result"
    }
   ],
   "source": [
    "print(\"Tabla de resultados medallas de plata\")\n",
    "df_resultados_plata\n",
    "\n"
   ]
  },
  {
   "cell_type": "code",
   "execution_count": 1199,
   "metadata": {},
   "outputs": [
    {
     "name": "stdout",
     "output_type": "stream",
     "text": [
      "Tabla de resultados medallas de bronce\n"
     ]
    },
    {
     "data": {
      "text/html": [
       "<div>\n",
       "<style scoped>\n",
       "    .dataframe tbody tr th:only-of-type {\n",
       "        vertical-align: middle;\n",
       "    }\n",
       "\n",
       "    .dataframe tbody tr th {\n",
       "        vertical-align: top;\n",
       "    }\n",
       "\n",
       "    .dataframe thead th {\n",
       "        text-align: right;\n",
       "    }\n",
       "</style>\n",
       "<table border=\"1\" class=\"dataframe\">\n",
       "  <thead>\n",
       "    <tr style=\"text-align: right;\">\n",
       "      <th></th>\n",
       "      <th>index</th>\n",
       "      <th>Modelo</th>\n",
       "      <th>Score</th>\n",
       "      <th>Interseccion</th>\n",
       "      <th>Coeficiente</th>\n",
       "      <th>Error cuadratico</th>\n",
       "      <th>Prediccion</th>\n",
       "    </tr>\n",
       "  </thead>\n",
       "  <tbody>\n",
       "    <tr>\n",
       "      <th>0</th>\n",
       "      <td>5</td>\n",
       "      <td>naive bayes</td>\n",
       "      <td>0.365979</td>\n",
       "      <td>0.000000</td>\n",
       "      <td>0.000000</td>\n",
       "      <td>1.329897</td>\n",
       "      <td>2.000000</td>\n",
       "    </tr>\n",
       "    <tr>\n",
       "      <th>1</th>\n",
       "      <td>2</td>\n",
       "      <td>Vector supervisado (SVC)</td>\n",
       "      <td>0.352234</td>\n",
       "      <td>-0.934198</td>\n",
       "      <td>0.031278</td>\n",
       "      <td>1.575601</td>\n",
       "      <td>2.000000</td>\n",
       "    </tr>\n",
       "    <tr>\n",
       "      <th>2</th>\n",
       "      <td>6</td>\n",
       "      <td>Random forest regressor</td>\n",
       "      <td>0.837592</td>\n",
       "      <td>0.000000</td>\n",
       "      <td>0.000000</td>\n",
       "      <td>0.107001</td>\n",
       "      <td>1.110000</td>\n",
       "    </tr>\n",
       "    <tr>\n",
       "      <th>3</th>\n",
       "      <td>0</td>\n",
       "      <td>Regresión lineal</td>\n",
       "      <td>0.000822</td>\n",
       "      <td>0.801261</td>\n",
       "      <td>0.001270</td>\n",
       "      <td>0.652541</td>\n",
       "      <td>1.044639</td>\n",
       "    </tr>\n",
       "    <tr>\n",
       "      <th>4</th>\n",
       "      <td>4</td>\n",
       "      <td>KNeighbors classifier</td>\n",
       "      <td>0.567010</td>\n",
       "      <td>0.000000</td>\n",
       "      <td>0.000000</td>\n",
       "      <td>0.896907</td>\n",
       "      <td>1.000000</td>\n",
       "    </tr>\n",
       "    <tr>\n",
       "      <th>5</th>\n",
       "      <td>3</td>\n",
       "      <td>Arvol de desición</td>\n",
       "      <td>0.993127</td>\n",
       "      <td>0.000000</td>\n",
       "      <td>0.000000</td>\n",
       "      <td>0.012027</td>\n",
       "      <td>0.000000</td>\n",
       "    </tr>\n",
       "    <tr>\n",
       "      <th>6</th>\n",
       "      <td>1</td>\n",
       "      <td>Regresión logistica</td>\n",
       "      <td>0.390034</td>\n",
       "      <td>-0.026674</td>\n",
       "      <td>0.031278</td>\n",
       "      <td>1.182131</td>\n",
       "      <td>0.000000</td>\n",
       "    </tr>\n",
       "  </tbody>\n",
       "</table>\n",
       "</div>"
      ],
      "text/plain": [
       "   index                    Modelo     Score  Interseccion  Coeficiente  \\\n",
       "0      5               naive bayes  0.365979      0.000000     0.000000   \n",
       "1      2  Vector supervisado (SVC)  0.352234     -0.934198     0.031278   \n",
       "2      6   Random forest regressor  0.837592      0.000000     0.000000   \n",
       "3      0          Regresión lineal  0.000822      0.801261     0.001270   \n",
       "4      4     KNeighbors classifier  0.567010      0.000000     0.000000   \n",
       "5      3         Arvol de desición  0.993127      0.000000     0.000000   \n",
       "6      1       Regresión logistica  0.390034     -0.026674     0.031278   \n",
       "\n",
       "   Error cuadratico  Prediccion  \n",
       "0          1.329897    2.000000  \n",
       "1          1.575601    2.000000  \n",
       "2          0.107001    1.110000  \n",
       "3          0.652541    1.044639  \n",
       "4          0.896907    1.000000  \n",
       "5          0.012027    0.000000  \n",
       "6          1.182131    0.000000  "
      ]
     },
     "execution_count": 1199,
     "metadata": {},
     "output_type": "execute_result"
    }
   ],
   "source": [
    "print(\"Tabla de resultados medallas de bronce\")\n",
    "df_resultados_bronce\n",
    "\n"
   ]
  },
  {
   "cell_type": "markdown",
   "metadata": {},
   "source": [
    " # Conclusión\n",
    " En primer lugar fue necesario realizar una exploracion y analisis al dataset de\n",
    " juegos olímpicos, para posterior mente procesar los datos para una\n",
    " óptima ejecución de los modelos.<br>\n",
    " Fue necesario procesar los datos para evitar que los modelos sesgarán la información por los valores mayores\n",
    " y evitar que memorizarán los datos introducidos, para eso se realizo distintos procedimientos que permitieron ajustar los datos de mejor\n",
    " manera sin perjuicio de los resultados obtenidos.<br>\n",
    " Finalmente, se aprecia de como las características de un atleta\n",
    " puede ser procesado para poder predecir que comportamiento\n",
    " poseerá en los próximos juegos olímpicos, cabe señalar que, los datos utilizados (como pruebas)\n",
    " corresponden a la atleta Kristel Koubrick, pero de igual manera pueden ser\n",
    " cambiados para obtener resultados con otro participante.<br>\n",
    " Las ejecuciones de los modelos cambian al correr estos nuevamente, pero los resultados se\n",
    " adaptan para absorber ese cambio y mostrar la nueva ejecución, permitiendo\n",
    " visualizar la participación de mas atletas e inclusive re-evaluar al mismo."
   ]
  },
  {
   "cell_type": "markdown",
   "metadata": {},
   "source": [
    " # Configuración utilizada para esta evaluación.\n",
    " CPython 3.7.6<br>\n",
    " IPython 7.13.0<br>\n",
    " compiler   : MSC v.1916 64 bit (AMD64)<br>\n",
    " system     : Windows<br>\n",
    " release    : 10<br>\n",
    " machine    : AMD64<br>\n",
    " processor  : Intel64 Family 6 Model 158 Stepping 10, GenuineIntel<br>\n",
    " CPU cores  : 12<br>\n",
    " interpreter: 64bit<br>"
   ]
  }
 ],
 "metadata": {
  "kernelspec": {
   "display_name": "Python 3",
   "language": "python",
   "name": "python3"
  },
  "language_info": {
   "codemirror_mode": {
    "name": "ipython",
    "version": 3
   },
   "file_extension": ".py",
   "mimetype": "text/x-python",
   "name": "python",
   "nbconvert_exporter": "python",
   "pygments_lexer": "ipython3",
   "version": "3.7.6"
  }
 },
 "nbformat": 4,
 "nbformat_minor": 2
}
