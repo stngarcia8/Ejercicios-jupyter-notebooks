{
 "cells": [
  {
   "cell_type": "markdown",
   "metadata": {},
   "source": [
    " # Evaluación 02 -  Scatters\n",
    " Alumno: Daniel García Loyola<br>\n",
    " Profesor: Israel Naranjo Retamal<br>\n",
    " Ramo: Minería de datos (MDY7101)<br>\n",
    " Sección: 002D<br>\n",
    " Entrega: 12/06/2020<br>\n",
    " Pregunta: 02"
   ]
  },
  {
   "cell_type": "code",
   "execution_count": null,
   "metadata": {},
   "outputs": [],
   "source": []
  },
  {
   "cell_type": "code",
   "execution_count": 35,
   "metadata": {},
   "outputs": [],
   "source": [
    "import pandas as pd\n",
    "import numpy as np\n",
    "import matplotlib.pyplot as plt\n",
    "import seaborn as sns\n",
    "import warnings\n",
    "\n"
   ]
  },
  {
   "cell_type": "code",
   "execution_count": 36,
   "metadata": {},
   "outputs": [],
   "source": [
    "# Ajustes al notebook\n",
    "warnings.filterwarnings('ignore')\n",
    "#matplot inline\n"
   ]
  },
  {
   "cell_type": "markdown",
   "metadata": {},
   "source": [
    " # Cargando datos de skatters"
   ]
  },
  {
   "cell_type": "code",
   "execution_count": 37,
   "metadata": {},
   "outputs": [
    {
     "data": {
      "text/plain": [
       "(50, 17)"
      ]
     },
     "execution_count": 37,
     "metadata": {},
     "output_type": "execute_result"
    }
   ],
   "source": [
    "data_file = \"../data/original/Skate.csv\"\n",
    "data = pd.read_csv(data_file, engine='python')\n",
    "data.shape\n"
   ]
  },
  {
   "cell_type": "markdown",
   "metadata": {},
   "source": [
    " Ajustando nombres de columnas."
   ]
  },
  {
   "cell_type": "code",
   "execution_count": 38,
   "metadata": {},
   "outputs": [
    {
     "data": {
      "text/plain": [
       "Index(['ID', 'NombreAtleta', 'Edad', 'Nacionalidad', 'Puntos', 'Ev11', 'Ev12',\n",
       "       'Ev13', 'Ev14', 'Ev15', 'Ev16', 'Ev21', 'Ev22', 'Ev23', 'Ev24', 'Ev25',\n",
       "       'Ev26'],\n",
       "      dtype='object')"
      ]
     },
     "execution_count": 38,
     "metadata": {},
     "output_type": "execute_result"
    }
   ],
   "source": [
    "data.columns = [\n",
    "    'ID', 'NombreAtleta', 'Edad', 'Nacionalidad', 'Puntos',\n",
    "    'Ev11', 'Ev12', 'Ev13', 'Ev14', 'Ev15', 'Ev16',\n",
    "    'Ev21', 'Ev22', 'Ev23', 'Ev24', 'Ev25', 'Ev26']\n",
    "data.columns\n"
   ]
  },
  {
   "cell_type": "markdown",
   "metadata": {},
   "source": [
    " # Explorando datos"
   ]
  },
  {
   "cell_type": "code",
   "execution_count": 39,
   "metadata": {},
   "outputs": [
    {
     "data": {
      "text/html": [
       "<div>\n",
       "<style scoped>\n",
       "    .dataframe tbody tr th:only-of-type {\n",
       "        vertical-align: middle;\n",
       "    }\n",
       "\n",
       "    .dataframe tbody tr th {\n",
       "        vertical-align: top;\n",
       "    }\n",
       "\n",
       "    .dataframe thead th {\n",
       "        text-align: right;\n",
       "    }\n",
       "</style>\n",
       "<table border=\"1\" class=\"dataframe\">\n",
       "  <thead>\n",
       "    <tr style=\"text-align: right;\">\n",
       "      <th></th>\n",
       "      <th>ID</th>\n",
       "      <th>NombreAtleta</th>\n",
       "      <th>Edad</th>\n",
       "      <th>Nacionalidad</th>\n",
       "      <th>Puntos</th>\n",
       "      <th>Ev11</th>\n",
       "      <th>Ev12</th>\n",
       "      <th>Ev13</th>\n",
       "      <th>Ev14</th>\n",
       "      <th>Ev15</th>\n",
       "      <th>Ev16</th>\n",
       "      <th>Ev21</th>\n",
       "      <th>Ev22</th>\n",
       "      <th>Ev23</th>\n",
       "      <th>Ev24</th>\n",
       "      <th>Ev25</th>\n",
       "      <th>Ev26</th>\n",
       "    </tr>\n",
       "  </thead>\n",
       "  <tbody>\n",
       "    <tr>\n",
       "      <th>0</th>\n",
       "      <td>1</td>\n",
       "      <td>Pamela Rosa</td>\n",
       "      <td>20</td>\n",
       "      <td>BRA</td>\n",
       "      <td>180000</td>\n",
       "      <td>1.0</td>\n",
       "      <td>1.0</td>\n",
       "      <td>2.0</td>\n",
       "      <td>NaN</td>\n",
       "      <td>1.0</td>\n",
       "      <td>NaN</td>\n",
       "      <td>1.0</td>\n",
       "      <td>NaN</td>\n",
       "      <td>NaN</td>\n",
       "      <td>NaN</td>\n",
       "      <td>NaN</td>\n",
       "      <td>NaN</td>\n",
       "    </tr>\n",
       "    <tr>\n",
       "      <th>1</th>\n",
       "      <td>2</td>\n",
       "      <td>Rayssa Leal</td>\n",
       "      <td>12</td>\n",
       "      <td>BRA</td>\n",
       "      <td>148000</td>\n",
       "      <td>3.0</td>\n",
       "      <td>10.0</td>\n",
       "      <td>1.0</td>\n",
       "      <td>NaN</td>\n",
       "      <td>2.0</td>\n",
       "      <td>1.0</td>\n",
       "      <td>2.0</td>\n",
       "      <td>NaN</td>\n",
       "      <td>NaN</td>\n",
       "      <td>NaN</td>\n",
       "      <td>NaN</td>\n",
       "      <td>NaN</td>\n",
       "    </tr>\n",
       "    <tr>\n",
       "      <th>2</th>\n",
       "      <td>3</td>\n",
       "      <td>Aori Nishimura</td>\n",
       "      <td>18</td>\n",
       "      <td>JPN</td>\n",
       "      <td>89600</td>\n",
       "      <td>5.0</td>\n",
       "      <td>6.0</td>\n",
       "      <td>4.0</td>\n",
       "      <td>2.0</td>\n",
       "      <td>3.0</td>\n",
       "      <td>NaN</td>\n",
       "      <td>3.0</td>\n",
       "      <td>NaN</td>\n",
       "      <td>NaN</td>\n",
       "      <td>NaN</td>\n",
       "      <td>NaN</td>\n",
       "      <td>NaN</td>\n",
       "    </tr>\n",
       "    <tr>\n",
       "      <th>3</th>\n",
       "      <td>4</td>\n",
       "      <td>Leticia Bufoni</td>\n",
       "      <td>27</td>\n",
       "      <td>BRA</td>\n",
       "      <td>64000</td>\n",
       "      <td>4.0</td>\n",
       "      <td>2.0</td>\n",
       "      <td>6.0</td>\n",
       "      <td>1.0</td>\n",
       "      <td>NaN</td>\n",
       "      <td>NaN</td>\n",
       "      <td>NaN</td>\n",
       "      <td>NaN</td>\n",
       "      <td>NaN</td>\n",
       "      <td>NaN</td>\n",
       "      <td>NaN</td>\n",
       "      <td>NaN</td>\n",
       "    </tr>\n",
       "    <tr>\n",
       "      <th>4</th>\n",
       "      <td>5</td>\n",
       "      <td>Candy Jacobs</td>\n",
       "      <td>30</td>\n",
       "      <td>NED</td>\n",
       "      <td>56240</td>\n",
       "      <td>7.0</td>\n",
       "      <td>3.0</td>\n",
       "      <td>11.0</td>\n",
       "      <td>NaN</td>\n",
       "      <td>4.0</td>\n",
       "      <td>NaN</td>\n",
       "      <td>15.0</td>\n",
       "      <td>NaN</td>\n",
       "      <td>NaN</td>\n",
       "      <td>NaN</td>\n",
       "      <td>NaN</td>\n",
       "      <td>NaN</td>\n",
       "    </tr>\n",
       "  </tbody>\n",
       "</table>\n",
       "</div>"
      ],
      "text/plain": [
       "   ID    NombreAtleta  Edad Nacionalidad  Puntos  Ev11  Ev12  Ev13  Ev14  \\\n",
       "0   1     Pamela Rosa    20          BRA  180000   1.0   1.0   2.0   NaN   \n",
       "1   2     Rayssa Leal    12          BRA  148000   3.0  10.0   1.0   NaN   \n",
       "2   3  Aori Nishimura    18          JPN   89600   5.0   6.0   4.0   2.0   \n",
       "3   4  Leticia Bufoni    27          BRA   64000   4.0   2.0   6.0   1.0   \n",
       "4   5    Candy Jacobs    30          NED   56240   7.0   3.0  11.0   NaN   \n",
       "\n",
       "   Ev15  Ev16  Ev21  Ev22  Ev23  Ev24  Ev25  Ev26  \n",
       "0   1.0   NaN   1.0   NaN   NaN   NaN   NaN   NaN  \n",
       "1   2.0   1.0   2.0   NaN   NaN   NaN   NaN   NaN  \n",
       "2   3.0   NaN   3.0   NaN   NaN   NaN   NaN   NaN  \n",
       "3   NaN   NaN   NaN   NaN   NaN   NaN   NaN   NaN  \n",
       "4   4.0   NaN  15.0   NaN   NaN   NaN   NaN   NaN  "
      ]
     },
     "execution_count": 39,
     "metadata": {},
     "output_type": "execute_result"
    }
   ],
   "source": [
    "data.head()\n"
   ]
  },
  {
   "cell_type": "code",
   "execution_count": 40,
   "metadata": {},
   "outputs": [
    {
     "data": {
      "text/html": [
       "<div>\n",
       "<style scoped>\n",
       "    .dataframe tbody tr th:only-of-type {\n",
       "        vertical-align: middle;\n",
       "    }\n",
       "\n",
       "    .dataframe tbody tr th {\n",
       "        vertical-align: top;\n",
       "    }\n",
       "\n",
       "    .dataframe thead th {\n",
       "        text-align: right;\n",
       "    }\n",
       "</style>\n",
       "<table border=\"1\" class=\"dataframe\">\n",
       "  <thead>\n",
       "    <tr style=\"text-align: right;\">\n",
       "      <th></th>\n",
       "      <th>ID</th>\n",
       "      <th>NombreAtleta</th>\n",
       "      <th>Edad</th>\n",
       "      <th>Nacionalidad</th>\n",
       "      <th>Puntos</th>\n",
       "      <th>Ev11</th>\n",
       "      <th>Ev12</th>\n",
       "      <th>Ev13</th>\n",
       "      <th>Ev14</th>\n",
       "      <th>Ev15</th>\n",
       "      <th>Ev16</th>\n",
       "      <th>Ev21</th>\n",
       "      <th>Ev22</th>\n",
       "      <th>Ev23</th>\n",
       "      <th>Ev24</th>\n",
       "      <th>Ev25</th>\n",
       "      <th>Ev26</th>\n",
       "    </tr>\n",
       "  </thead>\n",
       "  <tbody>\n",
       "    <tr>\n",
       "      <th>count</th>\n",
       "      <td>50.00000</td>\n",
       "      <td>50</td>\n",
       "      <td>50.000000</td>\n",
       "      <td>50</td>\n",
       "      <td>50.000000</td>\n",
       "      <td>35.000000</td>\n",
       "      <td>33.000000</td>\n",
       "      <td>36.000000</td>\n",
       "      <td>20.000000</td>\n",
       "      <td>41.000000</td>\n",
       "      <td>37.000000</td>\n",
       "      <td>36.000000</td>\n",
       "      <td>0.0</td>\n",
       "      <td>0.0</td>\n",
       "      <td>0.0</td>\n",
       "      <td>0.0</td>\n",
       "      <td>0.0</td>\n",
       "    </tr>\n",
       "    <tr>\n",
       "      <th>unique</th>\n",
       "      <td>NaN</td>\n",
       "      <td>50</td>\n",
       "      <td>NaN</td>\n",
       "      <td>23</td>\n",
       "      <td>NaN</td>\n",
       "      <td>NaN</td>\n",
       "      <td>NaN</td>\n",
       "      <td>NaN</td>\n",
       "      <td>NaN</td>\n",
       "      <td>NaN</td>\n",
       "      <td>NaN</td>\n",
       "      <td>NaN</td>\n",
       "      <td>NaN</td>\n",
       "      <td>NaN</td>\n",
       "      <td>NaN</td>\n",
       "      <td>NaN</td>\n",
       "      <td>NaN</td>\n",
       "    </tr>\n",
       "    <tr>\n",
       "      <th>top</th>\n",
       "      <td>NaN</td>\n",
       "      <td>Ksenia Maricheva</td>\n",
       "      <td>NaN</td>\n",
       "      <td>BRA</td>\n",
       "      <td>NaN</td>\n",
       "      <td>NaN</td>\n",
       "      <td>NaN</td>\n",
       "      <td>NaN</td>\n",
       "      <td>NaN</td>\n",
       "      <td>NaN</td>\n",
       "      <td>NaN</td>\n",
       "      <td>NaN</td>\n",
       "      <td>NaN</td>\n",
       "      <td>NaN</td>\n",
       "      <td>NaN</td>\n",
       "      <td>NaN</td>\n",
       "      <td>NaN</td>\n",
       "    </tr>\n",
       "    <tr>\n",
       "      <th>freq</th>\n",
       "      <td>NaN</td>\n",
       "      <td>1</td>\n",
       "      <td>NaN</td>\n",
       "      <td>10</td>\n",
       "      <td>NaN</td>\n",
       "      <td>NaN</td>\n",
       "      <td>NaN</td>\n",
       "      <td>NaN</td>\n",
       "      <td>NaN</td>\n",
       "      <td>NaN</td>\n",
       "      <td>NaN</td>\n",
       "      <td>NaN</td>\n",
       "      <td>NaN</td>\n",
       "      <td>NaN</td>\n",
       "      <td>NaN</td>\n",
       "      <td>NaN</td>\n",
       "      <td>NaN</td>\n",
       "    </tr>\n",
       "    <tr>\n",
       "      <th>mean</th>\n",
       "      <td>25.50000</td>\n",
       "      <td>NaN</td>\n",
       "      <td>20.880000</td>\n",
       "      <td>NaN</td>\n",
       "      <td>21248.460000</td>\n",
       "      <td>21.657143</td>\n",
       "      <td>21.060606</td>\n",
       "      <td>20.833333</td>\n",
       "      <td>11.450000</td>\n",
       "      <td>23.195122</td>\n",
       "      <td>2.297297</td>\n",
       "      <td>21.722222</td>\n",
       "      <td>NaN</td>\n",
       "      <td>NaN</td>\n",
       "      <td>NaN</td>\n",
       "      <td>NaN</td>\n",
       "      <td>NaN</td>\n",
       "    </tr>\n",
       "    <tr>\n",
       "      <th>std</th>\n",
       "      <td>14.57738</td>\n",
       "      <td>NaN</td>\n",
       "      <td>5.762794</td>\n",
       "      <td>NaN</td>\n",
       "      <td>35024.584807</td>\n",
       "      <td>15.413788</td>\n",
       "      <td>14.374325</td>\n",
       "      <td>13.440876</td>\n",
       "      <td>7.632858</td>\n",
       "      <td>15.031998</td>\n",
       "      <td>2.259116</td>\n",
       "      <td>13.828771</td>\n",
       "      <td>NaN</td>\n",
       "      <td>NaN</td>\n",
       "      <td>NaN</td>\n",
       "      <td>NaN</td>\n",
       "      <td>NaN</td>\n",
       "    </tr>\n",
       "    <tr>\n",
       "      <th>min</th>\n",
       "      <td>1.00000</td>\n",
       "      <td>NaN</td>\n",
       "      <td>11.000000</td>\n",
       "      <td>NaN</td>\n",
       "      <td>2924.000000</td>\n",
       "      <td>1.000000</td>\n",
       "      <td>1.000000</td>\n",
       "      <td>1.000000</td>\n",
       "      <td>1.000000</td>\n",
       "      <td>1.000000</td>\n",
       "      <td>1.000000</td>\n",
       "      <td>1.000000</td>\n",
       "      <td>NaN</td>\n",
       "      <td>NaN</td>\n",
       "      <td>NaN</td>\n",
       "      <td>NaN</td>\n",
       "      <td>NaN</td>\n",
       "    </tr>\n",
       "    <tr>\n",
       "      <th>25%</th>\n",
       "      <td>13.25000</td>\n",
       "      <td>NaN</td>\n",
       "      <td>17.000000</td>\n",
       "      <td>NaN</td>\n",
       "      <td>3750.500000</td>\n",
       "      <td>9.500000</td>\n",
       "      <td>9.000000</td>\n",
       "      <td>9.750000</td>\n",
       "      <td>5.750000</td>\n",
       "      <td>11.000000</td>\n",
       "      <td>1.000000</td>\n",
       "      <td>9.750000</td>\n",
       "      <td>NaN</td>\n",
       "      <td>NaN</td>\n",
       "      <td>NaN</td>\n",
       "      <td>NaN</td>\n",
       "      <td>NaN</td>\n",
       "    </tr>\n",
       "    <tr>\n",
       "      <th>50%</th>\n",
       "      <td>25.50000</td>\n",
       "      <td>NaN</td>\n",
       "      <td>20.000000</td>\n",
       "      <td>NaN</td>\n",
       "      <td>6059.000000</td>\n",
       "      <td>18.000000</td>\n",
       "      <td>19.000000</td>\n",
       "      <td>20.000000</td>\n",
       "      <td>10.500000</td>\n",
       "      <td>21.000000</td>\n",
       "      <td>1.000000</td>\n",
       "      <td>20.500000</td>\n",
       "      <td>NaN</td>\n",
       "      <td>NaN</td>\n",
       "      <td>NaN</td>\n",
       "      <td>NaN</td>\n",
       "      <td>NaN</td>\n",
       "    </tr>\n",
       "    <tr>\n",
       "      <th>75%</th>\n",
       "      <td>37.75000</td>\n",
       "      <td>NaN</td>\n",
       "      <td>25.000000</td>\n",
       "      <td>NaN</td>\n",
       "      <td>23252.500000</td>\n",
       "      <td>31.500000</td>\n",
       "      <td>31.000000</td>\n",
       "      <td>30.250000</td>\n",
       "      <td>15.250000</td>\n",
       "      <td>34.000000</td>\n",
       "      <td>2.000000</td>\n",
       "      <td>34.250000</td>\n",
       "      <td>NaN</td>\n",
       "      <td>NaN</td>\n",
       "      <td>NaN</td>\n",
       "      <td>NaN</td>\n",
       "      <td>NaN</td>\n",
       "    </tr>\n",
       "    <tr>\n",
       "      <th>max</th>\n",
       "      <td>50.00000</td>\n",
       "      <td>NaN</td>\n",
       "      <td>33.000000</td>\n",
       "      <td>NaN</td>\n",
       "      <td>180000.000000</td>\n",
       "      <td>54.000000</td>\n",
       "      <td>54.000000</td>\n",
       "      <td>50.000000</td>\n",
       "      <td>28.000000</td>\n",
       "      <td>53.000000</td>\n",
       "      <td>10.000000</td>\n",
       "      <td>46.000000</td>\n",
       "      <td>NaN</td>\n",
       "      <td>NaN</td>\n",
       "      <td>NaN</td>\n",
       "      <td>NaN</td>\n",
       "      <td>NaN</td>\n",
       "    </tr>\n",
       "  </tbody>\n",
       "</table>\n",
       "</div>"
      ],
      "text/plain": [
       "              ID      NombreAtleta       Edad Nacionalidad         Puntos  \\\n",
       "count   50.00000                50  50.000000           50      50.000000   \n",
       "unique       NaN                50        NaN           23            NaN   \n",
       "top          NaN  Ksenia Maricheva        NaN          BRA            NaN   \n",
       "freq         NaN                 1        NaN           10            NaN   \n",
       "mean    25.50000               NaN  20.880000          NaN   21248.460000   \n",
       "std     14.57738               NaN   5.762794          NaN   35024.584807   \n",
       "min      1.00000               NaN  11.000000          NaN    2924.000000   \n",
       "25%     13.25000               NaN  17.000000          NaN    3750.500000   \n",
       "50%     25.50000               NaN  20.000000          NaN    6059.000000   \n",
       "75%     37.75000               NaN  25.000000          NaN   23252.500000   \n",
       "max     50.00000               NaN  33.000000          NaN  180000.000000   \n",
       "\n",
       "             Ev11       Ev12       Ev13       Ev14       Ev15       Ev16  \\\n",
       "count   35.000000  33.000000  36.000000  20.000000  41.000000  37.000000   \n",
       "unique        NaN        NaN        NaN        NaN        NaN        NaN   \n",
       "top           NaN        NaN        NaN        NaN        NaN        NaN   \n",
       "freq          NaN        NaN        NaN        NaN        NaN        NaN   \n",
       "mean    21.657143  21.060606  20.833333  11.450000  23.195122   2.297297   \n",
       "std     15.413788  14.374325  13.440876   7.632858  15.031998   2.259116   \n",
       "min      1.000000   1.000000   1.000000   1.000000   1.000000   1.000000   \n",
       "25%      9.500000   9.000000   9.750000   5.750000  11.000000   1.000000   \n",
       "50%     18.000000  19.000000  20.000000  10.500000  21.000000   1.000000   \n",
       "75%     31.500000  31.000000  30.250000  15.250000  34.000000   2.000000   \n",
       "max     54.000000  54.000000  50.000000  28.000000  53.000000  10.000000   \n",
       "\n",
       "             Ev21  Ev22  Ev23  Ev24  Ev25  Ev26  \n",
       "count   36.000000   0.0   0.0   0.0   0.0   0.0  \n",
       "unique        NaN   NaN   NaN   NaN   NaN   NaN  \n",
       "top           NaN   NaN   NaN   NaN   NaN   NaN  \n",
       "freq          NaN   NaN   NaN   NaN   NaN   NaN  \n",
       "mean    21.722222   NaN   NaN   NaN   NaN   NaN  \n",
       "std     13.828771   NaN   NaN   NaN   NaN   NaN  \n",
       "min      1.000000   NaN   NaN   NaN   NaN   NaN  \n",
       "25%      9.750000   NaN   NaN   NaN   NaN   NaN  \n",
       "50%     20.500000   NaN   NaN   NaN   NaN   NaN  \n",
       "75%     34.250000   NaN   NaN   NaN   NaN   NaN  \n",
       "max     46.000000   NaN   NaN   NaN   NaN   NaN  "
      ]
     },
     "execution_count": 40,
     "metadata": {},
     "output_type": "execute_result"
    }
   ],
   "source": [
    "data.describe(include='all')\n"
   ]
  },
  {
   "cell_type": "code",
   "execution_count": 41,
   "metadata": {},
   "outputs": [
    {
     "name": "stdout",
     "output_type": "stream",
     "text": [
      "<class 'pandas.core.frame.DataFrame'>\n",
      "RangeIndex: 50 entries, 0 to 49\n",
      "Data columns (total 17 columns):\n",
      " #   Column        Non-Null Count  Dtype  \n",
      "---  ------        --------------  -----  \n",
      " 0   ID            50 non-null     int64  \n",
      " 1   NombreAtleta  50 non-null     object \n",
      " 2   Edad          50 non-null     int64  \n",
      " 3   Nacionalidad  50 non-null     object \n",
      " 4   Puntos        50 non-null     int64  \n",
      " 5   Ev11          35 non-null     float64\n",
      " 6   Ev12          33 non-null     float64\n",
      " 7   Ev13          36 non-null     float64\n",
      " 8   Ev14          20 non-null     float64\n",
      " 9   Ev15          41 non-null     float64\n",
      " 10  Ev16          37 non-null     float64\n",
      " 11  Ev21          36 non-null     float64\n",
      " 12  Ev22          0 non-null      float64\n",
      " 13  Ev23          0 non-null      float64\n",
      " 14  Ev24          0 non-null      float64\n",
      " 15  Ev25          0 non-null      float64\n",
      " 16  Ev26          0 non-null      float64\n",
      "dtypes: float64(12), int64(3), object(2)\n",
      "memory usage: 6.8+ KB\n"
     ]
    }
   ],
   "source": [
    "data.info()\n"
   ]
  },
  {
   "cell_type": "code",
   "execution_count": 42,
   "metadata": {},
   "outputs": [
    {
     "data": {
      "text/plain": [
       "ID                int64\n",
       "NombreAtleta     object\n",
       "Edad              int64\n",
       "Nacionalidad     object\n",
       "Puntos            int64\n",
       "Ev11            float64\n",
       "Ev12            float64\n",
       "Ev13            float64\n",
       "Ev14            float64\n",
       "Ev15            float64\n",
       "Ev16            float64\n",
       "Ev21            float64\n",
       "Ev22            float64\n",
       "Ev23            float64\n",
       "Ev24            float64\n",
       "Ev25            float64\n",
       "Ev26            float64\n",
       "dtype: object"
      ]
     },
     "execution_count": 42,
     "metadata": {},
     "output_type": "execute_result"
    }
   ],
   "source": [
    "data.dtypes\n",
    "\n"
   ]
  },
  {
   "cell_type": "markdown",
   "metadata": {},
   "source": [
    " # Analisis y procesado de datos.\n",
    " Se realizarán ajustes al dataframe para que el comportamiento frente a los modelos predictivos sea óptimo."
   ]
  },
  {
   "cell_type": "markdown",
   "metadata": {},
   "source": [
    " ## Procesando elementos nulos"
   ]
  },
  {
   "cell_type": "code",
   "execution_count": 43,
   "metadata": {},
   "outputs": [
    {
     "name": "stdout",
     "output_type": "stream",
     "text": [
      "Cantidad de elementos nulos por columna:\n"
     ]
    },
    {
     "data": {
      "text/plain": [
       "ID               0\n",
       "NombreAtleta     0\n",
       "Edad             0\n",
       "Nacionalidad     0\n",
       "Puntos           0\n",
       "Ev11            15\n",
       "Ev12            17\n",
       "Ev13            14\n",
       "Ev14            30\n",
       "Ev15             9\n",
       "Ev16            13\n",
       "Ev21            14\n",
       "Ev22            50\n",
       "Ev23            50\n",
       "Ev24            50\n",
       "Ev25            50\n",
       "Ev26            50\n",
       "dtype: int64"
      ]
     },
     "execution_count": 43,
     "metadata": {},
     "output_type": "execute_result"
    }
   ],
   "source": [
    "print(\"Cantidad de elementos nulos por columna:\")\n",
    "data.isnull().sum()\n",
    "\n"
   ]
  },
  {
   "cell_type": "markdown",
   "metadata": {},
   "source": [
    " Los elementos nulos del dataframe se encuentran concentrados en las columnas\n",
    " de eventos (EvX), esto puede indicar dos cosas,\n",
    " primero si una columna posee todos sus elementos con valor cero significa que no se ha realizado y en el caso\n",
    " que los elementos sean algunos dentro de la columnas significará que\n",
    " el participante no compitió en dicho evento ya que no posee un puesto en dicho evento."
   ]
  },
  {
   "cell_type": "code",
   "execution_count": 44,
   "metadata": {},
   "outputs": [
    {
     "data": {
      "text/html": [
       "<div>\n",
       "<style scoped>\n",
       "    .dataframe tbody tr th:only-of-type {\n",
       "        vertical-align: middle;\n",
       "    }\n",
       "\n",
       "    .dataframe tbody tr th {\n",
       "        vertical-align: top;\n",
       "    }\n",
       "\n",
       "    .dataframe thead th {\n",
       "        text-align: right;\n",
       "    }\n",
       "</style>\n",
       "<table border=\"1\" class=\"dataframe\">\n",
       "  <thead>\n",
       "    <tr style=\"text-align: right;\">\n",
       "      <th></th>\n",
       "      <th>ID</th>\n",
       "      <th>NombreAtleta</th>\n",
       "      <th>Edad</th>\n",
       "      <th>Nacionalidad</th>\n",
       "      <th>Puntos</th>\n",
       "      <th>Ev11</th>\n",
       "      <th>Ev12</th>\n",
       "      <th>Ev13</th>\n",
       "      <th>Ev14</th>\n",
       "      <th>Ev15</th>\n",
       "      <th>Ev16</th>\n",
       "      <th>Ev21</th>\n",
       "      <th>Ev22</th>\n",
       "      <th>Ev23</th>\n",
       "      <th>Ev24</th>\n",
       "      <th>Ev25</th>\n",
       "      <th>Ev26</th>\n",
       "    </tr>\n",
       "  </thead>\n",
       "  <tbody>\n",
       "    <tr>\n",
       "      <th>0</th>\n",
       "      <td>1</td>\n",
       "      <td>Pamela Rosa</td>\n",
       "      <td>20</td>\n",
       "      <td>BRA</td>\n",
       "      <td>180000</td>\n",
       "      <td>1.0</td>\n",
       "      <td>1.0</td>\n",
       "      <td>2.0</td>\n",
       "      <td>0.0</td>\n",
       "      <td>1.0</td>\n",
       "      <td>0.0</td>\n",
       "      <td>1.0</td>\n",
       "      <td>0.0</td>\n",
       "      <td>0.0</td>\n",
       "      <td>0.0</td>\n",
       "      <td>0.0</td>\n",
       "      <td>0.0</td>\n",
       "    </tr>\n",
       "    <tr>\n",
       "      <th>1</th>\n",
       "      <td>2</td>\n",
       "      <td>Rayssa Leal</td>\n",
       "      <td>12</td>\n",
       "      <td>BRA</td>\n",
       "      <td>148000</td>\n",
       "      <td>3.0</td>\n",
       "      <td>10.0</td>\n",
       "      <td>1.0</td>\n",
       "      <td>0.0</td>\n",
       "      <td>2.0</td>\n",
       "      <td>1.0</td>\n",
       "      <td>2.0</td>\n",
       "      <td>0.0</td>\n",
       "      <td>0.0</td>\n",
       "      <td>0.0</td>\n",
       "      <td>0.0</td>\n",
       "      <td>0.0</td>\n",
       "    </tr>\n",
       "    <tr>\n",
       "      <th>2</th>\n",
       "      <td>3</td>\n",
       "      <td>Aori Nishimura</td>\n",
       "      <td>18</td>\n",
       "      <td>JPN</td>\n",
       "      <td>89600</td>\n",
       "      <td>5.0</td>\n",
       "      <td>6.0</td>\n",
       "      <td>4.0</td>\n",
       "      <td>2.0</td>\n",
       "      <td>3.0</td>\n",
       "      <td>0.0</td>\n",
       "      <td>3.0</td>\n",
       "      <td>0.0</td>\n",
       "      <td>0.0</td>\n",
       "      <td>0.0</td>\n",
       "      <td>0.0</td>\n",
       "      <td>0.0</td>\n",
       "    </tr>\n",
       "    <tr>\n",
       "      <th>3</th>\n",
       "      <td>4</td>\n",
       "      <td>Leticia Bufoni</td>\n",
       "      <td>27</td>\n",
       "      <td>BRA</td>\n",
       "      <td>64000</td>\n",
       "      <td>4.0</td>\n",
       "      <td>2.0</td>\n",
       "      <td>6.0</td>\n",
       "      <td>1.0</td>\n",
       "      <td>0.0</td>\n",
       "      <td>0.0</td>\n",
       "      <td>0.0</td>\n",
       "      <td>0.0</td>\n",
       "      <td>0.0</td>\n",
       "      <td>0.0</td>\n",
       "      <td>0.0</td>\n",
       "      <td>0.0</td>\n",
       "    </tr>\n",
       "    <tr>\n",
       "      <th>4</th>\n",
       "      <td>5</td>\n",
       "      <td>Candy Jacobs</td>\n",
       "      <td>30</td>\n",
       "      <td>NED</td>\n",
       "      <td>56240</td>\n",
       "      <td>7.0</td>\n",
       "      <td>3.0</td>\n",
       "      <td>11.0</td>\n",
       "      <td>0.0</td>\n",
       "      <td>4.0</td>\n",
       "      <td>0.0</td>\n",
       "      <td>15.0</td>\n",
       "      <td>0.0</td>\n",
       "      <td>0.0</td>\n",
       "      <td>0.0</td>\n",
       "      <td>0.0</td>\n",
       "      <td>0.0</td>\n",
       "    </tr>\n",
       "  </tbody>\n",
       "</table>\n",
       "</div>"
      ],
      "text/plain": [
       "   ID    NombreAtleta  Edad Nacionalidad  Puntos  Ev11  Ev12  Ev13  Ev14  \\\n",
       "0   1     Pamela Rosa    20          BRA  180000   1.0   1.0   2.0   0.0   \n",
       "1   2     Rayssa Leal    12          BRA  148000   3.0  10.0   1.0   0.0   \n",
       "2   3  Aori Nishimura    18          JPN   89600   5.0   6.0   4.0   2.0   \n",
       "3   4  Leticia Bufoni    27          BRA   64000   4.0   2.0   6.0   1.0   \n",
       "4   5    Candy Jacobs    30          NED   56240   7.0   3.0  11.0   0.0   \n",
       "\n",
       "   Ev15  Ev16  Ev21  Ev22  Ev23  Ev24  Ev25  Ev26  \n",
       "0   1.0   0.0   1.0   0.0   0.0   0.0   0.0   0.0  \n",
       "1   2.0   1.0   2.0   0.0   0.0   0.0   0.0   0.0  \n",
       "2   3.0   0.0   3.0   0.0   0.0   0.0   0.0   0.0  \n",
       "3   0.0   0.0   0.0   0.0   0.0   0.0   0.0   0.0  \n",
       "4   4.0   0.0  15.0   0.0   0.0   0.0   0.0   0.0  "
      ]
     },
     "execution_count": 44,
     "metadata": {},
     "output_type": "execute_result"
    }
   ],
   "source": [
    "data.fillna(0, inplace=True)\n",
    "data.head()\n",
    "\n"
   ]
  },
  {
   "cell_type": "code",
   "execution_count": 45,
   "metadata": {},
   "outputs": [
    {
     "name": "stdout",
     "output_type": "stream",
     "text": [
      "Cantidad de elementos nulos por columna:\n"
     ]
    },
    {
     "data": {
      "text/plain": [
       "ID              0\n",
       "NombreAtleta    0\n",
       "Edad            0\n",
       "Nacionalidad    0\n",
       "Puntos          0\n",
       "Ev11            0\n",
       "Ev12            0\n",
       "Ev13            0\n",
       "Ev14            0\n",
       "Ev15            0\n",
       "Ev16            0\n",
       "Ev21            0\n",
       "Ev22            0\n",
       "Ev23            0\n",
       "Ev24            0\n",
       "Ev25            0\n",
       "Ev26            0\n",
       "dtype: int64"
      ]
     },
     "execution_count": 45,
     "metadata": {},
     "output_type": "execute_result"
    }
   ],
   "source": [
    "print(\"Cantidad de elementos nulos por columna:\")\n",
    "data.isnull().sum()\n",
    "\n",
    "\n"
   ]
  },
  {
   "cell_type": "markdown",
   "metadata": {},
   "source": [
    " # Procesando el dataframe"
   ]
  },
  {
   "cell_type": "markdown",
   "metadata": {},
   "source": [
    " ## Calculando total de participaciones"
   ]
  },
  {
   "cell_type": "code",
   "execution_count": 46,
   "metadata": {},
   "outputs": [],
   "source": [
    "columnas = [\n",
    "    'Ev11', 'Ev12', 'Ev13', 'Ev14', 'Ev15', 'Ev16',\n",
    "    'Ev21', 'Ev22', 'Ev23', 'Ev24', 'Ev25', 'Ev26']\n",
    "for col in columnas:\n",
    "    col_tmp = 'p' + str(col).strip()\n",
    "    data[col_tmp] = 0\n",
    "    data.loc[data[col]>0,  col_tmp] =1\n",
    "\n"
   ]
  },
  {
   "cell_type": "code",
   "execution_count": 47,
   "metadata": {},
   "outputs": [
    {
     "data": {
      "text/html": [
       "<div>\n",
       "<style scoped>\n",
       "    .dataframe tbody tr th:only-of-type {\n",
       "        vertical-align: middle;\n",
       "    }\n",
       "\n",
       "    .dataframe tbody tr th {\n",
       "        vertical-align: top;\n",
       "    }\n",
       "\n",
       "    .dataframe thead th {\n",
       "        text-align: right;\n",
       "    }\n",
       "</style>\n",
       "<table border=\"1\" class=\"dataframe\">\n",
       "  <thead>\n",
       "    <tr style=\"text-align: right;\">\n",
       "      <th></th>\n",
       "      <th>ID</th>\n",
       "      <th>NombreAtleta</th>\n",
       "      <th>Edad</th>\n",
       "      <th>Nacionalidad</th>\n",
       "      <th>Puntos</th>\n",
       "      <th>Ev11</th>\n",
       "      <th>Ev12</th>\n",
       "      <th>Ev13</th>\n",
       "      <th>Ev14</th>\n",
       "      <th>Ev15</th>\n",
       "      <th>...</th>\n",
       "      <th>pEv14</th>\n",
       "      <th>pEv15</th>\n",
       "      <th>pEv16</th>\n",
       "      <th>pEv21</th>\n",
       "      <th>pEv22</th>\n",
       "      <th>pEv23</th>\n",
       "      <th>pEv24</th>\n",
       "      <th>pEv25</th>\n",
       "      <th>pEv26</th>\n",
       "      <th>Participaciones</th>\n",
       "    </tr>\n",
       "  </thead>\n",
       "  <tbody>\n",
       "    <tr>\n",
       "      <th>0</th>\n",
       "      <td>1</td>\n",
       "      <td>Pamela Rosa</td>\n",
       "      <td>20</td>\n",
       "      <td>BRA</td>\n",
       "      <td>180000</td>\n",
       "      <td>1.0</td>\n",
       "      <td>1.0</td>\n",
       "      <td>2.0</td>\n",
       "      <td>0.0</td>\n",
       "      <td>1.0</td>\n",
       "      <td>...</td>\n",
       "      <td>0</td>\n",
       "      <td>1</td>\n",
       "      <td>0</td>\n",
       "      <td>1</td>\n",
       "      <td>0</td>\n",
       "      <td>0</td>\n",
       "      <td>0</td>\n",
       "      <td>0</td>\n",
       "      <td>0</td>\n",
       "      <td>5</td>\n",
       "    </tr>\n",
       "    <tr>\n",
       "      <th>1</th>\n",
       "      <td>2</td>\n",
       "      <td>Rayssa Leal</td>\n",
       "      <td>12</td>\n",
       "      <td>BRA</td>\n",
       "      <td>148000</td>\n",
       "      <td>3.0</td>\n",
       "      <td>10.0</td>\n",
       "      <td>1.0</td>\n",
       "      <td>0.0</td>\n",
       "      <td>2.0</td>\n",
       "      <td>...</td>\n",
       "      <td>0</td>\n",
       "      <td>1</td>\n",
       "      <td>1</td>\n",
       "      <td>1</td>\n",
       "      <td>0</td>\n",
       "      <td>0</td>\n",
       "      <td>0</td>\n",
       "      <td>0</td>\n",
       "      <td>0</td>\n",
       "      <td>6</td>\n",
       "    </tr>\n",
       "    <tr>\n",
       "      <th>2</th>\n",
       "      <td>3</td>\n",
       "      <td>Aori Nishimura</td>\n",
       "      <td>18</td>\n",
       "      <td>JPN</td>\n",
       "      <td>89600</td>\n",
       "      <td>5.0</td>\n",
       "      <td>6.0</td>\n",
       "      <td>4.0</td>\n",
       "      <td>2.0</td>\n",
       "      <td>3.0</td>\n",
       "      <td>...</td>\n",
       "      <td>1</td>\n",
       "      <td>1</td>\n",
       "      <td>0</td>\n",
       "      <td>1</td>\n",
       "      <td>0</td>\n",
       "      <td>0</td>\n",
       "      <td>0</td>\n",
       "      <td>0</td>\n",
       "      <td>0</td>\n",
       "      <td>6</td>\n",
       "    </tr>\n",
       "    <tr>\n",
       "      <th>3</th>\n",
       "      <td>4</td>\n",
       "      <td>Leticia Bufoni</td>\n",
       "      <td>27</td>\n",
       "      <td>BRA</td>\n",
       "      <td>64000</td>\n",
       "      <td>4.0</td>\n",
       "      <td>2.0</td>\n",
       "      <td>6.0</td>\n",
       "      <td>1.0</td>\n",
       "      <td>0.0</td>\n",
       "      <td>...</td>\n",
       "      <td>1</td>\n",
       "      <td>0</td>\n",
       "      <td>0</td>\n",
       "      <td>0</td>\n",
       "      <td>0</td>\n",
       "      <td>0</td>\n",
       "      <td>0</td>\n",
       "      <td>0</td>\n",
       "      <td>0</td>\n",
       "      <td>4</td>\n",
       "    </tr>\n",
       "    <tr>\n",
       "      <th>4</th>\n",
       "      <td>5</td>\n",
       "      <td>Candy Jacobs</td>\n",
       "      <td>30</td>\n",
       "      <td>NED</td>\n",
       "      <td>56240</td>\n",
       "      <td>7.0</td>\n",
       "      <td>3.0</td>\n",
       "      <td>11.0</td>\n",
       "      <td>0.0</td>\n",
       "      <td>4.0</td>\n",
       "      <td>...</td>\n",
       "      <td>0</td>\n",
       "      <td>1</td>\n",
       "      <td>0</td>\n",
       "      <td>1</td>\n",
       "      <td>0</td>\n",
       "      <td>0</td>\n",
       "      <td>0</td>\n",
       "      <td>0</td>\n",
       "      <td>0</td>\n",
       "      <td>5</td>\n",
       "    </tr>\n",
       "  </tbody>\n",
       "</table>\n",
       "<p>5 rows × 30 columns</p>\n",
       "</div>"
      ],
      "text/plain": [
       "   ID    NombreAtleta  Edad Nacionalidad  Puntos  Ev11  Ev12  Ev13  Ev14  \\\n",
       "0   1     Pamela Rosa    20          BRA  180000   1.0   1.0   2.0   0.0   \n",
       "1   2     Rayssa Leal    12          BRA  148000   3.0  10.0   1.0   0.0   \n",
       "2   3  Aori Nishimura    18          JPN   89600   5.0   6.0   4.0   2.0   \n",
       "3   4  Leticia Bufoni    27          BRA   64000   4.0   2.0   6.0   1.0   \n",
       "4   5    Candy Jacobs    30          NED   56240   7.0   3.0  11.0   0.0   \n",
       "\n",
       "   Ev15  ...  pEv14  pEv15  pEv16  pEv21  pEv22  pEv23  pEv24  pEv25  pEv26  \\\n",
       "0   1.0  ...      0      1      0      1      0      0      0      0      0   \n",
       "1   2.0  ...      0      1      1      1      0      0      0      0      0   \n",
       "2   3.0  ...      1      1      0      1      0      0      0      0      0   \n",
       "3   0.0  ...      1      0      0      0      0      0      0      0      0   \n",
       "4   4.0  ...      0      1      0      1      0      0      0      0      0   \n",
       "\n",
       "   Participaciones  \n",
       "0                5  \n",
       "1                6  \n",
       "2                6  \n",
       "3                4  \n",
       "4                5  \n",
       "\n",
       "[5 rows x 30 columns]"
      ]
     },
     "execution_count": 47,
     "metadata": {},
     "output_type": "execute_result"
    }
   ],
   "source": [
    "# Calcular el total de participaciones\n",
    "columnas = [\n",
    "    'pEv11', 'pEv12', 'pEv13', 'pEv14', 'pEv15', 'pEv16',\n",
    "    'pEv21', 'pEv22', 'pEv23', 'pEv24', 'pEv25', 'pEv26']\n",
    "data['Participaciones'] = data[columnas].apply(lambda x: (x.pEv11+x.pEv12+x.pEv13+x.pEv14+x.pEv15+x.pEv16+x.pEv21+x.pEv22+x.pEv23+x.pEv24+x.pEv25+x.pEv26), axis=1)\n",
    "data.head(5)\n",
    "\n",
    "\n"
   ]
  },
  {
   "cell_type": "markdown",
   "metadata": {},
   "source": [
    " # Calculando participaciones separados por top"
   ]
  },
  {
   "cell_type": "code",
   "execution_count": 48,
   "metadata": {},
   "outputs": [],
   "source": [
    "def contar_participaciones(columnas, valores):\n",
    "    for col in columnas:\n",
    "        col_tmp = 'p' + str(col).strip()\n",
    "        data[col_tmp] = 0\n",
    "        data.loc[data[col].isin(valores),  col_tmp] =1\n",
    "    return\n",
    "\n"
   ]
  },
  {
   "cell_type": "code",
   "execution_count": 49,
   "metadata": {},
   "outputs": [],
   "source": [
    "def calcular_participaciones(columnas, columna):\n",
    "    data[columna] = data[columnas].apply(lambda x: (x.pEv11+x.pEv12+x.pEv13+x.pEv14+x.pEv15+x.pEv16+x.pEv21+x.pEv22+x.pEv23+x.pEv24+x.pEv25+x.pEv26), axis=1)\n",
    "    return\n",
    "\n"
   ]
  },
  {
   "cell_type": "markdown",
   "metadata": {},
   "source": [
    " ## Calculando participaciones top 10"
   ]
  },
  {
   "cell_type": "code",
   "execution_count": 50,
   "metadata": {},
   "outputs": [],
   "source": [
    "columnas = [\n",
    "    'Ev11', 'Ev12', 'Ev13', 'Ev14', 'Ev15', 'Ev16',\n",
    "    'Ev21', 'Ev22', 'Ev23', 'Ev24', 'Ev25', 'Ev26']\n",
    "p_columnas = [\n",
    "    'pEv11', 'pEv12', 'pEv13', 'pEv14', 'pEv15', 'pEv16',\n",
    "    'pEv21', 'pEv22', 'pEv23', 'pEv24', 'pEv25', 'pEv26']\n",
    "valores = [ i for i in range(1, 11)]\n",
    "contar_participaciones(columnas, valores)\n",
    "calcular_participaciones(p_columnas, 'WinTop10')\n",
    "\n"
   ]
  },
  {
   "cell_type": "markdown",
   "metadata": {},
   "source": [
    " ## Calculando participaciones top 20"
   ]
  },
  {
   "cell_type": "code",
   "execution_count": 51,
   "metadata": {},
   "outputs": [],
   "source": [
    "valores = [ i for i in range(11, 21)]\n",
    "contar_participaciones(columnas, valores)\n",
    "calcular_participaciones(p_columnas, 'WinTop20')\n",
    "\n"
   ]
  },
  {
   "cell_type": "markdown",
   "metadata": {},
   "source": [
    " ## Calculando participaciones top 30"
   ]
  },
  {
   "cell_type": "code",
   "execution_count": 52,
   "metadata": {},
   "outputs": [],
   "source": [
    "valores = [ i for i in range(21, 31)]\n",
    "contar_participaciones(columnas, valores)\n",
    "calcular_participaciones(p_columnas, 'WinTop30')\n",
    "\n"
   ]
  },
  {
   "cell_type": "markdown",
   "metadata": {},
   "source": [
    " ## Calculando participaciones top 30"
   ]
  },
  {
   "cell_type": "code",
   "execution_count": 53,
   "metadata": {},
   "outputs": [],
   "source": [
    "valores = [ i for i in range(31, 41)]\n",
    "contar_participaciones(columnas, valores)\n",
    "calcular_participaciones(p_columnas, 'WinTop40')\n",
    "\n"
   ]
  },
  {
   "cell_type": "markdown",
   "metadata": {},
   "source": [
    " ## Calculando participaciones top 40"
   ]
  },
  {
   "cell_type": "code",
   "execution_count": 54,
   "metadata": {},
   "outputs": [],
   "source": [
    "valores = [ i for i in range(41, 51)]\n",
    "contar_participaciones(columnas, valores)\n",
    "calcular_participaciones(p_columnas, 'WinTop50')\n",
    "\n"
   ]
  },
  {
   "cell_type": "markdown",
   "metadata": {},
   "source": [
    " ## Calculando participaciones top mayores a 50 hasta 100"
   ]
  },
  {
   "cell_type": "code",
   "execution_count": 55,
   "metadata": {},
   "outputs": [],
   "source": [
    "valores = [ i for i in range(51, 101)]\n",
    "contar_participaciones(columnas, valores)\n",
    "calcular_participaciones(p_columnas, 'WinTop100')\n",
    "\n",
    "\n"
   ]
  },
  {
   "cell_type": "markdown",
   "metadata": {},
   "source": [
    " ## Eliminando columnas inecesarias"
   ]
  },
  {
   "cell_type": "code",
   "execution_count": 56,
   "metadata": {},
   "outputs": [
    {
     "data": {
      "text/html": [
       "<div>\n",
       "<style scoped>\n",
       "    .dataframe tbody tr th:only-of-type {\n",
       "        vertical-align: middle;\n",
       "    }\n",
       "\n",
       "    .dataframe tbody tr th {\n",
       "        vertical-align: top;\n",
       "    }\n",
       "\n",
       "    .dataframe thead th {\n",
       "        text-align: right;\n",
       "    }\n",
       "</style>\n",
       "<table border=\"1\" class=\"dataframe\">\n",
       "  <thead>\n",
       "    <tr style=\"text-align: right;\">\n",
       "      <th></th>\n",
       "      <th>ID</th>\n",
       "      <th>NombreAtleta</th>\n",
       "      <th>Edad</th>\n",
       "      <th>Nacionalidad</th>\n",
       "      <th>Puntos</th>\n",
       "      <th>Participaciones</th>\n",
       "      <th>WinTop10</th>\n",
       "      <th>WinTop20</th>\n",
       "      <th>WinTop30</th>\n",
       "      <th>WinTop40</th>\n",
       "      <th>WinTop50</th>\n",
       "      <th>WinTop100</th>\n",
       "    </tr>\n",
       "  </thead>\n",
       "  <tbody>\n",
       "    <tr>\n",
       "      <th>0</th>\n",
       "      <td>1</td>\n",
       "      <td>Pamela Rosa</td>\n",
       "      <td>20</td>\n",
       "      <td>BRA</td>\n",
       "      <td>180000</td>\n",
       "      <td>5</td>\n",
       "      <td>5</td>\n",
       "      <td>0</td>\n",
       "      <td>0</td>\n",
       "      <td>0</td>\n",
       "      <td>0</td>\n",
       "      <td>0</td>\n",
       "    </tr>\n",
       "    <tr>\n",
       "      <th>1</th>\n",
       "      <td>2</td>\n",
       "      <td>Rayssa Leal</td>\n",
       "      <td>12</td>\n",
       "      <td>BRA</td>\n",
       "      <td>148000</td>\n",
       "      <td>6</td>\n",
       "      <td>6</td>\n",
       "      <td>0</td>\n",
       "      <td>0</td>\n",
       "      <td>0</td>\n",
       "      <td>0</td>\n",
       "      <td>0</td>\n",
       "    </tr>\n",
       "    <tr>\n",
       "      <th>2</th>\n",
       "      <td>3</td>\n",
       "      <td>Aori Nishimura</td>\n",
       "      <td>18</td>\n",
       "      <td>JPN</td>\n",
       "      <td>89600</td>\n",
       "      <td>6</td>\n",
       "      <td>6</td>\n",
       "      <td>0</td>\n",
       "      <td>0</td>\n",
       "      <td>0</td>\n",
       "      <td>0</td>\n",
       "      <td>0</td>\n",
       "    </tr>\n",
       "    <tr>\n",
       "      <th>3</th>\n",
       "      <td>4</td>\n",
       "      <td>Leticia Bufoni</td>\n",
       "      <td>27</td>\n",
       "      <td>BRA</td>\n",
       "      <td>64000</td>\n",
       "      <td>4</td>\n",
       "      <td>4</td>\n",
       "      <td>0</td>\n",
       "      <td>0</td>\n",
       "      <td>0</td>\n",
       "      <td>0</td>\n",
       "      <td>0</td>\n",
       "    </tr>\n",
       "    <tr>\n",
       "      <th>4</th>\n",
       "      <td>5</td>\n",
       "      <td>Candy Jacobs</td>\n",
       "      <td>30</td>\n",
       "      <td>NED</td>\n",
       "      <td>56240</td>\n",
       "      <td>5</td>\n",
       "      <td>3</td>\n",
       "      <td>2</td>\n",
       "      <td>0</td>\n",
       "      <td>0</td>\n",
       "      <td>0</td>\n",
       "      <td>0</td>\n",
       "    </tr>\n",
       "  </tbody>\n",
       "</table>\n",
       "</div>"
      ],
      "text/plain": [
       "   ID    NombreAtleta  Edad Nacionalidad  Puntos  Participaciones  WinTop10  \\\n",
       "0   1     Pamela Rosa    20          BRA  180000                5         5   \n",
       "1   2     Rayssa Leal    12          BRA  148000                6         6   \n",
       "2   3  Aori Nishimura    18          JPN   89600                6         6   \n",
       "3   4  Leticia Bufoni    27          BRA   64000                4         4   \n",
       "4   5    Candy Jacobs    30          NED   56240                5         3   \n",
       "\n",
       "   WinTop20  WinTop30  WinTop40  WinTop50  WinTop100  \n",
       "0         0         0         0         0          0  \n",
       "1         0         0         0         0          0  \n",
       "2         0         0         0         0          0  \n",
       "3         0         0         0         0          0  \n",
       "4         2         0         0         0          0  "
      ]
     },
     "execution_count": 56,
     "metadata": {},
     "output_type": "execute_result"
    }
   ],
   "source": [
    "data.drop(columnas, axis=1, inplace=True)\n",
    "data.drop(p_columnas, axis=1, inplace=True)\n",
    "data.head()\n",
    "\n"
   ]
  },
  {
   "cell_type": "markdown",
   "metadata": {},
   "source": [
    " # Visualizando el estado de las columnas"
   ]
  },
  {
   "cell_type": "code",
   "execution_count": 57,
   "metadata": {},
   "outputs": [
    {
     "data": {
      "text/plain": [
       "<matplotlib.axes._subplots.AxesSubplot at 0x28aeb3598c8>"
      ]
     },
     "execution_count": 57,
     "metadata": {},
     "output_type": "execute_result"
    },
    {
     "data": {
      "image/png": "[encoded data removed]",
      "text/plain": [
       "<Figure size 432x288 with 2 Axes>"
      ]
     },
     "metadata": {
      "needs_background": "light"
     },
     "output_type": "display_data"
    }
   ],
   "source": [
    "data_corr = data.corr()\n",
    "sns.heatmap(data_corr)\n",
    "\n"
   ]
  },
  {
   "cell_type": "code",
   "execution_count": 58,
   "metadata": {},
   "outputs": [
    {
     "data": {
      "text/html": [
       "<div>\n",
       "<style scoped>\n",
       "    .dataframe tbody tr th:only-of-type {\n",
       "        vertical-align: middle;\n",
       "    }\n",
       "\n",
       "    .dataframe tbody tr th {\n",
       "        vertical-align: top;\n",
       "    }\n",
       "\n",
       "    .dataframe thead th {\n",
       "        text-align: right;\n",
       "    }\n",
       "</style>\n",
       "<table border=\"1\" class=\"dataframe\">\n",
       "  <thead>\n",
       "    <tr style=\"text-align: right;\">\n",
       "      <th></th>\n",
       "      <th>ID</th>\n",
       "      <th>Edad</th>\n",
       "      <th>Puntos</th>\n",
       "      <th>Participaciones</th>\n",
       "      <th>WinTop10</th>\n",
       "      <th>WinTop20</th>\n",
       "      <th>WinTop30</th>\n",
       "      <th>WinTop40</th>\n",
       "      <th>WinTop50</th>\n",
       "      <th>WinTop100</th>\n",
       "    </tr>\n",
       "  </thead>\n",
       "  <tbody>\n",
       "    <tr>\n",
       "      <th>ID</th>\n",
       "      <td>1.000000</td>\n",
       "      <td>0.183416</td>\n",
       "      <td>-0.683460</td>\n",
       "      <td>-0.564340</td>\n",
       "      <td>-0.846428</td>\n",
       "      <td>-0.280146</td>\n",
       "      <td>0.146156</td>\n",
       "      <td>0.193041</td>\n",
       "      <td>0.310084</td>\n",
       "      <td>0.209490</td>\n",
       "    </tr>\n",
       "    <tr>\n",
       "      <th>Edad</th>\n",
       "      <td>0.183416</td>\n",
       "      <td>1.000000</td>\n",
       "      <td>-0.138750</td>\n",
       "      <td>-0.197903</td>\n",
       "      <td>-0.211357</td>\n",
       "      <td>-0.348914</td>\n",
       "      <td>0.102994</td>\n",
       "      <td>0.150679</td>\n",
       "      <td>0.234831</td>\n",
       "      <td>0.064174</td>\n",
       "    </tr>\n",
       "    <tr>\n",
       "      <th>Puntos</th>\n",
       "      <td>-0.683460</td>\n",
       "      <td>-0.138750</td>\n",
       "      <td>1.000000</td>\n",
       "      <td>0.220554</td>\n",
       "      <td>0.806632</td>\n",
       "      <td>-0.092058</td>\n",
       "      <td>-0.249060</td>\n",
       "      <td>-0.276221</td>\n",
       "      <td>-0.248716</td>\n",
       "      <td>-0.136776</td>\n",
       "    </tr>\n",
       "    <tr>\n",
       "      <th>Participaciones</th>\n",
       "      <td>-0.564340</td>\n",
       "      <td>-0.197903</td>\n",
       "      <td>0.220554</td>\n",
       "      <td>1.000000</td>\n",
       "      <td>0.397202</td>\n",
       "      <td>0.518868</td>\n",
       "      <td>0.246162</td>\n",
       "      <td>0.259053</td>\n",
       "      <td>0.159876</td>\n",
       "      <td>0.180697</td>\n",
       "    </tr>\n",
       "    <tr>\n",
       "      <th>WinTop10</th>\n",
       "      <td>-0.846428</td>\n",
       "      <td>-0.211357</td>\n",
       "      <td>0.806632</td>\n",
       "      <td>0.397202</td>\n",
       "      <td>1.000000</td>\n",
       "      <td>0.020365</td>\n",
       "      <td>-0.237105</td>\n",
       "      <td>-0.340974</td>\n",
       "      <td>-0.318913</td>\n",
       "      <td>-0.172041</td>\n",
       "    </tr>\n",
       "    <tr>\n",
       "      <th>WinTop20</th>\n",
       "      <td>-0.280146</td>\n",
       "      <td>-0.348914</td>\n",
       "      <td>-0.092058</td>\n",
       "      <td>0.518868</td>\n",
       "      <td>0.020365</td>\n",
       "      <td>1.000000</td>\n",
       "      <td>-0.033041</td>\n",
       "      <td>-0.165966</td>\n",
       "      <td>-0.185897</td>\n",
       "      <td>-0.128388</td>\n",
       "    </tr>\n",
       "    <tr>\n",
       "      <th>WinTop30</th>\n",
       "      <td>0.146156</td>\n",
       "      <td>0.102994</td>\n",
       "      <td>-0.249060</td>\n",
       "      <td>0.246162</td>\n",
       "      <td>-0.237105</td>\n",
       "      <td>-0.033041</td>\n",
       "      <td>1.000000</td>\n",
       "      <td>0.013358</td>\n",
       "      <td>-0.104662</td>\n",
       "      <td>-0.041572</td>\n",
       "    </tr>\n",
       "    <tr>\n",
       "      <th>WinTop40</th>\n",
       "      <td>0.193041</td>\n",
       "      <td>0.150679</td>\n",
       "      <td>-0.276221</td>\n",
       "      <td>0.259053</td>\n",
       "      <td>-0.340974</td>\n",
       "      <td>-0.165966</td>\n",
       "      <td>0.013358</td>\n",
       "      <td>1.000000</td>\n",
       "      <td>0.386520</td>\n",
       "      <td>0.161089</td>\n",
       "    </tr>\n",
       "    <tr>\n",
       "      <th>WinTop50</th>\n",
       "      <td>0.310084</td>\n",
       "      <td>0.234831</td>\n",
       "      <td>-0.248716</td>\n",
       "      <td>0.159876</td>\n",
       "      <td>-0.318913</td>\n",
       "      <td>-0.185897</td>\n",
       "      <td>-0.104662</td>\n",
       "      <td>0.386520</td>\n",
       "      <td>1.000000</td>\n",
       "      <td>0.515526</td>\n",
       "    </tr>\n",
       "    <tr>\n",
       "      <th>WinTop100</th>\n",
       "      <td>0.209490</td>\n",
       "      <td>0.064174</td>\n",
       "      <td>-0.136776</td>\n",
       "      <td>0.180697</td>\n",
       "      <td>-0.172041</td>\n",
       "      <td>-0.128388</td>\n",
       "      <td>-0.041572</td>\n",
       "      <td>0.161089</td>\n",
       "      <td>0.515526</td>\n",
       "      <td>1.000000</td>\n",
       "    </tr>\n",
       "  </tbody>\n",
       "</table>\n",
       "</div>"
      ],
      "text/plain": [
       "                       ID      Edad    Puntos  Participaciones  WinTop10  \\\n",
       "ID               1.000000  0.183416 -0.683460        -0.564340 -0.846428   \n",
       "Edad             0.183416  1.000000 -0.138750        -0.197903 -0.211357   \n",
       "Puntos          -0.683460 -0.138750  1.000000         0.220554  0.806632   \n",
       "Participaciones -0.564340 -0.197903  0.220554         1.000000  0.397202   \n",
       "WinTop10        -0.846428 -0.211357  0.806632         0.397202  1.000000   \n",
       "WinTop20        -0.280146 -0.348914 -0.092058         0.518868  0.020365   \n",
       "WinTop30         0.146156  0.102994 -0.249060         0.246162 -0.237105   \n",
       "WinTop40         0.193041  0.150679 -0.276221         0.259053 -0.340974   \n",
       "WinTop50         0.310084  0.234831 -0.248716         0.159876 -0.318913   \n",
       "WinTop100        0.209490  0.064174 -0.136776         0.180697 -0.172041   \n",
       "\n",
       "                 WinTop20  WinTop30  WinTop40  WinTop50  WinTop100  \n",
       "ID              -0.280146  0.146156  0.193041  0.310084   0.209490  \n",
       "Edad            -0.348914  0.102994  0.150679  0.234831   0.064174  \n",
       "Puntos          -0.092058 -0.249060 -0.276221 -0.248716  -0.136776  \n",
       "Participaciones  0.518868  0.246162  0.259053  0.159876   0.180697  \n",
       "WinTop10         0.020365 -0.237105 -0.340974 -0.318913  -0.172041  \n",
       "WinTop20         1.000000 -0.033041 -0.165966 -0.185897  -0.128388  \n",
       "WinTop30        -0.033041  1.000000  0.013358 -0.104662  -0.041572  \n",
       "WinTop40        -0.165966  0.013358  1.000000  0.386520   0.161089  \n",
       "WinTop50        -0.185897 -0.104662  0.386520  1.000000   0.515526  \n",
       "WinTop100       -0.128388 -0.041572  0.161089  0.515526   1.000000  "
      ]
     },
     "execution_count": 58,
     "metadata": {},
     "output_type": "execute_result"
    }
   ],
   "source": [
    "data_corr\n",
    "\n"
   ]
  },
  {
   "cell_type": "markdown",
   "metadata": {},
   "source": [
    " # Visualizando relación de puntajes y participaciones"
   ]
  },
  {
   "cell_type": "code",
   "execution_count": 59,
   "metadata": {},
   "outputs": [
    {
     "data": {
      "image/png": "[encoded data removed]",
      "text/plain": [
       "<Figure size 432x288 with 1 Axes>"
      ]
     },
     "metadata": {
      "needs_background": "light"
     },
     "output_type": "display_data"
    },
    {
     "data": {
      "image/png": "[encoded data removed]",
      "text/plain": [
       "<Figure size 417.984x360 with 1 Axes>"
      ]
     },
     "metadata": {
      "needs_background": "light"
     },
     "output_type": "display_data"
    }
   ],
   "source": [
    "plt.title('Distribución de puntos vs participaciones')\n",
    "sns.lmplot(x='Puntos', y='Participaciones', hue='WinTop10', data=data)\n",
    "plt.show()\n",
    "\n"
   ]
  },
  {
   "cell_type": "markdown",
   "metadata": {},
   "source": [
    " # Obteniendo los datos de la atleta a buscar"
   ]
  },
  {
   "cell_type": "code",
   "execution_count": 60,
   "metadata": {},
   "outputs": [
    {
     "data": {
      "text/html": [
       "<div>\n",
       "<style scoped>\n",
       "    .dataframe tbody tr th:only-of-type {\n",
       "        vertical-align: middle;\n",
       "    }\n",
       "\n",
       "    .dataframe tbody tr th {\n",
       "        vertical-align: top;\n",
       "    }\n",
       "\n",
       "    .dataframe thead th {\n",
       "        text-align: right;\n",
       "    }\n",
       "</style>\n",
       "<table border=\"1\" class=\"dataframe\">\n",
       "  <thead>\n",
       "    <tr style=\"text-align: right;\">\n",
       "      <th></th>\n",
       "      <th>ID</th>\n",
       "      <th>NombreAtleta</th>\n",
       "      <th>Edad</th>\n",
       "      <th>Nacionalidad</th>\n",
       "      <th>Puntos</th>\n",
       "      <th>Participaciones</th>\n",
       "      <th>WinTop10</th>\n",
       "      <th>WinTop20</th>\n",
       "      <th>WinTop30</th>\n",
       "      <th>WinTop40</th>\n",
       "      <th>WinTop50</th>\n",
       "      <th>WinTop100</th>\n",
       "    </tr>\n",
       "  </thead>\n",
       "  <tbody>\n",
       "    <tr>\n",
       "      <th>31</th>\n",
       "      <td>32</td>\n",
       "      <td>Maria Jose Rojas</td>\n",
       "      <td>24</td>\n",
       "      <td>CHI</td>\n",
       "      <td>4525</td>\n",
       "      <td>7</td>\n",
       "      <td>1</td>\n",
       "      <td>1</td>\n",
       "      <td>0</td>\n",
       "      <td>1</td>\n",
       "      <td>2</td>\n",
       "      <td>2</td>\n",
       "    </tr>\n",
       "  </tbody>\n",
       "</table>\n",
       "</div>"
      ],
      "text/plain": [
       "    ID      NombreAtleta  Edad Nacionalidad  Puntos  Participaciones  \\\n",
       "31  32  Maria Jose Rojas    24          CHI    4525                7   \n",
       "\n",
       "    WinTop10  WinTop20  WinTop30  WinTop40  WinTop50  WinTop100  \n",
       "31         1         1         0         1         2          2  "
      ]
     },
     "execution_count": 60,
     "metadata": {},
     "output_type": "execute_result"
    }
   ],
   "source": [
    "nombre = data.loc[:, 'NombreAtleta'].str.contains('Maria Jose Rojas')\n",
    "maria = data.loc[nombre]\n",
    "maria\n",
    "\n"
   ]
  },
  {
   "cell_type": "markdown",
   "metadata": {},
   "source": [
    " hemos preparado el dataframe para usarlo en el modelo\n",
    " K-Means, ahora se debe seguir los pasos pertinentes para\n",
    " que los datos sean procesados correctamente por el modelo."
   ]
  },
  {
   "cell_type": "markdown",
   "metadata": {},
   "source": [
    " # Preparando el modelo"
   ]
  },
  {
   "cell_type": "code",
   "execution_count": 61,
   "metadata": {},
   "outputs": [],
   "source": [
    "from sklearn.cluster import KMeans\n",
    "from sklearn.metrics.cluster import adjusted_rand_score\n",
    "from sklearn import preprocessing\n",
    "\n"
   ]
  },
  {
   "cell_type": "markdown",
   "metadata": {},
   "source": [
    " obteniendo los datos para el modelo"
   ]
  },
  {
   "cell_type": "code",
   "execution_count": 62,
   "metadata": {},
   "outputs": [
    {
     "name": "stdout",
     "output_type": "stream",
     "text": [
      "[[    20 180000      5]\n",
      " [    12 148000      6]\n",
      " [    18  89600      6]\n",
      " [    27  64000      4]\n",
      " [    30  56240      5]\n",
      " [    18  47500      5]\n",
      " [    23  46670      6]\n",
      " [    22  42720      7]\n",
      " [    33  35730      5]\n",
      " [    13  35130      7]\n",
      " [    13  26560      6]\n",
      " [    19  25580      6]\n",
      " [    19  23530      4]\n",
      " [    21  22420      6]\n",
      " [    14  17100      7]\n",
      " [    15  15030      7]\n",
      " [    11  14480      5]\n",
      " [    12  14180      7]\n",
      " [    15  13910      7]\n",
      " [    15  12414      7]\n",
      " [    18   7667      3]\n",
      " [    28   7207      5]\n",
      " [    19   6710      6]\n",
      " [    26   6630      4]\n",
      " [    21   6488      5]\n",
      " [    25   5630      6]\n",
      " [    18   4796      6]\n",
      " [    27   4740      5]\n",
      " [    22   4574      7]\n",
      " [    18   4569      3]\n",
      " [    25   4535      6]\n",
      " [    24   4525      7]\n",
      " [    27   4524      7]\n",
      " [    17   4467      3]\n",
      " [    18   4250      6]\n",
      " [    29   3956      7]\n",
      " [    24   3800      2]\n",
      " [    29   3734      2]\n",
      " [    24   3560      4]\n",
      " [    31   3330      1]\n",
      " [    20   3330      1]\n",
      " [    14   3330      1]\n",
      " [    17   3330      1]\n",
      " [    28   3330      1]\n",
      " [    17   3270      3]\n",
      " [    31   3203      4]\n",
      " [    21   3130      4]\n",
      " [    14   3100      4]\n",
      " [    24   2990      3]\n",
      " [    18   2924      3]]\n"
     ]
    }
   ],
   "source": [
    "x = data.iloc[:, [2, 4, 5]].values\n",
    "print(x)\n",
    "\n"
   ]
  },
  {
   "cell_type": "markdown",
   "metadata": {},
   "source": [
    " Buscando el número óptimos de grupos"
   ]
  },
  {
   "cell_type": "code",
   "execution_count": 63,
   "metadata": {},
   "outputs": [
    {
     "data": {
      "image/png": "[encoded data removed]",
      "text/plain": [
       "<Figure size 432x288 with 1 Axes>"
      ]
     },
     "metadata": {
      "needs_background": "light"
     },
     "output_type": "display_data"
    }
   ],
   "source": [
    "wcss = []\n",
    "for i in range(1, 11):\n",
    "    kmeans = KMeans(n_clusters = i, init = 'k-means++', max_iter = 300, n_init = 10, random_state = 0)\n",
    "    kmeans.fit(x)\n",
    "    wcss.append(kmeans.inertia_)\n",
    "#Plotting the results onto a line graph, allowing us to observe 'The elbow'\n",
    "plt.plot(range(1, 11), wcss)\n",
    "plt.title('Buscando número óptimo de clusters')\n",
    "plt.xlabel('Número de clusters')\n",
    "plt.ylabel('WCSS')\n",
    "plt.show()\n",
    "\n"
   ]
  },
  {
   "cell_type": "code",
   "execution_count": 64,
   "metadata": {},
   "outputs": [],
   "source": [
    "kmeans = KMeans(n_clusters = 10, init = 'k-means++', max_iter = 300, n_init = 10, random_state = 0)\n",
    "y_kmeans = kmeans.fit_predict(x)\n",
    "\n"
   ]
  },
  {
   "cell_type": "code",
   "execution_count": 65,
   "metadata": {},
   "outputs": [
    {
     "data": {
      "text/plain": [
       "<matplotlib.legend.Legend at 0x28aec0763c8>"
      ]
     },
     "execution_count": 65,
     "metadata": {},
     "output_type": "execute_result"
    },
    {
     "data": {
      "image/png": "[encoded data removed]",
      "text/plain": [
       "<Figure size 432x288 with 1 Axes>"
      ]
     },
     "metadata": {
      "needs_background": "light"
     },
     "output_type": "display_data"
    }
   ],
   "source": [
    "plt.scatter(x[y_kmeans == 0, 0], x[y_kmeans == 0, 1], s = 100, c = 'm', label = 'Edad')\n",
    "plt.scatter(x[y_kmeans == 1, 0], x[y_kmeans == 1, 1], s = 100, c = 'c', label = 'puntos')\n",
    "plt.scatter(x[y_kmeans == 2, 0], x[y_kmeans == 2, 1], s = 100, c = 'green', label = 'Participaciones')\n",
    "plt.scatter(kmeans.cluster_centers_[:, 0], kmeans.cluster_centers_[:,1], s = 100, c = 'k', label = 'Centroides')\n",
    "plt.legend()\n"
   ]
  },
  {
   "cell_type": "code",
   "execution_count": 66,
   "metadata": {},
   "outputs": [
    {
     "name": "stdout",
     "output_type": "stream",
     "text": [
      "    ID  Edad  Puntos  Participaciones\n",
      "8    9    33   35730                5\n",
      "49  50    18    2924                3\n",
      "4    5    30   56240                5\n",
      "5    6    18   47500                5\n",
      "35  36    29    3956                7\n"
     ]
    }
   ],
   "source": [
    "# dejando como caracteristicas la edad y las participaciones\n",
    "X = data.iloc[:, [0, 2, 4, 5]]\n",
    "print(X.sample(5))\n",
    "\n"
   ]
  },
  {
   "cell_type": "code",
   "execution_count": 67,
   "metadata": {},
   "outputs": [
    {
     "name": "stdout",
     "output_type": "stream",
     "text": [
      "        NombreAtleta\n",
      "1        Rayssa Leal\n",
      "17    Momiji Nishiya\n",
      "25    Andrea Benitez\n",
      "37       Helena Long\n",
      "23  Samarria Brevard\n"
     ]
    }
   ],
   "source": [
    "# Seleccionando el puntaje como label\n",
    "y = data.iloc[:, [1]]\n",
    "print(y.sample(5))\n",
    "\n"
   ]
  },
  {
   "cell_type": "markdown",
   "metadata": {},
   "source": [
    " Preparando el modelo finalmente"
   ]
  },
  {
   "cell_type": "code",
   "execution_count": 68,
   "metadata": {},
   "outputs": [
    {
     "data": {
      "text/html": [
       "<div>\n",
       "<style scoped>\n",
       "    .dataframe tbody tr th:only-of-type {\n",
       "        vertical-align: middle;\n",
       "    }\n",
       "\n",
       "    .dataframe tbody tr th {\n",
       "        vertical-align: top;\n",
       "    }\n",
       "\n",
       "    .dataframe thead th {\n",
       "        text-align: right;\n",
       "    }\n",
       "</style>\n",
       "<table border=\"1\" class=\"dataframe\">\n",
       "  <thead>\n",
       "    <tr style=\"text-align: right;\">\n",
       "      <th></th>\n",
       "      <th>ID</th>\n",
       "      <th>Edad</th>\n",
       "      <th>Puntos</th>\n",
       "      <th>Participaciones</th>\n",
       "    </tr>\n",
       "  </thead>\n",
       "  <tbody>\n",
       "    <tr>\n",
       "      <th>2</th>\n",
       "      <td>-1.559158</td>\n",
       "      <td>-0.504831</td>\n",
       "      <td>1.971343</td>\n",
       "      <td>0.651514</td>\n",
       "    </tr>\n",
       "    <tr>\n",
       "      <th>29</th>\n",
       "      <td>0.311832</td>\n",
       "      <td>-0.504831</td>\n",
       "      <td>-0.481056</td>\n",
       "      <td>-0.924729</td>\n",
       "    </tr>\n",
       "    <tr>\n",
       "      <th>23</th>\n",
       "      <td>-0.103944</td>\n",
       "      <td>0.897478</td>\n",
       "      <td>-0.421615</td>\n",
       "      <td>-0.399315</td>\n",
       "    </tr>\n",
       "    <tr>\n",
       "      <th>3</th>\n",
       "      <td>-1.489862</td>\n",
       "      <td>1.072767</td>\n",
       "      <td>1.233008</td>\n",
       "      <td>-0.399315</td>\n",
       "    </tr>\n",
       "    <tr>\n",
       "      <th>26</th>\n",
       "      <td>0.103944</td>\n",
       "      <td>-0.504831</td>\n",
       "      <td>-0.474509</td>\n",
       "      <td>0.651514</td>\n",
       "    </tr>\n",
       "  </tbody>\n",
       "</table>\n",
       "</div>"
      ],
      "text/plain": [
       "          ID      Edad    Puntos  Participaciones\n",
       "2  -1.559158 -0.504831  1.971343         0.651514\n",
       "29  0.311832 -0.504831 -0.481056        -0.924729\n",
       "23 -0.103944  0.897478 -0.421615        -0.399315\n",
       "3  -1.489862  1.072767  1.233008        -0.399315\n",
       "26  0.103944 -0.504831 -0.474509         0.651514"
      ]
     },
     "execution_count": 68,
     "metadata": {},
     "output_type": "execute_result"
    }
   ],
   "source": [
    "scaler = preprocessing.StandardScaler()\n",
    "scaler.fit(X)\n",
    "X_scaled_array = scaler.transform(X)\n",
    "X_scaled = pd.DataFrame(X_scaled_array, columns = X.columns)\n",
    "X_scaled.sample(5)\n",
    "\n"
   ]
  },
  {
   "cell_type": "markdown",
   "metadata": {},
   "source": [
    " # Proyectando la participación"
   ]
  },
  {
   "cell_type": "code",
   "execution_count": 69,
   "metadata": {},
   "outputs": [
    {
     "name": "stdout",
     "output_type": "stream",
     "text": [
      "['Maria Jose Rojas'] no tiene opciones para asistir a los juegos olímpicos de Tokio 2020, sus caracteristicas no lo permiten\n",
      "Caracteristicas actuales:\n"
     ]
    },
    {
     "data": {
      "text/html": [
       "<div>\n",
       "<style scoped>\n",
       "    .dataframe tbody tr th:only-of-type {\n",
       "        vertical-align: middle;\n",
       "    }\n",
       "\n",
       "    .dataframe tbody tr th {\n",
       "        vertical-align: top;\n",
       "    }\n",
       "\n",
       "    .dataframe thead th {\n",
       "        text-align: right;\n",
       "    }\n",
       "</style>\n",
       "<table border=\"1\" class=\"dataframe\">\n",
       "  <thead>\n",
       "    <tr style=\"text-align: right;\">\n",
       "      <th></th>\n",
       "      <th>ID</th>\n",
       "      <th>NombreAtleta</th>\n",
       "      <th>Edad</th>\n",
       "      <th>Nacionalidad</th>\n",
       "      <th>Puntos</th>\n",
       "      <th>Participaciones</th>\n",
       "      <th>WinTop10</th>\n",
       "      <th>WinTop20</th>\n",
       "      <th>WinTop30</th>\n",
       "      <th>WinTop40</th>\n",
       "      <th>WinTop50</th>\n",
       "      <th>WinTop100</th>\n",
       "    </tr>\n",
       "  </thead>\n",
       "  <tbody>\n",
       "    <tr>\n",
       "      <th>31</th>\n",
       "      <td>32</td>\n",
       "      <td>Maria Jose Rojas</td>\n",
       "      <td>24</td>\n",
       "      <td>CHI</td>\n",
       "      <td>4525</td>\n",
       "      <td>7</td>\n",
       "      <td>1</td>\n",
       "      <td>1</td>\n",
       "      <td>0</td>\n",
       "      <td>1</td>\n",
       "      <td>2</td>\n",
       "      <td>2</td>\n",
       "    </tr>\n",
       "  </tbody>\n",
       "</table>\n",
       "</div>"
      ],
      "text/plain": [
       "    ID      NombreAtleta  Edad Nacionalidad  Puntos  Participaciones  \\\n",
       "31  32  Maria Jose Rojas    24          CHI    4525                7   \n",
       "\n",
       "    WinTop10  WinTop20  WinTop30  WinTop40  WinTop50  WinTop100  \n",
       "31         1         1         0         1         2          2  "
      ]
     },
     "execution_count": 69,
     "metadata": {},
     "output_type": "execute_result"
    }
   ],
   "source": [
    "m = maria[['Edad', 'Puntos', 'Participaciones']]\n",
    "y_pred = kmeans.predict(m)\n",
    "nombre = maria['NombreAtleta'].values\n",
    "probabilidad = 'no tiene' if y_pred[0] == 0 else 'aún posee'\n",
    "sino = 'no' if y_pred[0] == 0 else ''\n",
    "print('{0} {1} opciones para asistir a los juegos olímpicos de Tokio 2020, sus caracteristicas {2} lo permiten'.format(nombre, probabilidad, sino))\n",
    "print('Caracteristicas actuales:')\n",
    "maria\n",
    "\n"
   ]
  },
  {
   "cell_type": "markdown",
   "metadata": {},
   "source": [
    " # Conclusión\n",
    " En este ejercicio se ha utilizado el modelo no supervisado de\n",
    " KMeans, el dataframe ha sido preparado para este tipo\n",
    " de modelo, generando variables que permitan a este\n",
    " poder predecir de mejor manera según los datos de una\n",
    " competidora en especial (**Maria Jose Rojas**)\n",
    " la cual será evaluada por el modelo según las\n",
    " características que posea."
   ]
  },
  {
   "cell_type": "markdown",
   "metadata": {},
   "source": [
    " # Configuración utilizada para esta evaluación.\n",
    " CPython 3.7.6<br>\n",
    " IPython 7.13.0<br>\n",
    " compiler   : MSC v.1916 64 bit (AMD64)<br>\n",
    " system     : Windows<br>\n",
    " release    : 10<br>\n",
    " machine    : AMD64<br>\n",
    " processor  : Intel64 Family 6 Model 158 Stepping 10, GenuineIntel<br>\n",
    " CPU cores  : 12<br>\n",
    " interpreter: 64bit<br>"
   ]
  }
 ],
 "metadata": {
  "kernelspec": {
   "display_name": "Python 3",
   "language": "python",
   "name": "python3"
  },
  "language_info": {
   "codemirror_mode": {
    "name": "ipython",
    "version": 3
   },
   "file_extension": ".py",
   "mimetype": "text/x-python",
   "name": "python",
   "nbconvert_exporter": "python",
   "pygments_lexer": "ipython3",
   "version": "3.7.6"
  }
 },
 "nbformat": 4,
 "nbformat_minor": 2
}
