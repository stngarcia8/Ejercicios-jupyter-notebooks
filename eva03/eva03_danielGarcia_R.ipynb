{
 "cells": [
  {
   "cell_type": "code",
   "execution_count": 501,
   "metadata": {},
   "outputs": [],
   "source": [
    "# # Evaluacion actividad Iris en R\n",
    "# Alumno: Daniel Garcia Loyola\n",
    "# Profesor: Israel Naranjo Retamal\n",
    "# Ramo: Mineria de datos (MDY7101)\n",
    "# Sección: 002D"
   ]
  },
  {
   "cell_type": "code",
   "execution_count": 502,
   "metadata": {},
   "outputs": [
    {
     "data": {
      "text/plain": [
       "8160 bytes"
      ]
     },
     "metadata": {},
     "output_type": "display_data"
    }
   ],
   "source": [
    "# Cargando dataset de iris\n",
    "data = read.csv('D:/r/iris.csv')\n",
    "object.size(data)"
   ]
  },
  {
   "cell_type": "code",
   "execution_count": null,
   "metadata": {},
   "outputs": [],
   "source": []
  },
  {
   "cell_type": "code",
   "execution_count": 503,
   "metadata": {
    "scrolled": true
   },
   "outputs": [
    {
     "data": {
      "text/html": [
       "<style>\n",
       ".list-inline {list-style: none; margin:0; padding: 0}\n",
       ".list-inline>li {display: inline-block}\n",
       ".list-inline>li:not(:last-child)::after {content: \"\\00b7\"; padding: 0 .5ex}\n",
       "</style>\n",
       "<ol class=list-inline><li>'ID'</li><li>'Largo_Sepal'</li><li>'Ancho_Sepal'</li><li>'Largo_Petalo'</li><li>'Ancho_Petalo'</li><li>'Especies'</li></ol>\n"
      ],
      "text/latex": [
       "\\begin{enumerate*}\n",
       "\\item 'ID'\n",
       "\\item 'Largo\\_Sepal'\n",
       "\\item 'Ancho\\_Sepal'\n",
       "\\item 'Largo\\_Petalo'\n",
       "\\item 'Ancho\\_Petalo'\n",
       "\\item 'Especies'\n",
       "\\end{enumerate*}\n"
      ],
      "text/markdown": [
       "1. 'ID'\n",
       "2. 'Largo_Sepal'\n",
       "3. 'Ancho_Sepal'\n",
       "4. 'Largo_Petalo'\n",
       "5. 'Ancho_Petalo'\n",
       "6. 'Especies'\n",
       "\n",
       "\n"
      ],
      "text/plain": [
       "[1] \"ID\"           \"Largo_Sepal\"  \"Ancho_Sepal\"  \"Largo_Petalo\" \"Ancho_Petalo\"\n",
       "[6] \"Especies\"    "
      ]
     },
     "metadata": {},
     "output_type": "display_data"
    }
   ],
   "source": [
    "# Cambiando nombres de columnas y visualizando resultados\n",
    "names(data) = c('ID', 'Largo_Sepal', 'Ancho_Sepal',\n",
    "  'Largo_Petalo', 'Ancho_Petalo', 'Especies')\n",
    "names(data)"
   ]
  },
  {
   "cell_type": "code",
   "execution_count": 504,
   "metadata": {},
   "outputs": [
    {
     "data": {
      "text/html": [
       "<table>\n",
       "<caption>A data.frame: 5 × 6</caption>\n",
       "<thead>\n",
       "\t<tr><th></th><th scope=col>ID</th><th scope=col>Largo_Sepal</th><th scope=col>Ancho_Sepal</th><th scope=col>Largo_Petalo</th><th scope=col>Ancho_Petalo</th><th scope=col>Especies</th></tr>\n",
       "\t<tr><th></th><th scope=col>&lt;int&gt;</th><th scope=col>&lt;dbl&gt;</th><th scope=col>&lt;dbl&gt;</th><th scope=col>&lt;dbl&gt;</th><th scope=col>&lt;dbl&gt;</th><th scope=col>&lt;chr&gt;</th></tr>\n",
       "</thead>\n",
       "<tbody>\n",
       "\t<tr><th scope=row>1</th><td>1</td><td>5.1</td><td>3.5</td><td>1.4</td><td>0.2</td><td>I. setosa</td></tr>\n",
       "\t<tr><th scope=row>2</th><td>2</td><td>4.9</td><td>3.0</td><td>1.4</td><td>0.2</td><td>I. setosa</td></tr>\n",
       "\t<tr><th scope=row>3</th><td>3</td><td>4.7</td><td>3.2</td><td>1.3</td><td>0.2</td><td>I. setosa</td></tr>\n",
       "\t<tr><th scope=row>4</th><td>4</td><td>4.6</td><td>3.1</td><td>1.5</td><td>0.2</td><td>I. setosa</td></tr>\n",
       "\t<tr><th scope=row>5</th><td>5</td><td>5.0</td><td>3.6</td><td>1.4</td><td>0.2</td><td>I. setosa</td></tr>\n",
       "</tbody>\n",
       "</table>\n"
      ],
      "text/latex": [
       "A data.frame: 5 × 6\n",
       "\\begin{tabular}{r|llllll}\n",
       "  & ID & Largo\\_Sepal & Ancho\\_Sepal & Largo\\_Petalo & Ancho\\_Petalo & Especies\\\\\n",
       "  & <int> & <dbl> & <dbl> & <dbl> & <dbl> & <chr>\\\\\n",
       "\\hline\n",
       "\t1 & 1 & 5.1 & 3.5 & 1.4 & 0.2 & I. setosa\\\\\n",
       "\t2 & 2 & 4.9 & 3.0 & 1.4 & 0.2 & I. setosa\\\\\n",
       "\t3 & 3 & 4.7 & 3.2 & 1.3 & 0.2 & I. setosa\\\\\n",
       "\t4 & 4 & 4.6 & 3.1 & 1.5 & 0.2 & I. setosa\\\\\n",
       "\t5 & 5 & 5.0 & 3.6 & 1.4 & 0.2 & I. setosa\\\\\n",
       "\\end{tabular}\n"
      ],
      "text/markdown": [
       "\n",
       "A data.frame: 5 × 6\n",
       "\n",
       "| <!--/--> | ID &lt;int&gt; | Largo_Sepal &lt;dbl&gt; | Ancho_Sepal &lt;dbl&gt; | Largo_Petalo &lt;dbl&gt; | Ancho_Petalo &lt;dbl&gt; | Especies &lt;chr&gt; |\n",
       "|---|---|---|---|---|---|---|\n",
       "| 1 | 1 | 5.1 | 3.5 | 1.4 | 0.2 | I. setosa |\n",
       "| 2 | 2 | 4.9 | 3.0 | 1.4 | 0.2 | I. setosa |\n",
       "| 3 | 3 | 4.7 | 3.2 | 1.3 | 0.2 | I. setosa |\n",
       "| 4 | 4 | 4.6 | 3.1 | 1.5 | 0.2 | I. setosa |\n",
       "| 5 | 5 | 5.0 | 3.6 | 1.4 | 0.2 | I. setosa |\n",
       "\n"
      ],
      "text/plain": [
       "  ID Largo_Sepal Ancho_Sepal Largo_Petalo Ancho_Petalo Especies \n",
       "1 1  5.1         3.5         1.4          0.2          I. setosa\n",
       "2 2  4.9         3.0         1.4          0.2          I. setosa\n",
       "3 3  4.7         3.2         1.3          0.2          I. setosa\n",
       "4 4  4.6         3.1         1.5          0.2          I. setosa\n",
       "5 5  5.0         3.6         1.4          0.2          I. setosa"
      ]
     },
     "metadata": {},
     "output_type": "display_data"
    }
   ],
   "source": [
    "# Explorando datos\n",
    "head(data, 5)"
   ]
  },
  {
   "cell_type": "code",
   "execution_count": 505,
   "metadata": {},
   "outputs": [
    {
     "data": {
      "text/html": [
       "<table>\n",
       "<caption>A data.frame: 5 × 6</caption>\n",
       "<thead>\n",
       "\t<tr><th></th><th scope=col>ID</th><th scope=col>Largo_Sepal</th><th scope=col>Ancho_Sepal</th><th scope=col>Largo_Petalo</th><th scope=col>Ancho_Petalo</th><th scope=col>Especies</th></tr>\n",
       "\t<tr><th></th><th scope=col>&lt;int&gt;</th><th scope=col>&lt;dbl&gt;</th><th scope=col>&lt;dbl&gt;</th><th scope=col>&lt;dbl&gt;</th><th scope=col>&lt;dbl&gt;</th><th scope=col>&lt;chr&gt;</th></tr>\n",
       "</thead>\n",
       "<tbody>\n",
       "\t<tr><th scope=row>146</th><td>146</td><td>6.7</td><td>3.0</td><td>5.2</td><td>2.3</td><td>I. virginica</td></tr>\n",
       "\t<tr><th scope=row>147</th><td>147</td><td>6.3</td><td>2.5</td><td>5.0</td><td>1.9</td><td>I. virginica</td></tr>\n",
       "\t<tr><th scope=row>148</th><td>148</td><td>6.5</td><td>3.0</td><td>5.2</td><td>2.0</td><td>I. virginica</td></tr>\n",
       "\t<tr><th scope=row>149</th><td>149</td><td>6.2</td><td>3.4</td><td>5.4</td><td>2.3</td><td>I. virginica</td></tr>\n",
       "\t<tr><th scope=row>150</th><td>150</td><td>5.9</td><td>3.0</td><td>5.1</td><td>1.8</td><td>I. virginica</td></tr>\n",
       "</tbody>\n",
       "</table>\n"
      ],
      "text/latex": [
       "A data.frame: 5 × 6\n",
       "\\begin{tabular}{r|llllll}\n",
       "  & ID & Largo\\_Sepal & Ancho\\_Sepal & Largo\\_Petalo & Ancho\\_Petalo & Especies\\\\\n",
       "  & <int> & <dbl> & <dbl> & <dbl> & <dbl> & <chr>\\\\\n",
       "\\hline\n",
       "\t146 & 146 & 6.7 & 3.0 & 5.2 & 2.3 & I. virginica\\\\\n",
       "\t147 & 147 & 6.3 & 2.5 & 5.0 & 1.9 & I. virginica\\\\\n",
       "\t148 & 148 & 6.5 & 3.0 & 5.2 & 2.0 & I. virginica\\\\\n",
       "\t149 & 149 & 6.2 & 3.4 & 5.4 & 2.3 & I. virginica\\\\\n",
       "\t150 & 150 & 5.9 & 3.0 & 5.1 & 1.8 & I. virginica\\\\\n",
       "\\end{tabular}\n"
      ],
      "text/markdown": [
       "\n",
       "A data.frame: 5 × 6\n",
       "\n",
       "| <!--/--> | ID &lt;int&gt; | Largo_Sepal &lt;dbl&gt; | Ancho_Sepal &lt;dbl&gt; | Largo_Petalo &lt;dbl&gt; | Ancho_Petalo &lt;dbl&gt; | Especies &lt;chr&gt; |\n",
       "|---|---|---|---|---|---|---|\n",
       "| 146 | 146 | 6.7 | 3.0 | 5.2 | 2.3 | I. virginica |\n",
       "| 147 | 147 | 6.3 | 2.5 | 5.0 | 1.9 | I. virginica |\n",
       "| 148 | 148 | 6.5 | 3.0 | 5.2 | 2.0 | I. virginica |\n",
       "| 149 | 149 | 6.2 | 3.4 | 5.4 | 2.3 | I. virginica |\n",
       "| 150 | 150 | 5.9 | 3.0 | 5.1 | 1.8 | I. virginica |\n",
       "\n"
      ],
      "text/plain": [
       "    ID  Largo_Sepal Ancho_Sepal Largo_Petalo Ancho_Petalo Especies    \n",
       "146 146 6.7         3.0         5.2          2.3          I. virginica\n",
       "147 147 6.3         2.5         5.0          1.9          I. virginica\n",
       "148 148 6.5         3.0         5.2          2.0          I. virginica\n",
       "149 149 6.2         3.4         5.4          2.3          I. virginica\n",
       "150 150 5.9         3.0         5.1          1.8          I. virginica"
      ]
     },
     "metadata": {},
     "output_type": "display_data"
    }
   ],
   "source": [
    "tail(data, 5)"
   ]
  },
  {
   "cell_type": "code",
   "execution_count": 506,
   "metadata": {},
   "outputs": [
    {
     "name": "stdout",
     "output_type": "stream",
     "text": [
      "'data.frame':\t150 obs. of  6 variables:\n",
      " $ ID          : int  1 2 3 4 5 6 7 8 9 10 ...\n",
      " $ Largo_Sepal : num  5.1 4.9 4.7 4.6 5 5.4 4.6 5 4.4 4.9 ...\n",
      " $ Ancho_Sepal : num  3.5 3 3.2 3.1 3.6 3.9 3.4 3.4 2.9 3.1 ...\n",
      " $ Largo_Petalo: num  1.4 1.4 1.3 1.5 1.4 1.7 1.4 1.5 1.4 1.5 ...\n",
      " $ Ancho_Petalo: num  0.2 0.2 0.2 0.2 0.2 0.4 0.3 0.2 0.2 0.1 ...\n",
      " $ Especies    : chr  \"I. setosa\" \"I. setosa\" \"I. setosa\" \"I. setosa\" ...\n"
     ]
    }
   ],
   "source": [
    "# Verificando contenido del dataframe\n",
    "str(data)"
   ]
  },
  {
   "cell_type": "code",
   "execution_count": 507,
   "metadata": {},
   "outputs": [
    {
     "data": {
      "text/plain": [
       "       ID          Largo_Sepal     Ancho_Sepal     Largo_Petalo  \n",
       " Min.   :  1.00   Min.   :4.300   Min.   :2.000   Min.   :1.000  \n",
       " 1st Qu.: 38.25   1st Qu.:5.100   1st Qu.:2.800   1st Qu.:1.600  \n",
       " Median : 75.50   Median :5.800   Median :3.000   Median :4.350  \n",
       " Mean   : 75.50   Mean   :5.843   Mean   :3.057   Mean   :3.758  \n",
       " 3rd Qu.:112.75   3rd Qu.:6.400   3rd Qu.:3.300   3rd Qu.:5.100  \n",
       " Max.   :150.00   Max.   :7.900   Max.   :4.400   Max.   :6.900  \n",
       "  Ancho_Petalo     Especies        \n",
       " Min.   :0.100   Length:150        \n",
       " 1st Qu.:0.300   Class :character  \n",
       " Median :1.300   Mode  :character  \n",
       " Mean   :1.199                     \n",
       " 3rd Qu.:1.800                     \n",
       " Max.   :2.500                     "
      ]
     },
     "metadata": {},
     "output_type": "display_data"
    }
   ],
   "source": [
    "summary(data)"
   ]
  },
  {
   "cell_type": "code",
   "execution_count": 508,
   "metadata": {},
   "outputs": [
    {
     "data": {
      "text/html": [
       "<style>\n",
       ".dl-inline {width: auto; margin:0; padding: 0}\n",
       ".dl-inline>dt, .dl-inline>dd {float: none; width: auto; display: inline-block}\n",
       ".dl-inline>dt::after {content: \":\\0020\"; padding-right: .5ex}\n",
       ".dl-inline>dt:not(:first-of-type) {padding-left: .5ex}\n",
       "</style><dl class=dl-inline><dt>ID</dt><dd>0</dd><dt>Largo_Sepal</dt><dd>0</dd><dt>Ancho_Sepal</dt><dd>0</dd><dt>Largo_Petalo</dt><dd>0</dd><dt>Ancho_Petalo</dt><dd>0</dd><dt>Especies</dt><dd>0</dd></dl>\n"
      ],
      "text/latex": [
       "\\begin{description*}\n",
       "\\item[ID] 0\n",
       "\\item[Largo\\textbackslash{}\\_Sepal] 0\n",
       "\\item[Ancho\\textbackslash{}\\_Sepal] 0\n",
       "\\item[Largo\\textbackslash{}\\_Petalo] 0\n",
       "\\item[Ancho\\textbackslash{}\\_Petalo] 0\n",
       "\\item[Especies] 0\n",
       "\\end{description*}\n"
      ],
      "text/markdown": [
       "ID\n",
       ":   0Largo_Sepal\n",
       ":   0Ancho_Sepal\n",
       ":   0Largo_Petalo\n",
       ":   0Ancho_Petalo\n",
       ":   0Especies\n",
       ":   0\n",
       "\n"
      ],
      "text/plain": [
       "          ID  Largo_Sepal  Ancho_Sepal Largo_Petalo Ancho_Petalo     Especies \n",
       "           0            0            0            0            0            0 "
      ]
     },
     "metadata": {},
     "output_type": "display_data"
    }
   ],
   "source": [
    "#Contando valores nulos\n",
    "sapply(data, function(x) sum(is.na(x)))"
   ]
  },
  {
   "cell_type": "code",
   "execution_count": 509,
   "metadata": {},
   "outputs": [],
   "source": [
    "# Tratamiento de lementos nulos\n",
    "# Si hay nulos en los valores numericos de iris\n",
    "# le asignara el promedio para no generar problemas\n",
    "# en los modelos\n",
    "data$Largo_Petalo = ifelse(is.na(data$Largo_Petalo),\n",
    "  ave(data$Largo_Petalo, FUN = function(x) mean(x, na.rm = TRUE)),\n",
    "  data$Largo_Petalo)"
   ]
  },
  {
   "cell_type": "code",
   "execution_count": 510,
   "metadata": {},
   "outputs": [],
   "source": [
    "data$Largo_Sepal = ifelse(is.na(data$Largo_Sepal),\n",
    "  ave(data$Largo_Sepal, FUN = function(x) mean(x, na.rm = TRUE)),\n",
    "  data$Largo_Sepal)"
   ]
  },
  {
   "cell_type": "code",
   "execution_count": 511,
   "metadata": {},
   "outputs": [],
   "source": [
    "data$Ancho_Petalo = ifelse(is.na(data$Ancho_Petalo),\n",
    "  ave(data$Largo_Petalo, FUN = function(x) mean(x, na.rm = TRUE)),\n",
    "  data$Ancho_Petalo)"
   ]
  },
  {
   "cell_type": "code",
   "execution_count": 512,
   "metadata": {},
   "outputs": [],
   "source": [
    "data$Ancho_Sepal = ifelse(is.na(data$Ancho_Sepal),\n",
    "  ave(data$Ancho_Sepal, FUN = function(x) mean(x, na.rm = TRUE)),\n",
    "  data$Ancho_Sepal)"
   ]
  },
  {
   "cell_type": "code",
   "execution_count": 513,
   "metadata": {},
   "outputs": [
    {
     "data": {
      "image/png": "[encoded data removed]",
      "text/plain": [
       "plot without title"
      ]
     },
     "metadata": {
      "image/png": {
       "height": 420,
       "width": 420
      }
     },
     "output_type": "display_data"
    }
   ],
   "source": [
    "# Visualizando  las variables\n",
    "pairs(data[,1:4], main='Distribucion de las variables del dataframe Iris')"
   ]
  },
  {
   "cell_type": "code",
   "execution_count": 514,
   "metadata": {},
   "outputs": [
    {
     "data": {
      "image/png": "[encoded data removed]",
      "text/plain": [
       "plot without title"
      ]
     },
     "metadata": {
      "image/png": {
       "height": 420,
       "width": 420
      }
     },
     "output_type": "display_data"
    }
   ],
   "source": [
    "# Visualizando las especies en boxplot\n",
    "boxplot(data[2:5],las=2)"
   ]
  },
  {
   "cell_type": "code",
   "execution_count": 515,
   "metadata": {},
   "outputs": [
    {
     "data": {
      "image/png": "[encoded data removed]",
      "text/plain": [
       "Plot with title \"Tipos Iris\""
      ]
     },
     "metadata": {
      "image/png": {
       "height": 420,
       "width": 420
      }
     },
     "output_type": "display_data"
    }
   ],
   "source": [
    "# Visualizando grafico de distribucion y densidad de iris\n",
    "# install.packages('beanplot')\n",
    "library(beanplot)\n",
    "beanplot(data[2:5], main =\"Tipos Iris\", col=c('#ff8080','#0000FF','#0000FF','#FF00FF'), border='#000000')"
   ]
  },
  {
   "cell_type": "code",
   "execution_count": 516,
   "metadata": {},
   "outputs": [
    {
     "data": {
      "image/png": "[encoded data removed]",
      "text/plain": [
       "Plot with title \"Especies de iris\n",
       "según la anchura del petalo\""
      ]
     },
     "metadata": {
      "image/png": {
       "height": 420,
       "width": 420
      }
     },
     "output_type": "display_data"
    }
   ],
   "source": [
    "# Visualizando diferencias entre especies y anchos de sepalo y petalos\n",
    "par(mfrow=c(1,2))\n",
    "boxplot(data$Ancho_Sepal ~ data$Especies, col = \"gray\", main = \"Especies de iris\\nsegún la anchura del sépalo\")\n",
    "boxplot(data$Ancho_Petalo ~ data$Especies, col = \"gray\", main = \"Especies de iris\\nsegún la anchura del petalo\")"
   ]
  },
  {
   "cell_type": "code",
   "execution_count": 517,
   "metadata": {},
   "outputs": [
    {
     "data": {
      "text/html": [
       "<table>\n",
       "<caption>A matrix: 4 × 4 of type dbl</caption>\n",
       "<thead>\n",
       "\t<tr><th></th><th scope=col>Largo_Sepal</th><th scope=col>Ancho_Sepal</th><th scope=col>Largo_Petalo</th><th scope=col>Ancho_Petalo</th></tr>\n",
       "</thead>\n",
       "<tbody>\n",
       "\t<tr><th scope=row>Largo_Sepal</th><td> 1.000</td><td>-0.118</td><td> 0.872</td><td> 0.818</td></tr>\n",
       "\t<tr><th scope=row>Ancho_Sepal</th><td>-0.118</td><td> 1.000</td><td>-0.428</td><td>-0.366</td></tr>\n",
       "\t<tr><th scope=row>Largo_Petalo</th><td> 0.872</td><td>-0.428</td><td> 1.000</td><td> 0.963</td></tr>\n",
       "\t<tr><th scope=row>Ancho_Petalo</th><td> 0.818</td><td>-0.366</td><td> 0.963</td><td> 1.000</td></tr>\n",
       "</tbody>\n",
       "</table>\n"
      ],
      "text/latex": [
       "A matrix: 4 × 4 of type dbl\n",
       "\\begin{tabular}{r|llll}\n",
       "  & Largo\\_Sepal & Ancho\\_Sepal & Largo\\_Petalo & Ancho\\_Petalo\\\\\n",
       "\\hline\n",
       "\tLargo\\_Sepal &  1.000 & -0.118 &  0.872 &  0.818\\\\\n",
       "\tAncho\\_Sepal & -0.118 &  1.000 & -0.428 & -0.366\\\\\n",
       "\tLargo\\_Petalo &  0.872 & -0.428 &  1.000 &  0.963\\\\\n",
       "\tAncho\\_Petalo &  0.818 & -0.366 &  0.963 &  1.000\\\\\n",
       "\\end{tabular}\n"
      ],
      "text/markdown": [
       "\n",
       "A matrix: 4 × 4 of type dbl\n",
       "\n",
       "| <!--/--> | Largo_Sepal | Ancho_Sepal | Largo_Petalo | Ancho_Petalo |\n",
       "|---|---|---|---|---|\n",
       "| Largo_Sepal |  1.000 | -0.118 |  0.872 |  0.818 |\n",
       "| Ancho_Sepal | -0.118 |  1.000 | -0.428 | -0.366 |\n",
       "| Largo_Petalo |  0.872 | -0.428 |  1.000 |  0.963 |\n",
       "| Ancho_Petalo |  0.818 | -0.366 |  0.963 |  1.000 |\n",
       "\n"
      ],
      "text/plain": [
       "             Largo_Sepal Ancho_Sepal Largo_Petalo Ancho_Petalo\n",
       "Largo_Sepal   1.000      -0.118       0.872        0.818      \n",
       "Ancho_Sepal  -0.118       1.000      -0.428       -0.366      \n",
       "Largo_Petalo  0.872      -0.428       1.000        0.963      \n",
       "Ancho_Petalo  0.818      -0.366       0.963        1.000      "
      ]
     },
     "metadata": {},
     "output_type": "display_data"
    }
   ],
   "source": [
    "# Verificando correlacion de variables\n",
    "corr <- cor(data[,2:5])\n",
    "corr = round(corr,3)\n",
    "head(corr)"
   ]
  },
  {
   "cell_type": "code",
   "execution_count": 518,
   "metadata": {},
   "outputs": [
    {
     "data": {
      "image/png": "[encoded data removed]",
      "text/plain": [
       "plot without title"
      ]
     },
     "metadata": {
      "image/png": {
       "height": 420,
       "width": 420
      }
     },
     "output_type": "display_data"
    }
   ],
   "source": [
    "# Comparando variables con graficos de lineas paralelas\n",
    "# install.packages('')\n",
    "library(MASS)\n",
    "par(xpd=TRUE)\n",
    "parcoord(data[,2:5], col=c(1,2,3),var.label=TRUE, oma=c(4,4,6,12))\n",
    "legend(0.85,0.6, as.vector(unique(iris$Species)), fill=c(1,2,3))"
   ]
  },
  {
   "cell_type": "code",
   "execution_count": 519,
   "metadata": {},
   "outputs": [],
   "source": [
    "#=======================================\n",
    "# Preparando datos para el modelo"
   ]
  },
  {
   "cell_type": "code",
   "execution_count": 520,
   "metadata": {},
   "outputs": [
    {
     "name": "stdout",
     "output_type": "stream",
     "text": [
      " Factor w/ 3 levels \"I. setosa\",\"I. versicolor\",..: 1 1 1 1 1 1 1 1 1 1 ...\n"
     ]
    }
   ],
   "source": [
    "# Procesando nombre de especie como variable categorica\n",
    "data$Especies <- factor(data$Especies)\n",
    "str(data$Especies)"
   ]
  },
  {
   "cell_type": "code",
   "execution_count": 521,
   "metadata": {},
   "outputs": [],
   "source": [
    "# ***********************************\n",
    "# Modelo: Desicion tree\n",
    "# instalar packages:\n",
    "# install.packages('e1071')\n",
    "# install.packages('rpart.plot')\n",
    "library('e1071')\n",
    "library(rpart)\n",
    "library(rpart.plot)\n",
    "library(caTools)"
   ]
  },
  {
   "cell_type": "code",
   "execution_count": 522,
   "metadata": {},
   "outputs": [],
   "source": [
    "# obteniendo el conjunto de entrenamiento y de test\n",
    "set.seed(12021)\n",
    "split_dt <- sample.split(data$Especies, SplitRatio = 0.80)\n",
    "X_train_dt <- subset(data, split_dt == TRUE)\n",
    "X_test_dt <- subset(data, split_dt == FALSE)"
   ]
  },
  {
   "cell_type": "code",
   "execution_count": 523,
   "metadata": {},
   "outputs": [],
   "source": [
    "# Preparando el modelo\n",
    "modelo_dt <- rpart(formula = Especies ~ ., data = X_train_dt)"
   ]
  },
  {
   "cell_type": "code",
   "execution_count": 524,
   "metadata": {},
   "outputs": [
    {
     "data": {
      "text/plain": [
       "Number of cases in table: 30 \n",
       "Number of factors: 2 \n",
       "Test for independence of all factors:\n",
       "\tChisq = 54, df = 34, p-value = 0.01601\n",
       "\tChi-squared approximation may be incorrect"
      ]
     },
     "metadata": {},
     "output_type": "display_data"
    }
   ],
   "source": [
    "# Realizando prediccion con el conjunto de test, obteniendo matriz de confusion y mostrando resultados\n",
    "y_predict_dt <- predict(modelo_dt, newdata = X_test_dt, type = \"class\")\n",
    "m_confusion_dt <- table(X_test_dt[, 5], y_predict_dt)\n",
    "summary(m_confusion_dt)"
   ]
  },
  {
   "cell_type": "code",
   "execution_count": 525,
   "metadata": {},
   "outputs": [
    {
     "data": {
      "text/plain": [
       "               \n",
       "y_predict_dt    0.1 0.2 0.3 0.4 1 1.2 1.3 1.4 1.5 1.6 1.7 1.8 1.9 2 2.1 2.2 2.3\n",
       "  I. setosa       1   4   2   3 0   0   0   0   0   0   0   0   0 0   0   0   0\n",
       "  I. versicolor   0   0   0   0 1   2   2   1   2   1   0   1   0 0   0   0   0\n",
       "  I. virginica    0   0   0   0 0   0   0   0   0   1   1   1   1 1   2   1   1\n",
       "               \n",
       "y_predict_dt    2.5\n",
       "  I. setosa       0\n",
       "  I. versicolor   0\n",
       "  I. virginica    1"
      ]
     },
     "metadata": {},
     "output_type": "display_data"
    }
   ],
   "source": [
    "# Visualizando las probabilidades\n",
    "table(y_predict_dt, X_test_dt[, 5])"
   ]
  },
  {
   "cell_type": "code",
   "execution_count": 526,
   "metadata": {},
   "outputs": [
    {
     "data": {
      "text/html": [
       "0.0333333333333333"
      ],
      "text/latex": [
       "0.0333333333333333"
      ],
      "text/markdown": [
       "0.0333333333333333"
      ],
      "text/plain": [
       "[1] 0.03333333"
      ]
     },
     "metadata": {},
     "output_type": "display_data"
    }
   ],
   "source": [
    "# Verificando la presicion del modelo\n",
    "presicion_dt <- sum(diag(m_confusion_dt))/sum(m_confusion_dt)\n",
    "presicion_dt"
   ]
  },
  {
   "cell_type": "code",
   "execution_count": 527,
   "metadata": {},
   "outputs": [
    {
     "data": {
      "image/png": "[encoded data removed]",
      "text/plain": [
       "plot without title"
      ]
     },
     "metadata": {
      "image/png": {
       "height": 420,
       "width": 420
      }
     },
     "output_type": "display_data"
    },
    {
     "data": {
      "image/png": "[encoded data removed]",
      "text/plain": [
       "plot without title"
      ]
     },
     "metadata": {
      "image/png": {
       "height": 420,
       "width": 420
      }
     },
     "output_type": "display_data"
    }
   ],
   "source": [
    "# Graficando el modelo\n",
    "plot(modelo_dt)\n",
    "text(modelo_dt)\n",
    "prp(modelo_dt, type = 3, extra = 2, split.font = 3, box.col = c(\"blue\",\"green\", 'red')[modelo_dt$frame$yval])"
   ]
  },
  {
   "cell_type": "code",
   "execution_count": 528,
   "metadata": {},
   "outputs": [
    {
     "name": "stdout",
     "output_type": "stream",
     "text": [
      "Call:\n",
      "rpart(formula = Especies ~ ., data = X_train_dt)\n",
      "  n= 120 \n",
      "\n",
      "    CP nsplit rel error xerror       xstd\n",
      "1 0.50      0         1 1.1875 0.05560978\n",
      "2 0.01      2         0 0.0125 0.01244781\n",
      "\n",
      "Variable importance\n",
      "          ID Ancho_Petalo Largo_Petalo  Largo_Sepal  Ancho_Sepal \n",
      "          26           25           24           16           10 \n",
      "\n",
      "Node number 1: 120 observations,    complexity param=0.5\n",
      "  predicted class=I. setosa      expected loss=0.6666667  P(node) =1\n",
      "    class counts:    40    40    40\n",
      "   probabilities: 0.333 0.333 0.333 \n",
      "  left son=2 (40 obs) right son=3 (80 obs)\n",
      "  Primary splits:\n",
      "      ID           < 50.5 to the left,  improve=40.00000, (0 missing)\n",
      "      Largo_Petalo < 2.45 to the left,  improve=40.00000, (0 missing)\n",
      "      Ancho_Petalo < 0.8  to the left,  improve=40.00000, (0 missing)\n",
      "      Largo_Sepal  < 5.45 to the left,  improve=28.18154, (0 missing)\n",
      "      Ancho_Sepal  < 3.15 to the right, improve=15.23923, (0 missing)\n",
      "  Surrogate splits:\n",
      "      Largo_Petalo < 2.45 to the left,  agree=1.000, adj=1.000, (0 split)\n",
      "      Ancho_Petalo < 0.8  to the left,  agree=1.000, adj=1.000, (0 split)\n",
      "      Largo_Sepal  < 5.45 to the left,  agree=0.925, adj=0.775, (0 split)\n",
      "      Ancho_Sepal  < 3.25 to the right, agree=0.825, adj=0.475, (0 split)\n",
      "\n",
      "Node number 2: 40 observations\n",
      "  predicted class=I. setosa      expected loss=0  P(node) =0.3333333\n",
      "    class counts:    40     0     0\n",
      "   probabilities: 1.000 0.000 0.000 \n",
      "\n",
      "Node number 3: 80 observations,    complexity param=0.5\n",
      "  predicted class=I. versicolor  expected loss=0.5  P(node) =0.6666667\n",
      "    class counts:     0    40    40\n",
      "   probabilities: 0.000 0.500 0.500 \n",
      "  left son=6 (40 obs) right son=7 (40 obs)\n",
      "  Primary splits:\n",
      "      ID           < 101  to the left,  improve=40.000000, (0 missing)\n",
      "      Ancho_Petalo < 1.75 to the left,  improve=34.418600, (0 missing)\n",
      "      Largo_Petalo < 4.75 to the left,  improve=31.111110, (0 missing)\n",
      "      Largo_Sepal  < 6.15 to the left,  improve= 9.076053, (0 missing)\n",
      "      Ancho_Sepal  < 2.95 to the left,  improve= 3.682864, (0 missing)\n",
      "  Surrogate splits:\n",
      "      Ancho_Petalo < 1.75 to the left,  agree=0.963, adj=0.925, (0 split)\n",
      "      Largo_Petalo < 4.75 to the left,  agree=0.938, adj=0.875, (0 split)\n",
      "      Largo_Sepal  < 6.15 to the left,  agree=0.738, adj=0.475, (0 split)\n",
      "      Ancho_Sepal  < 2.95 to the left,  agree=0.650, adj=0.300, (0 split)\n",
      "\n",
      "Node number 6: 40 observations\n",
      "  predicted class=I. versicolor  expected loss=0  P(node) =0.3333333\n",
      "    class counts:     0    40     0\n",
      "   probabilities: 0.000 1.000 0.000 \n",
      "\n",
      "Node number 7: 40 observations\n",
      "  predicted class=I. virginica   expected loss=0  P(node) =0.3333333\n",
      "    class counts:     0     0    40\n",
      "   probabilities: 0.000 0.000 1.000 \n",
      "\n"
     ]
    }
   ],
   "source": [
    "summary(modelo_dt)"
   ]
  },
  {
   "cell_type": "code",
   "execution_count": 529,
   "metadata": {},
   "outputs": [
    {
     "data": {
      "text/html": [
       "<table>\n",
       "<caption>A data.frame: 1 × 6</caption>\n",
       "<thead>\n",
       "\t<tr><th></th><th scope=col>ID</th><th scope=col>Largo_Sepal</th><th scope=col>Ancho_Sepal</th><th scope=col>Largo_Petalo</th><th scope=col>Ancho_Petalo</th><th scope=col>Especies</th></tr>\n",
       "\t<tr><th></th><th scope=col>&lt;int&gt;</th><th scope=col>&lt;dbl&gt;</th><th scope=col>&lt;dbl&gt;</th><th scope=col>&lt;dbl&gt;</th><th scope=col>&lt;dbl&gt;</th><th scope=col>&lt;fct&gt;</th></tr>\n",
       "</thead>\n",
       "<tbody>\n",
       "\t<tr><th scope=row>131</th><td>131</td><td>7.4</td><td>2.8</td><td>6.1</td><td>1.9</td><td>I. virginica</td></tr>\n",
       "</tbody>\n",
       "</table>\n"
      ],
      "text/latex": [
       "A data.frame: 1 × 6\n",
       "\\begin{tabular}{r|llllll}\n",
       "  & ID & Largo\\_Sepal & Ancho\\_Sepal & Largo\\_Petalo & Ancho\\_Petalo & Especies\\\\\n",
       "  & <int> & <dbl> & <dbl> & <dbl> & <dbl> & <fct>\\\\\n",
       "\\hline\n",
       "\t131 & 131 & 7.4 & 2.8 & 6.1 & 1.9 & I. virginica\\\\\n",
       "\\end{tabular}\n"
      ],
      "text/markdown": [
       "\n",
       "A data.frame: 1 × 6\n",
       "\n",
       "| <!--/--> | ID &lt;int&gt; | Largo_Sepal &lt;dbl&gt; | Ancho_Sepal &lt;dbl&gt; | Largo_Petalo &lt;dbl&gt; | Ancho_Petalo &lt;dbl&gt; | Especies &lt;fct&gt; |\n",
       "|---|---|---|---|---|---|---|\n",
       "| 131 | 131 | 7.4 | 2.8 | 6.1 | 1.9 | I. virginica |\n",
       "\n"
      ],
      "text/plain": [
       "    ID  Largo_Sepal Ancho_Sepal Largo_Petalo Ancho_Petalo Especies    \n",
       "131 131 7.4         2.8         6.1          1.9          I. virginica"
      ]
     },
     "metadata": {},
     "output_type": "display_data"
    }
   ],
   "source": [
    "# Probando el modelo, se obtiene un registro al azar y se comprueba la prediccion\n",
    "set.seed(8475)\n",
    "prueba_dt <- data[sample(nrow(data), 1), ]\n",
    "prueba_dt"
   ]
  },
  {
   "cell_type": "code",
   "execution_count": 530,
   "metadata": {},
   "outputs": [
    {
     "data": {
      "text/html": [
       "<strong>131:</strong> I. virginica\n",
       "<details>\n",
       "\t<summary style=display:list-item;cursor:pointer>\n",
       "\t\t<strong>Levels</strong>:\n",
       "\t</summary>\n",
       "\t<style>\n",
       "\t.list-inline {list-style: none; margin:0; padding: 0}\n",
       "\t.list-inline>li {display: inline-block}\n",
       "\t.list-inline>li:not(:last-child)::after {content: \"\\00b7\"; padding: 0 .5ex}\n",
       "\t</style>\n",
       "\t<ol class=list-inline><li>'I. setosa'</li><li>'I. versicolor'</li><li>'I. virginica'</li></ol>\n",
       "</details>"
      ],
      "text/latex": [
       "\\textbf{131:} I. virginica\n",
       "\\emph{Levels}: \\begin{enumerate*}\n",
       "\\item 'I. setosa'\n",
       "\\item 'I. versicolor'\n",
       "\\item 'I. virginica'\n",
       "\\end{enumerate*}\n"
      ],
      "text/markdown": [
       "**131:** I. virginica\n",
       "**Levels**: 1. 'I. setosa'\n",
       "2. 'I. versicolor'\n",
       "3. 'I. virginica'\n",
       "\n",
       "\n"
      ],
      "text/plain": [
       "         131 \n",
       "I. virginica \n",
       "Levels: I. setosa I. versicolor I. virginica"
      ]
     },
     "metadata": {},
     "output_type": "display_data"
    }
   ],
   "source": [
    "set.seed(12021)\n",
    "y_predict_dt <- predict(modelo_dt, newdata = prueba_dt, type = \"class\")\n",
    "y_predict_dt"
   ]
  },
  {
   "cell_type": "code",
   "execution_count": 531,
   "metadata": {},
   "outputs": [
    {
     "data": {
      "text/plain": [
       "               \n",
       "y_predict_dt    1.9\n",
       "  I. setosa       0\n",
       "  I. versicolor   0\n",
       "  I. virginica    1"
      ]
     },
     "metadata": {},
     "output_type": "display_data"
    }
   ],
   "source": [
    "# Visualizando las probabilidades despues de predecir con el registro al azar\n",
    "table(y_predict_dt, prueba_dt[, 5])"
   ]
  },
  {
   "cell_type": "code",
   "execution_count": 532,
   "metadata": {},
   "outputs": [
    {
     "data": {
      "text/html": [
       "0"
      ],
      "text/latex": [
       "0"
      ],
      "text/markdown": [
       "0"
      ],
      "text/plain": [
       "[1] 0"
      ]
     },
     "metadata": {},
     "output_type": "display_data"
    }
   ],
   "source": [
    "# Verificando la presicion del modelo luego de la prediccion al azar\n",
    "m_confusion_dt <- table(prueba_dt[, 5], y_predict_dt)\n",
    "presicion_dt <- sum(diag(m_confusion_dt))/sum(m_confusion_dt)\n",
    "presicion_dt"
   ]
  },
  {
   "cell_type": "code",
   "execution_count": 533,
   "metadata": {},
   "outputs": [],
   "source": [
    "# ***********************************\n",
    "# Modelo: Tree clasifier\n",
    "# install.packages('tree')\n",
    "library(tree)"
   ]
  },
  {
   "cell_type": "code",
   "execution_count": 534,
   "metadata": {},
   "outputs": [],
   "source": [
    "# obteniendo el conjunto de entrenamiento y de test\n",
    "set.seed(12321)\n",
    "split_tc <- sample.split(data$Especies, SplitRatio = 0.80)\n",
    "X_train_tc <- subset(data, split_tc == TRUE)\n",
    "X_test_tc <- subset(data, split_tc == FALSE)"
   ]
  },
  {
   "cell_type": "code",
   "execution_count": 535,
   "metadata": {},
   "outputs": [],
   "source": [
    "# Preparando el modelo y visualizando resultados\n",
    "modelo_tc <- tree(Especies ~ ., data=X_train_tc)"
   ]
  },
  {
   "cell_type": "code",
   "execution_count": 536,
   "metadata": {},
   "outputs": [
    {
     "data": {
      "text/plain": [
       "Number of cases in table: 30 \n",
       "Number of factors: 2 \n",
       "Test for independence of all factors:\n",
       "\tChisq = 51.75, df = 26, p-value = 0.001932\n",
       "\tChi-squared approximation may be incorrect"
      ]
     },
     "metadata": {},
     "output_type": "display_data"
    }
   ],
   "source": [
    "# Realizando prediccion con datos de prueba, obteniendo matriz de confusion y mostrando resultados\n",
    "y_predict_tc <- predict(modelo_tc, newdata=X_test_tc, type=\"class\")\n",
    "m_confusion_tc <- table(X_test_tc[, 5], y_predict_tc)\n",
    "summary(m_confusion_tc)"
   ]
  },
  {
   "cell_type": "code",
   "execution_count": 537,
   "metadata": {},
   "outputs": [
    {
     "data": {
      "text/plain": [
       "               \n",
       "y_predict_tc    0.1 0.2 1 1.1 1.2 1.3 1.4 1.5 1.6 1.8 1.9 2 2.3 2.5\n",
       "  I. setosa       1   8 0   0   0   0   0   0   0   0   0 0   0   0\n",
       "  I. versicolor   0   1 1   1   1   1   2   3   1   0   0 0   0   0\n",
       "  I. virginica    0   0 0   0   0   0   0   0   1   1   1 1   3   3"
      ]
     },
     "metadata": {},
     "output_type": "display_data"
    }
   ],
   "source": [
    "# Visualizando las probabilidades\n",
    "table(y_predict_tc, X_test_tc[, 5])"
   ]
  },
  {
   "cell_type": "code",
   "execution_count": 538,
   "metadata": {},
   "outputs": [
    {
     "data": {
      "text/html": [
       "0.0666666666666667"
      ],
      "text/latex": [
       "0.0666666666666667"
      ],
      "text/markdown": [
       "0.0666666666666667"
      ],
      "text/plain": [
       "[1] 0.06666667"
      ]
     },
     "metadata": {},
     "output_type": "display_data"
    }
   ],
   "source": [
    "# Verificando la presicion del modelo\n",
    "presicion_tc <- sum(diag(m_confusion_tc))/sum(m_confusion_tc)\n",
    "presicion_tc"
   ]
  },
  {
   "cell_type": "code",
   "execution_count": 539,
   "metadata": {},
   "outputs": [
    {
     "data": {
      "image/png": "[encoded data removed]",
      "text/plain": [
       "plot without title"
      ]
     },
     "metadata": {
      "image/png": {
       "height": 420,
       "width": 420
      }
     },
     "output_type": "display_data"
    }
   ],
   "source": [
    "# Graficando el modelo\n",
    "plot(modelo_tc)\n",
    "text(modelo_tc)"
   ]
  },
  {
   "cell_type": "code",
   "execution_count": 540,
   "metadata": {},
   "outputs": [
    {
     "data": {
      "text/plain": [
       "\n",
       "Classification tree:\n",
       "tree(formula = Especies ~ ., data = X_train_tc)\n",
       "Variables actually used in tree construction:\n",
       "[1] \"ID\"\n",
       "Number of terminal nodes:  3 \n",
       "Residual mean deviance:  0 = 0 / 117 \n",
       "Misclassification error rate: 0 = 0 / 120 "
      ]
     },
     "metadata": {},
     "output_type": "display_data"
    }
   ],
   "source": [
    "summary(modelo_tc)"
   ]
  },
  {
   "cell_type": "code",
   "execution_count": 541,
   "metadata": {},
   "outputs": [
    {
     "data": {
      "text/html": [
       "<table>\n",
       "<caption>A data.frame: 1 × 6</caption>\n",
       "<thead>\n",
       "\t<tr><th></th><th scope=col>ID</th><th scope=col>Largo_Sepal</th><th scope=col>Ancho_Sepal</th><th scope=col>Largo_Petalo</th><th scope=col>Ancho_Petalo</th><th scope=col>Especies</th></tr>\n",
       "\t<tr><th></th><th scope=col>&lt;int&gt;</th><th scope=col>&lt;dbl&gt;</th><th scope=col>&lt;dbl&gt;</th><th scope=col>&lt;dbl&gt;</th><th scope=col>&lt;dbl&gt;</th><th scope=col>&lt;fct&gt;</th></tr>\n",
       "</thead>\n",
       "<tbody>\n",
       "\t<tr><th scope=row>131</th><td>131</td><td>7.4</td><td>2.8</td><td>6.1</td><td>1.9</td><td>I. virginica</td></tr>\n",
       "</tbody>\n",
       "</table>\n"
      ],
      "text/latex": [
       "A data.frame: 1 × 6\n",
       "\\begin{tabular}{r|llllll}\n",
       "  & ID & Largo\\_Sepal & Ancho\\_Sepal & Largo\\_Petalo & Ancho\\_Petalo & Especies\\\\\n",
       "  & <int> & <dbl> & <dbl> & <dbl> & <dbl> & <fct>\\\\\n",
       "\\hline\n",
       "\t131 & 131 & 7.4 & 2.8 & 6.1 & 1.9 & I. virginica\\\\\n",
       "\\end{tabular}\n"
      ],
      "text/markdown": [
       "\n",
       "A data.frame: 1 × 6\n",
       "\n",
       "| <!--/--> | ID &lt;int&gt; | Largo_Sepal &lt;dbl&gt; | Ancho_Sepal &lt;dbl&gt; | Largo_Petalo &lt;dbl&gt; | Ancho_Petalo &lt;dbl&gt; | Especies &lt;fct&gt; |\n",
       "|---|---|---|---|---|---|---|\n",
       "| 131 | 131 | 7.4 | 2.8 | 6.1 | 1.9 | I. virginica |\n",
       "\n"
      ],
      "text/plain": [
       "    ID  Largo_Sepal Ancho_Sepal Largo_Petalo Ancho_Petalo Especies    \n",
       "131 131 7.4         2.8         6.1          1.9          I. virginica"
      ]
     },
     "metadata": {},
     "output_type": "display_data"
    }
   ],
   "source": [
    "# Probando el modelo, se obtiene un registro al azar y se comprueba la prediccion\n",
    "set.seed(8475)\n",
    "prueba_tc <- data[sample(nrow(data), 1), ]\n",
    "prueba_tc"
   ]
  },
  {
   "cell_type": "code",
   "execution_count": 542,
   "metadata": {},
   "outputs": [
    {
     "data": {
      "text/html": [
       "I. virginica\n",
       "<details>\n",
       "\t<summary style=display:list-item;cursor:pointer>\n",
       "\t\t<strong>Levels</strong>:\n",
       "\t</summary>\n",
       "\t<style>\n",
       "\t.list-inline {list-style: none; margin:0; padding: 0}\n",
       "\t.list-inline>li {display: inline-block}\n",
       "\t.list-inline>li:not(:last-child)::after {content: \"\\00b7\"; padding: 0 .5ex}\n",
       "\t</style>\n",
       "\t<ol class=list-inline><li>'I. setosa'</li><li>'I. versicolor'</li><li>'I. virginica'</li></ol>\n",
       "</details>"
      ],
      "text/latex": [
       "I. virginica\n",
       "\\emph{Levels}: \\begin{enumerate*}\n",
       "\\item 'I. setosa'\n",
       "\\item 'I. versicolor'\n",
       "\\item 'I. virginica'\n",
       "\\end{enumerate*}\n"
      ],
      "text/markdown": [
       "I. virginica\n",
       "**Levels**: 1. 'I. setosa'\n",
       "2. 'I. versicolor'\n",
       "3. 'I. virginica'\n",
       "\n",
       "\n"
      ],
      "text/plain": [
       "[1] I. virginica\n",
       "Levels: I. setosa I. versicolor I. virginica"
      ]
     },
     "metadata": {},
     "output_type": "display_data"
    }
   ],
   "source": [
    "set.seed(12321)\n",
    "y_predict_tc <- predict(modelo_tc, newdata = prueba_tc, type = \"class\")\n",
    "y_predict_tc"
   ]
  },
  {
   "cell_type": "code",
   "execution_count": 543,
   "metadata": {},
   "outputs": [
    {
     "data": {
      "text/plain": [
       "               \n",
       "y_predict_tc    1.9\n",
       "  I. setosa       0\n",
       "  I. versicolor   0\n",
       "  I. virginica    1"
      ]
     },
     "metadata": {},
     "output_type": "display_data"
    }
   ],
   "source": [
    "# Visualizando las probabilidades despues del registro aleatorio\n",
    "table(y_predict_tc, prueba_tc[, 5])"
   ]
  },
  {
   "cell_type": "code",
   "execution_count": 544,
   "metadata": {},
   "outputs": [
    {
     "data": {
      "text/html": [
       "0"
      ],
      "text/latex": [
       "0"
      ],
      "text/markdown": [
       "0"
      ],
      "text/plain": [
       "[1] 0"
      ]
     },
     "metadata": {},
     "output_type": "display_data"
    }
   ],
   "source": [
    "# Verificando la presicion del modelo posterior a las pruebas del registro aleatorio\n",
    "m_confusion_tc <- table(prueba_tc[, 5], y_predict_tc)\n",
    "presicion_tc <- sum(diag(m_confusion_tc))/sum(m_confusion_tc)\n",
    "presicion_tc"
   ]
  },
  {
   "cell_type": "code",
   "execution_count": 545,
   "metadata": {},
   "outputs": [],
   "source": [
    "# ***********************************\n",
    "# Modelo: SVM\n",
    "# install.packages('caTools')\n",
    "library(caTools)"
   ]
  },
  {
   "cell_type": "code",
   "execution_count": 546,
   "metadata": {},
   "outputs": [],
   "source": [
    "# Preparando el conjunto de datos de entrenamiento y de test\n",
    "set.seed(32123)\n",
    "split_svm <- sample.split(data$Especies, SplitRatio = 0.80)\n",
    "X_train_svm <- subset(data, split_svm == TRUE)\n",
    "X_test_svm <- subset(data, split_svm == FALSE)"
   ]
  },
  {
   "cell_type": "code",
   "execution_count": 547,
   "metadata": {},
   "outputs": [],
   "source": [
    "# Escalando variables, Preparando el modelo y visualizando resultados\n",
    "X_train_svm[-6] <- scale(X_train_svm[-6])\n",
    "X_test_svm[-6] <- scale(X_test_svm[-6])\n",
    "modelo_svm <- svm(Especies ~ ., data=X_train_svm)"
   ]
  },
  {
   "cell_type": "code",
   "execution_count": 548,
   "metadata": {},
   "outputs": [
    {
     "data": {
      "text/plain": [
       "Number of cases in table: 30 \n",
       "Number of factors: 2 \n",
       "Test for independence of all factors:\n",
       "\tChisq = 60, df = 4, p-value = 2.901e-12\n",
       "\tChi-squared approximation may be incorrect"
      ]
     },
     "metadata": {},
     "output_type": "display_data"
    }
   ],
   "source": [
    "# Realizando prediccion con datos de prueba, obteniendo matriz de confusion y mostrando resultados\n",
    "y_predict_svm <- predict(modelo_svm, newdata = X_test_svm[-6])\n",
    "m_confusion_svm <- table(X_test_svm[, 6], y_predict_svm)\n",
    "summary(m_confusion_svm)"
   ]
  },
  {
   "cell_type": "code",
   "execution_count": 549,
   "metadata": {},
   "outputs": [
    {
     "data": {
      "text/plain": [
       "               \n",
       "y_predict_svm   I. setosa I. versicolor I. virginica\n",
       "  I. setosa            10             0            0\n",
       "  I. versicolor         0            10            0\n",
       "  I. virginica          0             0           10"
      ]
     },
     "metadata": {},
     "output_type": "display_data"
    }
   ],
   "source": [
    "# Visualizando las probabilidades\n",
    "table(y_predict_svm, X_test_svm[, 6])"
   ]
  },
  {
   "cell_type": "code",
   "execution_count": 550,
   "metadata": {},
   "outputs": [
    {
     "data": {
      "text/html": [
       "0"
      ],
      "text/latex": [
       "0"
      ],
      "text/markdown": [
       "0"
      ],
      "text/plain": [
       "[1] 0"
      ]
     },
     "metadata": {},
     "output_type": "display_data"
    }
   ],
   "source": [
    "# Verificando la presicion del modelo\n",
    "presicion_svm <- sum(diag(m_confusion_svm))/sum(m_confusion_svm)\n",
    "presicion_tc"
   ]
  },
  {
   "cell_type": "code",
   "execution_count": 551,
   "metadata": {},
   "outputs": [
    {
     "data": {
      "text/plain": [
       "\n",
       "Call:\n",
       "svm(formula = Especies ~ ., data = X_train_svm)\n",
       "\n",
       "\n",
       "Parameters:\n",
       "   SVM-Type:  C-classification \n",
       " SVM-Kernel:  radial \n",
       "       cost:  1 \n",
       "\n",
       "Number of Support Vectors:  43\n",
       "\n",
       " ( 12 17 14 )\n",
       "\n",
       "\n",
       "Number of Classes:  3 \n",
       "\n",
       "Levels: \n",
       " I. setosa I. versicolor I. virginica\n",
       "\n",
       "\n"
      ]
     },
     "metadata": {},
     "output_type": "display_data"
    }
   ],
   "source": [
    "# Mostrando resultados del modelo\n",
    "summary(modelo_svm)"
   ]
  },
  {
   "cell_type": "code",
   "execution_count": 552,
   "metadata": {},
   "outputs": [
    {
     "data": {
      "text/html": [
       "<table>\n",
       "<caption>A data.frame: 1 × 6</caption>\n",
       "<thead>\n",
       "\t<tr><th></th><th scope=col>ID</th><th scope=col>Largo_Sepal</th><th scope=col>Ancho_Sepal</th><th scope=col>Largo_Petalo</th><th scope=col>Ancho_Petalo</th><th scope=col>Especies</th></tr>\n",
       "\t<tr><th></th><th scope=col>&lt;int&gt;</th><th scope=col>&lt;dbl&gt;</th><th scope=col>&lt;dbl&gt;</th><th scope=col>&lt;dbl&gt;</th><th scope=col>&lt;dbl&gt;</th><th scope=col>&lt;fct&gt;</th></tr>\n",
       "</thead>\n",
       "<tbody>\n",
       "\t<tr><th scope=row>131</th><td>131</td><td>7.4</td><td>2.8</td><td>6.1</td><td>1.9</td><td>I. virginica</td></tr>\n",
       "</tbody>\n",
       "</table>\n"
      ],
      "text/latex": [
       "A data.frame: 1 × 6\n",
       "\\begin{tabular}{r|llllll}\n",
       "  & ID & Largo\\_Sepal & Ancho\\_Sepal & Largo\\_Petalo & Ancho\\_Petalo & Especies\\\\\n",
       "  & <int> & <dbl> & <dbl> & <dbl> & <dbl> & <fct>\\\\\n",
       "\\hline\n",
       "\t131 & 131 & 7.4 & 2.8 & 6.1 & 1.9 & I. virginica\\\\\n",
       "\\end{tabular}\n"
      ],
      "text/markdown": [
       "\n",
       "A data.frame: 1 × 6\n",
       "\n",
       "| <!--/--> | ID &lt;int&gt; | Largo_Sepal &lt;dbl&gt; | Ancho_Sepal &lt;dbl&gt; | Largo_Petalo &lt;dbl&gt; | Ancho_Petalo &lt;dbl&gt; | Especies &lt;fct&gt; |\n",
       "|---|---|---|---|---|---|---|\n",
       "| 131 | 131 | 7.4 | 2.8 | 6.1 | 1.9 | I. virginica |\n",
       "\n"
      ],
      "text/plain": [
       "    ID  Largo_Sepal Ancho_Sepal Largo_Petalo Ancho_Petalo Especies    \n",
       "131 131 7.4         2.8         6.1          1.9          I. virginica"
      ]
     },
     "metadata": {},
     "output_type": "display_data"
    }
   ],
   "source": [
    "# Probando el modelo, se obtiene un registro al azar y se comprueba la prediccion\n",
    "set.seed(8475)\n",
    "prueba_svm <- data[sample(nrow(data), 1), ]\n",
    "prueba_svm"
   ]
  },
  {
   "cell_type": "code",
   "execution_count": 553,
   "metadata": {},
   "outputs": [
    {
     "data": {
      "text/html": [
       "<strong>131:</strong> I. virginica\n",
       "<details>\n",
       "\t<summary style=display:list-item;cursor:pointer>\n",
       "\t\t<strong>Levels</strong>:\n",
       "\t</summary>\n",
       "\t<style>\n",
       "\t.list-inline {list-style: none; margin:0; padding: 0}\n",
       "\t.list-inline>li {display: inline-block}\n",
       "\t.list-inline>li:not(:last-child)::after {content: \"\\00b7\"; padding: 0 .5ex}\n",
       "\t</style>\n",
       "\t<ol class=list-inline><li>'I. setosa'</li><li>'I. versicolor'</li><li>'I. virginica'</li></ol>\n",
       "</details>"
      ],
      "text/latex": [
       "\\textbf{131:} I. virginica\n",
       "\\emph{Levels}: \\begin{enumerate*}\n",
       "\\item 'I. setosa'\n",
       "\\item 'I. versicolor'\n",
       "\\item 'I. virginica'\n",
       "\\end{enumerate*}\n"
      ],
      "text/markdown": [
       "**131:** I. virginica\n",
       "**Levels**: 1. 'I. setosa'\n",
       "2. 'I. versicolor'\n",
       "3. 'I. virginica'\n",
       "\n",
       "\n"
      ],
      "text/plain": [
       "         131 \n",
       "I. virginica \n",
       "Levels: I. setosa I. versicolor I. virginica"
      ]
     },
     "metadata": {},
     "output_type": "display_data"
    }
   ],
   "source": [
    "set.seed(32123)\n",
    "y_predict_svm <- predict(modelo_svm, newdata = prueba_svm, type = \"class\")\n",
    "y_predict_svm"
   ]
  },
  {
   "cell_type": "code",
   "execution_count": 554,
   "metadata": {},
   "outputs": [
    {
     "data": {
      "text/plain": [
       "               \n",
       "y_predict_svm   1.9\n",
       "  I. setosa       0\n",
       "  I. versicolor   0\n",
       "  I. virginica    1"
      ]
     },
     "metadata": {},
     "output_type": "display_data"
    }
   ],
   "source": [
    "# Visualizando las probabilidades despues de predecir con el registro aleatorio\n",
    "table(y_predict_svm, prueba_svm[, 5])"
   ]
  },
  {
   "cell_type": "code",
   "execution_count": 555,
   "metadata": {},
   "outputs": [
    {
     "data": {
      "text/html": [
       "1"
      ],
      "text/latex": [
       "1"
      ],
      "text/markdown": [
       "1"
      ],
      "text/plain": [
       "[1] 1"
      ]
     },
     "metadata": {},
     "output_type": "display_data"
    }
   ],
   "source": [
    "# Verificando la presicion del modelo posterior a las pruebas con el registro al azar\n",
    "m_confusion_svm <- table(prueba_svm[, 6], y_predict_svm)\n",
    "presicion_svm <- sum(diag(m_confusion_svm))/sum(m_confusion_svm)\n",
    "presicion_svm"
   ]
  },
  {
   "cell_type": "code",
   "execution_count": 556,
   "metadata": {},
   "outputs": [],
   "source": [
    "# ***********************************\n",
    "# Modelo:\n",
    "# install.packages('ggplot2')\n",
    "# install.packages('dplyr')\n",
    "# install.packages('cluster')\n",
    "# install.packages('tidyr')\n",
    "library(tidyr)\n",
    "library(ggplot2)\n",
    "# library(dplyr)\n",
    "library(cluster)\n",
    "library(RColorBrewer)\n",
    "theme_set(theme_bw(base_size=12)) "
   ]
  },
  {
   "cell_type": "code",
   "execution_count": 557,
   "metadata": {},
   "outputs": [
    {
     "name": "stdout",
     "output_type": "stream",
     "text": [
      "'data.frame':\t150 obs. of  6 variables:\n",
      " $ ID          : int  1 2 3 4 5 6 7 8 9 10 ...\n",
      " $ Largo_Sepal : num  5.1 4.9 4.7 4.6 5 5.4 4.6 5 4.4 4.9 ...\n",
      " $ Ancho_Sepal : num  3.5 3 3.2 3.1 3.6 3.9 3.4 3.4 2.9 3.1 ...\n",
      " $ Largo_Petalo: num  1.4 1.4 1.3 1.5 1.4 1.7 1.4 1.5 1.4 1.5 ...\n",
      " $ Ancho_Petalo: num  0.2 0.2 0.2 0.2 0.2 0.4 0.3 0.2 0.2 0.1 ...\n",
      " $ Especies    : Factor w/ 3 levels \"I. setosa\",\"I. versicolor\",..: 1 1 1 1 1 1 1 1 1 1 ...\n"
     ]
    }
   ],
   "source": [
    "# Data a trabajar con kMeans\n",
    "str(data)"
   ]
  },
  {
   "cell_type": "code",
   "execution_count": null,
   "metadata": {},
   "outputs": [],
   "source": []
  },
  {
   "cell_type": "code",
   "execution_count": 558,
   "metadata": {},
   "outputs": [
    {
     "data": {
      "text/html": [
       "<table>\n",
       "<caption>A data.frame: 10 × 6</caption>\n",
       "<thead>\n",
       "\t<tr><th></th><th scope=col>ID</th><th scope=col>Largo_Sepal</th><th scope=col>Ancho_Sepal</th><th scope=col>Largo_Petalo</th><th scope=col>Ancho_Petalo</th><th scope=col>Especies</th></tr>\n",
       "\t<tr><th></th><th scope=col>&lt;int&gt;</th><th scope=col>&lt;dbl&gt;</th><th scope=col>&lt;dbl&gt;</th><th scope=col>&lt;dbl&gt;</th><th scope=col>&lt;dbl&gt;</th><th scope=col>&lt;fct&gt;</th></tr>\n",
       "</thead>\n",
       "<tbody>\n",
       "\t<tr><th scope=row>1</th><td> 1</td><td>5.1</td><td>3.5</td><td>1.4</td><td>0.2</td><td>I. setosa</td></tr>\n",
       "\t<tr><th scope=row>2</th><td> 2</td><td>4.9</td><td>3.0</td><td>1.4</td><td>0.2</td><td>I. setosa</td></tr>\n",
       "\t<tr><th scope=row>3</th><td> 3</td><td>4.7</td><td>3.2</td><td>1.3</td><td>0.2</td><td>I. setosa</td></tr>\n",
       "\t<tr><th scope=row>4</th><td> 4</td><td>4.6</td><td>3.1</td><td>1.5</td><td>0.2</td><td>I. setosa</td></tr>\n",
       "\t<tr><th scope=row>5</th><td> 5</td><td>5.0</td><td>3.6</td><td>1.4</td><td>0.2</td><td>I. setosa</td></tr>\n",
       "\t<tr><th scope=row>6</th><td> 6</td><td>5.4</td><td>3.9</td><td>1.7</td><td>0.4</td><td>I. setosa</td></tr>\n",
       "\t<tr><th scope=row>7</th><td> 7</td><td>4.6</td><td>3.4</td><td>1.4</td><td>0.3</td><td>I. setosa</td></tr>\n",
       "\t<tr><th scope=row>8</th><td> 8</td><td>5.0</td><td>3.4</td><td>1.5</td><td>0.2</td><td>I. setosa</td></tr>\n",
       "\t<tr><th scope=row>9</th><td> 9</td><td>4.4</td><td>2.9</td><td>1.4</td><td>0.2</td><td>I. setosa</td></tr>\n",
       "\t<tr><th scope=row>10</th><td>10</td><td>4.9</td><td>3.1</td><td>1.5</td><td>0.1</td><td>I. setosa</td></tr>\n",
       "</tbody>\n",
       "</table>\n"
      ],
      "text/latex": [
       "A data.frame: 10 × 6\n",
       "\\begin{tabular}{r|llllll}\n",
       "  & ID & Largo\\_Sepal & Ancho\\_Sepal & Largo\\_Petalo & Ancho\\_Petalo & Especies\\\\\n",
       "  & <int> & <dbl> & <dbl> & <dbl> & <dbl> & <fct>\\\\\n",
       "\\hline\n",
       "\t1 &  1 & 5.1 & 3.5 & 1.4 & 0.2 & I. setosa\\\\\n",
       "\t2 &  2 & 4.9 & 3.0 & 1.4 & 0.2 & I. setosa\\\\\n",
       "\t3 &  3 & 4.7 & 3.2 & 1.3 & 0.2 & I. setosa\\\\\n",
       "\t4 &  4 & 4.6 & 3.1 & 1.5 & 0.2 & I. setosa\\\\\n",
       "\t5 &  5 & 5.0 & 3.6 & 1.4 & 0.2 & I. setosa\\\\\n",
       "\t6 &  6 & 5.4 & 3.9 & 1.7 & 0.4 & I. setosa\\\\\n",
       "\t7 &  7 & 4.6 & 3.4 & 1.4 & 0.3 & I. setosa\\\\\n",
       "\t8 &  8 & 5.0 & 3.4 & 1.5 & 0.2 & I. setosa\\\\\n",
       "\t9 &  9 & 4.4 & 2.9 & 1.4 & 0.2 & I. setosa\\\\\n",
       "\t10 & 10 & 4.9 & 3.1 & 1.5 & 0.1 & I. setosa\\\\\n",
       "\\end{tabular}\n"
      ],
      "text/markdown": [
       "\n",
       "A data.frame: 10 × 6\n",
       "\n",
       "| <!--/--> | ID &lt;int&gt; | Largo_Sepal &lt;dbl&gt; | Ancho_Sepal &lt;dbl&gt; | Largo_Petalo &lt;dbl&gt; | Ancho_Petalo &lt;dbl&gt; | Especies &lt;fct&gt; |\n",
       "|---|---|---|---|---|---|---|\n",
       "| 1 |  1 | 5.1 | 3.5 | 1.4 | 0.2 | I. setosa |\n",
       "| 2 |  2 | 4.9 | 3.0 | 1.4 | 0.2 | I. setosa |\n",
       "| 3 |  3 | 4.7 | 3.2 | 1.3 | 0.2 | I. setosa |\n",
       "| 4 |  4 | 4.6 | 3.1 | 1.5 | 0.2 | I. setosa |\n",
       "| 5 |  5 | 5.0 | 3.6 | 1.4 | 0.2 | I. setosa |\n",
       "| 6 |  6 | 5.4 | 3.9 | 1.7 | 0.4 | I. setosa |\n",
       "| 7 |  7 | 4.6 | 3.4 | 1.4 | 0.3 | I. setosa |\n",
       "| 8 |  8 | 5.0 | 3.4 | 1.5 | 0.2 | I. setosa |\n",
       "| 9 |  9 | 4.4 | 2.9 | 1.4 | 0.2 | I. setosa |\n",
       "| 10 | 10 | 4.9 | 3.1 | 1.5 | 0.1 | I. setosa |\n",
       "\n"
      ],
      "text/plain": [
       "   ID Largo_Sepal Ancho_Sepal Largo_Petalo Ancho_Petalo Especies \n",
       "1   1 5.1         3.5         1.4          0.2          I. setosa\n",
       "2   2 4.9         3.0         1.4          0.2          I. setosa\n",
       "3   3 4.7         3.2         1.3          0.2          I. setosa\n",
       "4   4 4.6         3.1         1.5          0.2          I. setosa\n",
       "5   5 5.0         3.6         1.4          0.2          I. setosa\n",
       "6   6 5.4         3.9         1.7          0.4          I. setosa\n",
       "7   7 4.6         3.4         1.4          0.3          I. setosa\n",
       "8   8 5.0         3.4         1.5          0.2          I. setosa\n",
       "9   9 4.4         2.9         1.4          0.2          I. setosa\n",
       "10 10 4.9         3.1         1.5          0.1          I. setosa"
      ]
     },
     "metadata": {},
     "output_type": "display_data"
    }
   ],
   "source": [
    "head(data, 10)"
   ]
  },
  {
   "cell_type": "code",
   "execution_count": 559,
   "metadata": {},
   "outputs": [
    {
     "data": {
      "text/html": [
       "<table>\n",
       "<caption>A data.frame: 10 × 6</caption>\n",
       "<thead>\n",
       "\t<tr><th></th><th scope=col>ID</th><th scope=col>Largo_Sepal</th><th scope=col>Ancho_Sepal</th><th scope=col>Largo_Petalo</th><th scope=col>Ancho_Petalo</th><th scope=col>Especies</th></tr>\n",
       "\t<tr><th></th><th scope=col>&lt;int&gt;</th><th scope=col>&lt;dbl&gt;</th><th scope=col>&lt;dbl&gt;</th><th scope=col>&lt;dbl&gt;</th><th scope=col>&lt;dbl&gt;</th><th scope=col>&lt;fct&gt;</th></tr>\n",
       "</thead>\n",
       "<tbody>\n",
       "\t<tr><th scope=row>141</th><td>141</td><td>6.7</td><td>3.1</td><td>5.6</td><td>2.4</td><td>I. virginica</td></tr>\n",
       "\t<tr><th scope=row>142</th><td>142</td><td>6.9</td><td>3.1</td><td>5.1</td><td>2.3</td><td>I. virginica</td></tr>\n",
       "\t<tr><th scope=row>143</th><td>143</td><td>5.8</td><td>2.7</td><td>5.1</td><td>1.9</td><td>I. virginica</td></tr>\n",
       "\t<tr><th scope=row>144</th><td>144</td><td>6.8</td><td>3.2</td><td>5.9</td><td>2.3</td><td>I. virginica</td></tr>\n",
       "\t<tr><th scope=row>145</th><td>145</td><td>6.7</td><td>3.3</td><td>5.7</td><td>2.5</td><td>I. virginica</td></tr>\n",
       "\t<tr><th scope=row>146</th><td>146</td><td>6.7</td><td>3.0</td><td>5.2</td><td>2.3</td><td>I. virginica</td></tr>\n",
       "\t<tr><th scope=row>147</th><td>147</td><td>6.3</td><td>2.5</td><td>5.0</td><td>1.9</td><td>I. virginica</td></tr>\n",
       "\t<tr><th scope=row>148</th><td>148</td><td>6.5</td><td>3.0</td><td>5.2</td><td>2.0</td><td>I. virginica</td></tr>\n",
       "\t<tr><th scope=row>149</th><td>149</td><td>6.2</td><td>3.4</td><td>5.4</td><td>2.3</td><td>I. virginica</td></tr>\n",
       "\t<tr><th scope=row>150</th><td>150</td><td>5.9</td><td>3.0</td><td>5.1</td><td>1.8</td><td>I. virginica</td></tr>\n",
       "</tbody>\n",
       "</table>\n"
      ],
      "text/latex": [
       "A data.frame: 10 × 6\n",
       "\\begin{tabular}{r|llllll}\n",
       "  & ID & Largo\\_Sepal & Ancho\\_Sepal & Largo\\_Petalo & Ancho\\_Petalo & Especies\\\\\n",
       "  & <int> & <dbl> & <dbl> & <dbl> & <dbl> & <fct>\\\\\n",
       "\\hline\n",
       "\t141 & 141 & 6.7 & 3.1 & 5.6 & 2.4 & I. virginica\\\\\n",
       "\t142 & 142 & 6.9 & 3.1 & 5.1 & 2.3 & I. virginica\\\\\n",
       "\t143 & 143 & 5.8 & 2.7 & 5.1 & 1.9 & I. virginica\\\\\n",
       "\t144 & 144 & 6.8 & 3.2 & 5.9 & 2.3 & I. virginica\\\\\n",
       "\t145 & 145 & 6.7 & 3.3 & 5.7 & 2.5 & I. virginica\\\\\n",
       "\t146 & 146 & 6.7 & 3.0 & 5.2 & 2.3 & I. virginica\\\\\n",
       "\t147 & 147 & 6.3 & 2.5 & 5.0 & 1.9 & I. virginica\\\\\n",
       "\t148 & 148 & 6.5 & 3.0 & 5.2 & 2.0 & I. virginica\\\\\n",
       "\t149 & 149 & 6.2 & 3.4 & 5.4 & 2.3 & I. virginica\\\\\n",
       "\t150 & 150 & 5.9 & 3.0 & 5.1 & 1.8 & I. virginica\\\\\n",
       "\\end{tabular}\n"
      ],
      "text/markdown": [
       "\n",
       "A data.frame: 10 × 6\n",
       "\n",
       "| <!--/--> | ID &lt;int&gt; | Largo_Sepal &lt;dbl&gt; | Ancho_Sepal &lt;dbl&gt; | Largo_Petalo &lt;dbl&gt; | Ancho_Petalo &lt;dbl&gt; | Especies &lt;fct&gt; |\n",
       "|---|---|---|---|---|---|---|\n",
       "| 141 | 141 | 6.7 | 3.1 | 5.6 | 2.4 | I. virginica |\n",
       "| 142 | 142 | 6.9 | 3.1 | 5.1 | 2.3 | I. virginica |\n",
       "| 143 | 143 | 5.8 | 2.7 | 5.1 | 1.9 | I. virginica |\n",
       "| 144 | 144 | 6.8 | 3.2 | 5.9 | 2.3 | I. virginica |\n",
       "| 145 | 145 | 6.7 | 3.3 | 5.7 | 2.5 | I. virginica |\n",
       "| 146 | 146 | 6.7 | 3.0 | 5.2 | 2.3 | I. virginica |\n",
       "| 147 | 147 | 6.3 | 2.5 | 5.0 | 1.9 | I. virginica |\n",
       "| 148 | 148 | 6.5 | 3.0 | 5.2 | 2.0 | I. virginica |\n",
       "| 149 | 149 | 6.2 | 3.4 | 5.4 | 2.3 | I. virginica |\n",
       "| 150 | 150 | 5.9 | 3.0 | 5.1 | 1.8 | I. virginica |\n",
       "\n"
      ],
      "text/plain": [
       "    ID  Largo_Sepal Ancho_Sepal Largo_Petalo Ancho_Petalo Especies    \n",
       "141 141 6.7         3.1         5.6          2.4          I. virginica\n",
       "142 142 6.9         3.1         5.1          2.3          I. virginica\n",
       "143 143 5.8         2.7         5.1          1.9          I. virginica\n",
       "144 144 6.8         3.2         5.9          2.3          I. virginica\n",
       "145 145 6.7         3.3         5.7          2.5          I. virginica\n",
       "146 146 6.7         3.0         5.2          2.3          I. virginica\n",
       "147 147 6.3         2.5         5.0          1.9          I. virginica\n",
       "148 148 6.5         3.0         5.2          2.0          I. virginica\n",
       "149 149 6.2         3.4         5.4          2.3          I. virginica\n",
       "150 150 5.9         3.0         5.1          1.8          I. virginica"
      ]
     },
     "metadata": {},
     "output_type": "display_data"
    }
   ],
   "source": [
    "tail(data, 10)"
   ]
  },
  {
   "cell_type": "code",
   "execution_count": 560,
   "metadata": {},
   "outputs": [
    {
     "data": {
      "image/png": "[encoded data removed]",
      "text/plain": [
       "plot without title"
      ]
     },
     "metadata": {
      "image/png": {
       "height": 420,
       "width": 420
      }
     },
     "output_type": "display_data"
    }
   ],
   "source": [
    "# Aplicando el metodo del codo para buscar el numero optimo de nodos y muestro el resultado\n",
    "X = data[, 2:5]\n",
    "kmean_withinss <- function(k) {\n",
    "    cluster <- kmeans(X, k)\n",
    "    return (cluster$tot.withinss)\n",
    "}\n",
    "max_k <- 20\n",
    "wss <- sapply(2:max_k, kmean_withinss)\n",
    "elbow <-data.frame(2:max_k, wss)\n",
    "ggplot(elbow, aes(x = X2.max_k, y = wss)) + geom_point() + geom_line() +\n",
    "  ggtitle ('Metodo del codo para ubicar (k) nodos') +\n",
    "  labs(x = 'Número de clusters (k)',y = 'WCSS(k)') +\n",
    "  scale_x_continuous(breaks = seq(1, 20, by = 1))"
   ]
  },
  {
   "cell_type": "code",
   "execution_count": 561,
   "metadata": {},
   "outputs": [],
   "source": [
    "# Aplicando el metodo kMeans con k optimo\n",
    "num_k = 7\n",
    "modelo_km <- kmeans(X, num_k, iter.max = 300, nstart = 10)"
   ]
  },
  {
   "cell_type": "code",
   "execution_count": 562,
   "metadata": {},
   "outputs": [
    {
     "data": {
      "image/png": "[encoded data removed]",
      "text/plain": [
       "Plot with title \"Clustering de Iris\""
      ]
     },
     "metadata": {
      "image/png": {
       "height": 420,
       "width": 420
      }
     },
     "output_type": "display_data"
    }
   ],
   "source": [
    "# Visualizando los cluster generados\n",
    "clusplot(X, modelo_km$cluster, lines = 0, shade = TRUE,\n",
    "    color = TRUE, labels = 2, plotchar = FALSE,\n",
    "    span = TRUE,main = \"Clustering de Iris\",\n",
    "    xlab = 'Caracteristicas', ylab = 'Caracteristicas')"
   ]
  },
  {
   "cell_type": "code",
   "execution_count": 563,
   "metadata": {},
   "outputs": [
    {
     "data": {
      "text/html": [
       "<table>\n",
       "<caption>A matrix: 7 × 4 of type dbl</caption>\n",
       "<thead>\n",
       "\t<tr><th></th><th scope=col>Largo_Sepal</th><th scope=col>Ancho_Sepal</th><th scope=col>Largo_Petalo</th><th scope=col>Ancho_Petalo</th></tr>\n",
       "</thead>\n",
       "<tbody>\n",
       "\t<tr><th scope=row>1</th><td>6.529167</td><td>3.058333</td><td>5.508333</td><td>2.162500</td></tr>\n",
       "\t<tr><th scope=row>2</th><td>5.529630</td><td>2.622222</td><td>3.940741</td><td>1.218519</td></tr>\n",
       "\t<tr><th scope=row>3</th><td>4.678947</td><td>3.084211</td><td>1.378947</td><td>0.200000</td></tr>\n",
       "\t<tr><th scope=row>4</th><td>6.229730</td><td>2.851351</td><td>4.767568</td><td>1.572973</td></tr>\n",
       "\t<tr><th scope=row>5</th><td>5.100000</td><td>3.513043</td><td>1.526087</td><td>0.273913</td></tr>\n",
       "\t<tr><th scope=row>6</th><td>7.475000</td><td>3.125000</td><td>6.300000</td><td>2.050000</td></tr>\n",
       "\t<tr><th scope=row>7</th><td>5.512500</td><td>4.000000</td><td>1.475000</td><td>0.275000</td></tr>\n",
       "</tbody>\n",
       "</table>\n"
      ],
      "text/latex": [
       "A matrix: 7 × 4 of type dbl\n",
       "\\begin{tabular}{r|llll}\n",
       "  & Largo\\_Sepal & Ancho\\_Sepal & Largo\\_Petalo & Ancho\\_Petalo\\\\\n",
       "\\hline\n",
       "\t1 & 6.529167 & 3.058333 & 5.508333 & 2.162500\\\\\n",
       "\t2 & 5.529630 & 2.622222 & 3.940741 & 1.218519\\\\\n",
       "\t3 & 4.678947 & 3.084211 & 1.378947 & 0.200000\\\\\n",
       "\t4 & 6.229730 & 2.851351 & 4.767568 & 1.572973\\\\\n",
       "\t5 & 5.100000 & 3.513043 & 1.526087 & 0.273913\\\\\n",
       "\t6 & 7.475000 & 3.125000 & 6.300000 & 2.050000\\\\\n",
       "\t7 & 5.512500 & 4.000000 & 1.475000 & 0.275000\\\\\n",
       "\\end{tabular}\n"
      ],
      "text/markdown": [
       "\n",
       "A matrix: 7 × 4 of type dbl\n",
       "\n",
       "| <!--/--> | Largo_Sepal | Ancho_Sepal | Largo_Petalo | Ancho_Petalo |\n",
       "|---|---|---|---|---|\n",
       "| 1 | 6.529167 | 3.058333 | 5.508333 | 2.162500 |\n",
       "| 2 | 5.529630 | 2.622222 | 3.940741 | 1.218519 |\n",
       "| 3 | 4.678947 | 3.084211 | 1.378947 | 0.200000 |\n",
       "| 4 | 6.229730 | 2.851351 | 4.767568 | 1.572973 |\n",
       "| 5 | 5.100000 | 3.513043 | 1.526087 | 0.273913 |\n",
       "| 6 | 7.475000 | 3.125000 | 6.300000 | 2.050000 |\n",
       "| 7 | 5.512500 | 4.000000 | 1.475000 | 0.275000 |\n",
       "\n"
      ],
      "text/plain": [
       "  Largo_Sepal Ancho_Sepal Largo_Petalo Ancho_Petalo\n",
       "1 6.529167    3.058333    5.508333     2.162500    \n",
       "2 5.529630    2.622222    3.940741     1.218519    \n",
       "3 4.678947    3.084211    1.378947     0.200000    \n",
       "4 6.229730    2.851351    4.767568     1.572973    \n",
       "5 5.100000    3.513043    1.526087     0.273913    \n",
       "6 7.475000    3.125000    6.300000     2.050000    \n",
       "7 5.512500    4.000000    1.475000     0.275000    "
      ]
     },
     "metadata": {},
     "output_type": "display_data"
    }
   ],
   "source": [
    "# Mostrando los centroides\n",
    "modelo_km$centers"
   ]
  },
  {
   "cell_type": "code",
   "execution_count": 564,
   "metadata": {},
   "outputs": [
    {
     "data": {
      "text/html": [
       "<style>\n",
       ".list-inline {list-style: none; margin:0; padding: 0}\n",
       ".list-inline>li {display: inline-block}\n",
       ".list-inline>li:not(:last-child)::after {content: \"\\00b7\"; padding: 0 .5ex}\n",
       "</style>\n",
       "<ol class=list-inline><li>24</li><li>27</li><li>19</li><li>37</li><li>23</li><li>12</li><li>8</li></ol>\n"
      ],
      "text/latex": [
       "\\begin{enumerate*}\n",
       "\\item 24\n",
       "\\item 27\n",
       "\\item 19\n",
       "\\item 37\n",
       "\\item 23\n",
       "\\item 12\n",
       "\\item 8\n",
       "\\end{enumerate*}\n"
      ],
      "text/markdown": [
       "1. 24\n",
       "2. 27\n",
       "3. 19\n",
       "4. 37\n",
       "5. 23\n",
       "6. 12\n",
       "7. 8\n",
       "\n",
       "\n"
      ],
      "text/plain": [
       "[1] 24 27 19 37 23 12  8"
      ]
     },
     "metadata": {},
     "output_type": "display_data"
    }
   ],
   "source": [
    "# Mostrando el tamaño de los clusters\n",
    "modelo_km$size"
   ]
  },
  {
   "cell_type": "code",
   "execution_count": 565,
   "metadata": {},
   "outputs": [
    {
     "data": {
      "image/png": "[encoded data removed]",
      "text/plain": [
       "plot without title"
      ]
     },
     "metadata": {
      "image/png": {
       "height": 420,
       "width": 420
      }
     },
     "output_type": "display_data"
    }
   ],
   "source": [
    "cluster <- c(1: num_k)\n",
    "centroides <- data.frame(cluster, modelo_km$centers)\n",
    "centroides <- gather(centroides, features, values, 2:4)\n",
    "paleta_colores <-colorRampPalette(rev(brewer.pal(10, 'RdYlGn')),space='Lab')\n",
    "ggplot(data = centroides, aes(x = features, y = cluster, fill = values)) +\n",
    "  ggtitle ('Mapa de calor del contenido de los clusters') +\n",
    "  scale_y_continuous(breaks = seq(1, 7, by = 1)) +\n",
    "  geom_tile() +coord_equal() +\n",
    "  scale_fill_gradientn(colours = paleta_colores(90)) +\n",
    "  theme_classic()"
   ]
  },
  {
   "cell_type": "code",
   "execution_count": 566,
   "metadata": {},
   "outputs": [
    {
     "name": "stdout",
     "output_type": "stream",
     "text": [
      "'data.frame':\t21 obs. of  4 variables:\n",
      " $ cluster     : int  1 2 3 4 5 6 7 1 2 3 ...\n",
      " $ Ancho_Petalo: num  2.162 1.219 0.2 1.573 0.274 ...\n",
      " $ features    : chr  \"Largo_Sepal\" \"Largo_Sepal\" \"Largo_Sepal\" \"Largo_Sepal\" ...\n",
      " $ values      : num  6.53 5.53 4.68 6.23 5.1 ...\n"
     ]
    }
   ],
   "source": [
    "# Visualizando el modelo\n",
    "str(centroides)"
   ]
  },
  {
   "cell_type": "code",
   "execution_count": 567,
   "metadata": {},
   "outputs": [
    {
     "name": "stdout",
     "output_type": "stream",
     "text": [
      "List of 9\n",
      " $ cluster     : int [1:150] 5 3 3 3 5 7 3 5 3 3 ...\n",
      " $ centers     : num [1:7, 1:4] 6.53 5.53 4.68 6.23 5.1 ...\n",
      "  ..- attr(*, \"dimnames\")=List of 2\n",
      "  .. ..$ : chr [1:7] \"1\" \"2\" \"3\" \"4\" ...\n",
      "  .. ..$ : chr [1:4] \"Largo_Sepal\" \"Ancho_Sepal\" \"Largo_Petalo\" \"Ancho_Petalo\"\n",
      " $ totss       : num 681\n",
      " $ withinss    : num [1:7] 5.46 9.23 2.49 11.96 2.09 ...\n",
      " $ tot.withinss: num 36.9\n",
      " $ betweenss   : num 645\n",
      " $ size        : int [1:7] 24 27 19 37 23 12 8\n",
      " $ iter        : int 3\n",
      " $ ifault      : int 0\n",
      " - attr(*, \"class\")= chr \"kmeans\"\n"
     ]
    }
   ],
   "source": [
    "# Visualizando el cluster\n",
    "str(modelo_km)"
   ]
  },
  {
   "cell_type": "code",
   "execution_count": 568,
   "metadata": {},
   "outputs": [
    {
     "data": {
      "text/plain": [
       "               \n",
       "                 1  2  3  4  5  6  7\n",
       "  I. setosa      0  0 19  0 23  0  8\n",
       "  I. versicolor  0 26  0 24  0  0  0\n",
       "  I. virginica  24  1  0 13  0 12  0"
      ]
     },
     "metadata": {},
     "output_type": "display_data"
    }
   ],
   "source": [
    "# Verificando el cluster\n",
    "table(data$Especies, modelo_km$cluster)"
   ]
  }
 ],
 "metadata": {
  "celltoolbar": "Edit Metadata",
  "kernelspec": {
   "display_name": "R",
   "language": "R",
   "name": "ir"
  },
  "language_info": {
   "codemirror_mode": "r",
   "file_extension": ".r",
   "mimetype": "text/x-r-source",
   "name": "R",
   "pygments_lexer": "r",
   "version": "4.0.2"
  }
 },
 "nbformat": 4,
 "nbformat_minor": 4
}
